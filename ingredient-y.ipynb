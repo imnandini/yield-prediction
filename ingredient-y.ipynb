{
 "cells": [
  {
   "cell_type": "code",
   "execution_count": 1,
   "metadata": {
    "execution": {
     "iopub.execute_input": "2023-02-23T07:28:09.782201Z",
     "iopub.status.busy": "2023-02-23T07:28:09.781599Z",
     "iopub.status.idle": "2023-02-23T07:28:09.837687Z",
     "shell.execute_reply": "2023-02-23T07:28:09.836466Z",
     "shell.execute_reply.started": "2023-02-23T07:28:09.782081Z"
    },
    "id": "6RHtcsZ02d8t",
    "outputId": "7da4c2f5-2cba-40ac-d1da-fe32fab5684c"
   },
   "outputs": [
    {
     "name": "stdout",
     "output_type": "stream",
     "text": [
      "/kaggle/input/final-data/train_final.csv\n",
      "/kaggle/input/final-data/test_final.csv\n"
     ]
    }
   ],
   "source": [
    "#importing necessary libraries\n",
    "import pandas as pd\n",
    "import numpy as np\n",
    "import warnings                   # To ignore the warnings\n",
    "warnings.filterwarnings(\"ignore\")\n",
    "import os\n",
    "for dirname, _, filenames in os.walk('/kaggle/input'):\n",
    "    for filename in filenames:\n",
    "        print(os.path.join(dirname, filename))"
   ]
  },
  {
   "cell_type": "code",
   "execution_count": 2,
   "metadata": {
    "execution": {
     "iopub.execute_input": "2023-02-23T07:28:09.840678Z",
     "iopub.status.busy": "2023-02-23T07:28:09.839941Z",
     "iopub.status.idle": "2023-02-23T07:30:52.325770Z",
     "shell.execute_reply": "2023-02-23T07:30:52.322609Z",
     "shell.execute_reply.started": "2023-02-23T07:28:09.840629Z"
    }
   },
   "outputs": [],
   "source": [
    "# Reading the test data files\n",
    "train_final_merged = pd.read_csv('/kaggle/input/final-data/train_final.csv')\n",
    "test_final_merged = pd.read_csv('/kaggle/input/final-data/test_final.csv')"
   ]
  },
  {
   "cell_type": "code",
   "execution_count": 3,
   "metadata": {
    "execution": {
     "iopub.execute_input": "2023-02-23T07:30:52.330537Z",
     "iopub.status.busy": "2023-02-23T07:30:52.329599Z",
     "iopub.status.idle": "2023-02-23T07:30:52.378213Z",
     "shell.execute_reply": "2023-02-23T07:30:52.376993Z",
     "shell.execute_reply.started": "2023-02-23T07:30:52.330488Z"
    }
   },
   "outputs": [
    {
     "data": {
      "text/html": [
       "<div>\n",
       "<style scoped>\n",
       "    .dataframe tbody tr th:only-of-type {\n",
       "        vertical-align: middle;\n",
       "    }\n",
       "\n",
       "    .dataframe tbody tr th {\n",
       "        vertical-align: top;\n",
       "    }\n",
       "\n",
       "    .dataframe thead th {\n",
       "        text-align: right;\n",
       "    }\n",
       "</style>\n",
       "<table border=\"1\" class=\"dataframe\">\n",
       "  <thead>\n",
       "    <tr style=\"text-align: right;\">\n",
       "      <th></th>\n",
       "      <th>Unnamed: 0</th>\n",
       "      <th>farm_id</th>\n",
       "      <th>ingredient_type</th>\n",
       "      <th>id</th>\n",
       "      <th>operations_commencing_year</th>\n",
       "      <th>num_processing_plants</th>\n",
       "      <th>farm_area</th>\n",
       "      <th>farming_company</th>\n",
       "      <th>deidentified_location</th>\n",
       "      <th>temp_obs</th>\n",
       "      <th>cloudiness</th>\n",
       "      <th>wind_direction</th>\n",
       "      <th>pressure_sea_level</th>\n",
       "      <th>precipitation</th>\n",
       "      <th>wind_speed</th>\n",
       "      <th>month</th>\n",
       "      <th>day</th>\n",
       "      <th>hour</th>\n",
       "    </tr>\n",
       "  </thead>\n",
       "  <tbody>\n",
       "    <tr>\n",
       "      <th>0</th>\n",
       "      <td>0</td>\n",
       "      <td>fid_110884</td>\n",
       "      <td>ing_w</td>\n",
       "      <td>0</td>\n",
       "      <td>new</td>\n",
       "      <td>7</td>\n",
       "      <td>690.455096</td>\n",
       "      <td>Obery Farms</td>\n",
       "      <td>location 7369</td>\n",
       "      <td>17.8</td>\n",
       "      <td>4.0</td>\n",
       "      <td>100.0</td>\n",
       "      <td>1021.4</td>\n",
       "      <td>0.0</td>\n",
       "      <td>3.6</td>\n",
       "      <td>1</td>\n",
       "      <td>1</td>\n",
       "      <td>0</td>\n",
       "    </tr>\n",
       "    <tr>\n",
       "      <th>1</th>\n",
       "      <td>1</td>\n",
       "      <td>fid_90053</td>\n",
       "      <td>ing_w</td>\n",
       "      <td>1</td>\n",
       "      <td>new</td>\n",
       "      <td>7</td>\n",
       "      <td>252.696160</td>\n",
       "      <td>Obery Farms</td>\n",
       "      <td>location 7369</td>\n",
       "      <td>17.8</td>\n",
       "      <td>4.0</td>\n",
       "      <td>100.0</td>\n",
       "      <td>1021.4</td>\n",
       "      <td>0.0</td>\n",
       "      <td>3.6</td>\n",
       "      <td>1</td>\n",
       "      <td>1</td>\n",
       "      <td>0</td>\n",
       "    </tr>\n",
       "    <tr>\n",
       "      <th>2</th>\n",
       "      <td>2</td>\n",
       "      <td>fid_17537</td>\n",
       "      <td>ing_w</td>\n",
       "      <td>2</td>\n",
       "      <td>moderate</td>\n",
       "      <td>7</td>\n",
       "      <td>499.446528</td>\n",
       "      <td>Obery Farms</td>\n",
       "      <td>location 7369</td>\n",
       "      <td>17.8</td>\n",
       "      <td>4.0</td>\n",
       "      <td>100.0</td>\n",
       "      <td>1021.4</td>\n",
       "      <td>0.0</td>\n",
       "      <td>3.6</td>\n",
       "      <td>1</td>\n",
       "      <td>1</td>\n",
       "      <td>0</td>\n",
       "    </tr>\n",
       "    <tr>\n",
       "      <th>3</th>\n",
       "      <td>3</td>\n",
       "      <td>fid_110392</td>\n",
       "      <td>ing_w</td>\n",
       "      <td>3</td>\n",
       "      <td>moderate</td>\n",
       "      <td>7</td>\n",
       "      <td>2200.407555</td>\n",
       "      <td>Obery Farms</td>\n",
       "      <td>location 7369</td>\n",
       "      <td>17.8</td>\n",
       "      <td>4.0</td>\n",
       "      <td>100.0</td>\n",
       "      <td>1021.4</td>\n",
       "      <td>0.0</td>\n",
       "      <td>3.6</td>\n",
       "      <td>1</td>\n",
       "      <td>1</td>\n",
       "      <td>0</td>\n",
       "    </tr>\n",
       "    <tr>\n",
       "      <th>4</th>\n",
       "      <td>4</td>\n",
       "      <td>fid_62402</td>\n",
       "      <td>ing_w</td>\n",
       "      <td>4</td>\n",
       "      <td>moderate</td>\n",
       "      <td>7</td>\n",
       "      <td>10833.140121</td>\n",
       "      <td>Obery Farms</td>\n",
       "      <td>location 7369</td>\n",
       "      <td>17.8</td>\n",
       "      <td>4.0</td>\n",
       "      <td>100.0</td>\n",
       "      <td>1021.4</td>\n",
       "      <td>0.0</td>\n",
       "      <td>3.6</td>\n",
       "      <td>1</td>\n",
       "      <td>1</td>\n",
       "      <td>0</td>\n",
       "    </tr>\n",
       "  </tbody>\n",
       "</table>\n",
       "</div>"
      ],
      "text/plain": [
       "   Unnamed: 0     farm_id ingredient_type  id operations_commencing_year  \\\n",
       "0           0  fid_110884           ing_w   0                        new   \n",
       "1           1   fid_90053           ing_w   1                        new   \n",
       "2           2   fid_17537           ing_w   2                   moderate   \n",
       "3           3  fid_110392           ing_w   3                   moderate   \n",
       "4           4   fid_62402           ing_w   4                   moderate   \n",
       "\n",
       "   num_processing_plants     farm_area farming_company deidentified_location  \\\n",
       "0                      7    690.455096     Obery Farms         location 7369   \n",
       "1                      7    252.696160     Obery Farms         location 7369   \n",
       "2                      7    499.446528     Obery Farms         location 7369   \n",
       "3                      7   2200.407555     Obery Farms         location 7369   \n",
       "4                      7  10833.140121     Obery Farms         location 7369   \n",
       "\n",
       "   temp_obs  cloudiness  wind_direction  pressure_sea_level  precipitation  \\\n",
       "0      17.8         4.0           100.0              1021.4            0.0   \n",
       "1      17.8         4.0           100.0              1021.4            0.0   \n",
       "2      17.8         4.0           100.0              1021.4            0.0   \n",
       "3      17.8         4.0           100.0              1021.4            0.0   \n",
       "4      17.8         4.0           100.0              1021.4            0.0   \n",
       "\n",
       "   wind_speed  month  day  hour  \n",
       "0         3.6      1    1     0  \n",
       "1         3.6      1    1     0  \n",
       "2         3.6      1    1     0  \n",
       "3         3.6      1    1     0  \n",
       "4         3.6      1    1     0  "
      ]
     },
     "execution_count": 3,
     "metadata": {},
     "output_type": "execute_result"
    }
   ],
   "source": [
    "# checking the final merged test dataset\n",
    "test_final_merged.head()"
   ]
  },
  {
   "cell_type": "code",
   "execution_count": 4,
   "metadata": {
    "execution": {
     "iopub.execute_input": "2023-02-23T07:30:52.383019Z",
     "iopub.status.busy": "2023-02-23T07:30:52.382023Z",
     "iopub.status.idle": "2023-02-23T07:30:52.393273Z",
     "shell.execute_reply": "2023-02-23T07:30:52.391809Z",
     "shell.execute_reply.started": "2023-02-23T07:30:52.382963Z"
    },
    "id": "PJprf6qGBEZa"
   },
   "outputs": [
    {
     "data": {
      "text/plain": [
       "Unnamed: 0                      int64\n",
       "farm_id                        object\n",
       "ingredient_type                object\n",
       "yield                         float64\n",
       "operations_commencing_year     object\n",
       "num_processing_plants           int64\n",
       "farm_area                     float64\n",
       "farming_company                object\n",
       "deidentified_location          object\n",
       "temp_obs                      float64\n",
       "cloudiness                    float64\n",
       "wind_direction                float64\n",
       "pressure_sea_level            float64\n",
       "precipitation                 float64\n",
       "wind_speed                    float64\n",
       "month                           int64\n",
       "day                             int64\n",
       "hour                            int64\n",
       "dtype: object"
      ]
     },
     "execution_count": 4,
     "metadata": {},
     "output_type": "execute_result"
    }
   ],
   "source": [
    "# checking the  data types of final merged tarin dataset\n",
    "train_final_merged.dtypes"
   ]
  },
  {
   "cell_type": "code",
   "execution_count": 5,
   "metadata": {
    "execution": {
     "iopub.execute_input": "2023-02-23T07:30:52.396443Z",
     "iopub.status.busy": "2023-02-23T07:30:52.395516Z",
     "iopub.status.idle": "2023-02-23T07:30:54.473803Z",
     "shell.execute_reply": "2023-02-23T07:30:54.472460Z",
     "shell.execute_reply.started": "2023-02-23T07:30:52.396391Z"
    }
   },
   "outputs": [],
   "source": [
    "train_ing_y = train_final_merged[train_final_merged['ingredient_type'] == 'ing_y']"
   ]
  },
  {
   "cell_type": "code",
   "execution_count": 6,
   "metadata": {
    "execution": {
     "iopub.execute_input": "2023-02-23T07:30:54.475514Z",
     "iopub.status.busy": "2023-02-23T07:30:54.475174Z",
     "iopub.status.idle": "2023-02-23T07:30:55.149432Z",
     "shell.execute_reply": "2023-02-23T07:30:55.147974Z",
     "shell.execute_reply.started": "2023-02-23T07:30:54.475482Z"
    }
   },
   "outputs": [],
   "source": [
    "# Split the dataset into three equal parts\n",
    "train_ing_y_splits = np.array_split(train_ing_y, 3)\n",
    "\n",
    "# Access and use the first split as a separate dataset\n",
    "train_y = train_ing_y_splits[0]"
   ]
  },
  {
   "cell_type": "code",
   "execution_count": 7,
   "metadata": {
    "execution": {
     "iopub.execute_input": "2023-02-23T07:30:55.151649Z",
     "iopub.status.busy": "2023-02-23T07:30:55.151286Z",
     "iopub.status.idle": "2023-02-23T07:30:57.609901Z",
     "shell.execute_reply": "2023-02-23T07:30:57.608856Z",
     "shell.execute_reply.started": "2023-02-23T07:30:55.151616Z"
    }
   },
   "outputs": [],
   "source": [
    "test_ing_y = test_final_merged[test_final_merged['ingredient_type'] == 'ing_y']"
   ]
  },
  {
   "cell_type": "code",
   "execution_count": 8,
   "metadata": {
    "execution": {
     "iopub.execute_input": "2023-02-23T07:30:57.613342Z",
     "iopub.status.busy": "2023-02-23T07:30:57.612936Z",
     "iopub.status.idle": "2023-02-23T07:30:58.562358Z",
     "shell.execute_reply": "2023-02-23T07:30:58.561406Z",
     "shell.execute_reply.started": "2023-02-23T07:30:57.613305Z"
    }
   },
   "outputs": [],
   "source": [
    "# Split the dataset into three equal parts\n",
    "test_ing_y_splits = np.array_split(test_ing_y, 3)\n",
    "\n",
    "# Access and use the first split as a separate dataset\n",
    "test_y = test_ing_y_splits[0]"
   ]
  },
  {
   "cell_type": "code",
   "execution_count": 9,
   "metadata": {
    "execution": {
     "iopub.execute_input": "2023-02-23T07:30:58.564317Z",
     "iopub.status.busy": "2023-02-23T07:30:58.563545Z",
     "iopub.status.idle": "2023-02-23T07:30:58.679108Z",
     "shell.execute_reply": "2023-02-23T07:30:58.677797Z",
     "shell.execute_reply.started": "2023-02-23T07:30:58.564280Z"
    }
   },
   "outputs": [],
   "source": [
    "# keep a copy of test w we need it in creating submission file\n",
    "import copy\n",
    "tes = copy.deepcopy(test_y)"
   ]
  },
  {
   "cell_type": "markdown",
   "metadata": {},
   "source": [
    "* farm_id is unique just like my id. my performance is measured based on my skills on based on my id right! same here the prediction of yield is depend on loaction and weather condtions on id. so let's drop it"
   ]
  },
  {
   "cell_type": "code",
   "execution_count": 10,
   "metadata": {
    "execution": {
     "iopub.execute_input": "2023-02-23T07:30:58.685449Z",
     "iopub.status.busy": "2023-02-23T07:30:58.685067Z",
     "iopub.status.idle": "2023-02-23T07:30:58.851068Z",
     "shell.execute_reply": "2023-02-23T07:30:58.849858Z",
     "shell.execute_reply.started": "2023-02-23T07:30:58.685417Z"
    }
   },
   "outputs": [],
   "source": [
    "# dropping the farm_id and num_processing pants from test and train datasets\n",
    "train_y.drop(['farm_id','Unnamed: 0'], axis=1, inplace=True)\n",
    "test_y.drop(['farm_id','Unnamed: 0'], axis=1, inplace=True)"
   ]
  },
  {
   "cell_type": "code",
   "execution_count": 11,
   "metadata": {
    "execution": {
     "iopub.execute_input": "2023-02-23T07:30:58.853063Z",
     "iopub.status.busy": "2023-02-23T07:30:58.852663Z",
     "iopub.status.idle": "2023-02-23T07:30:58.860333Z",
     "shell.execute_reply": "2023-02-23T07:30:58.859127Z",
     "shell.execute_reply.started": "2023-02-23T07:30:58.853028Z"
    }
   },
   "outputs": [
    {
     "data": {
      "text/plain": [
       "['ingredient_type',\n",
       " 'deidentified_location',\n",
       " 'operations_commencing_year',\n",
       " 'farming_company']"
      ]
     },
     "execution_count": 11,
     "metadata": {},
     "output_type": "execute_result"
    }
   ],
   "source": [
    "# assigning object columns in category columns\n",
    "cat_cols=['ingredient_type','deidentified_location',\n",
    "          'operations_commencing_year','farming_company']\n",
    "cat_cols"
   ]
  },
  {
   "cell_type": "code",
   "execution_count": 12,
   "metadata": {
    "execution": {
     "iopub.execute_input": "2023-02-23T07:30:58.863454Z",
     "iopub.status.busy": "2023-02-23T07:30:58.862265Z",
     "iopub.status.idle": "2023-02-23T07:30:59.666597Z",
     "shell.execute_reply": "2023-02-23T07:30:59.665290Z",
     "shell.execute_reply.started": "2023-02-23T07:30:58.863405Z"
    }
   },
   "outputs": [],
   "source": [
    "# converting object columns to category columns\n",
    "train_y[cat_cols] = train_y[cat_cols].astype(\"category\")\n",
    "test_y[cat_cols] = test_y[cat_cols].astype(\"category\")"
   ]
  },
  {
   "cell_type": "markdown",
   "metadata": {
    "id": "7mBmvpMgHIM3"
   },
   "source": [
    "# Model Building and Predictions"
   ]
  },
  {
   "cell_type": "code",
   "execution_count": 13,
   "metadata": {
    "execution": {
     "iopub.execute_input": "2023-02-23T07:30:59.668485Z",
     "iopub.status.busy": "2023-02-23T07:30:59.668168Z",
     "iopub.status.idle": "2023-02-23T07:31:00.818060Z",
     "shell.execute_reply": "2023-02-23T07:31:00.816807Z",
     "shell.execute_reply.started": "2023-02-23T07:30:59.668456Z"
    }
   },
   "outputs": [],
   "source": [
    "# deviding the data into x and y\n",
    "from sklearn.model_selection import train_test_split\n",
    "X = train_y.drop(['yield'] , axis = 1)\n",
    "y = train_y['yield']"
   ]
  },
  {
   "cell_type": "code",
   "execution_count": 14,
   "metadata": {
    "execution": {
     "iopub.execute_input": "2023-02-23T07:31:00.819964Z",
     "iopub.status.busy": "2023-02-23T07:31:00.819620Z",
     "iopub.status.idle": "2023-02-23T07:31:01.030535Z",
     "shell.execute_reply": "2023-02-23T07:31:01.029233Z",
     "shell.execute_reply.started": "2023-02-23T07:31:00.819935Z"
    }
   },
   "outputs": [],
   "source": [
    "# splitting the data into train and test in the ration of 70% & 30%\n",
    "X_train, X_test, y_train, y_test =   train_test_split(X, y, test_size=0.30,random_state = 123)"
   ]
  },
  {
   "cell_type": "code",
   "execution_count": 15,
   "metadata": {
    "execution": {
     "iopub.execute_input": "2023-02-23T07:31:01.032329Z",
     "iopub.status.busy": "2023-02-23T07:31:01.031993Z",
     "iopub.status.idle": "2023-02-23T07:31:01.039305Z",
     "shell.execute_reply": "2023-02-23T07:31:01.037913Z",
     "shell.execute_reply.started": "2023-02-23T07:31:01.032300Z"
    },
    "id": "PuVWV8_jHD6i"
   },
   "outputs": [
    {
     "name": "stdout",
     "output_type": "stream",
     "text": [
      "(634628, 15) (271984, 15)\n",
      "(634628,) (271984,)\n"
     ]
    }
   ],
   "source": [
    "# checking the shapes\n",
    "print(X_train.shape, X_test.shape)\n",
    "print(y_train.shape, y_test.shape)"
   ]
  },
  {
   "cell_type": "markdown",
   "metadata": {},
   "source": [
    "<div class=\"alert alert-block alert-info\"><b> \n",
    "  Dummifing categorical features into numerical using get dummies\n",
    "</b></div> "
   ]
  },
  {
   "cell_type": "code",
   "execution_count": 16,
   "metadata": {
    "execution": {
     "iopub.execute_input": "2023-02-23T07:31:01.041284Z",
     "iopub.status.busy": "2023-02-23T07:31:01.040926Z",
     "iopub.status.idle": "2023-02-23T07:31:01.515745Z",
     "shell.execute_reply": "2023-02-23T07:31:01.514676Z",
     "shell.execute_reply.started": "2023-02-23T07:31:01.041253Z"
    }
   },
   "outputs": [],
   "source": [
    "from sklearn.preprocessing import LabelEncoder\n",
    "label = LabelEncoder()\n",
    "X_train.deidentified_location = label.fit_transform(X_train.deidentified_location)\n",
    "X_test.deidentified_location = label.transform(X_test.deidentified_location)\n",
    "X_train.farming_company = label.fit_transform(X_train.farming_company)\n",
    "X_test.farming_company = label.transform(X_test.farming_company)"
   ]
  },
  {
   "cell_type": "code",
   "execution_count": 17,
   "metadata": {
    "execution": {
     "iopub.execute_input": "2023-02-23T07:31:01.518240Z",
     "iopub.status.busy": "2023-02-23T07:31:01.517776Z",
     "iopub.status.idle": "2023-02-23T07:31:01.642454Z",
     "shell.execute_reply": "2023-02-23T07:31:01.641250Z",
     "shell.execute_reply.started": "2023-02-23T07:31:01.518195Z"
    }
   },
   "outputs": [],
   "source": [
    "## Convert Categorical Columns to numerical\n",
    "X_train = pd.get_dummies(X_train, columns=['ingredient_type','operations_commencing_year'],drop_first=True)\n",
    "\n",
    "X_test = pd.get_dummies(X_test, columns=['ingredient_type','operations_commencing_year'],drop_first=True)"
   ]
  },
  {
   "cell_type": "code",
   "execution_count": 18,
   "metadata": {
    "execution": {
     "iopub.execute_input": "2023-02-23T07:31:01.645403Z",
     "iopub.status.busy": "2023-02-23T07:31:01.645055Z",
     "iopub.status.idle": "2023-02-23T07:31:01.819756Z",
     "shell.execute_reply": "2023-02-23T07:31:01.818676Z",
     "shell.execute_reply.started": "2023-02-23T07:31:01.645373Z"
    }
   },
   "outputs": [],
   "source": [
    "# scaling the data\n",
    "from sklearn.preprocessing import MinMaxScaler\n",
    "scaler = MinMaxScaler()\n",
    "num_cols = [\"farm_area\", \"wind_speed\", \"precipitation\", \"temp_obs\",\n",
    "            \"pressure_sea_level\",\"wind_direction\",'num_processing_plants']\n",
    "\n",
    "# scale on train\n",
    "X_train[num_cols] =scaler.fit_transform(X_train[num_cols])\n",
    "\n",
    "# scale on test\n",
    "X_test[num_cols] = scaler.transform(X_test[num_cols])"
   ]
  },
  {
   "cell_type": "code",
   "execution_count": 19,
   "metadata": {
    "execution": {
     "iopub.execute_input": "2023-02-23T07:31:01.821986Z",
     "iopub.status.busy": "2023-02-23T07:31:01.821526Z",
     "iopub.status.idle": "2023-02-23T07:31:01.842459Z",
     "shell.execute_reply": "2023-02-23T07:31:01.841047Z",
     "shell.execute_reply.started": "2023-02-23T07:31:01.821943Z"
    }
   },
   "outputs": [
    {
     "data": {
      "text/html": [
       "<div>\n",
       "<style scoped>\n",
       "    .dataframe tbody tr th:only-of-type {\n",
       "        vertical-align: middle;\n",
       "    }\n",
       "\n",
       "    .dataframe tbody tr th {\n",
       "        vertical-align: top;\n",
       "    }\n",
       "\n",
       "    .dataframe thead th {\n",
       "        text-align: right;\n",
       "    }\n",
       "</style>\n",
       "<table border=\"1\" class=\"dataframe\">\n",
       "  <thead>\n",
       "    <tr style=\"text-align: right;\">\n",
       "      <th></th>\n",
       "      <th>num_processing_plants</th>\n",
       "      <th>farm_area</th>\n",
       "      <th>farming_company</th>\n",
       "      <th>deidentified_location</th>\n",
       "      <th>temp_obs</th>\n",
       "      <th>cloudiness</th>\n",
       "      <th>wind_direction</th>\n",
       "      <th>pressure_sea_level</th>\n",
       "      <th>precipitation</th>\n",
       "      <th>wind_speed</th>\n",
       "      <th>month</th>\n",
       "      <th>day</th>\n",
       "      <th>hour</th>\n",
       "      <th>operations_commencing_year_new</th>\n",
       "      <th>operations_commencing_year_old</th>\n",
       "    </tr>\n",
       "  </thead>\n",
       "  <tbody>\n",
       "    <tr>\n",
       "      <th>6178601</th>\n",
       "      <td>0.0</td>\n",
       "      <td>0.778394</td>\n",
       "      <td>12</td>\n",
       "      <td>0</td>\n",
       "      <td>0.707646</td>\n",
       "      <td>2.0</td>\n",
       "      <td>0.805556</td>\n",
       "      <td>0.527825</td>\n",
       "      <td>0.004608</td>\n",
       "      <td>0.364706</td>\n",
       "      <td>5</td>\n",
       "      <td>29</td>\n",
       "      <td>14</td>\n",
       "      <td>1</td>\n",
       "      <td>0</td>\n",
       "    </tr>\n",
       "    <tr>\n",
       "      <th>6648579</th>\n",
       "      <td>0.0</td>\n",
       "      <td>0.330657</td>\n",
       "      <td>8</td>\n",
       "      <td>0</td>\n",
       "      <td>0.758621</td>\n",
       "      <td>2.0</td>\n",
       "      <td>0.083333</td>\n",
       "      <td>0.585160</td>\n",
       "      <td>0.004608</td>\n",
       "      <td>0.123529</td>\n",
       "      <td>7</td>\n",
       "      <td>30</td>\n",
       "      <td>7</td>\n",
       "      <td>1</td>\n",
       "      <td>0</td>\n",
       "    </tr>\n",
       "    <tr>\n",
       "      <th>5679493</th>\n",
       "      <td>0.0</td>\n",
       "      <td>0.778394</td>\n",
       "      <td>12</td>\n",
       "      <td>0</td>\n",
       "      <td>0.482759</td>\n",
       "      <td>0.0</td>\n",
       "      <td>0.000000</td>\n",
       "      <td>0.544688</td>\n",
       "      <td>0.004608</td>\n",
       "      <td>0.000000</td>\n",
       "      <td>3</td>\n",
       "      <td>25</td>\n",
       "      <td>4</td>\n",
       "      <td>1</td>\n",
       "      <td>0</td>\n",
       "    </tr>\n",
       "    <tr>\n",
       "      <th>6278017</th>\n",
       "      <td>0.0</td>\n",
       "      <td>0.102662</td>\n",
       "      <td>12</td>\n",
       "      <td>0</td>\n",
       "      <td>0.833583</td>\n",
       "      <td>2.0</td>\n",
       "      <td>0.527778</td>\n",
       "      <td>0.537943</td>\n",
       "      <td>0.004608</td>\n",
       "      <td>0.088235</td>\n",
       "      <td>6</td>\n",
       "      <td>11</td>\n",
       "      <td>15</td>\n",
       "      <td>1</td>\n",
       "      <td>0</td>\n",
       "    </tr>\n",
       "    <tr>\n",
       "      <th>6011694</th>\n",
       "      <td>0.0</td>\n",
       "      <td>0.668293</td>\n",
       "      <td>12</td>\n",
       "      <td>0</td>\n",
       "      <td>0.716642</td>\n",
       "      <td>2.0</td>\n",
       "      <td>0.944444</td>\n",
       "      <td>0.544688</td>\n",
       "      <td>0.004608</td>\n",
       "      <td>0.364706</td>\n",
       "      <td>5</td>\n",
       "      <td>7</td>\n",
       "      <td>17</td>\n",
       "      <td>1</td>\n",
       "      <td>0</td>\n",
       "    </tr>\n",
       "  </tbody>\n",
       "</table>\n",
       "</div>"
      ],
      "text/plain": [
       "         num_processing_plants  farm_area  farming_company  \\\n",
       "6178601                    0.0   0.778394               12   \n",
       "6648579                    0.0   0.330657                8   \n",
       "5679493                    0.0   0.778394               12   \n",
       "6278017                    0.0   0.102662               12   \n",
       "6011694                    0.0   0.668293               12   \n",
       "\n",
       "         deidentified_location  temp_obs  cloudiness  wind_direction  \\\n",
       "6178601                      0  0.707646         2.0        0.805556   \n",
       "6648579                      0  0.758621         2.0        0.083333   \n",
       "5679493                      0  0.482759         0.0        0.000000   \n",
       "6278017                      0  0.833583         2.0        0.527778   \n",
       "6011694                      0  0.716642         2.0        0.944444   \n",
       "\n",
       "         pressure_sea_level  precipitation  wind_speed  month  day  hour  \\\n",
       "6178601            0.527825       0.004608    0.364706      5   29    14   \n",
       "6648579            0.585160       0.004608    0.123529      7   30     7   \n",
       "5679493            0.544688       0.004608    0.000000      3   25     4   \n",
       "6278017            0.537943       0.004608    0.088235      6   11    15   \n",
       "6011694            0.544688       0.004608    0.364706      5    7    17   \n",
       "\n",
       "         operations_commencing_year_new  operations_commencing_year_old  \n",
       "6178601                               1                               0  \n",
       "6648579                               1                               0  \n",
       "5679493                               1                               0  \n",
       "6278017                               1                               0  \n",
       "6011694                               1                               0  "
      ]
     },
     "execution_count": 19,
     "metadata": {},
     "output_type": "execute_result"
    }
   ],
   "source": [
    "# checking the x train data\n",
    "X_train.head()"
   ]
  },
  {
   "cell_type": "code",
   "execution_count": 20,
   "metadata": {
    "execution": {
     "iopub.execute_input": "2023-02-23T07:31:01.844601Z",
     "iopub.status.busy": "2023-02-23T07:31:01.844265Z",
     "iopub.status.idle": "2023-02-23T07:31:01.871478Z",
     "shell.execute_reply": "2023-02-23T07:31:01.870164Z",
     "shell.execute_reply.started": "2023-02-23T07:31:01.844572Z"
    }
   },
   "outputs": [
    {
     "data": {
      "text/html": [
       "<div>\n",
       "<style scoped>\n",
       "    .dataframe tbody tr th:only-of-type {\n",
       "        vertical-align: middle;\n",
       "    }\n",
       "\n",
       "    .dataframe tbody tr th {\n",
       "        vertical-align: top;\n",
       "    }\n",
       "\n",
       "    .dataframe thead th {\n",
       "        text-align: right;\n",
       "    }\n",
       "</style>\n",
       "<table border=\"1\" class=\"dataframe\">\n",
       "  <thead>\n",
       "    <tr style=\"text-align: right;\">\n",
       "      <th></th>\n",
       "      <th>num_processing_plants</th>\n",
       "      <th>farm_area</th>\n",
       "      <th>farming_company</th>\n",
       "      <th>deidentified_location</th>\n",
       "      <th>temp_obs</th>\n",
       "      <th>cloudiness</th>\n",
       "      <th>wind_direction</th>\n",
       "      <th>pressure_sea_level</th>\n",
       "      <th>precipitation</th>\n",
       "      <th>wind_speed</th>\n",
       "      <th>month</th>\n",
       "      <th>day</th>\n",
       "      <th>hour</th>\n",
       "      <th>operations_commencing_year_new</th>\n",
       "      <th>operations_commencing_year_old</th>\n",
       "    </tr>\n",
       "  </thead>\n",
       "  <tbody>\n",
       "    <tr>\n",
       "      <th>7628992</th>\n",
       "      <td>0.0</td>\n",
       "      <td>0.148899</td>\n",
       "      <td>12</td>\n",
       "      <td>0</td>\n",
       "      <td>0.482759</td>\n",
       "      <td>2.0</td>\n",
       "      <td>0.388889</td>\n",
       "      <td>0.404722</td>\n",
       "      <td>0.004608</td>\n",
       "      <td>0.517647</td>\n",
       "      <td>12</td>\n",
       "      <td>5</td>\n",
       "      <td>20</td>\n",
       "      <td>1</td>\n",
       "      <td>0</td>\n",
       "    </tr>\n",
       "    <tr>\n",
       "      <th>6303654</th>\n",
       "      <td>0.0</td>\n",
       "      <td>0.063334</td>\n",
       "      <td>8</td>\n",
       "      <td>0</td>\n",
       "      <td>0.742129</td>\n",
       "      <td>8.0</td>\n",
       "      <td>0.861111</td>\n",
       "      <td>0.401349</td>\n",
       "      <td>0.082949</td>\n",
       "      <td>0.335294</td>\n",
       "      <td>6</td>\n",
       "      <td>15</td>\n",
       "      <td>0</td>\n",
       "      <td>1</td>\n",
       "      <td>0</td>\n",
       "    </tr>\n",
       "    <tr>\n",
       "      <th>6597705</th>\n",
       "      <td>0.0</td>\n",
       "      <td>0.017940</td>\n",
       "      <td>11</td>\n",
       "      <td>0</td>\n",
       "      <td>0.841079</td>\n",
       "      <td>2.0</td>\n",
       "      <td>0.305556</td>\n",
       "      <td>0.487352</td>\n",
       "      <td>0.004608</td>\n",
       "      <td>0.335294</td>\n",
       "      <td>7</td>\n",
       "      <td>23</td>\n",
       "      <td>15</td>\n",
       "      <td>1</td>\n",
       "      <td>0</td>\n",
       "    </tr>\n",
       "    <tr>\n",
       "      <th>5852959</th>\n",
       "      <td>0.0</td>\n",
       "      <td>0.063334</td>\n",
       "      <td>8</td>\n",
       "      <td>0</td>\n",
       "      <td>0.824588</td>\n",
       "      <td>2.0</td>\n",
       "      <td>0.472222</td>\n",
       "      <td>0.652614</td>\n",
       "      <td>0.004608</td>\n",
       "      <td>0.576471</td>\n",
       "      <td>4</td>\n",
       "      <td>16</td>\n",
       "      <td>22</td>\n",
       "      <td>1</td>\n",
       "      <td>0</td>\n",
       "    </tr>\n",
       "    <tr>\n",
       "      <th>11915227</th>\n",
       "      <td>0.0</td>\n",
       "      <td>0.123982</td>\n",
       "      <td>12</td>\n",
       "      <td>1</td>\n",
       "      <td>0.358321</td>\n",
       "      <td>2.0</td>\n",
       "      <td>0.222222</td>\n",
       "      <td>0.430017</td>\n",
       "      <td>0.004608</td>\n",
       "      <td>0.123529</td>\n",
       "      <td>4</td>\n",
       "      <td>9</td>\n",
       "      <td>10</td>\n",
       "      <td>0</td>\n",
       "      <td>0</td>\n",
       "    </tr>\n",
       "  </tbody>\n",
       "</table>\n",
       "</div>"
      ],
      "text/plain": [
       "          num_processing_plants  farm_area  farming_company  \\\n",
       "7628992                     0.0   0.148899               12   \n",
       "6303654                     0.0   0.063334                8   \n",
       "6597705                     0.0   0.017940               11   \n",
       "5852959                     0.0   0.063334                8   \n",
       "11915227                    0.0   0.123982               12   \n",
       "\n",
       "          deidentified_location  temp_obs  cloudiness  wind_direction  \\\n",
       "7628992                       0  0.482759         2.0        0.388889   \n",
       "6303654                       0  0.742129         8.0        0.861111   \n",
       "6597705                       0  0.841079         2.0        0.305556   \n",
       "5852959                       0  0.824588         2.0        0.472222   \n",
       "11915227                      1  0.358321         2.0        0.222222   \n",
       "\n",
       "          pressure_sea_level  precipitation  wind_speed  month  day  hour  \\\n",
       "7628992             0.404722       0.004608    0.517647     12    5    20   \n",
       "6303654             0.401349       0.082949    0.335294      6   15     0   \n",
       "6597705             0.487352       0.004608    0.335294      7   23    15   \n",
       "5852959             0.652614       0.004608    0.576471      4   16    22   \n",
       "11915227            0.430017       0.004608    0.123529      4    9    10   \n",
       "\n",
       "          operations_commencing_year_new  operations_commencing_year_old  \n",
       "7628992                                1                               0  \n",
       "6303654                                1                               0  \n",
       "6597705                                1                               0  \n",
       "5852959                                1                               0  \n",
       "11915227                               0                               0  "
      ]
     },
     "execution_count": 20,
     "metadata": {},
     "output_type": "execute_result"
    }
   ],
   "source": [
    "# checking the x test data\n",
    "X_test.head()"
   ]
  },
  {
   "cell_type": "code",
   "execution_count": 21,
   "metadata": {
    "execution": {
     "iopub.execute_input": "2023-02-23T07:31:01.873471Z",
     "iopub.status.busy": "2023-02-23T07:31:01.873162Z",
     "iopub.status.idle": "2023-02-23T07:31:01.882240Z",
     "shell.execute_reply": "2023-02-23T07:31:01.880797Z",
     "shell.execute_reply.started": "2023-02-23T07:31:01.873443Z"
    }
   },
   "outputs": [
    {
     "data": {
      "text/plain": [
       "num_processing_plants             float64\n",
       "farm_area                         float64\n",
       "farming_company                     int64\n",
       "deidentified_location               int64\n",
       "temp_obs                          float64\n",
       "cloudiness                        float64\n",
       "wind_direction                    float64\n",
       "pressure_sea_level                float64\n",
       "precipitation                     float64\n",
       "wind_speed                        float64\n",
       "month                               int64\n",
       "day                                 int64\n",
       "hour                                int64\n",
       "operations_commencing_year_new      uint8\n",
       "operations_commencing_year_old      uint8\n",
       "dtype: object"
      ]
     },
     "execution_count": 21,
     "metadata": {},
     "output_type": "execute_result"
    }
   ],
   "source": [
    "# checking the data types x_train data\n",
    "X_train.dtypes"
   ]
  },
  {
   "cell_type": "markdown",
   "metadata": {},
   "source": [
    "# Model Building"
   ]
  },
  {
   "cell_type": "markdown",
   "metadata": {},
   "source": [
    "<div class=\"alert alert-block alert-info\"><b> \n",
    "  Linear Regression\n",
    "</b>"
   ]
  },
  {
   "cell_type": "code",
   "execution_count": 22,
   "metadata": {
    "execution": {
     "iopub.execute_input": "2023-02-23T07:31:01.884408Z",
     "iopub.status.busy": "2023-02-23T07:31:01.884061Z",
     "iopub.status.idle": "2023-02-23T07:31:02.480820Z",
     "shell.execute_reply": "2023-02-23T07:31:02.476288Z",
     "shell.execute_reply.started": "2023-02-23T07:31:01.884376Z"
    },
    "id": "ahIphgrvHD9d"
   },
   "outputs": [
    {
     "name": "stdout",
     "output_type": "stream",
     "text": [
      "RMSE of Linear Regressor on train :  727642.326964791\n",
      "RMSE of Linear Regressor on test :  701886.3530710585\n"
     ]
    }
   ],
   "source": [
    "# linear regression\n",
    "from sklearn.metrics import mean_squared_error\n",
    "from sklearn.linear_model import LinearRegression\n",
    "reg = LinearRegression()\n",
    "reg.fit(X_train, y_train)\n",
    "train_pred =reg.predict(X_train)\n",
    "test_pred = reg.predict(X_test)\n",
    "lr_train_pred = np.sqrt(mean_squared_error(y_train, train_pred))\n",
    "lr_test_pred = np.sqrt(mean_squared_error(y_test, test_pred))\n",
    "print('RMSE of Linear Regressor on train : ',lr_train_pred)\n",
    "print('RMSE of Linear Regressor on test : ',lr_test_pred)"
   ]
  },
  {
   "cell_type": "markdown",
   "metadata": {},
   "source": [
    "<div class=\"alert alert-block alert-info\"><b> \n",
    "  Random Forest Regressor\n",
    "</b></div> "
   ]
  },
  {
   "cell_type": "code",
   "execution_count": 23,
   "metadata": {
    "execution": {
     "iopub.execute_input": "2023-02-23T07:31:02.490111Z",
     "iopub.status.busy": "2023-02-23T07:31:02.488472Z",
     "iopub.status.idle": "2023-02-23T07:39:34.057394Z",
     "shell.execute_reply": "2023-02-23T07:39:34.056293Z",
     "shell.execute_reply.started": "2023-02-23T07:31:02.490015Z"
    }
   },
   "outputs": [
    {
     "name": "stdout",
     "output_type": "stream",
     "text": [
      "RMSE of RandomForestRegressor on train 51014.55068285992\n",
      "RMSE of RandomForestRegressor on test: 121747.09179339005\n"
     ]
    }
   ],
   "source": [
    "from sklearn.ensemble import RandomForestRegressor\n",
    "\n",
    "rfr = RandomForestRegressor()\n",
    "rfr.fit(X_train, y_train)\n",
    "train_pred= rfr.predict(X_train)\n",
    "test_pred = rfr.predict(X_test)\n",
    "rfr_train_pred = np.sqrt(mean_squared_error(y_train, train_pred))\n",
    "rfr_test_pred = np.sqrt(mean_squared_error(y_test, test_pred))\n",
    "print('RMSE of RandomForestRegressor on train', rfr_train_pred)\n",
    "print('RMSE of RandomForestRegressor on test:', rfr_test_pred)"
   ]
  },
  {
   "cell_type": "markdown",
   "metadata": {},
   "source": [
    "<div class=\"alert alert-block alert-info\"><b> \n",
    "  Gradient Boosting Regressor\n",
    "</b></div> "
   ]
  },
  {
   "cell_type": "code",
   "execution_count": 24,
   "metadata": {
    "execution": {
     "iopub.execute_input": "2023-02-23T07:39:34.059701Z",
     "iopub.status.busy": "2023-02-23T07:39:34.059088Z",
     "iopub.status.idle": "2023-02-23T07:43:36.687574Z",
     "shell.execute_reply": "2023-02-23T07:43:36.686122Z",
     "shell.execute_reply.started": "2023-02-23T07:39:34.059665Z"
    },
    "id": "tODV9ah0WQ8m"
   },
   "outputs": [
    {
     "name": "stdout",
     "output_type": "stream",
     "text": [
      "GBR on train :  400566.65744085965\n",
      "GBR on test :  383842.7613115324\n"
     ]
    }
   ],
   "source": [
    "from sklearn.ensemble import GradientBoostingRegressor\n",
    "gbg = GradientBoostingRegressor(learning_rate=0.05,n_estimators=200,random_state=0)\n",
    "gbg.fit(X_train,y_train)\n",
    "train_pred=gbg.predict(X_train)\n",
    "test_pred = gbg.predict(X_test)\n",
    "gbr_train_pred = np.sqrt(mean_squared_error(y_train, train_pred))\n",
    "gbr_test_pred = np.sqrt(mean_squared_error(y_test, test_pred))\n",
    "print('GBR on train : ', gbr_train_pred)\n",
    "print('GBR on test : ',gbr_test_pred)"
   ]
  },
  {
   "cell_type": "markdown",
   "metadata": {},
   "source": [
    "<div class=\"alert alert-block alert-info\"><b> \n",
    "  XGB Regressor\n",
    "</b></div> "
   ]
  },
  {
   "cell_type": "code",
   "execution_count": 25,
   "metadata": {
    "execution": {
     "iopub.execute_input": "2023-02-23T07:43:36.689779Z",
     "iopub.status.busy": "2023-02-23T07:43:36.689368Z",
     "iopub.status.idle": "2023-02-23T07:47:15.763373Z",
     "shell.execute_reply": "2023-02-23T07:47:15.762292Z",
     "shell.execute_reply.started": "2023-02-23T07:43:36.689744Z"
    }
   },
   "outputs": [
    {
     "name": "stdout",
     "output_type": "stream",
     "text": [
      "XGB Regressor on train :  217056.65387000985\n",
      "XGB Regressor on test :  224605.4628931582\n"
     ]
    }
   ],
   "source": [
    "from xgboost import XGBRegressor\n",
    "xgb = XGBRegressor(n_estimators=500,learning_rate=0.01)\n",
    "xgb.fit(X_train,y_train)\n",
    "train_pred=xgb.predict(X_train)\n",
    "test_pred = xgb.predict(X_test)\n",
    "xgb_train_pred = np.sqrt(mean_squared_error(y_train, train_pred))\n",
    "xgb_test_pred = np.sqrt(mean_squared_error(y_test, test_pred))\n",
    "print('XGB Regressor on train : ', xgb_train_pred)\n",
    "print('XGB Regressor on test : ',xgb_test_pred)"
   ]
  },
  {
   "cell_type": "markdown",
   "metadata": {},
   "source": [
    "<div class=\"alert alert-block alert-info\"><b> \n",
    "  Light Gradient Boosting Regressor\n",
    "</b></div> "
   ]
  },
  {
   "cell_type": "code",
   "execution_count": 26,
   "metadata": {
    "execution": {
     "iopub.execute_input": "2023-02-23T07:47:15.766211Z",
     "iopub.status.busy": "2023-02-23T07:47:15.765374Z",
     "iopub.status.idle": "2023-02-23T07:47:21.288380Z",
     "shell.execute_reply": "2023-02-23T07:47:21.286882Z",
     "shell.execute_reply.started": "2023-02-23T07:47:15.766167Z"
    }
   },
   "outputs": [
    {
     "data": {
      "text/html": [
       "<style type='text/css'>\n",
       ".datatable table.frame { margin-bottom: 0; }\n",
       ".datatable table.frame thead { border-bottom: none; }\n",
       ".datatable table.frame tr.coltypes td {  color: #FFFFFF;  line-height: 6px;  padding: 0 0.5em;}\n",
       ".datatable .bool    { background: #DDDD99; }\n",
       ".datatable .object  { background: #565656; }\n",
       ".datatable .int     { background: #5D9E5D; }\n",
       ".datatable .float   { background: #4040CC; }\n",
       ".datatable .str     { background: #CC4040; }\n",
       ".datatable .time    { background: #40CC40; }\n",
       ".datatable .row_index {  background: var(--jp-border-color3);  border-right: 1px solid var(--jp-border-color0);  color: var(--jp-ui-font-color3);  font-size: 9px;}\n",
       ".datatable .frame tbody td { text-align: left; }\n",
       ".datatable .frame tr.coltypes .row_index {  background: var(--jp-border-color0);}\n",
       ".datatable th:nth-child(2) { padding-left: 12px; }\n",
       ".datatable .hellipsis {  color: var(--jp-cell-editor-border-color);}\n",
       ".datatable .vellipsis {  background: var(--jp-layout-color0);  color: var(--jp-cell-editor-border-color);}\n",
       ".datatable .na {  color: var(--jp-cell-editor-border-color);  font-size: 80%;}\n",
       ".datatable .sp {  opacity: 0.25;}\n",
       ".datatable .footer { font-size: 9px; }\n",
       ".datatable .frame_dimensions {  background: var(--jp-border-color3);  border-top: 1px solid var(--jp-border-color0);  color: var(--jp-ui-font-color3);  display: inline-block;  opacity: 0.6;  padding: 1px 10px 1px 5px;}\n",
       "</style>\n"
      ],
      "text/plain": [
       "<IPython.core.display.HTML object>"
      ]
     },
     "metadata": {},
     "output_type": "display_data"
    },
    {
     "name": "stdout",
     "output_type": "stream",
     "text": [
      "LGB Regressor on train: 118525.39867135262\n",
      "LGB Regressor on test : 144469.22846026125\n"
     ]
    }
   ],
   "source": [
    "from lightgbm import LGBMRegressor\n",
    "lgb = LGBMRegressor()\n",
    "lgb.fit(X_train,y_train)\n",
    "train_pred=lgb.predict(X_train)\n",
    "test_pred = lgb.predict(X_test)\n",
    "lgb_train_pred = np.sqrt(mean_squared_error(y_train, train_pred))\n",
    "lgb_test_pred = np.sqrt(mean_squared_error(y_test, test_pred))\n",
    "print('LGB Regressor on train:', lgb_train_pred)\n",
    "print('LGB Regressor on test :',lgb_test_pred)"
   ]
  },
  {
   "cell_type": "markdown",
   "metadata": {},
   "source": [
    "<div class=\"alert alert-block alert-info\"><b> \n",
    "  Results of training and testing set\n",
    "</b></div> "
   ]
  },
  {
   "cell_type": "code",
   "execution_count": 27,
   "metadata": {
    "execution": {
     "iopub.execute_input": "2023-02-23T07:47:21.290367Z",
     "iopub.status.busy": "2023-02-23T07:47:21.289986Z",
     "iopub.status.idle": "2023-02-23T07:47:21.297861Z",
     "shell.execute_reply": "2023-02-23T07:47:21.296891Z",
     "shell.execute_reply.started": "2023-02-23T07:47:21.290335Z"
    }
   },
   "outputs": [],
   "source": [
    "# Creating a dataframe showing the RMSE for both training and testing data\n",
    "results=pd.DataFrame({\n",
    "                    'Models':['Linear Regression','GradientBoost','LGBMRegressor','Random Forest',\n",
    "                              'XGBoost'],\n",
    "    \n",
    "                    'Train_RMSE':[lr_train_pred, gbr_train_pred, lgb_train_pred, rfr_train_pred,\n",
    "                                  xgb_train_pred],\n",
    "    \n",
    "                    'Test_RMSE':[lr_test_pred, gbr_test_pred, lgb_test_pred, rfr_test_pred,\n",
    "                                 xgb_test_pred],\n",
    "                     })"
   ]
  },
  {
   "cell_type": "code",
   "execution_count": 28,
   "metadata": {
    "execution": {
     "iopub.execute_input": "2023-02-23T07:47:21.304580Z",
     "iopub.status.busy": "2023-02-23T07:47:21.303954Z",
     "iopub.status.idle": "2023-02-23T07:47:21.335063Z",
     "shell.execute_reply": "2023-02-23T07:47:21.334085Z",
     "shell.execute_reply.started": "2023-02-23T07:47:21.304544Z"
    }
   },
   "outputs": [
    {
     "data": {
      "text/html": [
       "<div>\n",
       "<style scoped>\n",
       "    .dataframe tbody tr th:only-of-type {\n",
       "        vertical-align: middle;\n",
       "    }\n",
       "\n",
       "    .dataframe tbody tr th {\n",
       "        vertical-align: top;\n",
       "    }\n",
       "\n",
       "    .dataframe thead th {\n",
       "        text-align: right;\n",
       "    }\n",
       "</style>\n",
       "<table border=\"1\" class=\"dataframe\">\n",
       "  <thead>\n",
       "    <tr style=\"text-align: right;\">\n",
       "      <th></th>\n",
       "      <th>Models</th>\n",
       "      <th>Train_RMSE</th>\n",
       "      <th>Test_RMSE</th>\n",
       "    </tr>\n",
       "  </thead>\n",
       "  <tbody>\n",
       "    <tr>\n",
       "      <th>0</th>\n",
       "      <td>Random Forest</td>\n",
       "      <td>51014.550683</td>\n",
       "      <td>121747.091793</td>\n",
       "    </tr>\n",
       "    <tr>\n",
       "      <th>1</th>\n",
       "      <td>LGBMRegressor</td>\n",
       "      <td>118525.398671</td>\n",
       "      <td>144469.228460</td>\n",
       "    </tr>\n",
       "    <tr>\n",
       "      <th>2</th>\n",
       "      <td>XGBoost</td>\n",
       "      <td>217056.653870</td>\n",
       "      <td>224605.462893</td>\n",
       "    </tr>\n",
       "    <tr>\n",
       "      <th>3</th>\n",
       "      <td>GradientBoost</td>\n",
       "      <td>400566.657441</td>\n",
       "      <td>383842.761312</td>\n",
       "    </tr>\n",
       "    <tr>\n",
       "      <th>4</th>\n",
       "      <td>Linear Regression</td>\n",
       "      <td>727642.326965</td>\n",
       "      <td>701886.353071</td>\n",
       "    </tr>\n",
       "  </tbody>\n",
       "</table>\n",
       "</div>"
      ],
      "text/plain": [
       "              Models     Train_RMSE      Test_RMSE\n",
       "0      Random Forest   51014.550683  121747.091793\n",
       "1      LGBMRegressor  118525.398671  144469.228460\n",
       "2            XGBoost  217056.653870  224605.462893\n",
       "3      GradientBoost  400566.657441  383842.761312\n",
       "4  Linear Regression  727642.326965  701886.353071"
      ]
     },
     "execution_count": 28,
     "metadata": {},
     "output_type": "execute_result"
    }
   ],
   "source": [
    "results.sort_values('Test_RMSE',ascending=True,ignore_index=True)"
   ]
  },
  {
   "cell_type": "markdown",
   "metadata": {},
   "source": [
    "## Conclusion"
   ]
  },
  {
   "cell_type": "markdown",
   "metadata": {},
   "source": [
    "<div class=\"alert alert-block alert-info\"><b> \n",
    "   Light gradient regressor gave the best results as compared to all the other algorithms we tried.\n",
    "</b></div> "
   ]
  },
  {
   "cell_type": "code",
   "execution_count": 29,
   "metadata": {
    "execution": {
     "iopub.execute_input": "2023-02-23T07:47:21.337756Z",
     "iopub.status.busy": "2023-02-23T07:47:21.337324Z",
     "iopub.status.idle": "2023-02-23T07:47:21.343331Z",
     "shell.execute_reply": "2023-02-23T07:47:21.341964Z",
     "shell.execute_reply.started": "2023-02-23T07:47:21.337701Z"
    }
   },
   "outputs": [],
   "source": [
    "#RandomSearchCV designed to find the best parameters to improve our model\n",
    "#from sklearn.model_selection import RandomizedSearchCV\n",
    "#rf_grid = RandomForestRegressor()\n",
    "#rf_param_grid = {\"n_estimators\" : [100,500,1000],\n",
    "#                 \"max_features\" : ['sqrt','log2'],\n",
    "#                 \"max_depth\" : [10,20,30],\n",
    "#                \"min_samples_leaf\" : [2,3,5,7,10]}\n",
    "#rf2=RandomizedSearchCV(rf_grid,rf_param_grid,cv=5,n_jobs=-1,n_iter=10)\n",
    "#rf2.fit(X_train,y_train.values.ravel())\n",
    "#best_hyper = rf2.best_params_"
   ]
  },
  {
   "cell_type": "code",
   "execution_count": 30,
   "metadata": {
    "execution": {
     "iopub.execute_input": "2023-02-23T07:47:21.345665Z",
     "iopub.status.busy": "2023-02-23T07:47:21.345232Z",
     "iopub.status.idle": "2023-02-23T07:47:21.360710Z",
     "shell.execute_reply": "2023-02-23T07:47:21.359277Z",
     "shell.execute_reply.started": "2023-02-23T07:47:21.345629Z"
    }
   },
   "outputs": [],
   "source": [
    "#best model\n",
    "#best_model = RandomForestRegressor()\n",
    "#best_model.fit(X_train,y_train)\n",
    "#train_pred=rf2.predict(X_train)\n",
    "#test_pred = rf2.predict(X_test)\n",
    "#print('RMSE RandomizedSearchCV on train : ', np.sqrt(mean_squared_error(y_train, train_pred)))\n",
    "#print('RMSE RandomizedSearchCV on test : ', np.sqrt(mean_squared_error(y_test, test_pred)))"
   ]
  },
  {
   "cell_type": "markdown",
   "metadata": {},
   "source": [
    "## Lets work on test data"
   ]
  },
  {
   "cell_type": "code",
   "execution_count": 31,
   "metadata": {
    "execution": {
     "iopub.execute_input": "2023-02-23T07:47:21.363145Z",
     "iopub.status.busy": "2023-02-23T07:47:21.362738Z",
     "iopub.status.idle": "2023-02-23T07:47:21.856652Z",
     "shell.execute_reply": "2023-02-23T07:47:21.855079Z",
     "shell.execute_reply.started": "2023-02-23T07:47:21.363109Z"
    }
   },
   "outputs": [],
   "source": [
    "test_y.deidentified_location = label.fit_transform(test_y.deidentified_location)\n",
    "test_y.farming_company = label.fit_transform(test_y.farming_company)"
   ]
  },
  {
   "cell_type": "code",
   "execution_count": 32,
   "metadata": {
    "execution": {
     "iopub.execute_input": "2023-02-23T07:47:21.858987Z",
     "iopub.status.busy": "2023-02-23T07:47:21.858566Z",
     "iopub.status.idle": "2023-02-23T07:47:22.025601Z",
     "shell.execute_reply": "2023-02-23T07:47:22.023994Z",
     "shell.execute_reply.started": "2023-02-23T07:47:21.858949Z"
    }
   },
   "outputs": [],
   "source": [
    "# converting categorical to numerical\n",
    "test_y = pd.get_dummies(test_y, columns=['ingredient_type','operations_commencing_year'],drop_first=True)"
   ]
  },
  {
   "cell_type": "code",
   "execution_count": 33,
   "metadata": {
    "execution": {
     "iopub.execute_input": "2023-02-23T07:47:22.027925Z",
     "iopub.status.busy": "2023-02-23T07:47:22.027517Z",
     "iopub.status.idle": "2023-02-23T07:47:22.348803Z",
     "shell.execute_reply": "2023-02-23T07:47:22.347455Z",
     "shell.execute_reply.started": "2023-02-23T07:47:22.027891Z"
    }
   },
   "outputs": [],
   "source": [
    "# scale on test\n",
    "test_y[num_cols] = scaler.fit_transform(test_y[num_cols])"
   ]
  },
  {
   "cell_type": "code",
   "execution_count": 34,
   "metadata": {
    "execution": {
     "iopub.execute_input": "2023-02-23T07:47:22.351194Z",
     "iopub.status.busy": "2023-02-23T07:47:22.350801Z",
     "iopub.status.idle": "2023-02-23T07:47:22.438939Z",
     "shell.execute_reply": "2023-02-23T07:47:22.437483Z",
     "shell.execute_reply.started": "2023-02-23T07:47:22.351162Z"
    }
   },
   "outputs": [],
   "source": [
    "# selecting remaing columns except id column\n",
    "fin = test_y.loc[:, test_y.columns != 'id']"
   ]
  },
  {
   "cell_type": "code",
   "execution_count": 35,
   "metadata": {
    "execution": {
     "iopub.execute_input": "2023-02-23T07:47:22.441284Z",
     "iopub.status.busy": "2023-02-23T07:47:22.440877Z",
     "iopub.status.idle": "2023-02-23T07:47:22.449848Z",
     "shell.execute_reply": "2023-02-23T07:47:22.448442Z",
     "shell.execute_reply.started": "2023-02-23T07:47:22.441248Z"
    }
   },
   "outputs": [
    {
     "data": {
      "text/plain": [
       "(949785, 15)"
      ]
     },
     "execution_count": 35,
     "metadata": {},
     "output_type": "execute_result"
    }
   ],
   "source": [
    "# checking the final test dataset dimensions\n",
    "fin.shape"
   ]
  },
  {
   "cell_type": "markdown",
   "metadata": {},
   "source": [
    "# Predictions"
   ]
  },
  {
   "cell_type": "code",
   "execution_count": 37,
   "metadata": {
    "execution": {
     "iopub.execute_input": "2023-02-23T07:47:44.828815Z",
     "iopub.status.busy": "2023-02-23T07:47:44.828247Z",
     "iopub.status.idle": "2023-02-23T07:47:45.955576Z",
     "shell.execute_reply": "2023-02-23T07:47:45.954321Z",
     "shell.execute_reply.started": "2023-02-23T07:47:44.828761Z"
    },
    "id": "n-bjuqXCUQJC"
   },
   "outputs": [],
   "source": [
    "# predicting the test data with best model\n",
    "test_pred = lgb.predict(fin)"
   ]
  },
  {
   "cell_type": "code",
   "execution_count": 38,
   "metadata": {
    "execution": {
     "iopub.execute_input": "2023-02-23T07:47:45.958812Z",
     "iopub.status.busy": "2023-02-23T07:47:45.958276Z",
     "iopub.status.idle": "2023-02-23T07:47:45.969182Z",
     "shell.execute_reply": "2023-02-23T07:47:45.967823Z",
     "shell.execute_reply.started": "2023-02-23T07:47:45.958761Z"
    },
    "id": "vHbo7cNaUfKL"
   },
   "outputs": [],
   "source": [
    "# creating a dataframe with id column and yield column\n",
    "sub  = pd.DataFrame({'id': tes.id, 'yield': test_pred})"
   ]
  },
  {
   "cell_type": "code",
   "execution_count": 39,
   "metadata": {
    "execution": {
     "iopub.execute_input": "2023-02-23T07:47:45.971340Z",
     "iopub.status.busy": "2023-02-23T07:47:45.970953Z",
     "iopub.status.idle": "2023-02-23T07:47:45.985570Z",
     "shell.execute_reply": "2023-02-23T07:47:45.983964Z",
     "shell.execute_reply.started": "2023-02-23T07:47:45.971305Z"
    }
   },
   "outputs": [
    {
     "data": {
      "text/plain": [
       "(949785, 2)"
      ]
     },
     "execution_count": 39,
     "metadata": {},
     "output_type": "execute_result"
    }
   ],
   "source": [
    "# checking the shape of the final dataframe \n",
    "sub.shape"
   ]
  },
  {
   "cell_type": "code",
   "execution_count": 40,
   "metadata": {
    "execution": {
     "iopub.execute_input": "2023-02-23T07:47:45.987809Z",
     "iopub.status.busy": "2023-02-23T07:47:45.987403Z",
     "iopub.status.idle": "2023-02-23T07:47:46.003338Z",
     "shell.execute_reply": "2023-02-23T07:47:46.002386Z",
     "shell.execute_reply.started": "2023-02-23T07:47:45.987776Z"
    }
   },
   "outputs": [
    {
     "data": {
      "text/html": [
       "<div>\n",
       "<style scoped>\n",
       "    .dataframe tbody tr th:only-of-type {\n",
       "        vertical-align: middle;\n",
       "    }\n",
       "\n",
       "    .dataframe tbody tr th {\n",
       "        vertical-align: top;\n",
       "    }\n",
       "\n",
       "    .dataframe thead th {\n",
       "        text-align: right;\n",
       "    }\n",
       "</style>\n",
       "<table border=\"1\" class=\"dataframe\">\n",
       "  <thead>\n",
       "    <tr style=\"text-align: right;\">\n",
       "      <th></th>\n",
       "      <th>id</th>\n",
       "      <th>yield</th>\n",
       "    </tr>\n",
       "  </thead>\n",
       "  <tbody>\n",
       "    <tr>\n",
       "      <th>1138826</th>\n",
       "      <td>37198374</td>\n",
       "      <td>761.613040</td>\n",
       "    </tr>\n",
       "    <tr>\n",
       "      <th>1138920</th>\n",
       "      <td>37198624</td>\n",
       "      <td>761.613040</td>\n",
       "    </tr>\n",
       "    <tr>\n",
       "      <th>1139014</th>\n",
       "      <td>37198874</td>\n",
       "      <td>838.733587</td>\n",
       "    </tr>\n",
       "    <tr>\n",
       "      <th>1139108</th>\n",
       "      <td>37199124</td>\n",
       "      <td>838.733587</td>\n",
       "    </tr>\n",
       "    <tr>\n",
       "      <th>1139202</th>\n",
       "      <td>37199374</td>\n",
       "      <td>838.733587</td>\n",
       "    </tr>\n",
       "  </tbody>\n",
       "</table>\n",
       "</div>"
      ],
      "text/plain": [
       "               id       yield\n",
       "1138826  37198374  761.613040\n",
       "1138920  37198624  761.613040\n",
       "1139014  37198874  838.733587\n",
       "1139108  37199124  838.733587\n",
       "1139202  37199374  838.733587"
      ]
     },
     "execution_count": 40,
     "metadata": {},
     "output_type": "execute_result"
    }
   ],
   "source": [
    "# checking the head of the dataframe\n",
    "sub.head()"
   ]
  },
  {
   "cell_type": "code",
   "execution_count": 41,
   "metadata": {
    "execution": {
     "iopub.execute_input": "2023-02-23T07:47:46.006018Z",
     "iopub.status.busy": "2023-02-23T07:47:46.005601Z",
     "iopub.status.idle": "2023-02-23T07:47:46.023808Z",
     "shell.execute_reply": "2023-02-23T07:47:46.022198Z",
     "shell.execute_reply.started": "2023-02-23T07:47:46.005983Z"
    }
   },
   "outputs": [
    {
     "data": {
      "text/html": [
       "<div>\n",
       "<style scoped>\n",
       "    .dataframe tbody tr th:only-of-type {\n",
       "        vertical-align: middle;\n",
       "    }\n",
       "\n",
       "    .dataframe tbody tr th {\n",
       "        vertical-align: top;\n",
       "    }\n",
       "\n",
       "    .dataframe thead th {\n",
       "        text-align: right;\n",
       "    }\n",
       "</style>\n",
       "<table border=\"1\" class=\"dataframe\">\n",
       "  <thead>\n",
       "    <tr style=\"text-align: right;\">\n",
       "      <th></th>\n",
       "      <th>id</th>\n",
       "      <th>yield</th>\n",
       "    </tr>\n",
       "  </thead>\n",
       "  <tbody>\n",
       "    <tr>\n",
       "      <th>12389991</th>\n",
       "      <td>37751673</td>\n",
       "      <td>1013.888264</td>\n",
       "    </tr>\n",
       "    <tr>\n",
       "      <th>12389995</th>\n",
       "      <td>37751677</td>\n",
       "      <td>466.104864</td>\n",
       "    </tr>\n",
       "    <tr>\n",
       "      <th>12389999</th>\n",
       "      <td>37751681</td>\n",
       "      <td>1804.723210</td>\n",
       "    </tr>\n",
       "    <tr>\n",
       "      <th>12390003</th>\n",
       "      <td>37751685</td>\n",
       "      <td>537.884188</td>\n",
       "    </tr>\n",
       "    <tr>\n",
       "      <th>12390008</th>\n",
       "      <td>37751690</td>\n",
       "      <td>1257.085801</td>\n",
       "    </tr>\n",
       "  </tbody>\n",
       "</table>\n",
       "</div>"
      ],
      "text/plain": [
       "                id        yield\n",
       "12389991  37751673  1013.888264\n",
       "12389995  37751677   466.104864\n",
       "12389999  37751681  1804.723210\n",
       "12390003  37751685   537.884188\n",
       "12390008  37751690  1257.085801"
      ]
     },
     "execution_count": 41,
     "metadata": {},
     "output_type": "execute_result"
    }
   ],
   "source": [
    "# checking the last 5 rows of the dataframe\n",
    "sub.tail()"
   ]
  },
  {
   "cell_type": "code",
   "execution_count": 42,
   "metadata": {
    "execution": {
     "iopub.execute_input": "2023-02-23T07:47:46.026139Z",
     "iopub.status.busy": "2023-02-23T07:47:46.025697Z",
     "iopub.status.idle": "2023-02-23T07:47:48.184841Z",
     "shell.execute_reply": "2023-02-23T07:47:48.183836Z",
     "shell.execute_reply.started": "2023-02-23T07:47:46.026101Z"
    },
    "id": "KiHttGD7UpH5"
   },
   "outputs": [],
   "source": [
    "# creating submission file\n",
    "sub.to_csv('submission_y1.csv', index = None)"
   ]
  },
  {
   "cell_type": "code",
   "execution_count": null,
   "metadata": {
    "id": "yLpSJvzJUxN6"
   },
   "outputs": [],
   "source": []
  },
  {
   "cell_type": "code",
   "execution_count": null,
   "metadata": {},
   "outputs": [],
   "source": []
  }
 ],
 "metadata": {
  "kernelspec": {
   "display_name": "Python 3 (ipykernel)",
   "language": "python",
   "name": "python3"
  },
  "language_info": {
   "codemirror_mode": {
    "name": "ipython",
    "version": 3
   },
   "file_extension": ".py",
   "mimetype": "text/x-python",
   "name": "python",
   "nbconvert_exporter": "python",
   "pygments_lexer": "ipython3",
   "version": "3.9.13"
  }
 },
 "nbformat": 4,
 "nbformat_minor": 4
}
