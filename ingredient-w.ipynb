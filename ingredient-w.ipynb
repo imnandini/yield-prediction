{
 "cells": [
  {
   "cell_type": "code",
   "execution_count": 1,
   "metadata": {
    "execution": {
     "iopub.execute_input": "2023-02-23T06:30:38.686936Z",
     "iopub.status.busy": "2023-02-23T06:30:38.686480Z",
     "iopub.status.idle": "2023-02-23T06:30:38.718140Z",
     "shell.execute_reply": "2023-02-23T06:30:38.717163Z",
     "shell.execute_reply.started": "2023-02-23T06:30:38.686847Z"
    },
    "id": "6RHtcsZ02d8t",
    "outputId": "7da4c2f5-2cba-40ac-d1da-fe32fab5684c"
   },
   "outputs": [
    {
     "name": "stdout",
     "output_type": "stream",
     "text": [
      "/kaggle/input/final-data/train_final.csv\n",
      "/kaggle/input/final-data/test_final.csv\n"
     ]
    }
   ],
   "source": [
    "#importing necessary libraries\n",
    "import pandas as pd\n",
    "import numpy as np\n",
    "import warnings                   # To ignore the warnings\n",
    "warnings.filterwarnings(\"ignore\")\n",
    "import os\n",
    "for dirname, _, filenames in os.walk('/kaggle/input'):\n",
    "    for filename in filenames:\n",
    "        print(os.path.join(dirname, filename))"
   ]
  },
  {
   "cell_type": "code",
   "execution_count": 2,
   "metadata": {
    "execution": {
     "iopub.execute_input": "2023-02-23T06:30:38.720429Z",
     "iopub.status.busy": "2023-02-23T06:30:38.719924Z",
     "iopub.status.idle": "2023-02-23T06:32:43.361621Z",
     "shell.execute_reply": "2023-02-23T06:32:43.360406Z",
     "shell.execute_reply.started": "2023-02-23T06:30:38.720393Z"
    }
   },
   "outputs": [],
   "source": [
    "# Reading the test data files\n",
    "train_final_merged = pd.read_csv('/kaggle/input/final-data/train_final.csv')\n",
    "test_final_merged = pd.read_csv('/kaggle/input/final-data/test_final.csv')"
   ]
  },
  {
   "cell_type": "code",
   "execution_count": 3,
   "metadata": {
    "execution": {
     "iopub.execute_input": "2023-02-23T06:32:43.363166Z",
     "iopub.status.busy": "2023-02-23T06:32:43.362819Z",
     "iopub.status.idle": "2023-02-23T06:32:43.394251Z",
     "shell.execute_reply": "2023-02-23T06:32:43.393153Z",
     "shell.execute_reply.started": "2023-02-23T06:32:43.363136Z"
    }
   },
   "outputs": [
    {
     "data": {
      "text/html": [
       "<div>\n",
       "<style scoped>\n",
       "    .dataframe tbody tr th:only-of-type {\n",
       "        vertical-align: middle;\n",
       "    }\n",
       "\n",
       "    .dataframe tbody tr th {\n",
       "        vertical-align: top;\n",
       "    }\n",
       "\n",
       "    .dataframe thead th {\n",
       "        text-align: right;\n",
       "    }\n",
       "</style>\n",
       "<table border=\"1\" class=\"dataframe\">\n",
       "  <thead>\n",
       "    <tr style=\"text-align: right;\">\n",
       "      <th></th>\n",
       "      <th>Unnamed: 0</th>\n",
       "      <th>farm_id</th>\n",
       "      <th>ingredient_type</th>\n",
       "      <th>id</th>\n",
       "      <th>operations_commencing_year</th>\n",
       "      <th>num_processing_plants</th>\n",
       "      <th>farm_area</th>\n",
       "      <th>farming_company</th>\n",
       "      <th>deidentified_location</th>\n",
       "      <th>temp_obs</th>\n",
       "      <th>cloudiness</th>\n",
       "      <th>wind_direction</th>\n",
       "      <th>pressure_sea_level</th>\n",
       "      <th>precipitation</th>\n",
       "      <th>wind_speed</th>\n",
       "      <th>month</th>\n",
       "      <th>day</th>\n",
       "      <th>hour</th>\n",
       "    </tr>\n",
       "  </thead>\n",
       "  <tbody>\n",
       "    <tr>\n",
       "      <th>0</th>\n",
       "      <td>0</td>\n",
       "      <td>fid_110884</td>\n",
       "      <td>ing_w</td>\n",
       "      <td>0</td>\n",
       "      <td>new</td>\n",
       "      <td>7</td>\n",
       "      <td>690.455096</td>\n",
       "      <td>Obery Farms</td>\n",
       "      <td>location 7369</td>\n",
       "      <td>17.8</td>\n",
       "      <td>4.0</td>\n",
       "      <td>100.0</td>\n",
       "      <td>1021.4</td>\n",
       "      <td>0.0</td>\n",
       "      <td>3.6</td>\n",
       "      <td>1</td>\n",
       "      <td>1</td>\n",
       "      <td>0</td>\n",
       "    </tr>\n",
       "    <tr>\n",
       "      <th>1</th>\n",
       "      <td>1</td>\n",
       "      <td>fid_90053</td>\n",
       "      <td>ing_w</td>\n",
       "      <td>1</td>\n",
       "      <td>new</td>\n",
       "      <td>7</td>\n",
       "      <td>252.696160</td>\n",
       "      <td>Obery Farms</td>\n",
       "      <td>location 7369</td>\n",
       "      <td>17.8</td>\n",
       "      <td>4.0</td>\n",
       "      <td>100.0</td>\n",
       "      <td>1021.4</td>\n",
       "      <td>0.0</td>\n",
       "      <td>3.6</td>\n",
       "      <td>1</td>\n",
       "      <td>1</td>\n",
       "      <td>0</td>\n",
       "    </tr>\n",
       "    <tr>\n",
       "      <th>2</th>\n",
       "      <td>2</td>\n",
       "      <td>fid_17537</td>\n",
       "      <td>ing_w</td>\n",
       "      <td>2</td>\n",
       "      <td>moderate</td>\n",
       "      <td>7</td>\n",
       "      <td>499.446528</td>\n",
       "      <td>Obery Farms</td>\n",
       "      <td>location 7369</td>\n",
       "      <td>17.8</td>\n",
       "      <td>4.0</td>\n",
       "      <td>100.0</td>\n",
       "      <td>1021.4</td>\n",
       "      <td>0.0</td>\n",
       "      <td>3.6</td>\n",
       "      <td>1</td>\n",
       "      <td>1</td>\n",
       "      <td>0</td>\n",
       "    </tr>\n",
       "    <tr>\n",
       "      <th>3</th>\n",
       "      <td>3</td>\n",
       "      <td>fid_110392</td>\n",
       "      <td>ing_w</td>\n",
       "      <td>3</td>\n",
       "      <td>moderate</td>\n",
       "      <td>7</td>\n",
       "      <td>2200.407555</td>\n",
       "      <td>Obery Farms</td>\n",
       "      <td>location 7369</td>\n",
       "      <td>17.8</td>\n",
       "      <td>4.0</td>\n",
       "      <td>100.0</td>\n",
       "      <td>1021.4</td>\n",
       "      <td>0.0</td>\n",
       "      <td>3.6</td>\n",
       "      <td>1</td>\n",
       "      <td>1</td>\n",
       "      <td>0</td>\n",
       "    </tr>\n",
       "    <tr>\n",
       "      <th>4</th>\n",
       "      <td>4</td>\n",
       "      <td>fid_62402</td>\n",
       "      <td>ing_w</td>\n",
       "      <td>4</td>\n",
       "      <td>moderate</td>\n",
       "      <td>7</td>\n",
       "      <td>10833.140121</td>\n",
       "      <td>Obery Farms</td>\n",
       "      <td>location 7369</td>\n",
       "      <td>17.8</td>\n",
       "      <td>4.0</td>\n",
       "      <td>100.0</td>\n",
       "      <td>1021.4</td>\n",
       "      <td>0.0</td>\n",
       "      <td>3.6</td>\n",
       "      <td>1</td>\n",
       "      <td>1</td>\n",
       "      <td>0</td>\n",
       "    </tr>\n",
       "  </tbody>\n",
       "</table>\n",
       "</div>"
      ],
      "text/plain": [
       "   Unnamed: 0     farm_id ingredient_type  id operations_commencing_year  \\\n",
       "0           0  fid_110884           ing_w   0                        new   \n",
       "1           1   fid_90053           ing_w   1                        new   \n",
       "2           2   fid_17537           ing_w   2                   moderate   \n",
       "3           3  fid_110392           ing_w   3                   moderate   \n",
       "4           4   fid_62402           ing_w   4                   moderate   \n",
       "\n",
       "   num_processing_plants     farm_area farming_company deidentified_location  \\\n",
       "0                      7    690.455096     Obery Farms         location 7369   \n",
       "1                      7    252.696160     Obery Farms         location 7369   \n",
       "2                      7    499.446528     Obery Farms         location 7369   \n",
       "3                      7   2200.407555     Obery Farms         location 7369   \n",
       "4                      7  10833.140121     Obery Farms         location 7369   \n",
       "\n",
       "   temp_obs  cloudiness  wind_direction  pressure_sea_level  precipitation  \\\n",
       "0      17.8         4.0           100.0              1021.4            0.0   \n",
       "1      17.8         4.0           100.0              1021.4            0.0   \n",
       "2      17.8         4.0           100.0              1021.4            0.0   \n",
       "3      17.8         4.0           100.0              1021.4            0.0   \n",
       "4      17.8         4.0           100.0              1021.4            0.0   \n",
       "\n",
       "   wind_speed  month  day  hour  \n",
       "0         3.6      1    1     0  \n",
       "1         3.6      1    1     0  \n",
       "2         3.6      1    1     0  \n",
       "3         3.6      1    1     0  \n",
       "4         3.6      1    1     0  "
      ]
     },
     "execution_count": 3,
     "metadata": {},
     "output_type": "execute_result"
    }
   ],
   "source": [
    "# checking the final merged test dataset\n",
    "test_final_merged.head()"
   ]
  },
  {
   "cell_type": "code",
   "execution_count": 4,
   "metadata": {
    "execution": {
     "iopub.execute_input": "2023-02-23T06:32:43.397318Z",
     "iopub.status.busy": "2023-02-23T06:32:43.396973Z",
     "iopub.status.idle": "2023-02-23T06:32:43.406280Z",
     "shell.execute_reply": "2023-02-23T06:32:43.405174Z",
     "shell.execute_reply.started": "2023-02-23T06:32:43.397289Z"
    },
    "id": "PJprf6qGBEZa"
   },
   "outputs": [
    {
     "data": {
      "text/plain": [
       "Unnamed: 0                      int64\n",
       "farm_id                        object\n",
       "ingredient_type                object\n",
       "yield                         float64\n",
       "operations_commencing_year     object\n",
       "num_processing_plants           int64\n",
       "farm_area                     float64\n",
       "farming_company                object\n",
       "deidentified_location          object\n",
       "temp_obs                      float64\n",
       "cloudiness                    float64\n",
       "wind_direction                float64\n",
       "pressure_sea_level            float64\n",
       "precipitation                 float64\n",
       "wind_speed                    float64\n",
       "month                           int64\n",
       "day                             int64\n",
       "hour                            int64\n",
       "dtype: object"
      ]
     },
     "execution_count": 4,
     "metadata": {},
     "output_type": "execute_result"
    }
   ],
   "source": [
    "# checking the  data types of final merged tarin dataset\n",
    "train_final_merged.dtypes"
   ]
  },
  {
   "cell_type": "code",
   "execution_count": 5,
   "metadata": {
    "execution": {
     "iopub.execute_input": "2023-02-23T06:32:43.408007Z",
     "iopub.status.busy": "2023-02-23T06:32:43.407632Z",
     "iopub.status.idle": "2023-02-23T06:32:46.756857Z",
     "shell.execute_reply": "2023-02-23T06:32:46.755916Z",
     "shell.execute_reply.started": "2023-02-23T06:32:43.407975Z"
    }
   },
   "outputs": [],
   "source": [
    "train_ing_w = train_final_merged[train_final_merged['ingredient_type'] == 'ing_w']"
   ]
  },
  {
   "cell_type": "code",
   "execution_count": 6,
   "metadata": {
    "execution": {
     "iopub.execute_input": "2023-02-23T06:32:46.758744Z",
     "iopub.status.busy": "2023-02-23T06:32:46.758393Z",
     "iopub.status.idle": "2023-02-23T06:32:49.439817Z",
     "shell.execute_reply": "2023-02-23T06:32:49.438797Z",
     "shell.execute_reply.started": "2023-02-23T06:32:46.758690Z"
    }
   },
   "outputs": [],
   "source": [
    "# Split the dataset into three equal parts\n",
    "train_ing_w_splits = np.array_split(train_ing_w, 3)\n",
    "\n",
    "# Access and use the first split as a separate dataset\n",
    "train_w = train_ing_w_splits[0]\n"
   ]
  },
  {
   "cell_type": "code",
   "execution_count": 7,
   "metadata": {
    "execution": {
     "iopub.execute_input": "2023-02-23T06:32:49.442085Z",
     "iopub.status.busy": "2023-02-23T06:32:49.441508Z",
     "iopub.status.idle": "2023-02-23T06:32:52.830548Z",
     "shell.execute_reply": "2023-02-23T06:32:52.829378Z",
     "shell.execute_reply.started": "2023-02-23T06:32:49.442038Z"
    }
   },
   "outputs": [],
   "source": [
    "test_ing_w = test_final_merged[test_final_merged['ingredient_type'] == 'ing_w']"
   ]
  },
  {
   "cell_type": "code",
   "execution_count": 8,
   "metadata": {
    "execution": {
     "iopub.execute_input": "2023-02-23T06:32:52.833055Z",
     "iopub.status.busy": "2023-02-23T06:32:52.832567Z",
     "iopub.status.idle": "2023-02-23T06:32:56.188021Z",
     "shell.execute_reply": "2023-02-23T06:32:56.186878Z",
     "shell.execute_reply.started": "2023-02-23T06:32:52.833008Z"
    }
   },
   "outputs": [],
   "source": [
    "# Split the dataset into three equal parts\n",
    "test_ing_w_splits = np.array_split(test_ing_w, 3)\n",
    "\n",
    "# Access and use the first split as a separate dataset\n",
    "test_w = test_ing_w_splits[0]"
   ]
  },
  {
   "cell_type": "code",
   "execution_count": 9,
   "metadata": {
    "execution": {
     "iopub.execute_input": "2023-02-23T06:32:56.190122Z",
     "iopub.status.busy": "2023-02-23T06:32:56.189745Z",
     "iopub.status.idle": "2023-02-23T06:32:56.649990Z",
     "shell.execute_reply": "2023-02-23T06:32:56.648853Z",
     "shell.execute_reply.started": "2023-02-23T06:32:56.190068Z"
    }
   },
   "outputs": [],
   "source": [
    "# keep a copy of test w we need it in creating submission file\n",
    "import copy\n",
    "tes = copy.deepcopy(test_w)"
   ]
  },
  {
   "cell_type": "markdown",
   "metadata": {},
   "source": [
    "* farm_id is unique just like my id. my performance is measured based on my skills not based on my id right! same here the prediction of yield is depend on loaction and weather condtions on id. so let's drop it"
   ]
  },
  {
   "cell_type": "code",
   "execution_count": 10,
   "metadata": {
    "execution": {
     "iopub.execute_input": "2023-02-23T06:32:56.656632Z",
     "iopub.status.busy": "2023-02-23T06:32:56.655680Z",
     "iopub.status.idle": "2023-02-23T06:32:57.351118Z",
     "shell.execute_reply": "2023-02-23T06:32:57.350160Z",
     "shell.execute_reply.started": "2023-02-23T06:32:56.656586Z"
    }
   },
   "outputs": [],
   "source": [
    "# dropping the farm_id and num_processing pants from test and train datasets\n",
    "train_w.drop(['farm_id','Unnamed: 0'], axis=1, inplace=True)\n",
    "test_w.drop(['farm_id','Unnamed: 0'], axis=1, inplace=True)"
   ]
  },
  {
   "cell_type": "code",
   "execution_count": 11,
   "metadata": {
    "execution": {
     "iopub.execute_input": "2023-02-23T06:32:57.352688Z",
     "iopub.status.busy": "2023-02-23T06:32:57.352378Z",
     "iopub.status.idle": "2023-02-23T06:32:57.360873Z",
     "shell.execute_reply": "2023-02-23T06:32:57.359660Z",
     "shell.execute_reply.started": "2023-02-23T06:32:57.352661Z"
    }
   },
   "outputs": [
    {
     "data": {
      "text/plain": [
       "['ingredient_type',\n",
       " 'deidentified_location',\n",
       " 'operations_commencing_year',\n",
       " 'farming_company']"
      ]
     },
     "execution_count": 11,
     "metadata": {},
     "output_type": "execute_result"
    }
   ],
   "source": [
    "# assigning object columns in category columns\n",
    "cat_cols=['ingredient_type','deidentified_location',\n",
    "          'operations_commencing_year','farming_company']\n",
    "cat_cols"
   ]
  },
  {
   "cell_type": "code",
   "execution_count": 12,
   "metadata": {
    "execution": {
     "iopub.execute_input": "2023-02-23T06:32:57.362491Z",
     "iopub.status.busy": "2023-02-23T06:32:57.362168Z",
     "iopub.status.idle": "2023-02-23T06:33:01.352421Z",
     "shell.execute_reply": "2023-02-23T06:33:01.351320Z",
     "shell.execute_reply.started": "2023-02-23T06:32:57.362461Z"
    }
   },
   "outputs": [],
   "source": [
    "# converting object columns to category columns\n",
    "train_w[cat_cols] = train_w[cat_cols].astype(\"category\")\n",
    "test_w[cat_cols] = test_w[cat_cols].astype(\"category\")"
   ]
  },
  {
   "cell_type": "markdown",
   "metadata": {
    "id": "7mBmvpMgHIM3"
   },
   "source": [
    "# Model Building and Predictions"
   ]
  },
  {
   "cell_type": "code",
   "execution_count": 13,
   "metadata": {
    "execution": {
     "iopub.execute_input": "2023-02-23T06:33:01.354167Z",
     "iopub.status.busy": "2023-02-23T06:33:01.353835Z",
     "iopub.status.idle": "2023-02-23T06:33:01.954877Z",
     "shell.execute_reply": "2023-02-23T06:33:01.953651Z",
     "shell.execute_reply.started": "2023-02-23T06:33:01.354138Z"
    }
   },
   "outputs": [],
   "source": [
    "# deviding the data into x and y\n",
    "from sklearn.model_selection import train_test_split\n",
    "X = train_w.drop(['yield'] , axis = 1)\n",
    "y = train_w['yield']"
   ]
  },
  {
   "cell_type": "code",
   "execution_count": 14,
   "metadata": {
    "execution": {
     "iopub.execute_input": "2023-02-23T06:33:01.956930Z",
     "iopub.status.busy": "2023-02-23T06:33:01.956568Z",
     "iopub.status.idle": "2023-02-23T06:33:03.222921Z",
     "shell.execute_reply": "2023-02-23T06:33:03.221971Z",
     "shell.execute_reply.started": "2023-02-23T06:33:01.956898Z"
    }
   },
   "outputs": [],
   "source": [
    "# splitting the data into train and test in the ration of 70% & 30%\n",
    "X_train, X_test, y_train, y_test =   train_test_split(X, y, test_size=0.30,random_state = 123)"
   ]
  },
  {
   "cell_type": "code",
   "execution_count": 15,
   "metadata": {
    "execution": {
     "iopub.execute_input": "2023-02-23T06:33:03.224733Z",
     "iopub.status.busy": "2023-02-23T06:33:03.224429Z",
     "iopub.status.idle": "2023-02-23T06:33:03.229557Z",
     "shell.execute_reply": "2023-02-23T06:33:03.228758Z",
     "shell.execute_reply.started": "2023-02-23T06:33:03.224705Z"
    },
    "id": "PuVWV8_jHD6i"
   },
   "outputs": [
    {
     "name": "stdout",
     "output_type": "stream",
     "text": [
      "(2862975, 15) (1226990, 15)\n",
      "(2862975,) (1226990,)\n"
     ]
    }
   ],
   "source": [
    "# checking the shapes\n",
    "print(X_train.shape, X_test.shape)\n",
    "print(y_train.shape, y_test.shape)"
   ]
  },
  {
   "cell_type": "markdown",
   "metadata": {},
   "source": [
    "<div class=\"alert alert-block alert-info\"><b> \n",
    "  Dummifing categorical features into numerical using get dummies\n",
    "</b></div> "
   ]
  },
  {
   "cell_type": "code",
   "execution_count": 16,
   "metadata": {
    "execution": {
     "iopub.execute_input": "2023-02-23T06:33:03.231500Z",
     "iopub.status.busy": "2023-02-23T06:33:03.231190Z",
     "iopub.status.idle": "2023-02-23T06:33:05.193857Z",
     "shell.execute_reply": "2023-02-23T06:33:05.192780Z",
     "shell.execute_reply.started": "2023-02-23T06:33:03.231455Z"
    }
   },
   "outputs": [],
   "source": [
    "from sklearn.preprocessing import LabelEncoder\n",
    "label = LabelEncoder()\n",
    "X_train.deidentified_location = label.fit_transform(X_train.deidentified_location)\n",
    "X_test.deidentified_location = label.transform(X_test.deidentified_location)\n",
    "X_train.farming_company = label.fit_transform(X_train.farming_company)\n",
    "X_test.farming_company = label.transform(X_test.farming_company)"
   ]
  },
  {
   "cell_type": "code",
   "execution_count": 17,
   "metadata": {
    "execution": {
     "iopub.execute_input": "2023-02-23T06:33:05.196297Z",
     "iopub.status.busy": "2023-02-23T06:33:05.195536Z",
     "iopub.status.idle": "2023-02-23T06:33:05.681924Z",
     "shell.execute_reply": "2023-02-23T06:33:05.680864Z",
     "shell.execute_reply.started": "2023-02-23T06:33:05.196254Z"
    }
   },
   "outputs": [],
   "source": [
    "## Convert Categorical Columns to numerical\n",
    "X_train = pd.get_dummies(X_train, columns=['ingredient_type','operations_commencing_year'],drop_first=True)\n",
    "\n",
    "X_test = pd.get_dummies(X_test, columns=['ingredient_type','operations_commencing_year'],drop_first=True)"
   ]
  },
  {
   "cell_type": "code",
   "execution_count": 18,
   "metadata": {
    "execution": {
     "iopub.execute_input": "2023-02-23T06:33:05.683667Z",
     "iopub.status.busy": "2023-02-23T06:33:05.683262Z",
     "iopub.status.idle": "2023-02-23T06:33:06.596295Z",
     "shell.execute_reply": "2023-02-23T06:33:06.594924Z",
     "shell.execute_reply.started": "2023-02-23T06:33:05.683627Z"
    }
   },
   "outputs": [],
   "source": [
    "# scaling the data\n",
    "from sklearn.preprocessing import MinMaxScaler\n",
    "scaler = MinMaxScaler()\n",
    "num_cols = [\"farm_area\", \"wind_speed\", \"precipitation\", \"temp_obs\",\n",
    "            \"pressure_sea_level\",\"wind_direction\",'num_processing_plants']\n",
    "\n",
    "# scale on train\n",
    "X_train[num_cols] =scaler.fit_transform(X_train[num_cols])\n",
    "\n",
    "# scale on test\n",
    "X_test[num_cols] = scaler.transform(X_test[num_cols])"
   ]
  },
  {
   "cell_type": "code",
   "execution_count": 19,
   "metadata": {
    "execution": {
     "iopub.execute_input": "2023-02-23T06:33:06.598558Z",
     "iopub.status.busy": "2023-02-23T06:33:06.598079Z",
     "iopub.status.idle": "2023-02-23T06:33:06.626977Z",
     "shell.execute_reply": "2023-02-23T06:33:06.625818Z",
     "shell.execute_reply.started": "2023-02-23T06:33:06.598511Z"
    }
   },
   "outputs": [
    {
     "data": {
      "text/html": [
       "<div>\n",
       "<style scoped>\n",
       "    .dataframe tbody tr th:only-of-type {\n",
       "        vertical-align: middle;\n",
       "    }\n",
       "\n",
       "    .dataframe tbody tr th {\n",
       "        vertical-align: top;\n",
       "    }\n",
       "\n",
       "    .dataframe thead th {\n",
       "        text-align: right;\n",
       "    }\n",
       "</style>\n",
       "<table border=\"1\" class=\"dataframe\">\n",
       "  <thead>\n",
       "    <tr style=\"text-align: right;\">\n",
       "      <th></th>\n",
       "      <th>num_processing_plants</th>\n",
       "      <th>farm_area</th>\n",
       "      <th>farming_company</th>\n",
       "      <th>deidentified_location</th>\n",
       "      <th>temp_obs</th>\n",
       "      <th>cloudiness</th>\n",
       "      <th>wind_direction</th>\n",
       "      <th>pressure_sea_level</th>\n",
       "      <th>precipitation</th>\n",
       "      <th>wind_speed</th>\n",
       "      <th>month</th>\n",
       "      <th>day</th>\n",
       "      <th>hour</th>\n",
       "      <th>operations_commencing_year_new</th>\n",
       "      <th>operations_commencing_year_old</th>\n",
       "    </tr>\n",
       "  </thead>\n",
       "  <tbody>\n",
       "    <tr>\n",
       "      <th>146863</th>\n",
       "      <td>0.133333</td>\n",
       "      <td>0.123357</td>\n",
       "      <td>8</td>\n",
       "      <td>3</td>\n",
       "      <td>0.641484</td>\n",
       "      <td>4.0</td>\n",
       "      <td>0.500000</td>\n",
       "      <td>0.671745</td>\n",
       "      <td>0.002907</td>\n",
       "      <td>0.113514</td>\n",
       "      <td>2</td>\n",
       "      <td>28</td>\n",
       "      <td>23</td>\n",
       "      <td>0</td>\n",
       "      <td>1</td>\n",
       "    </tr>\n",
       "    <tr>\n",
       "      <th>2087311</th>\n",
       "      <td>0.466667</td>\n",
       "      <td>0.039678</td>\n",
       "      <td>14</td>\n",
       "      <td>4</td>\n",
       "      <td>0.394231</td>\n",
       "      <td>0.0</td>\n",
       "      <td>0.666667</td>\n",
       "      <td>0.754848</td>\n",
       "      <td>0.002907</td>\n",
       "      <td>0.081081</td>\n",
       "      <td>5</td>\n",
       "      <td>1</td>\n",
       "      <td>3</td>\n",
       "      <td>0</td>\n",
       "      <td>1</td>\n",
       "    </tr>\n",
       "    <tr>\n",
       "      <th>605829</th>\n",
       "      <td>0.133333</td>\n",
       "      <td>0.021570</td>\n",
       "      <td>14</td>\n",
       "      <td>3</td>\n",
       "      <td>0.725275</td>\n",
       "      <td>6.0</td>\n",
       "      <td>0.583333</td>\n",
       "      <td>0.623269</td>\n",
       "      <td>0.002907</td>\n",
       "      <td>0.167568</td>\n",
       "      <td>7</td>\n",
       "      <td>28</td>\n",
       "      <td>6</td>\n",
       "      <td>0</td>\n",
       "      <td>0</td>\n",
       "    </tr>\n",
       "    <tr>\n",
       "      <th>2122852</th>\n",
       "      <td>0.466667</td>\n",
       "      <td>0.031967</td>\n",
       "      <td>8</td>\n",
       "      <td>4</td>\n",
       "      <td>0.572802</td>\n",
       "      <td>2.0</td>\n",
       "      <td>0.138889</td>\n",
       "      <td>0.645429</td>\n",
       "      <td>0.002907</td>\n",
       "      <td>0.275676</td>\n",
       "      <td>5</td>\n",
       "      <td>24</td>\n",
       "      <td>16</td>\n",
       "      <td>1</td>\n",
       "      <td>0</td>\n",
       "    </tr>\n",
       "    <tr>\n",
       "      <th>3617023</th>\n",
       "      <td>0.133333</td>\n",
       "      <td>0.142015</td>\n",
       "      <td>8</td>\n",
       "      <td>1</td>\n",
       "      <td>0.755495</td>\n",
       "      <td>2.0</td>\n",
       "      <td>0.138889</td>\n",
       "      <td>0.548476</td>\n",
       "      <td>0.002907</td>\n",
       "      <td>0.113514</td>\n",
       "      <td>6</td>\n",
       "      <td>13</td>\n",
       "      <td>15</td>\n",
       "      <td>0</td>\n",
       "      <td>1</td>\n",
       "    </tr>\n",
       "  </tbody>\n",
       "</table>\n",
       "</div>"
      ],
      "text/plain": [
       "         num_processing_plants  farm_area  farming_company  \\\n",
       "146863                0.133333   0.123357                8   \n",
       "2087311               0.466667   0.039678               14   \n",
       "605829                0.133333   0.021570               14   \n",
       "2122852               0.466667   0.031967                8   \n",
       "3617023               0.133333   0.142015                8   \n",
       "\n",
       "         deidentified_location  temp_obs  cloudiness  wind_direction  \\\n",
       "146863                       3  0.641484         4.0        0.500000   \n",
       "2087311                      4  0.394231         0.0        0.666667   \n",
       "605829                       3  0.725275         6.0        0.583333   \n",
       "2122852                      4  0.572802         2.0        0.138889   \n",
       "3617023                      1  0.755495         2.0        0.138889   \n",
       "\n",
       "         pressure_sea_level  precipitation  wind_speed  month  day  hour  \\\n",
       "146863             0.671745       0.002907    0.113514      2   28    23   \n",
       "2087311            0.754848       0.002907    0.081081      5    1     3   \n",
       "605829             0.623269       0.002907    0.167568      7   28     6   \n",
       "2122852            0.645429       0.002907    0.275676      5   24    16   \n",
       "3617023            0.548476       0.002907    0.113514      6   13    15   \n",
       "\n",
       "         operations_commencing_year_new  operations_commencing_year_old  \n",
       "146863                                0                               1  \n",
       "2087311                               0                               1  \n",
       "605829                                0                               0  \n",
       "2122852                               1                               0  \n",
       "3617023                               0                               1  "
      ]
     },
     "execution_count": 19,
     "metadata": {},
     "output_type": "execute_result"
    }
   ],
   "source": [
    "# checking the x train data\n",
    "X_train.head()"
   ]
  },
  {
   "cell_type": "code",
   "execution_count": 20,
   "metadata": {
    "execution": {
     "iopub.execute_input": "2023-02-23T06:33:06.629160Z",
     "iopub.status.busy": "2023-02-23T06:33:06.628742Z",
     "iopub.status.idle": "2023-02-23T06:33:06.648408Z",
     "shell.execute_reply": "2023-02-23T06:33:06.647555Z",
     "shell.execute_reply.started": "2023-02-23T06:33:06.629094Z"
    }
   },
   "outputs": [
    {
     "data": {
      "text/html": [
       "<div>\n",
       "<style scoped>\n",
       "    .dataframe tbody tr th:only-of-type {\n",
       "        vertical-align: middle;\n",
       "    }\n",
       "\n",
       "    .dataframe tbody tr th {\n",
       "        vertical-align: top;\n",
       "    }\n",
       "\n",
       "    .dataframe thead th {\n",
       "        text-align: right;\n",
       "    }\n",
       "</style>\n",
       "<table border=\"1\" class=\"dataframe\">\n",
       "  <thead>\n",
       "    <tr style=\"text-align: right;\">\n",
       "      <th></th>\n",
       "      <th>num_processing_plants</th>\n",
       "      <th>farm_area</th>\n",
       "      <th>farming_company</th>\n",
       "      <th>deidentified_location</th>\n",
       "      <th>temp_obs</th>\n",
       "      <th>cloudiness</th>\n",
       "      <th>wind_direction</th>\n",
       "      <th>pressure_sea_level</th>\n",
       "      <th>precipitation</th>\n",
       "      <th>wind_speed</th>\n",
       "      <th>month</th>\n",
       "      <th>day</th>\n",
       "      <th>hour</th>\n",
       "      <th>operations_commencing_year_new</th>\n",
       "      <th>operations_commencing_year_old</th>\n",
       "    </tr>\n",
       "  </thead>\n",
       "  <tbody>\n",
       "    <tr>\n",
       "      <th>3365805</th>\n",
       "      <td>0.133333</td>\n",
       "      <td>0.140677</td>\n",
       "      <td>14</td>\n",
       "      <td>1</td>\n",
       "      <td>0.703297</td>\n",
       "      <td>2.0</td>\n",
       "      <td>0.805556</td>\n",
       "      <td>0.476454</td>\n",
       "      <td>0.002907</td>\n",
       "      <td>0.167568</td>\n",
       "      <td>5</td>\n",
       "      <td>8</td>\n",
       "      <td>22</td>\n",
       "      <td>0</td>\n",
       "      <td>0</td>\n",
       "    </tr>\n",
       "    <tr>\n",
       "      <th>5885964</th>\n",
       "      <td>0.133333</td>\n",
       "      <td>0.301549</td>\n",
       "      <td>8</td>\n",
       "      <td>0</td>\n",
       "      <td>0.534341</td>\n",
       "      <td>8.0</td>\n",
       "      <td>0.166667</td>\n",
       "      <td>0.508310</td>\n",
       "      <td>0.000000</td>\n",
       "      <td>0.167568</td>\n",
       "      <td>4</td>\n",
       "      <td>21</td>\n",
       "      <td>6</td>\n",
       "      <td>1</td>\n",
       "      <td>0</td>\n",
       "    </tr>\n",
       "    <tr>\n",
       "      <th>1178956</th>\n",
       "      <td>0.133333</td>\n",
       "      <td>0.140238</td>\n",
       "      <td>8</td>\n",
       "      <td>2</td>\n",
       "      <td>0.434066</td>\n",
       "      <td>2.0</td>\n",
       "      <td>0.583333</td>\n",
       "      <td>0.596953</td>\n",
       "      <td>0.002907</td>\n",
       "      <td>0.167568</td>\n",
       "      <td>2</td>\n",
       "      <td>11</td>\n",
       "      <td>20</td>\n",
       "      <td>0</td>\n",
       "      <td>0</td>\n",
       "    </tr>\n",
       "    <tr>\n",
       "      <th>1101228</th>\n",
       "      <td>0.133333</td>\n",
       "      <td>0.042940</td>\n",
       "      <td>8</td>\n",
       "      <td>2</td>\n",
       "      <td>0.434066</td>\n",
       "      <td>0.0</td>\n",
       "      <td>0.555556</td>\n",
       "      <td>0.596953</td>\n",
       "      <td>0.002907</td>\n",
       "      <td>0.248649</td>\n",
       "      <td>1</td>\n",
       "      <td>8</td>\n",
       "      <td>3</td>\n",
       "      <td>0</td>\n",
       "      <td>1</td>\n",
       "    </tr>\n",
       "    <tr>\n",
       "      <th>4706680</th>\n",
       "      <td>0.133333</td>\n",
       "      <td>0.035135</td>\n",
       "      <td>8</td>\n",
       "      <td>1</td>\n",
       "      <td>0.725275</td>\n",
       "      <td>2.0</td>\n",
       "      <td>0.861111</td>\n",
       "      <td>0.617729</td>\n",
       "      <td>0.002907</td>\n",
       "      <td>0.081081</td>\n",
       "      <td>11</td>\n",
       "      <td>14</td>\n",
       "      <td>20</td>\n",
       "      <td>1</td>\n",
       "      <td>0</td>\n",
       "    </tr>\n",
       "  </tbody>\n",
       "</table>\n",
       "</div>"
      ],
      "text/plain": [
       "         num_processing_plants  farm_area  farming_company  \\\n",
       "3365805               0.133333   0.140677               14   \n",
       "5885964               0.133333   0.301549                8   \n",
       "1178956               0.133333   0.140238                8   \n",
       "1101228               0.133333   0.042940                8   \n",
       "4706680               0.133333   0.035135                8   \n",
       "\n",
       "         deidentified_location  temp_obs  cloudiness  wind_direction  \\\n",
       "3365805                      1  0.703297         2.0        0.805556   \n",
       "5885964                      0  0.534341         8.0        0.166667   \n",
       "1178956                      2  0.434066         2.0        0.583333   \n",
       "1101228                      2  0.434066         0.0        0.555556   \n",
       "4706680                      1  0.725275         2.0        0.861111   \n",
       "\n",
       "         pressure_sea_level  precipitation  wind_speed  month  day  hour  \\\n",
       "3365805            0.476454       0.002907    0.167568      5    8    22   \n",
       "5885964            0.508310       0.000000    0.167568      4   21     6   \n",
       "1178956            0.596953       0.002907    0.167568      2   11    20   \n",
       "1101228            0.596953       0.002907    0.248649      1    8     3   \n",
       "4706680            0.617729       0.002907    0.081081     11   14    20   \n",
       "\n",
       "         operations_commencing_year_new  operations_commencing_year_old  \n",
       "3365805                               0                               0  \n",
       "5885964                               1                               0  \n",
       "1178956                               0                               0  \n",
       "1101228                               0                               1  \n",
       "4706680                               1                               0  "
      ]
     },
     "execution_count": 20,
     "metadata": {},
     "output_type": "execute_result"
    }
   ],
   "source": [
    "# checking the x test data\n",
    "X_test.head()"
   ]
  },
  {
   "cell_type": "code",
   "execution_count": 21,
   "metadata": {
    "execution": {
     "iopub.execute_input": "2023-02-23T06:33:06.649594Z",
     "iopub.status.busy": "2023-02-23T06:33:06.649295Z",
     "iopub.status.idle": "2023-02-23T06:33:06.663290Z",
     "shell.execute_reply": "2023-02-23T06:33:06.662000Z",
     "shell.execute_reply.started": "2023-02-23T06:33:06.649568Z"
    }
   },
   "outputs": [
    {
     "data": {
      "text/plain": [
       "num_processing_plants             float64\n",
       "farm_area                         float64\n",
       "farming_company                     int64\n",
       "deidentified_location               int64\n",
       "temp_obs                          float64\n",
       "cloudiness                        float64\n",
       "wind_direction                    float64\n",
       "pressure_sea_level                float64\n",
       "precipitation                     float64\n",
       "wind_speed                        float64\n",
       "month                               int64\n",
       "day                                 int64\n",
       "hour                                int64\n",
       "operations_commencing_year_new      uint8\n",
       "operations_commencing_year_old      uint8\n",
       "dtype: object"
      ]
     },
     "execution_count": 21,
     "metadata": {},
     "output_type": "execute_result"
    }
   ],
   "source": [
    "# checking the data types x_train data\n",
    "X_train.dtypes"
   ]
  },
  {
   "cell_type": "markdown",
   "metadata": {},
   "source": [
    "# Model Building"
   ]
  },
  {
   "cell_type": "markdown",
   "metadata": {},
   "source": [
    "<div class=\"alert alert-block alert-info\"><b> \n",
    "  Linear Regression\n",
    "</b>"
   ]
  },
  {
   "cell_type": "code",
   "execution_count": 22,
   "metadata": {
    "execution": {
     "iopub.execute_input": "2023-02-23T06:33:06.665655Z",
     "iopub.status.busy": "2023-02-23T06:33:06.665311Z",
     "iopub.status.idle": "2023-02-23T06:33:08.722126Z",
     "shell.execute_reply": "2023-02-23T06:33:08.718093Z",
     "shell.execute_reply.started": "2023-02-23T06:33:06.665625Z"
    },
    "id": "ahIphgrvHD9d"
   },
   "outputs": [
    {
     "name": "stdout",
     "output_type": "stream",
     "text": [
      "RMSE of Linear Regressor on train :  274.4271881698828\n",
      "RMSE of Linear Regressor on test :  275.75809295975785\n"
     ]
    }
   ],
   "source": [
    "# linear regression\n",
    "from sklearn.metrics import mean_squared_error\n",
    "from sklearn.linear_model import LinearRegression\n",
    "reg = LinearRegression()\n",
    "reg.fit(X_train, y_train)\n",
    "train_pred =reg.predict(X_train)\n",
    "test_pred = reg.predict(X_test)\n",
    "lr_train_pred = np.sqrt(mean_squared_error(y_train, train_pred))\n",
    "lr_test_pred = np.sqrt(mean_squared_error(y_test, test_pred))\n",
    "print('RMSE of Linear Regressor on train : ',lr_train_pred)\n",
    "print('RMSE of Linear Regressor on test : ',lr_test_pred)"
   ]
  },
  {
   "cell_type": "markdown",
   "metadata": {},
   "source": [
    "## Conclusion"
   ]
  },
  {
   "cell_type": "markdown",
   "metadata": {},
   "source": [
    "<div class=\"alert alert-block alert-info\"><b> \n",
    "   Linear regressor gave the best results\n",
    "</b></div> "
   ]
  },
  {
   "cell_type": "markdown",
   "metadata": {},
   "source": [
    "## Lets work on test data"
   ]
  },
  {
   "cell_type": "code",
   "execution_count": 23,
   "metadata": {
    "execution": {
     "iopub.execute_input": "2023-02-23T06:33:08.724555Z",
     "iopub.status.busy": "2023-02-23T06:33:08.724087Z",
     "iopub.status.idle": "2023-02-23T06:33:10.804653Z",
     "shell.execute_reply": "2023-02-23T06:33:10.803429Z",
     "shell.execute_reply.started": "2023-02-23T06:33:08.724509Z"
    }
   },
   "outputs": [],
   "source": [
    "test_w.deidentified_location = label.fit_transform(test_w.deidentified_location)\n",
    "test_w.farming_company = label.fit_transform(test_w.farming_company)"
   ]
  },
  {
   "cell_type": "code",
   "execution_count": 24,
   "metadata": {
    "execution": {
     "iopub.execute_input": "2023-02-23T06:33:10.806749Z",
     "iopub.status.busy": "2023-02-23T06:33:10.806371Z",
     "iopub.status.idle": "2023-02-23T06:33:11.381761Z",
     "shell.execute_reply": "2023-02-23T06:33:11.380320Z",
     "shell.execute_reply.started": "2023-02-23T06:33:10.806704Z"
    }
   },
   "outputs": [],
   "source": [
    "# converting categorical to numerical\n",
    "test_w = pd.get_dummies(test_w, columns=['ingredient_type','operations_commencing_year'],drop_first=True)"
   ]
  },
  {
   "cell_type": "code",
   "execution_count": 25,
   "metadata": {
    "execution": {
     "iopub.execute_input": "2023-02-23T06:33:11.383800Z",
     "iopub.status.busy": "2023-02-23T06:33:11.383424Z",
     "iopub.status.idle": "2023-02-23T06:33:12.259762Z",
     "shell.execute_reply": "2023-02-23T06:33:12.258691Z",
     "shell.execute_reply.started": "2023-02-23T06:33:11.383765Z"
    }
   },
   "outputs": [],
   "source": [
    "# scale on test\n",
    "test_w[num_cols] = scaler.transform(test_w[num_cols])"
   ]
  },
  {
   "cell_type": "code",
   "execution_count": 26,
   "metadata": {
    "execution": {
     "iopub.execute_input": "2023-02-23T06:33:12.262371Z",
     "iopub.status.busy": "2023-02-23T06:33:12.261555Z",
     "iopub.status.idle": "2023-02-23T06:33:12.592581Z",
     "shell.execute_reply": "2023-02-23T06:33:12.591407Z",
     "shell.execute_reply.started": "2023-02-23T06:33:12.262322Z"
    }
   },
   "outputs": [],
   "source": [
    "# selecting remaing columns except id column\n",
    "fin = test_w.loc[:, test_w.columns != 'id']"
   ]
  },
  {
   "cell_type": "code",
   "execution_count": 27,
   "metadata": {
    "execution": {
     "iopub.execute_input": "2023-02-23T06:33:12.594723Z",
     "iopub.status.busy": "2023-02-23T06:33:12.594262Z",
     "iopub.status.idle": "2023-02-23T06:33:12.605600Z",
     "shell.execute_reply": "2023-02-23T06:33:12.604436Z",
     "shell.execute_reply.started": "2023-02-23T06:33:12.594682Z"
    }
   },
   "outputs": [
    {
     "data": {
      "text/plain": [
       "(4199795, 15)"
      ]
     },
     "execution_count": 27,
     "metadata": {},
     "output_type": "execute_result"
    }
   ],
   "source": [
    "# checking the final test dataset dimensions\n",
    "fin.shape"
   ]
  },
  {
   "cell_type": "code",
   "execution_count": 28,
   "metadata": {
    "execution": {
     "iopub.execute_input": "2023-02-23T06:33:12.611576Z",
     "iopub.status.busy": "2023-02-23T06:33:12.611124Z",
     "iopub.status.idle": "2023-02-23T06:33:12.621807Z",
     "shell.execute_reply": "2023-02-23T06:33:12.620793Z",
     "shell.execute_reply.started": "2023-02-23T06:33:12.611541Z"
    }
   },
   "outputs": [
    {
     "data": {
      "text/plain": [
       "num_processing_plants             float64\n",
       "farm_area                         float64\n",
       "farming_company                     int64\n",
       "deidentified_location               int64\n",
       "temp_obs                          float64\n",
       "cloudiness                        float64\n",
       "wind_direction                    float64\n",
       "pressure_sea_level                float64\n",
       "precipitation                     float64\n",
       "wind_speed                        float64\n",
       "month                               int64\n",
       "day                                 int64\n",
       "hour                                int64\n",
       "operations_commencing_year_new      uint8\n",
       "operations_commencing_year_old      uint8\n",
       "dtype: object"
      ]
     },
     "execution_count": 28,
     "metadata": {},
     "output_type": "execute_result"
    }
   ],
   "source": [
    "fin.dtypes"
   ]
  },
  {
   "cell_type": "markdown",
   "metadata": {},
   "source": [
    "# Predictions"
   ]
  },
  {
   "cell_type": "code",
   "execution_count": 29,
   "metadata": {
    "execution": {
     "iopub.execute_input": "2023-02-23T06:33:12.623830Z",
     "iopub.status.busy": "2023-02-23T06:33:12.623378Z",
     "iopub.status.idle": "2023-02-23T06:33:12.898033Z",
     "shell.execute_reply": "2023-02-23T06:33:12.896401Z",
     "shell.execute_reply.started": "2023-02-23T06:33:12.623796Z"
    },
    "id": "n-bjuqXCUQJC"
   },
   "outputs": [],
   "source": [
    "# predicting the test data with best model\n",
    "test_pred = reg.predict(fin)"
   ]
  },
  {
   "cell_type": "code",
   "execution_count": 30,
   "metadata": {
    "execution": {
     "iopub.execute_input": "2023-02-23T06:33:12.901200Z",
     "iopub.status.busy": "2023-02-23T06:33:12.900594Z",
     "iopub.status.idle": "2023-02-23T06:33:12.950984Z",
     "shell.execute_reply": "2023-02-23T06:33:12.949099Z",
     "shell.execute_reply.started": "2023-02-23T06:33:12.901143Z"
    },
    "id": "vHbo7cNaUfKL"
   },
   "outputs": [],
   "source": [
    "# creating a dataframe with id column and yield column\n",
    "sub  = pd.DataFrame({'id': tes.id, 'yield': test_pred})"
   ]
  },
  {
   "cell_type": "code",
   "execution_count": 31,
   "metadata": {
    "execution": {
     "iopub.execute_input": "2023-02-23T06:33:12.954587Z",
     "iopub.status.busy": "2023-02-23T06:33:12.953463Z",
     "iopub.status.idle": "2023-02-23T06:33:12.964638Z",
     "shell.execute_reply": "2023-02-23T06:33:12.963208Z",
     "shell.execute_reply.started": "2023-02-23T06:33:12.954521Z"
    }
   },
   "outputs": [
    {
     "data": {
      "text/plain": [
       "(4199795, 2)"
      ]
     },
     "execution_count": 31,
     "metadata": {},
     "output_type": "execute_result"
    }
   ],
   "source": [
    "# checking the shape of the final dataframe \n",
    "sub.shape"
   ]
  },
  {
   "cell_type": "code",
   "execution_count": 32,
   "metadata": {
    "execution": {
     "iopub.execute_input": "2023-02-23T06:33:12.967661Z",
     "iopub.status.busy": "2023-02-23T06:33:12.966755Z",
     "iopub.status.idle": "2023-02-23T06:33:12.988264Z",
     "shell.execute_reply": "2023-02-23T06:33:12.986718Z",
     "shell.execute_reply.started": "2023-02-23T06:33:12.967596Z"
    }
   },
   "outputs": [
    {
     "data": {
      "text/html": [
       "<div>\n",
       "<style scoped>\n",
       "    .dataframe tbody tr th:only-of-type {\n",
       "        vertical-align: middle;\n",
       "    }\n",
       "\n",
       "    .dataframe tbody tr th {\n",
       "        vertical-align: top;\n",
       "    }\n",
       "\n",
       "    .dataframe thead th {\n",
       "        text-align: right;\n",
       "    }\n",
       "</style>\n",
       "<table border=\"1\" class=\"dataframe\">\n",
       "  <thead>\n",
       "    <tr style=\"text-align: right;\">\n",
       "      <th></th>\n",
       "      <th>id</th>\n",
       "      <th>yield</th>\n",
       "    </tr>\n",
       "  </thead>\n",
       "  <tbody>\n",
       "    <tr>\n",
       "      <th>0</th>\n",
       "      <td>0</td>\n",
       "      <td>67.705353</td>\n",
       "    </tr>\n",
       "    <tr>\n",
       "      <th>1</th>\n",
       "      <td>1</td>\n",
       "      <td>62.482558</td>\n",
       "    </tr>\n",
       "    <tr>\n",
       "      <th>2</th>\n",
       "      <td>2</td>\n",
       "      <td>42.245791</td>\n",
       "    </tr>\n",
       "    <tr>\n",
       "      <th>3</th>\n",
       "      <td>3</td>\n",
       "      <td>62.539542</td>\n",
       "    </tr>\n",
       "    <tr>\n",
       "      <th>4</th>\n",
       "      <td>4</td>\n",
       "      <td>165.534569</td>\n",
       "    </tr>\n",
       "  </tbody>\n",
       "</table>\n",
       "</div>"
      ],
      "text/plain": [
       "   id       yield\n",
       "0   0   67.705353\n",
       "1   1   62.482558\n",
       "2   2   42.245791\n",
       "3   3   62.539542\n",
       "4   4  165.534569"
      ]
     },
     "execution_count": 32,
     "metadata": {},
     "output_type": "execute_result"
    }
   ],
   "source": [
    "# checking the head of the dataframe\n",
    "sub.head()"
   ]
  },
  {
   "cell_type": "code",
   "execution_count": 33,
   "metadata": {
    "execution": {
     "iopub.execute_input": "2023-02-23T06:33:12.994585Z",
     "iopub.status.busy": "2023-02-23T06:33:12.990457Z",
     "iopub.status.idle": "2023-02-23T06:33:13.011319Z",
     "shell.execute_reply": "2023-02-23T06:33:13.010471Z",
     "shell.execute_reply.started": "2023-02-23T06:33:12.994515Z"
    }
   },
   "outputs": [
    {
     "data": {
      "text/html": [
       "<div>\n",
       "<style scoped>\n",
       "    .dataframe tbody tr th:only-of-type {\n",
       "        vertical-align: middle;\n",
       "    }\n",
       "\n",
       "    .dataframe tbody tr th {\n",
       "        vertical-align: top;\n",
       "    }\n",
       "\n",
       "    .dataframe thead th {\n",
       "        text-align: right;\n",
       "    }\n",
       "</style>\n",
       "<table border=\"1\" class=\"dataframe\">\n",
       "  <thead>\n",
       "    <tr style=\"text-align: right;\">\n",
       "      <th></th>\n",
       "      <th>id</th>\n",
       "      <th>yield</th>\n",
       "    </tr>\n",
       "  </thead>\n",
       "  <tbody>\n",
       "    <tr>\n",
       "      <th>6844736</th>\n",
       "      <td>28439126</td>\n",
       "      <td>123.476064</td>\n",
       "    </tr>\n",
       "    <tr>\n",
       "      <th>6844738</th>\n",
       "      <td>28439128</td>\n",
       "      <td>67.217960</td>\n",
       "    </tr>\n",
       "    <tr>\n",
       "      <th>6844739</th>\n",
       "      <td>28439129</td>\n",
       "      <td>99.693557</td>\n",
       "    </tr>\n",
       "    <tr>\n",
       "      <th>6844741</th>\n",
       "      <td>28439131</td>\n",
       "      <td>142.900828</td>\n",
       "    </tr>\n",
       "    <tr>\n",
       "      <th>6844742</th>\n",
       "      <td>28439132</td>\n",
       "      <td>223.101365</td>\n",
       "    </tr>\n",
       "  </tbody>\n",
       "</table>\n",
       "</div>"
      ],
      "text/plain": [
       "               id       yield\n",
       "6844736  28439126  123.476064\n",
       "6844738  28439128   67.217960\n",
       "6844739  28439129   99.693557\n",
       "6844741  28439131  142.900828\n",
       "6844742  28439132  223.101365"
      ]
     },
     "execution_count": 33,
     "metadata": {},
     "output_type": "execute_result"
    }
   ],
   "source": [
    "# checking the last 5 rows of the dataframe\n",
    "sub.tail()"
   ]
  },
  {
   "cell_type": "code",
   "execution_count": 34,
   "metadata": {
    "execution": {
     "iopub.execute_input": "2023-02-23T06:33:13.013575Z",
     "iopub.status.busy": "2023-02-23T06:33:13.012969Z",
     "iopub.status.idle": "2023-02-23T06:33:22.368401Z",
     "shell.execute_reply": "2023-02-23T06:33:22.367401Z",
     "shell.execute_reply.started": "2023-02-23T06:33:13.013542Z"
    },
    "id": "KiHttGD7UpH5"
   },
   "outputs": [],
   "source": [
    "# creating submission file\n",
    "sub.to_csv('submission_w1.csv', index = None)"
   ]
  },
  {
   "cell_type": "code",
   "execution_count": null,
   "metadata": {
    "id": "yLpSJvzJUxN6"
   },
   "outputs": [],
   "source": []
  },
  {
   "cell_type": "code",
   "execution_count": null,
   "metadata": {},
   "outputs": [],
   "source": []
  }
 ],
 "metadata": {
  "kernelspec": {
   "display_name": "Python 3 (ipykernel)",
   "language": "python",
   "name": "python3"
  },
  "language_info": {
   "codemirror_mode": {
    "name": "ipython",
    "version": 3
   },
   "file_extension": ".py",
   "mimetype": "text/x-python",
   "name": "python",
   "nbconvert_exporter": "python",
   "pygments_lexer": "ipython3",
   "version": "3.9.13"
  }
 },
 "nbformat": 4,
 "nbformat_minor": 4
}
