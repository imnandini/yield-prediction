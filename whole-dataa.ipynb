{
 "cells": [
  {
   "cell_type": "code",
   "execution_count": 1,
   "metadata": {
    "execution": {
     "iopub.execute_input": "2023-02-23T06:24:22.229898Z",
     "iopub.status.busy": "2023-02-23T06:24:22.229086Z",
     "iopub.status.idle": "2023-02-23T06:24:22.266237Z",
     "shell.execute_reply": "2023-02-23T06:24:22.264923Z",
     "shell.execute_reply.started": "2023-02-23T06:24:22.229801Z"
    },
    "id": "6RHtcsZ02d8t",
    "outputId": "7da4c2f5-2cba-40ac-d1da-fe32fab5684c"
   },
   "outputs": [
    {
     "name": "stdout",
     "output_type": "stream",
     "text": [
      "/kaggle/input/final-data/train_final.csv\n",
      "/kaggle/input/final-data/test_final.csv\n"
     ]
    }
   ],
   "source": [
    "#importing necessary libraries\n",
    "import pandas as pd\n",
    "import numpy as np\n",
    "import warnings                   # To ignore the warnings\n",
    "warnings.filterwarnings(\"ignore\")\n",
    "import os\n",
    "for dirname, _, filenames in os.walk('/kaggle/input'):\n",
    "    for filename in filenames:\n",
    "        print(os.path.join(dirname, filename))"
   ]
  },
  {
   "cell_type": "code",
   "execution_count": 2,
   "metadata": {
    "execution": {
     "iopub.execute_input": "2023-02-23T06:24:22.268936Z",
     "iopub.status.busy": "2023-02-23T06:24:22.268489Z",
     "iopub.status.idle": "2023-02-23T06:26:36.963057Z",
     "shell.execute_reply": "2023-02-23T06:26:36.961882Z",
     "shell.execute_reply.started": "2023-02-23T06:24:22.268900Z"
    }
   },
   "outputs": [],
   "source": [
    "# Reading the test data files\n",
    "train_final_merged = pd.read_csv('/kaggle/input/final-data/train_final.csv')\n",
    "test_final_merged = pd.read_csv('/kaggle/input/final-data/test_final.csv')"
   ]
  },
  {
   "cell_type": "code",
   "execution_count": 3,
   "metadata": {
    "execution": {
     "iopub.execute_input": "2023-02-23T06:26:36.964653Z",
     "iopub.status.busy": "2023-02-23T06:26:36.964307Z",
     "iopub.status.idle": "2023-02-23T06:26:36.997691Z",
     "shell.execute_reply": "2023-02-23T06:26:36.996390Z",
     "shell.execute_reply.started": "2023-02-23T06:26:36.964623Z"
    }
   },
   "outputs": [
    {
     "data": {
      "text/html": [
       "<div>\n",
       "<style scoped>\n",
       "    .dataframe tbody tr th:only-of-type {\n",
       "        vertical-align: middle;\n",
       "    }\n",
       "\n",
       "    .dataframe tbody tr th {\n",
       "        vertical-align: top;\n",
       "    }\n",
       "\n",
       "    .dataframe thead th {\n",
       "        text-align: right;\n",
       "    }\n",
       "</style>\n",
       "<table border=\"1\" class=\"dataframe\">\n",
       "  <thead>\n",
       "    <tr style=\"text-align: right;\">\n",
       "      <th></th>\n",
       "      <th>Unnamed: 0</th>\n",
       "      <th>farm_id</th>\n",
       "      <th>ingredient_type</th>\n",
       "      <th>id</th>\n",
       "      <th>operations_commencing_year</th>\n",
       "      <th>num_processing_plants</th>\n",
       "      <th>farm_area</th>\n",
       "      <th>farming_company</th>\n",
       "      <th>deidentified_location</th>\n",
       "      <th>temp_obs</th>\n",
       "      <th>cloudiness</th>\n",
       "      <th>wind_direction</th>\n",
       "      <th>pressure_sea_level</th>\n",
       "      <th>precipitation</th>\n",
       "      <th>wind_speed</th>\n",
       "      <th>month</th>\n",
       "      <th>day</th>\n",
       "      <th>hour</th>\n",
       "    </tr>\n",
       "  </thead>\n",
       "  <tbody>\n",
       "    <tr>\n",
       "      <th>0</th>\n",
       "      <td>0</td>\n",
       "      <td>fid_110884</td>\n",
       "      <td>ing_w</td>\n",
       "      <td>0</td>\n",
       "      <td>new</td>\n",
       "      <td>7</td>\n",
       "      <td>690.455096</td>\n",
       "      <td>Obery Farms</td>\n",
       "      <td>location 7369</td>\n",
       "      <td>17.8</td>\n",
       "      <td>4.0</td>\n",
       "      <td>100.0</td>\n",
       "      <td>1021.4</td>\n",
       "      <td>0.0</td>\n",
       "      <td>3.6</td>\n",
       "      <td>1</td>\n",
       "      <td>1</td>\n",
       "      <td>0</td>\n",
       "    </tr>\n",
       "    <tr>\n",
       "      <th>1</th>\n",
       "      <td>1</td>\n",
       "      <td>fid_90053</td>\n",
       "      <td>ing_w</td>\n",
       "      <td>1</td>\n",
       "      <td>new</td>\n",
       "      <td>7</td>\n",
       "      <td>252.696160</td>\n",
       "      <td>Obery Farms</td>\n",
       "      <td>location 7369</td>\n",
       "      <td>17.8</td>\n",
       "      <td>4.0</td>\n",
       "      <td>100.0</td>\n",
       "      <td>1021.4</td>\n",
       "      <td>0.0</td>\n",
       "      <td>3.6</td>\n",
       "      <td>1</td>\n",
       "      <td>1</td>\n",
       "      <td>0</td>\n",
       "    </tr>\n",
       "    <tr>\n",
       "      <th>2</th>\n",
       "      <td>2</td>\n",
       "      <td>fid_17537</td>\n",
       "      <td>ing_w</td>\n",
       "      <td>2</td>\n",
       "      <td>moderate</td>\n",
       "      <td>7</td>\n",
       "      <td>499.446528</td>\n",
       "      <td>Obery Farms</td>\n",
       "      <td>location 7369</td>\n",
       "      <td>17.8</td>\n",
       "      <td>4.0</td>\n",
       "      <td>100.0</td>\n",
       "      <td>1021.4</td>\n",
       "      <td>0.0</td>\n",
       "      <td>3.6</td>\n",
       "      <td>1</td>\n",
       "      <td>1</td>\n",
       "      <td>0</td>\n",
       "    </tr>\n",
       "    <tr>\n",
       "      <th>3</th>\n",
       "      <td>3</td>\n",
       "      <td>fid_110392</td>\n",
       "      <td>ing_w</td>\n",
       "      <td>3</td>\n",
       "      <td>moderate</td>\n",
       "      <td>7</td>\n",
       "      <td>2200.407555</td>\n",
       "      <td>Obery Farms</td>\n",
       "      <td>location 7369</td>\n",
       "      <td>17.8</td>\n",
       "      <td>4.0</td>\n",
       "      <td>100.0</td>\n",
       "      <td>1021.4</td>\n",
       "      <td>0.0</td>\n",
       "      <td>3.6</td>\n",
       "      <td>1</td>\n",
       "      <td>1</td>\n",
       "      <td>0</td>\n",
       "    </tr>\n",
       "    <tr>\n",
       "      <th>4</th>\n",
       "      <td>4</td>\n",
       "      <td>fid_62402</td>\n",
       "      <td>ing_w</td>\n",
       "      <td>4</td>\n",
       "      <td>moderate</td>\n",
       "      <td>7</td>\n",
       "      <td>10833.140121</td>\n",
       "      <td>Obery Farms</td>\n",
       "      <td>location 7369</td>\n",
       "      <td>17.8</td>\n",
       "      <td>4.0</td>\n",
       "      <td>100.0</td>\n",
       "      <td>1021.4</td>\n",
       "      <td>0.0</td>\n",
       "      <td>3.6</td>\n",
       "      <td>1</td>\n",
       "      <td>1</td>\n",
       "      <td>0</td>\n",
       "    </tr>\n",
       "  </tbody>\n",
       "</table>\n",
       "</div>"
      ],
      "text/plain": [
       "   Unnamed: 0     farm_id ingredient_type  id operations_commencing_year  \\\n",
       "0           0  fid_110884           ing_w   0                        new   \n",
       "1           1   fid_90053           ing_w   1                        new   \n",
       "2           2   fid_17537           ing_w   2                   moderate   \n",
       "3           3  fid_110392           ing_w   3                   moderate   \n",
       "4           4   fid_62402           ing_w   4                   moderate   \n",
       "\n",
       "   num_processing_plants     farm_area farming_company deidentified_location  \\\n",
       "0                      7    690.455096     Obery Farms         location 7369   \n",
       "1                      7    252.696160     Obery Farms         location 7369   \n",
       "2                      7    499.446528     Obery Farms         location 7369   \n",
       "3                      7   2200.407555     Obery Farms         location 7369   \n",
       "4                      7  10833.140121     Obery Farms         location 7369   \n",
       "\n",
       "   temp_obs  cloudiness  wind_direction  pressure_sea_level  precipitation  \\\n",
       "0      17.8         4.0           100.0              1021.4            0.0   \n",
       "1      17.8         4.0           100.0              1021.4            0.0   \n",
       "2      17.8         4.0           100.0              1021.4            0.0   \n",
       "3      17.8         4.0           100.0              1021.4            0.0   \n",
       "4      17.8         4.0           100.0              1021.4            0.0   \n",
       "\n",
       "   wind_speed  month  day  hour  \n",
       "0         3.6      1    1     0  \n",
       "1         3.6      1    1     0  \n",
       "2         3.6      1    1     0  \n",
       "3         3.6      1    1     0  \n",
       "4         3.6      1    1     0  "
      ]
     },
     "execution_count": 3,
     "metadata": {},
     "output_type": "execute_result"
    }
   ],
   "source": [
    "# checking the final merged test dataset\n",
    "test_final_merged.head()"
   ]
  },
  {
   "cell_type": "code",
   "execution_count": 4,
   "metadata": {
    "execution": {
     "iopub.execute_input": "2023-02-23T06:26:37.000163Z",
     "iopub.status.busy": "2023-02-23T06:26:36.999088Z",
     "iopub.status.idle": "2023-02-23T06:26:37.009143Z",
     "shell.execute_reply": "2023-02-23T06:26:37.007855Z",
     "shell.execute_reply.started": "2023-02-23T06:26:37.000124Z"
    },
    "id": "PJprf6qGBEZa"
   },
   "outputs": [
    {
     "data": {
      "text/plain": [
       "Unnamed: 0                      int64\n",
       "farm_id                        object\n",
       "ingredient_type                object\n",
       "yield                         float64\n",
       "operations_commencing_year     object\n",
       "num_processing_plants           int64\n",
       "farm_area                     float64\n",
       "farming_company                object\n",
       "deidentified_location          object\n",
       "temp_obs                      float64\n",
       "cloudiness                    float64\n",
       "wind_direction                float64\n",
       "pressure_sea_level            float64\n",
       "precipitation                 float64\n",
       "wind_speed                    float64\n",
       "month                           int64\n",
       "day                             int64\n",
       "hour                            int64\n",
       "dtype: object"
      ]
     },
     "execution_count": 4,
     "metadata": {},
     "output_type": "execute_result"
    }
   ],
   "source": [
    "# checking the  data types of final merged tarin dataset\n",
    "train_final_merged.dtypes"
   ]
  },
  {
   "cell_type": "markdown",
   "metadata": {},
   "source": [
    "* farm_id is unique just like my id. my performance is measured based on my skills on based on my id right! same here the prediction of yield is depend on loaction and weather condtions on id. so let's drop it"
   ]
  },
  {
   "cell_type": "code",
   "execution_count": 5,
   "metadata": {
    "execution": {
     "iopub.execute_input": "2023-02-23T06:26:37.012955Z",
     "iopub.status.busy": "2023-02-23T06:26:37.012539Z",
     "iopub.status.idle": "2023-02-23T06:26:41.851899Z",
     "shell.execute_reply": "2023-02-23T06:26:41.850742Z",
     "shell.execute_reply.started": "2023-02-23T06:26:37.012916Z"
    }
   },
   "outputs": [],
   "source": [
    "# dropping the farm_id and num_processing pants from test and train datasets\n",
    "train_final_merged.drop(['farm_id','Unnamed: 0'], axis=1, inplace=True)\n",
    "test_final_merged.drop(['farm_id','Unnamed: 0'], axis=1, inplace=True)"
   ]
  },
  {
   "cell_type": "code",
   "execution_count": 6,
   "metadata": {
    "execution": {
     "iopub.execute_input": "2023-02-23T06:26:41.854219Z",
     "iopub.status.busy": "2023-02-23T06:26:41.853572Z",
     "iopub.status.idle": "2023-02-23T06:26:41.861275Z",
     "shell.execute_reply": "2023-02-23T06:26:41.859897Z",
     "shell.execute_reply.started": "2023-02-23T06:26:41.854184Z"
    }
   },
   "outputs": [
    {
     "data": {
      "text/plain": [
       "['ingredient_type',\n",
       " 'deidentified_location',\n",
       " 'operations_commencing_year',\n",
       " 'farming_company']"
      ]
     },
     "execution_count": 6,
     "metadata": {},
     "output_type": "execute_result"
    }
   ],
   "source": [
    "# assigning object columns in category columns\n",
    "cat_cols=['ingredient_type','deidentified_location',\n",
    "          'operations_commencing_year','farming_company']\n",
    "cat_cols"
   ]
  },
  {
   "cell_type": "code",
   "execution_count": 7,
   "metadata": {
    "execution": {
     "iopub.execute_input": "2023-02-23T06:26:41.863523Z",
     "iopub.status.busy": "2023-02-23T06:26:41.863184Z",
     "iopub.status.idle": "2023-02-23T06:27:05.542667Z",
     "shell.execute_reply": "2023-02-23T06:27:05.540917Z",
     "shell.execute_reply.started": "2023-02-23T06:26:41.863479Z"
    }
   },
   "outputs": [],
   "source": [
    "# converting object columns to category columns\n",
    "train_final_merged[cat_cols] = train_final_merged[cat_cols].astype(\"category\")\n",
    "test_final_merged[cat_cols] = test_final_merged[cat_cols].astype(\"category\")"
   ]
  },
  {
   "cell_type": "code",
   "execution_count": 8,
   "metadata": {
    "execution": {
     "iopub.execute_input": "2023-02-23T06:27:05.545433Z",
     "iopub.status.busy": "2023-02-23T06:27:05.545009Z",
     "iopub.status.idle": "2023-02-23T06:27:05.675751Z",
     "shell.execute_reply": "2023-02-23T06:27:05.674582Z",
     "shell.execute_reply.started": "2023-02-23T06:27:05.545392Z"
    }
   },
   "outputs": [
    {
     "data": {
      "text/plain": [
       "new         13672001\n",
       "old          4403341\n",
       "moderate     2436190\n",
       "Name: operations_commencing_year, dtype: int64"
      ]
     },
     "execution_count": 8,
     "metadata": {},
     "output_type": "execute_result"
    }
   ],
   "source": [
    "# checking value counts operations_commencing_year of in train data\n",
    "train_final_merged.operations_commencing_year.value_counts()"
   ]
  },
  {
   "cell_type": "code",
   "execution_count": 9,
   "metadata": {
    "execution": {
     "iopub.execute_input": "2023-02-23T06:27:05.677869Z",
     "iopub.status.busy": "2023-02-23T06:27:05.677463Z",
     "iopub.status.idle": "2023-02-23T06:27:05.802773Z",
     "shell.execute_reply": "2023-02-23T06:27:05.801313Z",
     "shell.execute_reply.started": "2023-02-23T06:27:05.677835Z"
    }
   },
   "outputs": [
    {
     "data": {
      "text/plain": [
       "new         13929055\n",
       "old          4662664\n",
       "moderate     2563078\n",
       "Name: operations_commencing_year, dtype: int64"
      ]
     },
     "execution_count": 9,
     "metadata": {},
     "output_type": "execute_result"
    }
   ],
   "source": [
    "# checking value counts operations_commencing_year of in train data\n",
    "test_final_merged.operations_commencing_year.value_counts()"
   ]
  },
  {
   "cell_type": "code",
   "execution_count": 10,
   "metadata": {
    "execution": {
     "iopub.execute_input": "2023-02-23T06:27:05.805054Z",
     "iopub.status.busy": "2023-02-23T06:27:05.804219Z",
     "iopub.status.idle": "2023-02-23T06:27:05.931182Z",
     "shell.execute_reply": "2023-02-23T06:27:05.929657Z",
     "shell.execute_reply.started": "2023-02-23T06:27:05.805012Z"
    }
   },
   "outputs": [
    {
     "data": {
      "text/plain": [
       "location 2532    2790470\n",
       "location 8421    2703006\n",
       "location 5489    2580537\n",
       "location 5410    2525792\n",
       "location 5290    2439148\n",
       "location 5150    1760872\n",
       "location 7369    1085446\n",
       "location 6364     819743\n",
       "location 5833     799257\n",
       "location 565      667989\n",
       "location 5677     575401\n",
       "location 959      552034\n",
       "location 1784     411313\n",
       "location 4525     359642\n",
       "location 7048     323623\n",
       "location 868      117259\n",
       "Name: deidentified_location, dtype: int64"
      ]
     },
     "execution_count": 10,
     "metadata": {},
     "output_type": "execute_result"
    }
   ],
   "source": [
    "# checking value counts of locations in train data\n",
    "train_final_merged.deidentified_location.value_counts()"
   ]
  },
  {
   "cell_type": "code",
   "execution_count": 11,
   "metadata": {
    "execution": {
     "iopub.execute_input": "2023-02-23T06:27:05.933143Z",
     "iopub.status.busy": "2023-02-23T06:27:05.932822Z",
     "iopub.status.idle": "2023-02-23T06:27:06.056678Z",
     "shell.execute_reply": "2023-02-23T06:27:06.055530Z",
     "shell.execute_reply.started": "2023-02-23T06:27:05.933113Z"
    }
   },
   "outputs": [
    {
     "data": {
      "text/plain": [
       "location 2532    2785362\n",
       "location 8421    2703441\n",
       "location 5489    2584200\n",
       "location 5410    2548869\n",
       "location 5290    2478797\n",
       "location 5150    2147040\n",
       "location 7369    1138800\n",
       "location 5833     849623\n",
       "location 6364     822030\n",
       "location 565      700560\n",
       "location 5677     621960\n",
       "location 959      551439\n",
       "location 1784     437150\n",
       "location 4525     346332\n",
       "location 7048     323750\n",
       "location 868      115444\n",
       "Name: deidentified_location, dtype: int64"
      ]
     },
     "execution_count": 11,
     "metadata": {},
     "output_type": "execute_result"
    }
   ],
   "source": [
    "# checking value counts of locations in test data\n",
    "test_final_merged.deidentified_location.value_counts()"
   ]
  },
  {
   "cell_type": "markdown",
   "metadata": {
    "id": "7mBmvpMgHIM3"
   },
   "source": [
    "# Model Building and Predictions"
   ]
  },
  {
   "cell_type": "code",
   "execution_count": 12,
   "metadata": {
    "execution": {
     "iopub.execute_input": "2023-02-23T06:27:06.058562Z",
     "iopub.status.busy": "2023-02-23T06:27:06.058216Z",
     "iopub.status.idle": "2023-02-23T06:27:08.380545Z",
     "shell.execute_reply": "2023-02-23T06:27:08.379122Z",
     "shell.execute_reply.started": "2023-02-23T06:27:06.058533Z"
    }
   },
   "outputs": [],
   "source": [
    "# deviding the data into x and y\n",
    "from sklearn.model_selection import train_test_split\n",
    "X = train_final_merged.drop(['yield'] , axis = 1)\n",
    "y = train_final_merged['yield']"
   ]
  },
  {
   "cell_type": "code",
   "execution_count": 13,
   "metadata": {
    "execution": {
     "iopub.execute_input": "2023-02-23T06:27:08.383052Z",
     "iopub.status.busy": "2023-02-23T06:27:08.382528Z",
     "iopub.status.idle": "2023-02-23T06:27:16.742548Z",
     "shell.execute_reply": "2023-02-23T06:27:16.741284Z",
     "shell.execute_reply.started": "2023-02-23T06:27:08.383015Z"
    }
   },
   "outputs": [],
   "source": [
    "# splitting the data into train and test in the ration of 70% & 30%\n",
    "X_train, X_test, y_train, y_test =   train_test_split(X, y, test_size=0.30,random_state = 123)"
   ]
  },
  {
   "cell_type": "code",
   "execution_count": 14,
   "metadata": {
    "execution": {
     "iopub.execute_input": "2023-02-23T06:27:16.748918Z",
     "iopub.status.busy": "2023-02-23T06:27:16.748463Z",
     "iopub.status.idle": "2023-02-23T06:27:16.756011Z",
     "shell.execute_reply": "2023-02-23T06:27:16.754588Z",
     "shell.execute_reply.started": "2023-02-23T06:27:16.748882Z"
    },
    "id": "PuVWV8_jHD6i"
   },
   "outputs": [
    {
     "name": "stdout",
     "output_type": "stream",
     "text": [
      "(14358072, 15) (6153460, 15)\n",
      "(14358072,) (6153460,)\n"
     ]
    }
   ],
   "source": [
    "# checking the shapes\n",
    "print(X_train.shape, X_test.shape)\n",
    "print(y_train.shape, y_test.shape)"
   ]
  },
  {
   "cell_type": "markdown",
   "metadata": {},
   "source": [
    "<div class=\"alert alert-block alert-info\"><b> \n",
    "  Dummifing categorical features into numerical using get dummies\n",
    "</b></div> "
   ]
  },
  {
   "cell_type": "code",
   "execution_count": 15,
   "metadata": {
    "execution": {
     "iopub.execute_input": "2023-02-23T06:27:16.758376Z",
     "iopub.status.busy": "2023-02-23T06:27:16.758014Z",
     "iopub.status.idle": "2023-02-23T06:27:27.494776Z",
     "shell.execute_reply": "2023-02-23T06:27:27.493543Z",
     "shell.execute_reply.started": "2023-02-23T06:27:16.758343Z"
    }
   },
   "outputs": [],
   "source": [
    "from sklearn.preprocessing import LabelEncoder\n",
    "label = LabelEncoder()\n",
    "X_train.deidentified_location = label.fit_transform(X_train.deidentified_location)\n",
    "X_test.deidentified_location = label.transform(X_test.deidentified_location)\n",
    "X_train.farming_company = label.fit_transform(X_train.farming_company)\n",
    "X_test.farming_company = label.transform(X_test.farming_company)"
   ]
  },
  {
   "cell_type": "code",
   "execution_count": 16,
   "metadata": {
    "execution": {
     "iopub.execute_input": "2023-02-23T06:27:27.496850Z",
     "iopub.status.busy": "2023-02-23T06:27:27.496420Z",
     "iopub.status.idle": "2023-02-23T06:27:31.522243Z",
     "shell.execute_reply": "2023-02-23T06:27:31.521041Z",
     "shell.execute_reply.started": "2023-02-23T06:27:27.496816Z"
    }
   },
   "outputs": [],
   "source": [
    "## Convert Categorical Columns to numerical\n",
    "X_train = pd.get_dummies(X_train, columns=['ingredient_type','operations_commencing_year'],drop_first=True)\n",
    "\n",
    "X_test = pd.get_dummies(X_test, columns=['ingredient_type','operations_commencing_year'],drop_first=True)"
   ]
  },
  {
   "cell_type": "code",
   "execution_count": 17,
   "metadata": {
    "execution": {
     "iopub.execute_input": "2023-02-23T06:27:31.524049Z",
     "iopub.status.busy": "2023-02-23T06:27:31.523635Z",
     "iopub.status.idle": "2023-02-23T06:27:36.135062Z",
     "shell.execute_reply": "2023-02-23T06:27:36.133674Z",
     "shell.execute_reply.started": "2023-02-23T06:27:31.524020Z"
    }
   },
   "outputs": [],
   "source": [
    "# scaling the data\n",
    "from sklearn.preprocessing import MinMaxScaler\n",
    "scaler = MinMaxScaler()\n",
    "num_cols = [\"farm_area\", \"wind_speed\", \"precipitation\", \"temp_obs\",\n",
    "            \"pressure_sea_level\",\"wind_direction\",'num_processing_plants']\n",
    "\n",
    "# scale on train\n",
    "X_train[num_cols] =scaler.fit_transform(X_train[num_cols])\n",
    "\n",
    "# scale on test\n",
    "X_test[num_cols] = scaler.transform(X_test[num_cols])"
   ]
  },
  {
   "cell_type": "code",
   "execution_count": 18,
   "metadata": {
    "execution": {
     "iopub.execute_input": "2023-02-23T06:27:36.136718Z",
     "iopub.status.busy": "2023-02-23T06:27:36.136377Z",
     "iopub.status.idle": "2023-02-23T06:27:36.162029Z",
     "shell.execute_reply": "2023-02-23T06:27:36.160449Z",
     "shell.execute_reply.started": "2023-02-23T06:27:36.136689Z"
    }
   },
   "outputs": [
    {
     "data": {
      "text/html": [
       "<div>\n",
       "<style scoped>\n",
       "    .dataframe tbody tr th:only-of-type {\n",
       "        vertical-align: middle;\n",
       "    }\n",
       "\n",
       "    .dataframe tbody tr th {\n",
       "        vertical-align: top;\n",
       "    }\n",
       "\n",
       "    .dataframe thead th {\n",
       "        text-align: right;\n",
       "    }\n",
       "</style>\n",
       "<table border=\"1\" class=\"dataframe\">\n",
       "  <thead>\n",
       "    <tr style=\"text-align: right;\">\n",
       "      <th></th>\n",
       "      <th>num_processing_plants</th>\n",
       "      <th>farm_area</th>\n",
       "      <th>farming_company</th>\n",
       "      <th>deidentified_location</th>\n",
       "      <th>temp_obs</th>\n",
       "      <th>cloudiness</th>\n",
       "      <th>wind_direction</th>\n",
       "      <th>pressure_sea_level</th>\n",
       "      <th>precipitation</th>\n",
       "      <th>wind_speed</th>\n",
       "      <th>month</th>\n",
       "      <th>day</th>\n",
       "      <th>hour</th>\n",
       "      <th>ingredient_type_ing_x</th>\n",
       "      <th>ingredient_type_ing_y</th>\n",
       "      <th>ingredient_type_ing_z</th>\n",
       "      <th>operations_commencing_year_new</th>\n",
       "      <th>operations_commencing_year_old</th>\n",
       "    </tr>\n",
       "  </thead>\n",
       "  <tbody>\n",
       "    <tr>\n",
       "      <th>2022715</th>\n",
       "      <td>0.32</td>\n",
       "      <td>0.064231</td>\n",
       "      <td>1</td>\n",
       "      <td>15</td>\n",
       "      <td>0.461235</td>\n",
       "      <td>2.0</td>\n",
       "      <td>0.111111</td>\n",
       "      <td>0.746442</td>\n",
       "      <td>0.002907</td>\n",
       "      <td>0.189474</td>\n",
       "      <td>3</td>\n",
       "      <td>19</td>\n",
       "      <td>4</td>\n",
       "      <td>0</td>\n",
       "      <td>0</td>\n",
       "      <td>0</td>\n",
       "      <td>0</td>\n",
       "      <td>1</td>\n",
       "    </tr>\n",
       "    <tr>\n",
       "      <th>16368260</th>\n",
       "      <td>0.08</td>\n",
       "      <td>0.104000</td>\n",
       "      <td>8</td>\n",
       "      <td>13</td>\n",
       "      <td>0.862024</td>\n",
       "      <td>0.0</td>\n",
       "      <td>0.527778</td>\n",
       "      <td>0.556274</td>\n",
       "      <td>0.002907</td>\n",
       "      <td>0.163158</td>\n",
       "      <td>8</td>\n",
       "      <td>6</td>\n",
       "      <td>23</td>\n",
       "      <td>1</td>\n",
       "      <td>0</td>\n",
       "      <td>0</td>\n",
       "      <td>1</td>\n",
       "      <td>0</td>\n",
       "    </tr>\n",
       "    <tr>\n",
       "      <th>1227778</th>\n",
       "      <td>0.04</td>\n",
       "      <td>0.053723</td>\n",
       "      <td>11</td>\n",
       "      <td>10</td>\n",
       "      <td>0.471748</td>\n",
       "      <td>2.0</td>\n",
       "      <td>0.027778</td>\n",
       "      <td>0.623545</td>\n",
       "      <td>0.002907</td>\n",
       "      <td>0.300000</td>\n",
       "      <td>3</td>\n",
       "      <td>5</td>\n",
       "      <td>11</td>\n",
       "      <td>0</td>\n",
       "      <td>0</td>\n",
       "      <td>0</td>\n",
       "      <td>0</td>\n",
       "      <td>0</td>\n",
       "    </tr>\n",
       "    <tr>\n",
       "      <th>2440463</th>\n",
       "      <td>0.28</td>\n",
       "      <td>0.039066</td>\n",
       "      <td>14</td>\n",
       "      <td>15</td>\n",
       "      <td>0.441524</td>\n",
       "      <td>2.0</td>\n",
       "      <td>0.444444</td>\n",
       "      <td>0.661061</td>\n",
       "      <td>0.002907</td>\n",
       "      <td>0.189474</td>\n",
       "      <td>12</td>\n",
       "      <td>20</td>\n",
       "      <td>21</td>\n",
       "      <td>0</td>\n",
       "      <td>0</td>\n",
       "      <td>0</td>\n",
       "      <td>0</td>\n",
       "      <td>1</td>\n",
       "    </tr>\n",
       "    <tr>\n",
       "      <th>16311547</th>\n",
       "      <td>0.08</td>\n",
       "      <td>0.644207</td>\n",
       "      <td>11</td>\n",
       "      <td>13</td>\n",
       "      <td>0.722733</td>\n",
       "      <td>0.0</td>\n",
       "      <td>0.527778</td>\n",
       "      <td>0.614489</td>\n",
       "      <td>0.002907</td>\n",
       "      <td>0.078947</td>\n",
       "      <td>7</td>\n",
       "      <td>30</td>\n",
       "      <td>7</td>\n",
       "      <td>1</td>\n",
       "      <td>0</td>\n",
       "      <td>0</td>\n",
       "      <td>1</td>\n",
       "      <td>0</td>\n",
       "    </tr>\n",
       "  </tbody>\n",
       "</table>\n",
       "</div>"
      ],
      "text/plain": [
       "          num_processing_plants  farm_area  farming_company  \\\n",
       "2022715                    0.32   0.064231                1   \n",
       "16368260                   0.08   0.104000                8   \n",
       "1227778                    0.04   0.053723               11   \n",
       "2440463                    0.28   0.039066               14   \n",
       "16311547                   0.08   0.644207               11   \n",
       "\n",
       "          deidentified_location  temp_obs  cloudiness  wind_direction  \\\n",
       "2022715                      15  0.461235         2.0        0.111111   \n",
       "16368260                     13  0.862024         0.0        0.527778   \n",
       "1227778                      10  0.471748         2.0        0.027778   \n",
       "2440463                      15  0.441524         2.0        0.444444   \n",
       "16311547                     13  0.722733         0.0        0.527778   \n",
       "\n",
       "          pressure_sea_level  precipitation  wind_speed  month  day  hour  \\\n",
       "2022715             0.746442       0.002907    0.189474      3   19     4   \n",
       "16368260            0.556274       0.002907    0.163158      8    6    23   \n",
       "1227778             0.623545       0.002907    0.300000      3    5    11   \n",
       "2440463             0.661061       0.002907    0.189474     12   20    21   \n",
       "16311547            0.614489       0.002907    0.078947      7   30     7   \n",
       "\n",
       "          ingredient_type_ing_x  ingredient_type_ing_y  ingredient_type_ing_z  \\\n",
       "2022715                       0                      0                      0   \n",
       "16368260                      1                      0                      0   \n",
       "1227778                       0                      0                      0   \n",
       "2440463                       0                      0                      0   \n",
       "16311547                      1                      0                      0   \n",
       "\n",
       "          operations_commencing_year_new  operations_commencing_year_old  \n",
       "2022715                                0                               1  \n",
       "16368260                               1                               0  \n",
       "1227778                                0                               0  \n",
       "2440463                                0                               1  \n",
       "16311547                               1                               0  "
      ]
     },
     "execution_count": 18,
     "metadata": {},
     "output_type": "execute_result"
    }
   ],
   "source": [
    "# checking the x train data\n",
    "X_train.head()"
   ]
  },
  {
   "cell_type": "code",
   "execution_count": 19,
   "metadata": {
    "execution": {
     "iopub.execute_input": "2023-02-23T06:27:36.164912Z",
     "iopub.status.busy": "2023-02-23T06:27:36.164220Z",
     "iopub.status.idle": "2023-02-23T06:27:36.188350Z",
     "shell.execute_reply": "2023-02-23T06:27:36.186811Z",
     "shell.execute_reply.started": "2023-02-23T06:27:36.164737Z"
    }
   },
   "outputs": [
    {
     "data": {
      "text/html": [
       "<div>\n",
       "<style scoped>\n",
       "    .dataframe tbody tr th:only-of-type {\n",
       "        vertical-align: middle;\n",
       "    }\n",
       "\n",
       "    .dataframe tbody tr th {\n",
       "        vertical-align: top;\n",
       "    }\n",
       "\n",
       "    .dataframe thead th {\n",
       "        text-align: right;\n",
       "    }\n",
       "</style>\n",
       "<table border=\"1\" class=\"dataframe\">\n",
       "  <thead>\n",
       "    <tr style=\"text-align: right;\">\n",
       "      <th></th>\n",
       "      <th>num_processing_plants</th>\n",
       "      <th>farm_area</th>\n",
       "      <th>farming_company</th>\n",
       "      <th>deidentified_location</th>\n",
       "      <th>temp_obs</th>\n",
       "      <th>cloudiness</th>\n",
       "      <th>wind_direction</th>\n",
       "      <th>pressure_sea_level</th>\n",
       "      <th>precipitation</th>\n",
       "      <th>wind_speed</th>\n",
       "      <th>month</th>\n",
       "      <th>day</th>\n",
       "      <th>hour</th>\n",
       "      <th>ingredient_type_ing_x</th>\n",
       "      <th>ingredient_type_ing_y</th>\n",
       "      <th>ingredient_type_ing_z</th>\n",
       "      <th>operations_commencing_year_new</th>\n",
       "      <th>operations_commencing_year_old</th>\n",
       "    </tr>\n",
       "  </thead>\n",
       "  <tbody>\n",
       "    <tr>\n",
       "      <th>17027306</th>\n",
       "      <td>0.08</td>\n",
       "      <td>0.575444</td>\n",
       "      <td>11</td>\n",
       "      <td>13</td>\n",
       "      <td>0.650460</td>\n",
       "      <td>2.0</td>\n",
       "      <td>0.000000</td>\n",
       "      <td>0.697283</td>\n",
       "      <td>0.002907</td>\n",
       "      <td>0.000000</td>\n",
       "      <td>11</td>\n",
       "      <td>4</td>\n",
       "      <td>1</td>\n",
       "      <td>0</td>\n",
       "      <td>1</td>\n",
       "      <td>0</td>\n",
       "      <td>1</td>\n",
       "      <td>0</td>\n",
       "    </tr>\n",
       "    <tr>\n",
       "      <th>7082224</th>\n",
       "      <td>0.08</td>\n",
       "      <td>0.079748</td>\n",
       "      <td>7</td>\n",
       "      <td>1</td>\n",
       "      <td>0.642576</td>\n",
       "      <td>2.0</td>\n",
       "      <td>0.388889</td>\n",
       "      <td>0.600259</td>\n",
       "      <td>0.002907</td>\n",
       "      <td>0.431579</td>\n",
       "      <td>9</td>\n",
       "      <td>25</td>\n",
       "      <td>4</td>\n",
       "      <td>0</td>\n",
       "      <td>0</td>\n",
       "      <td>0</td>\n",
       "      <td>1</td>\n",
       "      <td>0</td>\n",
       "    </tr>\n",
       "    <tr>\n",
       "      <th>17343599</th>\n",
       "      <td>0.08</td>\n",
       "      <td>0.051220</td>\n",
       "      <td>1</td>\n",
       "      <td>13</td>\n",
       "      <td>0.568988</td>\n",
       "      <td>2.0</td>\n",
       "      <td>0.000000</td>\n",
       "      <td>0.592497</td>\n",
       "      <td>0.002907</td>\n",
       "      <td>0.000000</td>\n",
       "      <td>12</td>\n",
       "      <td>16</td>\n",
       "      <td>18</td>\n",
       "      <td>0</td>\n",
       "      <td>0</td>\n",
       "      <td>0</td>\n",
       "      <td>1</td>\n",
       "      <td>0</td>\n",
       "    </tr>\n",
       "    <tr>\n",
       "      <th>11637690</th>\n",
       "      <td>0.00</td>\n",
       "      <td>0.010988</td>\n",
       "      <td>11</td>\n",
       "      <td>8</td>\n",
       "      <td>0.540079</td>\n",
       "      <td>2.0</td>\n",
       "      <td>0.972222</td>\n",
       "      <td>0.692109</td>\n",
       "      <td>0.002907</td>\n",
       "      <td>0.431579</td>\n",
       "      <td>12</td>\n",
       "      <td>30</td>\n",
       "      <td>9</td>\n",
       "      <td>0</td>\n",
       "      <td>0</td>\n",
       "      <td>0</td>\n",
       "      <td>1</td>\n",
       "      <td>0</td>\n",
       "    </tr>\n",
       "    <tr>\n",
       "      <th>11350730</th>\n",
       "      <td>0.00</td>\n",
       "      <td>0.000271</td>\n",
       "      <td>11</td>\n",
       "      <td>8</td>\n",
       "      <td>0.751643</td>\n",
       "      <td>4.0</td>\n",
       "      <td>0.250000</td>\n",
       "      <td>0.642950</td>\n",
       "      <td>0.002907</td>\n",
       "      <td>0.268421</td>\n",
       "      <td>6</td>\n",
       "      <td>21</td>\n",
       "      <td>23</td>\n",
       "      <td>0</td>\n",
       "      <td>0</td>\n",
       "      <td>0</td>\n",
       "      <td>1</td>\n",
       "      <td>0</td>\n",
       "    </tr>\n",
       "  </tbody>\n",
       "</table>\n",
       "</div>"
      ],
      "text/plain": [
       "          num_processing_plants  farm_area  farming_company  \\\n",
       "17027306                   0.08   0.575444               11   \n",
       "7082224                    0.08   0.079748                7   \n",
       "17343599                   0.08   0.051220                1   \n",
       "11637690                   0.00   0.010988               11   \n",
       "11350730                   0.00   0.000271               11   \n",
       "\n",
       "          deidentified_location  temp_obs  cloudiness  wind_direction  \\\n",
       "17027306                     13  0.650460         2.0        0.000000   \n",
       "7082224                       1  0.642576         2.0        0.388889   \n",
       "17343599                     13  0.568988         2.0        0.000000   \n",
       "11637690                      8  0.540079         2.0        0.972222   \n",
       "11350730                      8  0.751643         4.0        0.250000   \n",
       "\n",
       "          pressure_sea_level  precipitation  wind_speed  month  day  hour  \\\n",
       "17027306            0.697283       0.002907    0.000000     11    4     1   \n",
       "7082224             0.600259       0.002907    0.431579      9   25     4   \n",
       "17343599            0.592497       0.002907    0.000000     12   16    18   \n",
       "11637690            0.692109       0.002907    0.431579     12   30     9   \n",
       "11350730            0.642950       0.002907    0.268421      6   21    23   \n",
       "\n",
       "          ingredient_type_ing_x  ingredient_type_ing_y  ingredient_type_ing_z  \\\n",
       "17027306                      0                      1                      0   \n",
       "7082224                       0                      0                      0   \n",
       "17343599                      0                      0                      0   \n",
       "11637690                      0                      0                      0   \n",
       "11350730                      0                      0                      0   \n",
       "\n",
       "          operations_commencing_year_new  operations_commencing_year_old  \n",
       "17027306                               1                               0  \n",
       "7082224                                1                               0  \n",
       "17343599                               1                               0  \n",
       "11637690                               1                               0  \n",
       "11350730                               1                               0  "
      ]
     },
     "execution_count": 19,
     "metadata": {},
     "output_type": "execute_result"
    }
   ],
   "source": [
    "# checking the x test data\n",
    "X_test.head()"
   ]
  },
  {
   "cell_type": "code",
   "execution_count": 20,
   "metadata": {
    "execution": {
     "iopub.execute_input": "2023-02-23T06:27:36.190659Z",
     "iopub.status.busy": "2023-02-23T06:27:36.190159Z",
     "iopub.status.idle": "2023-02-23T06:27:36.208475Z",
     "shell.execute_reply": "2023-02-23T06:27:36.207076Z",
     "shell.execute_reply.started": "2023-02-23T06:27:36.190615Z"
    }
   },
   "outputs": [
    {
     "data": {
      "text/plain": [
       "num_processing_plants             float64\n",
       "farm_area                         float64\n",
       "farming_company                     int64\n",
       "deidentified_location               int64\n",
       "temp_obs                          float64\n",
       "cloudiness                        float64\n",
       "wind_direction                    float64\n",
       "pressure_sea_level                float64\n",
       "precipitation                     float64\n",
       "wind_speed                        float64\n",
       "month                               int64\n",
       "day                                 int64\n",
       "hour                                int64\n",
       "ingredient_type_ing_x               uint8\n",
       "ingredient_type_ing_y               uint8\n",
       "ingredient_type_ing_z               uint8\n",
       "operations_commencing_year_new      uint8\n",
       "operations_commencing_year_old      uint8\n",
       "dtype: object"
      ]
     },
     "execution_count": 20,
     "metadata": {},
     "output_type": "execute_result"
    }
   ],
   "source": [
    "# checking the data types x_train data\n",
    "X_train.dtypes"
   ]
  },
  {
   "cell_type": "markdown",
   "metadata": {},
   "source": [
    "# Model Building"
   ]
  },
  {
   "cell_type": "markdown",
   "metadata": {},
   "source": [
    "<div class=\"alert alert-block alert-info\"><b> \n",
    "  Linear Regression\n",
    "</b>"
   ]
  },
  {
   "cell_type": "code",
   "execution_count": 21,
   "metadata": {
    "execution": {
     "iopub.execute_input": "2023-02-23T06:27:36.210811Z",
     "iopub.status.busy": "2023-02-23T06:27:36.210282Z",
     "iopub.status.idle": "2023-02-23T06:27:48.440834Z",
     "shell.execute_reply": "2023-02-23T06:27:48.439488Z",
     "shell.execute_reply.started": "2023-02-23T06:27:36.210771Z"
    },
    "id": "ahIphgrvHD9d"
   },
   "outputs": [
    {
     "name": "stdout",
     "output_type": "stream",
     "text": [
      "RMSE of Linear Regressor on train :  152198.99657768806\n",
      "RMSE of Linear Regressor on test :  151537.8485386369\n"
     ]
    }
   ],
   "source": [
    "# linear regression\n",
    "from sklearn.metrics import mean_squared_error\n",
    "from sklearn.linear_model import LinearRegression\n",
    "reg = LinearRegression()\n",
    "reg.fit(X_train, y_train)\n",
    "train_pred =reg.predict(X_train)\n",
    "test_pred = reg.predict(X_test)\n",
    "lr_train_pred = np.sqrt(mean_squared_error(y_train, train_pred))\n",
    "lr_test_pred = np.sqrt(mean_squared_error(y_test, test_pred))\n",
    "print('RMSE of Linear Regressor on train : ',lr_train_pred)\n",
    "print('RMSE of Linear Regressor on test : ',lr_test_pred)"
   ]
  },
  {
   "cell_type": "markdown",
   "metadata": {},
   "source": [
    "<div class=\"alert alert-block alert-info\"><b> \n",
    "   here i can able run only linear regression so that's why predictions also done on linear regression\n",
    "</b></div> "
   ]
  },
  {
   "cell_type": "markdown",
   "metadata": {},
   "source": [
    "## Lets work on test data"
   ]
  },
  {
   "cell_type": "code",
   "execution_count": 22,
   "metadata": {
    "execution": {
     "iopub.execute_input": "2023-02-23T06:27:48.443087Z",
     "iopub.status.busy": "2023-02-23T06:27:48.442604Z",
     "iopub.status.idle": "2023-02-23T06:27:48.452475Z",
     "shell.execute_reply": "2023-02-23T06:27:48.450474Z",
     "shell.execute_reply.started": "2023-02-23T06:27:48.443041Z"
    }
   },
   "outputs": [
    {
     "data": {
      "text/plain": [
       "(21154797, 16)"
      ]
     },
     "execution_count": 22,
     "metadata": {},
     "output_type": "execute_result"
    }
   ],
   "source": [
    "test_final_merged.shape"
   ]
  },
  {
   "cell_type": "markdown",
   "metadata": {},
   "source": [
    "as we can see above shape doesn't match with the submission file shape so let's drop some rows"
   ]
  },
  {
   "cell_type": "code",
   "execution_count": 23,
   "metadata": {
    "execution": {
     "iopub.execute_input": "2023-02-23T06:27:48.454989Z",
     "iopub.status.busy": "2023-02-23T06:27:48.454611Z",
     "iopub.status.idle": "2023-02-23T06:27:48.490368Z",
     "shell.execute_reply": "2023-02-23T06:27:48.488830Z",
     "shell.execute_reply.started": "2023-02-23T06:27:48.454957Z"
    }
   },
   "outputs": [
    {
     "data": {
      "text/html": [
       "<div>\n",
       "<style scoped>\n",
       "    .dataframe tbody tr th:only-of-type {\n",
       "        vertical-align: middle;\n",
       "    }\n",
       "\n",
       "    .dataframe tbody tr th {\n",
       "        vertical-align: top;\n",
       "    }\n",
       "\n",
       "    .dataframe thead th {\n",
       "        text-align: right;\n",
       "    }\n",
       "</style>\n",
       "<table border=\"1\" class=\"dataframe\">\n",
       "  <thead>\n",
       "    <tr style=\"text-align: right;\">\n",
       "      <th></th>\n",
       "      <th>ingredient_type</th>\n",
       "      <th>id</th>\n",
       "      <th>operations_commencing_year</th>\n",
       "      <th>num_processing_plants</th>\n",
       "      <th>farm_area</th>\n",
       "      <th>farming_company</th>\n",
       "      <th>deidentified_location</th>\n",
       "      <th>temp_obs</th>\n",
       "      <th>cloudiness</th>\n",
       "      <th>wind_direction</th>\n",
       "      <th>pressure_sea_level</th>\n",
       "      <th>precipitation</th>\n",
       "      <th>wind_speed</th>\n",
       "      <th>month</th>\n",
       "      <th>day</th>\n",
       "      <th>hour</th>\n",
       "    </tr>\n",
       "  </thead>\n",
       "  <tbody>\n",
       "    <tr>\n",
       "      <th>0</th>\n",
       "      <td>ing_w</td>\n",
       "      <td>0</td>\n",
       "      <td>new</td>\n",
       "      <td>7</td>\n",
       "      <td>690.455096</td>\n",
       "      <td>Obery Farms</td>\n",
       "      <td>location 7369</td>\n",
       "      <td>17.8</td>\n",
       "      <td>4.0</td>\n",
       "      <td>100.0</td>\n",
       "      <td>1021.4</td>\n",
       "      <td>0.0</td>\n",
       "      <td>3.6</td>\n",
       "      <td>1</td>\n",
       "      <td>1</td>\n",
       "      <td>0</td>\n",
       "    </tr>\n",
       "    <tr>\n",
       "      <th>1</th>\n",
       "      <td>ing_w</td>\n",
       "      <td>1</td>\n",
       "      <td>new</td>\n",
       "      <td>7</td>\n",
       "      <td>252.696160</td>\n",
       "      <td>Obery Farms</td>\n",
       "      <td>location 7369</td>\n",
       "      <td>17.8</td>\n",
       "      <td>4.0</td>\n",
       "      <td>100.0</td>\n",
       "      <td>1021.4</td>\n",
       "      <td>0.0</td>\n",
       "      <td>3.6</td>\n",
       "      <td>1</td>\n",
       "      <td>1</td>\n",
       "      <td>0</td>\n",
       "    </tr>\n",
       "    <tr>\n",
       "      <th>2</th>\n",
       "      <td>ing_w</td>\n",
       "      <td>2</td>\n",
       "      <td>moderate</td>\n",
       "      <td>7</td>\n",
       "      <td>499.446528</td>\n",
       "      <td>Obery Farms</td>\n",
       "      <td>location 7369</td>\n",
       "      <td>17.8</td>\n",
       "      <td>4.0</td>\n",
       "      <td>100.0</td>\n",
       "      <td>1021.4</td>\n",
       "      <td>0.0</td>\n",
       "      <td>3.6</td>\n",
       "      <td>1</td>\n",
       "      <td>1</td>\n",
       "      <td>0</td>\n",
       "    </tr>\n",
       "    <tr>\n",
       "      <th>3</th>\n",
       "      <td>ing_w</td>\n",
       "      <td>3</td>\n",
       "      <td>moderate</td>\n",
       "      <td>7</td>\n",
       "      <td>2200.407555</td>\n",
       "      <td>Obery Farms</td>\n",
       "      <td>location 7369</td>\n",
       "      <td>17.8</td>\n",
       "      <td>4.0</td>\n",
       "      <td>100.0</td>\n",
       "      <td>1021.4</td>\n",
       "      <td>0.0</td>\n",
       "      <td>3.6</td>\n",
       "      <td>1</td>\n",
       "      <td>1</td>\n",
       "      <td>0</td>\n",
       "    </tr>\n",
       "    <tr>\n",
       "      <th>4</th>\n",
       "      <td>ing_w</td>\n",
       "      <td>4</td>\n",
       "      <td>moderate</td>\n",
       "      <td>7</td>\n",
       "      <td>10833.140121</td>\n",
       "      <td>Obery Farms</td>\n",
       "      <td>location 7369</td>\n",
       "      <td>17.8</td>\n",
       "      <td>4.0</td>\n",
       "      <td>100.0</td>\n",
       "      <td>1021.4</td>\n",
       "      <td>0.0</td>\n",
       "      <td>3.6</td>\n",
       "      <td>1</td>\n",
       "      <td>1</td>\n",
       "      <td>0</td>\n",
       "    </tr>\n",
       "    <tr>\n",
       "      <th>5</th>\n",
       "      <td>ing_w</td>\n",
       "      <td>5</td>\n",
       "      <td>moderate</td>\n",
       "      <td>7</td>\n",
       "      <td>743.224000</td>\n",
       "      <td>Obery Farms</td>\n",
       "      <td>location 7369</td>\n",
       "      <td>17.8</td>\n",
       "      <td>4.0</td>\n",
       "      <td>100.0</td>\n",
       "      <td>1021.4</td>\n",
       "      <td>0.0</td>\n",
       "      <td>3.6</td>\n",
       "      <td>1</td>\n",
       "      <td>1</td>\n",
       "      <td>0</td>\n",
       "    </tr>\n",
       "    <tr>\n",
       "      <th>6</th>\n",
       "      <td>ing_w</td>\n",
       "      <td>6</td>\n",
       "      <td>moderate</td>\n",
       "      <td>7</td>\n",
       "      <td>2594.409178</td>\n",
       "      <td>Dole Food Company</td>\n",
       "      <td>location 7369</td>\n",
       "      <td>17.8</td>\n",
       "      <td>4.0</td>\n",
       "      <td>100.0</td>\n",
       "      <td>1021.4</td>\n",
       "      <td>0.0</td>\n",
       "      <td>3.6</td>\n",
       "      <td>1</td>\n",
       "      <td>1</td>\n",
       "      <td>0</td>\n",
       "    </tr>\n",
       "    <tr>\n",
       "      <th>7</th>\n",
       "      <td>ing_w</td>\n",
       "      <td>7</td>\n",
       "      <td>moderate</td>\n",
       "      <td>7</td>\n",
       "      <td>11248.137822</td>\n",
       "      <td>Obery Farms</td>\n",
       "      <td>location 7369</td>\n",
       "      <td>17.8</td>\n",
       "      <td>4.0</td>\n",
       "      <td>100.0</td>\n",
       "      <td>1021.4</td>\n",
       "      <td>0.0</td>\n",
       "      <td>3.6</td>\n",
       "      <td>1</td>\n",
       "      <td>1</td>\n",
       "      <td>0</td>\n",
       "    </tr>\n",
       "    <tr>\n",
       "      <th>8</th>\n",
       "      <td>ing_x</td>\n",
       "      <td>8</td>\n",
       "      <td>moderate</td>\n",
       "      <td>7</td>\n",
       "      <td>11248.137822</td>\n",
       "      <td>Obery Farms</td>\n",
       "      <td>location 7369</td>\n",
       "      <td>17.8</td>\n",
       "      <td>4.0</td>\n",
       "      <td>100.0</td>\n",
       "      <td>1021.4</td>\n",
       "      <td>0.0</td>\n",
       "      <td>3.6</td>\n",
       "      <td>1</td>\n",
       "      <td>1</td>\n",
       "      <td>0</td>\n",
       "    </tr>\n",
       "    <tr>\n",
       "      <th>9</th>\n",
       "      <td>ing_w</td>\n",
       "      <td>9</td>\n",
       "      <td>moderate</td>\n",
       "      <td>7</td>\n",
       "      <td>5649.338527</td>\n",
       "      <td>Obery Farms</td>\n",
       "      <td>location 7369</td>\n",
       "      <td>17.8</td>\n",
       "      <td>4.0</td>\n",
       "      <td>100.0</td>\n",
       "      <td>1021.4</td>\n",
       "      <td>0.0</td>\n",
       "      <td>3.6</td>\n",
       "      <td>1</td>\n",
       "      <td>1</td>\n",
       "      <td>0</td>\n",
       "    </tr>\n",
       "  </tbody>\n",
       "</table>\n",
       "</div>"
      ],
      "text/plain": [
       "  ingredient_type  id operations_commencing_year  num_processing_plants  \\\n",
       "0           ing_w   0                        new                      7   \n",
       "1           ing_w   1                        new                      7   \n",
       "2           ing_w   2                   moderate                      7   \n",
       "3           ing_w   3                   moderate                      7   \n",
       "4           ing_w   4                   moderate                      7   \n",
       "5           ing_w   5                   moderate                      7   \n",
       "6           ing_w   6                   moderate                      7   \n",
       "7           ing_w   7                   moderate                      7   \n",
       "8           ing_x   8                   moderate                      7   \n",
       "9           ing_w   9                   moderate                      7   \n",
       "\n",
       "      farm_area    farming_company deidentified_location  temp_obs  \\\n",
       "0    690.455096        Obery Farms         location 7369      17.8   \n",
       "1    252.696160        Obery Farms         location 7369      17.8   \n",
       "2    499.446528        Obery Farms         location 7369      17.8   \n",
       "3   2200.407555        Obery Farms         location 7369      17.8   \n",
       "4  10833.140121        Obery Farms         location 7369      17.8   \n",
       "5    743.224000        Obery Farms         location 7369      17.8   \n",
       "6   2594.409178  Dole Food Company         location 7369      17.8   \n",
       "7  11248.137822        Obery Farms         location 7369      17.8   \n",
       "8  11248.137822        Obery Farms         location 7369      17.8   \n",
       "9   5649.338527        Obery Farms         location 7369      17.8   \n",
       "\n",
       "   cloudiness  wind_direction  pressure_sea_level  precipitation  wind_speed  \\\n",
       "0         4.0           100.0              1021.4            0.0         3.6   \n",
       "1         4.0           100.0              1021.4            0.0         3.6   \n",
       "2         4.0           100.0              1021.4            0.0         3.6   \n",
       "3         4.0           100.0              1021.4            0.0         3.6   \n",
       "4         4.0           100.0              1021.4            0.0         3.6   \n",
       "5         4.0           100.0              1021.4            0.0         3.6   \n",
       "6         4.0           100.0              1021.4            0.0         3.6   \n",
       "7         4.0           100.0              1021.4            0.0         3.6   \n",
       "8         4.0           100.0              1021.4            0.0         3.6   \n",
       "9         4.0           100.0              1021.4            0.0         3.6   \n",
       "\n",
       "   month  day  hour  \n",
       "0      1    1     0  \n",
       "1      1    1     0  \n",
       "2      1    1     0  \n",
       "3      1    1     0  \n",
       "4      1    1     0  \n",
       "5      1    1     0  \n",
       "6      1    1     0  \n",
       "7      1    1     0  \n",
       "8      1    1     0  \n",
       "9      1    1     0  "
      ]
     },
     "execution_count": 23,
     "metadata": {},
     "output_type": "execute_result"
    }
   ],
   "source": [
    "# Number of rows to drop \n",
    "n = 305997\n",
    "  \n",
    "# Removing last n rows \n",
    "Test_Data = test_final_merged.iloc[:-n] \n",
    "  \n",
    "# Printing dataframe \n",
    "Test_Data.head(10)"
   ]
  },
  {
   "cell_type": "code",
   "execution_count": 24,
   "metadata": {
    "execution": {
     "iopub.execute_input": "2023-02-23T06:27:48.494454Z",
     "iopub.status.busy": "2023-02-23T06:27:48.492429Z",
     "iopub.status.idle": "2023-02-23T06:27:50.396915Z",
     "shell.execute_reply": "2023-02-23T06:27:50.395429Z",
     "shell.execute_reply.started": "2023-02-23T06:27:48.494397Z"
    }
   },
   "outputs": [],
   "source": [
    "# converting categorical to numerical\n",
    "test_final_merged = pd.get_dummies(Test_Data, columns=['ingredient_type',\n",
    "                                                       'operations_commencing_year'],drop_first=True)"
   ]
  },
  {
   "cell_type": "code",
   "execution_count": 25,
   "metadata": {
    "execution": {
     "iopub.execute_input": "2023-02-23T06:27:50.399113Z",
     "iopub.status.busy": "2023-02-23T06:27:50.398551Z",
     "iopub.status.idle": "2023-02-23T06:28:01.400003Z",
     "shell.execute_reply": "2023-02-23T06:28:01.398723Z",
     "shell.execute_reply.started": "2023-02-23T06:27:50.399064Z"
    }
   },
   "outputs": [],
   "source": [
    "# categorical to numerical\n",
    "test_final_merged.deidentified_location = label.fit_transform(test_final_merged.deidentified_location)\n",
    "test_final_merged.farming_company = label.fit_transform(test_final_merged.farming_company)"
   ]
  },
  {
   "cell_type": "code",
   "execution_count": 26,
   "metadata": {
    "execution": {
     "iopub.execute_input": "2023-02-23T06:28:01.401862Z",
     "iopub.status.busy": "2023-02-23T06:28:01.401366Z",
     "iopub.status.idle": "2023-02-23T06:28:07.937917Z",
     "shell.execute_reply": "2023-02-23T06:28:07.936584Z",
     "shell.execute_reply.started": "2023-02-23T06:28:01.401826Z"
    }
   },
   "outputs": [],
   "source": [
    "# scale on test\n",
    "test_final_merged[num_cols] = scaler.transform(test_final_merged[num_cols])"
   ]
  },
  {
   "cell_type": "code",
   "execution_count": 27,
   "metadata": {
    "execution": {
     "iopub.execute_input": "2023-02-23T06:28:07.939836Z",
     "iopub.status.busy": "2023-02-23T06:28:07.939425Z",
     "iopub.status.idle": "2023-02-23T06:28:10.334251Z",
     "shell.execute_reply": "2023-02-23T06:28:10.333042Z",
     "shell.execute_reply.started": "2023-02-23T06:28:07.939801Z"
    }
   },
   "outputs": [],
   "source": [
    "# selecting remaing columns except id column\n",
    "fin = test_final_merged.loc[:, test_final_merged.columns != 'id']"
   ]
  },
  {
   "cell_type": "code",
   "execution_count": 28,
   "metadata": {
    "execution": {
     "iopub.execute_input": "2023-02-23T06:28:10.336227Z",
     "iopub.status.busy": "2023-02-23T06:28:10.335764Z",
     "iopub.status.idle": "2023-02-23T06:28:10.343758Z",
     "shell.execute_reply": "2023-02-23T06:28:10.342455Z",
     "shell.execute_reply.started": "2023-02-23T06:28:10.336193Z"
    }
   },
   "outputs": [
    {
     "data": {
      "text/plain": [
       "(20848800, 18)"
      ]
     },
     "execution_count": 28,
     "metadata": {},
     "output_type": "execute_result"
    }
   ],
   "source": [
    "# checking the final test dataset dimensions\n",
    "fin.shape"
   ]
  },
  {
   "cell_type": "markdown",
   "metadata": {},
   "source": [
    "# Predictions"
   ]
  },
  {
   "cell_type": "code",
   "execution_count": 29,
   "metadata": {
    "execution": {
     "iopub.execute_input": "2023-02-23T06:28:10.346277Z",
     "iopub.status.busy": "2023-02-23T06:28:10.345801Z",
     "iopub.status.idle": "2023-02-23T06:28:12.640406Z",
     "shell.execute_reply": "2023-02-23T06:28:12.638608Z",
     "shell.execute_reply.started": "2023-02-23T06:28:10.346235Z"
    },
    "id": "n-bjuqXCUQJC"
   },
   "outputs": [],
   "source": [
    "# predicting the test data with best model\n",
    "test_pred = reg.predict(fin)"
   ]
  },
  {
   "cell_type": "code",
   "execution_count": 30,
   "metadata": {
    "execution": {
     "iopub.execute_input": "2023-02-23T06:28:12.654194Z",
     "iopub.status.busy": "2023-02-23T06:28:12.648695Z",
     "iopub.status.idle": "2023-02-23T06:28:12.834740Z",
     "shell.execute_reply": "2023-02-23T06:28:12.833359Z",
     "shell.execute_reply.started": "2023-02-23T06:28:12.654096Z"
    },
    "id": "vHbo7cNaUfKL"
   },
   "outputs": [],
   "source": [
    "# creating a dataframe with id column and yield column\n",
    "sub  = pd.DataFrame({'id': test_final_merged.id, 'yield': test_pred})"
   ]
  },
  {
   "cell_type": "code",
   "execution_count": 31,
   "metadata": {
    "execution": {
     "iopub.execute_input": "2023-02-23T06:28:12.836698Z",
     "iopub.status.busy": "2023-02-23T06:28:12.836217Z",
     "iopub.status.idle": "2023-02-23T06:28:12.843989Z",
     "shell.execute_reply": "2023-02-23T06:28:12.842877Z",
     "shell.execute_reply.started": "2023-02-23T06:28:12.836644Z"
    }
   },
   "outputs": [
    {
     "data": {
      "text/plain": [
       "(20848800, 2)"
      ]
     },
     "execution_count": 31,
     "metadata": {},
     "output_type": "execute_result"
    }
   ],
   "source": [
    "# checking the shape of the final dataframe \n",
    "sub.shape"
   ]
  },
  {
   "cell_type": "code",
   "execution_count": 32,
   "metadata": {
    "execution": {
     "iopub.execute_input": "2023-02-23T06:28:12.846769Z",
     "iopub.status.busy": "2023-02-23T06:28:12.846174Z",
     "iopub.status.idle": "2023-02-23T06:28:12.864363Z",
     "shell.execute_reply": "2023-02-23T06:28:12.862868Z",
     "shell.execute_reply.started": "2023-02-23T06:28:12.846723Z"
    }
   },
   "outputs": [
    {
     "data": {
      "text/html": [
       "<div>\n",
       "<style scoped>\n",
       "    .dataframe tbody tr th:only-of-type {\n",
       "        vertical-align: middle;\n",
       "    }\n",
       "\n",
       "    .dataframe tbody tr th {\n",
       "        vertical-align: top;\n",
       "    }\n",
       "\n",
       "    .dataframe thead th {\n",
       "        text-align: right;\n",
       "    }\n",
       "</style>\n",
       "<table border=\"1\" class=\"dataframe\">\n",
       "  <thead>\n",
       "    <tr style=\"text-align: right;\">\n",
       "      <th></th>\n",
       "      <th>id</th>\n",
       "      <th>yield</th>\n",
       "    </tr>\n",
       "  </thead>\n",
       "  <tbody>\n",
       "    <tr>\n",
       "      <th>0</th>\n",
       "      <td>0</td>\n",
       "      <td>-1639.123589</td>\n",
       "    </tr>\n",
       "    <tr>\n",
       "      <th>1</th>\n",
       "      <td>1</td>\n",
       "      <td>-1774.214708</td>\n",
       "    </tr>\n",
       "    <tr>\n",
       "      <th>2</th>\n",
       "      <td>2</td>\n",
       "      <td>-2633.435929</td>\n",
       "    </tr>\n",
       "    <tr>\n",
       "      <th>3</th>\n",
       "      <td>3</td>\n",
       "      <td>-2108.524362</td>\n",
       "    </tr>\n",
       "    <tr>\n",
       "      <th>4</th>\n",
       "      <td>4</td>\n",
       "      <td>555.511503</td>\n",
       "    </tr>\n",
       "  </tbody>\n",
       "</table>\n",
       "</div>"
      ],
      "text/plain": [
       "   id        yield\n",
       "0   0 -1639.123589\n",
       "1   1 -1774.214708\n",
       "2   2 -2633.435929\n",
       "3   3 -2108.524362\n",
       "4   4   555.511503"
      ]
     },
     "execution_count": 32,
     "metadata": {},
     "output_type": "execute_result"
    }
   ],
   "source": [
    "# checking the head of the dataframe\n",
    "sub.head()"
   ]
  },
  {
   "cell_type": "code",
   "execution_count": 33,
   "metadata": {
    "execution": {
     "iopub.execute_input": "2023-02-23T06:28:12.866308Z",
     "iopub.status.busy": "2023-02-23T06:28:12.865957Z",
     "iopub.status.idle": "2023-02-23T06:28:12.879891Z",
     "shell.execute_reply": "2023-02-23T06:28:12.878489Z",
     "shell.execute_reply.started": "2023-02-23T06:28:12.866276Z"
    }
   },
   "outputs": [
    {
     "data": {
      "text/html": [
       "<div>\n",
       "<style scoped>\n",
       "    .dataframe tbody tr th:only-of-type {\n",
       "        vertical-align: middle;\n",
       "    }\n",
       "\n",
       "    .dataframe tbody tr th {\n",
       "        vertical-align: top;\n",
       "    }\n",
       "\n",
       "    .dataframe thead th {\n",
       "        text-align: right;\n",
       "    }\n",
       "</style>\n",
       "<table border=\"1\" class=\"dataframe\">\n",
       "  <thead>\n",
       "    <tr style=\"text-align: right;\">\n",
       "      <th></th>\n",
       "      <th>id</th>\n",
       "      <th>yield</th>\n",
       "    </tr>\n",
       "  </thead>\n",
       "  <tbody>\n",
       "    <tr>\n",
       "      <th>20848795</th>\n",
       "      <td>25259065</td>\n",
       "      <td>2992.577367</td>\n",
       "    </tr>\n",
       "    <tr>\n",
       "      <th>20848796</th>\n",
       "      <td>25259066</td>\n",
       "      <td>2391.744150</td>\n",
       "    </tr>\n",
       "    <tr>\n",
       "      <th>20848797</th>\n",
       "      <td>25259067</td>\n",
       "      <td>2648.680699</td>\n",
       "    </tr>\n",
       "    <tr>\n",
       "      <th>20848798</th>\n",
       "      <td>25259068</td>\n",
       "      <td>3096.647988</td>\n",
       "    </tr>\n",
       "    <tr>\n",
       "      <th>20848799</th>\n",
       "      <td>25259069</td>\n",
       "      <td>2241.672629</td>\n",
       "    </tr>\n",
       "  </tbody>\n",
       "</table>\n",
       "</div>"
      ],
      "text/plain": [
       "                id        yield\n",
       "20848795  25259065  2992.577367\n",
       "20848796  25259066  2391.744150\n",
       "20848797  25259067  2648.680699\n",
       "20848798  25259068  3096.647988\n",
       "20848799  25259069  2241.672629"
      ]
     },
     "execution_count": 33,
     "metadata": {},
     "output_type": "execute_result"
    }
   ],
   "source": [
    "# checking the last 5 rows of the dataframe\n",
    "sub.tail()"
   ]
  },
  {
   "cell_type": "code",
   "execution_count": 34,
   "metadata": {
    "execution": {
     "iopub.execute_input": "2023-02-23T06:28:12.881830Z",
     "iopub.status.busy": "2023-02-23T06:28:12.881432Z",
     "iopub.status.idle": "2023-02-23T06:29:00.282342Z",
     "shell.execute_reply": "2023-02-23T06:29:00.281012Z",
     "shell.execute_reply.started": "2023-02-23T06:28:12.881795Z"
    },
    "id": "KiHttGD7UpH5"
   },
   "outputs": [],
   "source": [
    "# creating submission file\n",
    "sub.to_csv('submissionwhole.csv', index = None)"
   ]
  },
  {
   "cell_type": "code",
   "execution_count": 35,
   "metadata": {
    "execution": {
     "iopub.execute_input": "2023-02-23T06:32:16.051260Z",
     "iopub.status.busy": "2023-02-23T06:32:16.050766Z",
     "iopub.status.idle": "2023-02-23T06:32:16.106519Z",
     "shell.execute_reply": "2023-02-23T06:32:16.105026Z",
     "shell.execute_reply.started": "2023-02-23T06:32:16.051222Z"
    },
    "id": "yLpSJvzJUxN6"
   },
   "outputs": [
    {
     "data": {
      "text/plain": [
       "9655646"
      ]
     },
     "execution_count": 35,
     "metadata": {},
     "output_type": "execute_result"
    }
   ],
   "source": [
    "num_negative_yield = (sub['yield'] < 0).sum()\n",
    "num_negative_yield"
   ]
  },
  {
   "cell_type": "code",
   "execution_count": null,
   "metadata": {},
   "outputs": [],
   "source": []
  }
 ],
 "metadata": {
  "kernelspec": {
   "display_name": "Python 3 (ipykernel)",
   "language": "python",
   "name": "python3"
  },
  "language_info": {
   "codemirror_mode": {
    "name": "ipython",
    "version": 3
   },
   "file_extension": ".py",
   "mimetype": "text/x-python",
   "name": "python",
   "nbconvert_exporter": "python",
   "pygments_lexer": "ipython3",
   "version": "3.9.13"
  }
 },
 "nbformat": 4,
 "nbformat_minor": 4
}
