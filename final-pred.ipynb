{
 "cells": [
  {
   "cell_type": "code",
   "execution_count": 1,
   "metadata": {
    "execution": {
     "iopub.execute_input": "2023-02-22T05:23:34.227667Z",
     "iopub.status.busy": "2023-02-22T05:23:34.227158Z",
     "iopub.status.idle": "2023-02-22T05:23:34.265446Z",
     "shell.execute_reply": "2023-02-22T05:23:34.264588Z",
     "shell.execute_reply.started": "2023-02-22T05:23:34.227556Z"
    }
   },
   "outputs": [
    {
     "name": "stdout",
     "output_type": "stream",
     "text": [
      "/kaggle/input/ingre-pred/submission_x1.csv\n",
      "/kaggle/input/ingre-pred/submission_z3.csv\n",
      "/kaggle/input/ingre-pred/submission_z1.csv\n",
      "/kaggle/input/ingre-pred/submission_y1.csv\n",
      "/kaggle/input/ingre-pred/submission_y3.csv\n",
      "/kaggle/input/ingre-pred/submission_x3.csv\n",
      "/kaggle/input/ingre-pred/submission_w2.csv\n",
      "/kaggle/input/ingre-pred/submission_w1.csv\n",
      "/kaggle/input/ingre-pred/submission_z2.csv\n",
      "/kaggle/input/ingre-pred/submission_y2.csv\n",
      "/kaggle/input/ingre-pred/submission_x2.csv\n",
      "/kaggle/input/ingre-pred/submission_w3.csv\n"
     ]
    }
   ],
   "source": [
    "import numpy as np\n",
    "import pandas as pd\n",
    "\n",
    "\n",
    "import os\n",
    "for dirname, _, filenames in os.walk('/kaggle/input'):\n",
    "    for filename in filenames:\n",
    "        print(os.path.join(dirname, filename))"
   ]
  },
  {
   "cell_type": "code",
   "execution_count": 2,
   "metadata": {
    "execution": {
     "iopub.execute_input": "2023-02-22T05:23:34.267920Z",
     "iopub.status.busy": "2023-02-22T05:23:34.267080Z",
     "iopub.status.idle": "2023-02-22T05:23:46.846905Z",
     "shell.execute_reply": "2023-02-22T05:23:46.845659Z",
     "shell.execute_reply.started": "2023-02-22T05:23:34.267873Z"
    }
   },
   "outputs": [],
   "source": [
    "# Suppose you have four DataFrames with predictions for each subset\n",
    "df_w1_pred = pd.read_csv(\"/kaggle/input/ingre-pred/submission_w1.csv\")\n",
    "df_w2_pred = pd.read_csv(\"/kaggle/input/ingre-pred/submission_w2.csv\")\n",
    "df_w3_pred = pd.read_csv(\"/kaggle/input/ingre-pred/submission_w3.csv\")\n",
    "df_x1_pred = pd.read_csv(\"/kaggle/input/ingre-pred/submission_x1.csv\")\n",
    "df_x2_pred = pd.read_csv(\"/kaggle/input/ingre-pred/submission_x2.csv\")\n",
    "df_x3_pred = pd.read_csv(\"/kaggle/input/ingre-pred/submission_x3.csv\")\n",
    "df_y1_pred = pd.read_csv(\"/kaggle/input/ingre-pred/submission_y1.csv\")\n",
    "df_y2_pred = pd.read_csv(\"/kaggle/input/ingre-pred/submission_y2.csv\")\n",
    "df_y3_pred = pd.read_csv(\"/kaggle/input/ingre-pred/submission_y3.csv\")\n",
    "df_z1_pred = pd.read_csv(\"/kaggle/input/ingre-pred/submission_z1.csv\")\n",
    "df_z2_pred = pd.read_csv(\"/kaggle/input/ingre-pred/submission_z2.csv\")\n",
    "df_z3_pred = pd.read_csv(\"/kaggle/input/ingre-pred/submission_z3.csv\")"
   ]
  },
  {
   "cell_type": "code",
   "execution_count": 3,
   "metadata": {
    "execution": {
     "iopub.execute_input": "2023-02-22T05:23:46.848604Z",
     "iopub.status.busy": "2023-02-22T05:23:46.848282Z",
     "iopub.status.idle": "2023-02-22T05:23:47.184575Z",
     "shell.execute_reply": "2023-02-22T05:23:47.183487Z",
     "shell.execute_reply.started": "2023-02-22T05:23:46.848574Z"
    }
   },
   "outputs": [],
   "source": [
    "# Concatenate the four DataFrames back into one DataFrame\n",
    "df_merged_pred = pd.concat([df_w1_pred, df_x1_pred, df_y1_pred, df_z1_pred,\n",
    "                           df_w2_pred, df_x2_pred, df_y2_pred, df_z2_pred,\n",
    "                           df_w3_pred, df_x3_pred, df_y3_pred, df_z3_pred])"
   ]
  },
  {
   "cell_type": "code",
   "execution_count": 4,
   "metadata": {
    "execution": {
     "iopub.execute_input": "2023-02-22T05:23:47.187148Z",
     "iopub.status.busy": "2023-02-22T05:23:47.186756Z",
     "iopub.status.idle": "2023-02-22T05:23:49.249435Z",
     "shell.execute_reply": "2023-02-22T05:23:49.248141Z",
     "shell.execute_reply.started": "2023-02-22T05:23:47.187114Z"
    }
   },
   "outputs": [],
   "source": [
    "# Sort the merged DataFrame by index to preserve the original positions\n",
    "df_merged_pred = df_merged_pred.sort_index()"
   ]
  },
  {
   "cell_type": "code",
   "execution_count": 5,
   "metadata": {
    "execution": {
     "iopub.execute_input": "2023-02-22T05:23:49.251452Z",
     "iopub.status.busy": "2023-02-22T05:23:49.251016Z",
     "iopub.status.idle": "2023-02-22T05:23:49.273633Z",
     "shell.execute_reply": "2023-02-22T05:23:49.271884Z",
     "shell.execute_reply.started": "2023-02-22T05:23:49.251410Z"
    }
   },
   "outputs": [
    {
     "data": {
      "text/html": [
       "<div>\n",
       "<style scoped>\n",
       "    .dataframe tbody tr th:only-of-type {\n",
       "        vertical-align: middle;\n",
       "    }\n",
       "\n",
       "    .dataframe tbody tr th {\n",
       "        vertical-align: top;\n",
       "    }\n",
       "\n",
       "    .dataframe thead th {\n",
       "        text-align: right;\n",
       "    }\n",
       "</style>\n",
       "<table border=\"1\" class=\"dataframe\">\n",
       "  <thead>\n",
       "    <tr style=\"text-align: right;\">\n",
       "      <th></th>\n",
       "      <th>id</th>\n",
       "      <th>yield</th>\n",
       "    </tr>\n",
       "  </thead>\n",
       "  <tbody>\n",
       "    <tr>\n",
       "      <th>0</th>\n",
       "      <td>0</td>\n",
       "      <td>63.530056</td>\n",
       "    </tr>\n",
       "    <tr>\n",
       "      <th>0</th>\n",
       "      <td>2260082</td>\n",
       "      <td>15.533137</td>\n",
       "    </tr>\n",
       "    <tr>\n",
       "      <th>0</th>\n",
       "      <td>8</td>\n",
       "      <td>1254.622434</td>\n",
       "    </tr>\n",
       "    <tr>\n",
       "      <th>0</th>\n",
       "      <td>28439135</td>\n",
       "      <td>66.018620</td>\n",
       "    </tr>\n",
       "    <tr>\n",
       "      <th>0</th>\n",
       "      <td>28159115</td>\n",
       "      <td>2648.261500</td>\n",
       "    </tr>\n",
       "  </tbody>\n",
       "</table>\n",
       "</div>"
      ],
      "text/plain": [
       "         id        yield\n",
       "0         0    63.530056\n",
       "0   2260082    15.533137\n",
       "0         8  1254.622434\n",
       "0  28439135    66.018620\n",
       "0  28159115  2648.261500"
      ]
     },
     "execution_count": 5,
     "metadata": {},
     "output_type": "execute_result"
    }
   ],
   "source": [
    "df_merged_pred.head()"
   ]
  },
  {
   "cell_type": "code",
   "execution_count": 6,
   "metadata": {
    "execution": {
     "iopub.execute_input": "2023-02-22T05:23:49.276270Z",
     "iopub.status.busy": "2023-02-22T05:23:49.275287Z",
     "iopub.status.idle": "2023-02-22T05:23:53.090548Z",
     "shell.execute_reply": "2023-02-22T05:23:53.089359Z",
     "shell.execute_reply.started": "2023-02-22T05:23:49.276212Z"
    }
   },
   "outputs": [],
   "source": [
    "# Sort the dataframe by ID\n",
    "df_merged_pred = df_merged_pred.sort_values(by=['id'])"
   ]
  },
  {
   "cell_type": "code",
   "execution_count": 7,
   "metadata": {
    "execution": {
     "iopub.execute_input": "2023-02-22T05:23:53.093347Z",
     "iopub.status.busy": "2023-02-22T05:23:53.092207Z",
     "iopub.status.idle": "2023-02-22T05:23:53.231585Z",
     "shell.execute_reply": "2023-02-22T05:23:53.230397Z",
     "shell.execute_reply.started": "2023-02-22T05:23:53.093291Z"
    }
   },
   "outputs": [],
   "source": [
    "# Reset the index to start from 0 and drop the old index\n",
    "df_merged_pred = df_merged_pred.reset_index(drop=True)"
   ]
  },
  {
   "cell_type": "code",
   "execution_count": 8,
   "metadata": {
    "execution": {
     "iopub.execute_input": "2023-02-22T05:23:53.233968Z",
     "iopub.status.busy": "2023-02-22T05:23:53.233467Z",
     "iopub.status.idle": "2023-02-22T05:23:53.245823Z",
     "shell.execute_reply": "2023-02-22T05:23:53.244334Z",
     "shell.execute_reply.started": "2023-02-22T05:23:53.233923Z"
    }
   },
   "outputs": [
    {
     "data": {
      "text/html": [
       "<div>\n",
       "<style scoped>\n",
       "    .dataframe tbody tr th:only-of-type {\n",
       "        vertical-align: middle;\n",
       "    }\n",
       "\n",
       "    .dataframe tbody tr th {\n",
       "        vertical-align: top;\n",
       "    }\n",
       "\n",
       "    .dataframe thead th {\n",
       "        text-align: right;\n",
       "    }\n",
       "</style>\n",
       "<table border=\"1\" class=\"dataframe\">\n",
       "  <thead>\n",
       "    <tr style=\"text-align: right;\">\n",
       "      <th></th>\n",
       "      <th>id</th>\n",
       "      <th>yield</th>\n",
       "    </tr>\n",
       "  </thead>\n",
       "  <tbody>\n",
       "    <tr>\n",
       "      <th>0</th>\n",
       "      <td>0</td>\n",
       "      <td>63.530056</td>\n",
       "    </tr>\n",
       "    <tr>\n",
       "      <th>1</th>\n",
       "      <td>1</td>\n",
       "      <td>58.683303</td>\n",
       "    </tr>\n",
       "    <tr>\n",
       "      <th>2</th>\n",
       "      <td>2</td>\n",
       "      <td>68.633995</td>\n",
       "    </tr>\n",
       "    <tr>\n",
       "      <th>3</th>\n",
       "      <td>3</td>\n",
       "      <td>87.466589</td>\n",
       "    </tr>\n",
       "    <tr>\n",
       "      <th>4</th>\n",
       "      <td>4</td>\n",
       "      <td>183.045940</td>\n",
       "    </tr>\n",
       "  </tbody>\n",
       "</table>\n",
       "</div>"
      ],
      "text/plain": [
       "   id       yield\n",
       "0   0   63.530056\n",
       "1   1   58.683303\n",
       "2   2   68.633995\n",
       "3   3   87.466589\n",
       "4   4  183.045940"
      ]
     },
     "execution_count": 8,
     "metadata": {},
     "output_type": "execute_result"
    }
   ],
   "source": [
    "df_merged_pred.head()"
   ]
  },
  {
   "cell_type": "code",
   "execution_count": 9,
   "metadata": {
    "execution": {
     "iopub.execute_input": "2023-02-22T05:23:53.247188Z",
     "iopub.status.busy": "2023-02-22T05:23:53.246735Z",
     "iopub.status.idle": "2023-02-22T05:23:53.260731Z",
     "shell.execute_reply": "2023-02-22T05:23:53.259656Z",
     "shell.execute_reply.started": "2023-02-22T05:23:53.247150Z"
    }
   },
   "outputs": [
    {
     "data": {
      "text/plain": [
       "(21154797, 2)"
      ]
     },
     "execution_count": 9,
     "metadata": {},
     "output_type": "execute_result"
    }
   ],
   "source": [
    "df_merged_pred.shape"
   ]
  },
  {
   "cell_type": "markdown",
   "metadata": {},
   "source": [
    "as we can see above shape doesn't match with the submission file shape so let's drop some rows"
   ]
  },
  {
   "cell_type": "code",
   "execution_count": 10,
   "metadata": {
    "execution": {
     "iopub.execute_input": "2023-02-22T05:23:53.263727Z",
     "iopub.status.busy": "2023-02-22T05:23:53.263234Z",
     "iopub.status.idle": "2023-02-22T05:23:53.276811Z",
     "shell.execute_reply": "2023-02-22T05:23:53.276052Z",
     "shell.execute_reply.started": "2023-02-22T05:23:53.263695Z"
    }
   },
   "outputs": [
    {
     "data": {
      "text/html": [
       "<div>\n",
       "<style scoped>\n",
       "    .dataframe tbody tr th:only-of-type {\n",
       "        vertical-align: middle;\n",
       "    }\n",
       "\n",
       "    .dataframe tbody tr th {\n",
       "        vertical-align: top;\n",
       "    }\n",
       "\n",
       "    .dataframe thead th {\n",
       "        text-align: right;\n",
       "    }\n",
       "</style>\n",
       "<table border=\"1\" class=\"dataframe\">\n",
       "  <thead>\n",
       "    <tr style=\"text-align: right;\">\n",
       "      <th></th>\n",
       "      <th>id</th>\n",
       "      <th>yield</th>\n",
       "    </tr>\n",
       "  </thead>\n",
       "  <tbody>\n",
       "    <tr>\n",
       "      <th>0</th>\n",
       "      <td>0</td>\n",
       "      <td>63.530056</td>\n",
       "    </tr>\n",
       "    <tr>\n",
       "      <th>1</th>\n",
       "      <td>1</td>\n",
       "      <td>58.683303</td>\n",
       "    </tr>\n",
       "    <tr>\n",
       "      <th>2</th>\n",
       "      <td>2</td>\n",
       "      <td>68.633995</td>\n",
       "    </tr>\n",
       "    <tr>\n",
       "      <th>3</th>\n",
       "      <td>3</td>\n",
       "      <td>87.466589</td>\n",
       "    </tr>\n",
       "    <tr>\n",
       "      <th>4</th>\n",
       "      <td>4</td>\n",
       "      <td>183.045940</td>\n",
       "    </tr>\n",
       "    <tr>\n",
       "      <th>5</th>\n",
       "      <td>5</td>\n",
       "      <td>71.333035</td>\n",
       "    </tr>\n",
       "    <tr>\n",
       "      <th>6</th>\n",
       "      <td>6</td>\n",
       "      <td>91.828872</td>\n",
       "    </tr>\n",
       "    <tr>\n",
       "      <th>7</th>\n",
       "      <td>7</td>\n",
       "      <td>187.640686</td>\n",
       "    </tr>\n",
       "    <tr>\n",
       "      <th>8</th>\n",
       "      <td>8</td>\n",
       "      <td>1254.622434</td>\n",
       "    </tr>\n",
       "    <tr>\n",
       "      <th>9</th>\n",
       "      <td>9</td>\n",
       "      <td>125.652248</td>\n",
       "    </tr>\n",
       "  </tbody>\n",
       "</table>\n",
       "</div>"
      ],
      "text/plain": [
       "   id        yield\n",
       "0   0    63.530056\n",
       "1   1    58.683303\n",
       "2   2    68.633995\n",
       "3   3    87.466589\n",
       "4   4   183.045940\n",
       "5   5    71.333035\n",
       "6   6    91.828872\n",
       "7   7   187.640686\n",
       "8   8  1254.622434\n",
       "9   9   125.652248"
      ]
     },
     "execution_count": 10,
     "metadata": {},
     "output_type": "execute_result"
    }
   ],
   "source": [
    "# Number of rows to drop \n",
    "n = 305997\n",
    "  \n",
    "# Removing last n rows \n",
    "Test_Data = df_merged_pred.iloc[:-n] \n",
    "  \n",
    "# Printing dataframe \n",
    "Test_Data.head(10)"
   ]
  },
  {
   "cell_type": "code",
   "execution_count": 11,
   "metadata": {
    "execution": {
     "iopub.execute_input": "2023-02-22T05:23:53.278550Z",
     "iopub.status.busy": "2023-02-22T05:23:53.277767Z",
     "iopub.status.idle": "2023-02-22T05:24:37.906549Z",
     "shell.execute_reply": "2023-02-22T05:24:37.905231Z",
     "shell.execute_reply.started": "2023-02-22T05:23:53.278519Z"
    }
   },
   "outputs": [],
   "source": [
    "# creating submission file\n",
    "Test_Data.to_csv('submission_ingred.csv', index = None)"
   ]
  },
  {
   "cell_type": "code",
   "execution_count": null,
   "metadata": {},
   "outputs": [],
   "source": []
  },
  {
   "cell_type": "code",
   "execution_count": null,
   "metadata": {},
   "outputs": [],
   "source": []
  },
  {
   "cell_type": "code",
   "execution_count": null,
   "metadata": {},
   "outputs": [],
   "source": []
  }
 ],
 "metadata": {
  "kernelspec": {
   "display_name": "Python 3 (ipykernel)",
   "language": "python",
   "name": "python3"
  },
  "language_info": {
   "codemirror_mode": {
    "name": "ipython",
    "version": 3
   },
   "file_extension": ".py",
   "mimetype": "text/x-python",
   "name": "python",
   "nbconvert_exporter": "python",
   "pygments_lexer": "ipython3",
   "version": "3.9.13"
  }
 },
 "nbformat": 4,
 "nbformat_minor": 4
}
