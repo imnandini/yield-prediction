{
 "cells": [
  {
   "cell_type": "code",
   "execution_count": 1,
   "metadata": {
    "execution": {
     "iopub.execute_input": "2023-02-23T03:51:50.953033Z",
     "iopub.status.busy": "2023-02-23T03:51:50.952572Z",
     "iopub.status.idle": "2023-02-23T03:51:53.477919Z",
     "shell.execute_reply": "2023-02-23T03:51:53.476209Z",
     "shell.execute_reply.started": "2023-02-23T03:51:50.952942Z"
    },
    "id": "6RHtcsZ02d8t",
    "outputId": "7da4c2f5-2cba-40ac-d1da-fe32fab5684c"
   },
   "outputs": [
    {
     "name": "stdout",
     "output_type": "stream",
     "text": [
      "/kaggle/input/hackth/farm_data-1646897931981.csv\n",
      "/kaggle/input/hackth/test_weather-1646897984996-1664552604982.csv\n",
      "/kaggle/input/hackth/train_data.csv\n",
      "/kaggle/input/hackth/train_weather-1646897968670.csv\n",
      "/kaggle/input/hackth/test_data-1664552867678.csv\n"
     ]
    }
   ],
   "source": [
    "#importing necessary libraries\n",
    "import pandas as pd\n",
    "import numpy as np\n",
    "import matplotlib.pyplot as plt \n",
    "import seaborn as sns\n",
    "from datetime import datetime    # To access datetime  \n",
    "%matplotlib inline\n",
    "from matplotlib.pyplot import rcParams\n",
    "rcParams['figure.figsize'] = 10, 6\n",
    "import warnings                   # To ignore the warnings\n",
    "warnings.filterwarnings(\"ignore\")\n",
    "import statsmodels.api as sm\n",
    "from statsmodels.stats.outliers_influence import variance_inflation_factor\n",
    "\n",
    "import os\n",
    "for dirname, _, filenames in os.walk('/kaggle/input'):\n",
    "    for filename in filenames:\n",
    "        print(os.path.join(dirname, filename))"
   ]
  },
  {
   "cell_type": "code",
   "execution_count": 2,
   "metadata": {
    "execution": {
     "iopub.execute_input": "2023-02-23T03:51:53.481802Z",
     "iopub.status.busy": "2023-02-23T03:51:53.480881Z",
     "iopub.status.idle": "2023-02-23T03:52:22.148275Z",
     "shell.execute_reply": "2023-02-23T03:52:22.146876Z",
     "shell.execute_reply.started": "2023-02-23T03:51:53.481747Z"
    },
    "id": "Acy4blm42urH"
   },
   "outputs": [],
   "source": [
    "#importing the training data\n",
    "train_weather = pd.read_csv(\"/kaggle/input/hackth/train_weather-1646897968670.csv\")\n",
    "farm_data = pd.read_csv(\"/kaggle/input/hackth/farm_data-1646897931981.csv\")\n",
    "train_data = pd.read_csv(\"/kaggle/input/hackth/train_data.csv\")"
   ]
  },
  {
   "cell_type": "code",
   "execution_count": 3,
   "metadata": {
    "execution": {
     "iopub.execute_input": "2023-02-23T03:52:22.150042Z",
     "iopub.status.busy": "2023-02-23T03:52:22.149691Z",
     "iopub.status.idle": "2023-02-23T03:52:49.883832Z",
     "shell.execute_reply": "2023-02-23T03:52:49.882356Z",
     "shell.execute_reply.started": "2023-02-23T03:52:22.150011Z"
    }
   },
   "outputs": [],
   "source": [
    "# Reading the test data files\n",
    "test_weather = pd.read_csv('/kaggle/input/hackth/test_weather-1646897984996-1664552604982.csv')\n",
    "test_data = pd.read_csv('/kaggle/input/hackth/test_data-1664552867678.csv')"
   ]
  },
  {
   "cell_type": "code",
   "execution_count": 6,
   "metadata": {
    "execution": {
     "iopub.execute_input": "2023-02-23T03:55:11.187419Z",
     "iopub.status.busy": "2023-02-23T03:55:11.186889Z",
     "iopub.status.idle": "2023-02-23T03:55:39.701505Z",
     "shell.execute_reply": "2023-02-23T03:55:39.700044Z",
     "shell.execute_reply.started": "2023-02-23T03:55:11.187378Z"
    }
   },
   "outputs": [],
   "source": [
    "# Use the duplicated() and sum() functions to count the number of duplicates\n",
    "train_duplicates = train_data.duplicated().sum()\n",
    "test_duplicates = test_data.duplicated().sum()\n",
    "train_weather_duplicates = train_weather.duplicated().sum()\n",
    "test_weather_duplicates = test_weather.duplicated().sum()\n",
    "farm_data_duplicates = farm_data.duplicated().sum()"
   ]
  },
  {
   "cell_type": "code",
   "execution_count": 8,
   "metadata": {
    "execution": {
     "iopub.execute_input": "2023-02-23T03:55:59.087625Z",
     "iopub.status.busy": "2023-02-23T03:55:59.087039Z",
     "iopub.status.idle": "2023-02-23T03:55:59.095874Z",
     "shell.execute_reply": "2023-02-23T03:55:59.093834Z",
     "shell.execute_reply.started": "2023-02-23T03:55:59.087587Z"
    }
   },
   "outputs": [
    {
     "name": "stdout",
     "output_type": "stream",
     "text": [
      "duplicates in train data 117\n",
      "duplicates in test data 0\n",
      "duplicates in train weather data 0\n",
      "duplicates in test weather data 0\n",
      "duplicates in farm data 0\n"
     ]
    }
   ],
   "source": [
    "print(\"duplicates in train data\", train_duplicates)\n",
    "print(\"duplicates in test data\", test_duplicates)\n",
    "print(\"duplicates in train weather data\", train_weather_duplicates)\n",
    "print(\"duplicates in test weather data\", test_weather_duplicates)\n",
    "print(\"duplicates in farm data\", farm_data_duplicates)"
   ]
  },
  {
   "cell_type": "code",
   "execution_count": 9,
   "metadata": {
    "execution": {
     "iopub.execute_input": "2023-02-23T03:56:15.629552Z",
     "iopub.status.busy": "2023-02-23T03:56:15.628968Z",
     "iopub.status.idle": "2023-02-23T03:56:15.660480Z",
     "shell.execute_reply": "2023-02-23T03:56:15.658598Z",
     "shell.execute_reply.started": "2023-02-23T03:56:15.629501Z"
    },
    "id": "_ODPkuUY2uuW",
    "outputId": "ee1b2611-e2f6-417a-ea1d-28d61e90012f"
   },
   "outputs": [
    {
     "data": {
      "text/html": [
       "<div>\n",
       "<style scoped>\n",
       "    .dataframe tbody tr th:only-of-type {\n",
       "        vertical-align: middle;\n",
       "    }\n",
       "\n",
       "    .dataframe tbody tr th {\n",
       "        vertical-align: top;\n",
       "    }\n",
       "\n",
       "    .dataframe thead th {\n",
       "        text-align: right;\n",
       "    }\n",
       "</style>\n",
       "<table border=\"1\" class=\"dataframe\">\n",
       "  <thead>\n",
       "    <tr style=\"text-align: right;\">\n",
       "      <th></th>\n",
       "      <th>timestamp</th>\n",
       "      <th>deidentified_location</th>\n",
       "      <th>temp_obs</th>\n",
       "      <th>cloudiness</th>\n",
       "      <th>wind_direction</th>\n",
       "      <th>dew_temp</th>\n",
       "      <th>pressure_sea_level</th>\n",
       "      <th>precipitation</th>\n",
       "      <th>wind_speed</th>\n",
       "    </tr>\n",
       "  </thead>\n",
       "  <tbody>\n",
       "    <tr>\n",
       "      <th>0</th>\n",
       "      <td>2016-01-01 00:00:00</td>\n",
       "      <td>location 7369</td>\n",
       "      <td>25.0</td>\n",
       "      <td>6.0</td>\n",
       "      <td>0.0</td>\n",
       "      <td>20.0</td>\n",
       "      <td>1019.7</td>\n",
       "      <td>NaN</td>\n",
       "      <td>0.0</td>\n",
       "    </tr>\n",
       "    <tr>\n",
       "      <th>1</th>\n",
       "      <td>2016-01-01 01:00:00</td>\n",
       "      <td>location 7369</td>\n",
       "      <td>24.4</td>\n",
       "      <td>NaN</td>\n",
       "      <td>70.0</td>\n",
       "      <td>21.1</td>\n",
       "      <td>1020.2</td>\n",
       "      <td>-1.0</td>\n",
       "      <td>1.5</td>\n",
       "    </tr>\n",
       "    <tr>\n",
       "      <th>2</th>\n",
       "      <td>2016-01-01 02:00:00</td>\n",
       "      <td>location 7369</td>\n",
       "      <td>22.8</td>\n",
       "      <td>2.0</td>\n",
       "      <td>0.0</td>\n",
       "      <td>21.1</td>\n",
       "      <td>1020.2</td>\n",
       "      <td>0.0</td>\n",
       "      <td>0.0</td>\n",
       "    </tr>\n",
       "    <tr>\n",
       "      <th>3</th>\n",
       "      <td>2016-01-01 03:00:00</td>\n",
       "      <td>location 7369</td>\n",
       "      <td>21.1</td>\n",
       "      <td>2.0</td>\n",
       "      <td>0.0</td>\n",
       "      <td>20.6</td>\n",
       "      <td>1020.1</td>\n",
       "      <td>0.0</td>\n",
       "      <td>0.0</td>\n",
       "    </tr>\n",
       "    <tr>\n",
       "      <th>4</th>\n",
       "      <td>2016-01-01 04:00:00</td>\n",
       "      <td>location 7369</td>\n",
       "      <td>20.0</td>\n",
       "      <td>2.0</td>\n",
       "      <td>250.0</td>\n",
       "      <td>20.0</td>\n",
       "      <td>1020.0</td>\n",
       "      <td>-1.0</td>\n",
       "      <td>2.6</td>\n",
       "    </tr>\n",
       "  </tbody>\n",
       "</table>\n",
       "</div>"
      ],
      "text/plain": [
       "             timestamp deidentified_location  temp_obs  cloudiness  \\\n",
       "0  2016-01-01 00:00:00         location 7369      25.0         6.0   \n",
       "1  2016-01-01 01:00:00         location 7369      24.4         NaN   \n",
       "2  2016-01-01 02:00:00         location 7369      22.8         2.0   \n",
       "3  2016-01-01 03:00:00         location 7369      21.1         2.0   \n",
       "4  2016-01-01 04:00:00         location 7369      20.0         2.0   \n",
       "\n",
       "   wind_direction  dew_temp  pressure_sea_level  precipitation  wind_speed  \n",
       "0             0.0      20.0              1019.7            NaN         0.0  \n",
       "1            70.0      21.1              1020.2           -1.0         1.5  \n",
       "2             0.0      21.1              1020.2            0.0         0.0  \n",
       "3             0.0      20.6              1020.1            0.0         0.0  \n",
       "4           250.0      20.0              1020.0           -1.0         2.6  "
      ]
     },
     "execution_count": 9,
     "metadata": {},
     "output_type": "execute_result"
    }
   ],
   "source": [
    "# checking the train weather data\n",
    "train_weather.head()"
   ]
  },
  {
   "cell_type": "code",
   "execution_count": 10,
   "metadata": {
    "execution": {
     "iopub.execute_input": "2023-02-23T03:56:15.664806Z",
     "iopub.status.busy": "2023-02-23T03:56:15.663974Z",
     "iopub.status.idle": "2023-02-23T03:56:15.684361Z",
     "shell.execute_reply": "2023-02-23T03:56:15.683442Z",
     "shell.execute_reply.started": "2023-02-23T03:56:15.664762Z"
    }
   },
   "outputs": [
    {
     "data": {
      "text/html": [
       "<div>\n",
       "<style scoped>\n",
       "    .dataframe tbody tr th:only-of-type {\n",
       "        vertical-align: middle;\n",
       "    }\n",
       "\n",
       "    .dataframe tbody tr th {\n",
       "        vertical-align: top;\n",
       "    }\n",
       "\n",
       "    .dataframe thead th {\n",
       "        text-align: right;\n",
       "    }\n",
       "</style>\n",
       "<table border=\"1\" class=\"dataframe\">\n",
       "  <thead>\n",
       "    <tr style=\"text-align: right;\">\n",
       "      <th></th>\n",
       "      <th>timestamp</th>\n",
       "      <th>deidentified_location</th>\n",
       "      <th>temp_obs</th>\n",
       "      <th>cloudiness</th>\n",
       "      <th>wind_direction</th>\n",
       "      <th>dew_temp</th>\n",
       "      <th>pressure_sea_level</th>\n",
       "      <th>precipitation</th>\n",
       "      <th>wind_speed</th>\n",
       "    </tr>\n",
       "  </thead>\n",
       "  <tbody>\n",
       "    <tr>\n",
       "      <th>0</th>\n",
       "      <td>2017-01-01 00:00:00</td>\n",
       "      <td>location 7369</td>\n",
       "      <td>17.8</td>\n",
       "      <td>4.0</td>\n",
       "      <td>100.0</td>\n",
       "      <td>11.7</td>\n",
       "      <td>1021.4</td>\n",
       "      <td>NaN</td>\n",
       "      <td>3.6</td>\n",
       "    </tr>\n",
       "    <tr>\n",
       "      <th>1</th>\n",
       "      <td>2017-01-01 01:00:00</td>\n",
       "      <td>location 7369</td>\n",
       "      <td>17.8</td>\n",
       "      <td>2.0</td>\n",
       "      <td>130.0</td>\n",
       "      <td>12.8</td>\n",
       "      <td>1022.0</td>\n",
       "      <td>0.0</td>\n",
       "      <td>3.1</td>\n",
       "    </tr>\n",
       "    <tr>\n",
       "      <th>2</th>\n",
       "      <td>2017-01-01 02:00:00</td>\n",
       "      <td>location 7369</td>\n",
       "      <td>16.1</td>\n",
       "      <td>0.0</td>\n",
       "      <td>140.0</td>\n",
       "      <td>12.8</td>\n",
       "      <td>1021.9</td>\n",
       "      <td>0.0</td>\n",
       "      <td>3.1</td>\n",
       "    </tr>\n",
       "    <tr>\n",
       "      <th>3</th>\n",
       "      <td>2017-01-01 03:00:00</td>\n",
       "      <td>location 7369</td>\n",
       "      <td>17.2</td>\n",
       "      <td>0.0</td>\n",
       "      <td>140.0</td>\n",
       "      <td>13.3</td>\n",
       "      <td>1022.2</td>\n",
       "      <td>0.0</td>\n",
       "      <td>3.1</td>\n",
       "    </tr>\n",
       "    <tr>\n",
       "      <th>4</th>\n",
       "      <td>2017-01-01 04:00:00</td>\n",
       "      <td>location 7369</td>\n",
       "      <td>16.7</td>\n",
       "      <td>2.0</td>\n",
       "      <td>130.0</td>\n",
       "      <td>13.3</td>\n",
       "      <td>1022.3</td>\n",
       "      <td>0.0</td>\n",
       "      <td>2.6</td>\n",
       "    </tr>\n",
       "  </tbody>\n",
       "</table>\n",
       "</div>"
      ],
      "text/plain": [
       "             timestamp deidentified_location  temp_obs  cloudiness  \\\n",
       "0  2017-01-01 00:00:00         location 7369      17.8         4.0   \n",
       "1  2017-01-01 01:00:00         location 7369      17.8         2.0   \n",
       "2  2017-01-01 02:00:00         location 7369      16.1         0.0   \n",
       "3  2017-01-01 03:00:00         location 7369      17.2         0.0   \n",
       "4  2017-01-01 04:00:00         location 7369      16.7         2.0   \n",
       "\n",
       "   wind_direction  dew_temp  pressure_sea_level  precipitation  wind_speed  \n",
       "0           100.0      11.7              1021.4            NaN         3.6  \n",
       "1           130.0      12.8              1022.0            0.0         3.1  \n",
       "2           140.0      12.8              1021.9            0.0         3.1  \n",
       "3           140.0      13.3              1022.2            0.0         3.1  \n",
       "4           130.0      13.3              1022.3            0.0         2.6  "
      ]
     },
     "execution_count": 10,
     "metadata": {},
     "output_type": "execute_result"
    }
   ],
   "source": [
    "# checking the test weather data\n",
    "test_weather.head()"
   ]
  },
  {
   "cell_type": "code",
   "execution_count": 11,
   "metadata": {
    "execution": {
     "iopub.execute_input": "2023-02-23T03:56:15.686638Z",
     "iopub.status.busy": "2023-02-23T03:56:15.685542Z",
     "iopub.status.idle": "2023-02-23T03:56:15.712215Z",
     "shell.execute_reply": "2023-02-23T03:56:15.708665Z",
     "shell.execute_reply.started": "2023-02-23T03:56:15.686600Z"
    },
    "id": "_bxQzNq4xzhq",
    "outputId": "be476342-5064-4eee-937f-b7591dc2ee06"
   },
   "outputs": [
    {
     "data": {
      "text/html": [
       "<div>\n",
       "<style scoped>\n",
       "    .dataframe tbody tr th:only-of-type {\n",
       "        vertical-align: middle;\n",
       "    }\n",
       "\n",
       "    .dataframe tbody tr th {\n",
       "        vertical-align: top;\n",
       "    }\n",
       "\n",
       "    .dataframe thead th {\n",
       "        text-align: right;\n",
       "    }\n",
       "</style>\n",
       "<table border=\"1\" class=\"dataframe\">\n",
       "  <thead>\n",
       "    <tr style=\"text-align: right;\">\n",
       "      <th></th>\n",
       "      <th>date</th>\n",
       "      <th>farm_id</th>\n",
       "      <th>ingredient_type</th>\n",
       "      <th>yield</th>\n",
       "    </tr>\n",
       "  </thead>\n",
       "  <tbody>\n",
       "    <tr>\n",
       "      <th>0</th>\n",
       "      <td>2016-01-01 00:00:00</td>\n",
       "      <td>fid_110884</td>\n",
       "      <td>ing_w</td>\n",
       "      <td>0.0</td>\n",
       "    </tr>\n",
       "    <tr>\n",
       "      <th>1</th>\n",
       "      <td>2016-01-01 00:00:00</td>\n",
       "      <td>fid_90053</td>\n",
       "      <td>ing_w</td>\n",
       "      <td>0.0</td>\n",
       "    </tr>\n",
       "    <tr>\n",
       "      <th>2</th>\n",
       "      <td>2016-01-01 00:00:00</td>\n",
       "      <td>fid_17537</td>\n",
       "      <td>ing_w</td>\n",
       "      <td>0.0</td>\n",
       "    </tr>\n",
       "    <tr>\n",
       "      <th>3</th>\n",
       "      <td>2016-01-01 00:00:00</td>\n",
       "      <td>fid_110392</td>\n",
       "      <td>ing_w</td>\n",
       "      <td>0.0</td>\n",
       "    </tr>\n",
       "    <tr>\n",
       "      <th>4</th>\n",
       "      <td>2016-01-01 00:00:00</td>\n",
       "      <td>fid_62402</td>\n",
       "      <td>ing_w</td>\n",
       "      <td>0.0</td>\n",
       "    </tr>\n",
       "  </tbody>\n",
       "</table>\n",
       "</div>"
      ],
      "text/plain": [
       "                  date     farm_id ingredient_type  yield\n",
       "0  2016-01-01 00:00:00  fid_110884           ing_w    0.0\n",
       "1  2016-01-01 00:00:00   fid_90053           ing_w    0.0\n",
       "2  2016-01-01 00:00:00   fid_17537           ing_w    0.0\n",
       "3  2016-01-01 00:00:00  fid_110392           ing_w    0.0\n",
       "4  2016-01-01 00:00:00   fid_62402           ing_w    0.0"
      ]
     },
     "execution_count": 11,
     "metadata": {},
     "output_type": "execute_result"
    }
   ],
   "source": [
    "# checking the train data\n",
    "train_data.head()"
   ]
  },
  {
   "cell_type": "code",
   "execution_count": 12,
   "metadata": {
    "execution": {
     "iopub.execute_input": "2023-02-23T03:56:15.717779Z",
     "iopub.status.busy": "2023-02-23T03:56:15.715736Z",
     "iopub.status.idle": "2023-02-23T03:56:15.733257Z",
     "shell.execute_reply": "2023-02-23T03:56:15.732011Z",
     "shell.execute_reply.started": "2023-02-23T03:56:15.717137Z"
    }
   },
   "outputs": [
    {
     "data": {
      "text/html": [
       "<div>\n",
       "<style scoped>\n",
       "    .dataframe tbody tr th:only-of-type {\n",
       "        vertical-align: middle;\n",
       "    }\n",
       "\n",
       "    .dataframe tbody tr th {\n",
       "        vertical-align: top;\n",
       "    }\n",
       "\n",
       "    .dataframe thead th {\n",
       "        text-align: right;\n",
       "    }\n",
       "</style>\n",
       "<table border=\"1\" class=\"dataframe\">\n",
       "  <thead>\n",
       "    <tr style=\"text-align: right;\">\n",
       "      <th></th>\n",
       "      <th>date</th>\n",
       "      <th>farm_id</th>\n",
       "      <th>ingredient_type</th>\n",
       "      <th>id</th>\n",
       "    </tr>\n",
       "  </thead>\n",
       "  <tbody>\n",
       "    <tr>\n",
       "      <th>0</th>\n",
       "      <td>2017-01-01 00:00:00</td>\n",
       "      <td>fid_110884</td>\n",
       "      <td>ing_w</td>\n",
       "      <td>0</td>\n",
       "    </tr>\n",
       "    <tr>\n",
       "      <th>1</th>\n",
       "      <td>2017-01-01 00:00:00</td>\n",
       "      <td>fid_90053</td>\n",
       "      <td>ing_w</td>\n",
       "      <td>1</td>\n",
       "    </tr>\n",
       "    <tr>\n",
       "      <th>2</th>\n",
       "      <td>2017-01-01 00:00:00</td>\n",
       "      <td>fid_17537</td>\n",
       "      <td>ing_w</td>\n",
       "      <td>2</td>\n",
       "    </tr>\n",
       "    <tr>\n",
       "      <th>3</th>\n",
       "      <td>2017-01-01 00:00:00</td>\n",
       "      <td>fid_110392</td>\n",
       "      <td>ing_w</td>\n",
       "      <td>3</td>\n",
       "    </tr>\n",
       "    <tr>\n",
       "      <th>4</th>\n",
       "      <td>2017-01-01 00:00:00</td>\n",
       "      <td>fid_62402</td>\n",
       "      <td>ing_w</td>\n",
       "      <td>4</td>\n",
       "    </tr>\n",
       "  </tbody>\n",
       "</table>\n",
       "</div>"
      ],
      "text/plain": [
       "                  date     farm_id ingredient_type  id\n",
       "0  2017-01-01 00:00:00  fid_110884           ing_w   0\n",
       "1  2017-01-01 00:00:00   fid_90053           ing_w   1\n",
       "2  2017-01-01 00:00:00   fid_17537           ing_w   2\n",
       "3  2017-01-01 00:00:00  fid_110392           ing_w   3\n",
       "4  2017-01-01 00:00:00   fid_62402           ing_w   4"
      ]
     },
     "execution_count": 12,
     "metadata": {},
     "output_type": "execute_result"
    }
   ],
   "source": [
    "# checking the test data\n",
    "test_data.head()"
   ]
  },
  {
   "cell_type": "code",
   "execution_count": 13,
   "metadata": {
    "execution": {
     "iopub.execute_input": "2023-02-23T03:56:15.736589Z",
     "iopub.status.busy": "2023-02-23T03:56:15.736067Z",
     "iopub.status.idle": "2023-02-23T03:56:15.761244Z",
     "shell.execute_reply": "2023-02-23T03:56:15.759700Z",
     "shell.execute_reply.started": "2023-02-23T03:56:15.736549Z"
    },
    "id": "4Sukcrzx1HrB",
    "outputId": "333db76f-8959-4dc4-d731-4f264c6a2912"
   },
   "outputs": [
    {
     "data": {
      "text/html": [
       "<div>\n",
       "<style scoped>\n",
       "    .dataframe tbody tr th:only-of-type {\n",
       "        vertical-align: middle;\n",
       "    }\n",
       "\n",
       "    .dataframe tbody tr th {\n",
       "        vertical-align: top;\n",
       "    }\n",
       "\n",
       "    .dataframe thead th {\n",
       "        text-align: right;\n",
       "    }\n",
       "</style>\n",
       "<table border=\"1\" class=\"dataframe\">\n",
       "  <thead>\n",
       "    <tr style=\"text-align: right;\">\n",
       "      <th></th>\n",
       "      <th>farm_id</th>\n",
       "      <th>operations_commencing_year</th>\n",
       "      <th>num_processing_plants</th>\n",
       "      <th>farm_area</th>\n",
       "      <th>farming_company</th>\n",
       "      <th>deidentified_location</th>\n",
       "    </tr>\n",
       "  </thead>\n",
       "  <tbody>\n",
       "    <tr>\n",
       "      <th>0</th>\n",
       "      <td>fid_110884</td>\n",
       "      <td>2008.0</td>\n",
       "      <td>NaN</td>\n",
       "      <td>690.455096</td>\n",
       "      <td>Obery Farms</td>\n",
       "      <td>location 7369</td>\n",
       "    </tr>\n",
       "    <tr>\n",
       "      <th>1</th>\n",
       "      <td>fid_90053</td>\n",
       "      <td>2004.0</td>\n",
       "      <td>NaN</td>\n",
       "      <td>252.696160</td>\n",
       "      <td>Obery Farms</td>\n",
       "      <td>location 7369</td>\n",
       "    </tr>\n",
       "    <tr>\n",
       "      <th>2</th>\n",
       "      <td>fid_17537</td>\n",
       "      <td>1991.0</td>\n",
       "      <td>NaN</td>\n",
       "      <td>499.446528</td>\n",
       "      <td>Obery Farms</td>\n",
       "      <td>location 7369</td>\n",
       "    </tr>\n",
       "    <tr>\n",
       "      <th>3</th>\n",
       "      <td>fid_110392</td>\n",
       "      <td>2002.0</td>\n",
       "      <td>NaN</td>\n",
       "      <td>2200.407555</td>\n",
       "      <td>Obery Farms</td>\n",
       "      <td>location 7369</td>\n",
       "    </tr>\n",
       "    <tr>\n",
       "      <th>4</th>\n",
       "      <td>fid_62402</td>\n",
       "      <td>1975.0</td>\n",
       "      <td>NaN</td>\n",
       "      <td>10833.140121</td>\n",
       "      <td>Obery Farms</td>\n",
       "      <td>location 7369</td>\n",
       "    </tr>\n",
       "  </tbody>\n",
       "</table>\n",
       "</div>"
      ],
      "text/plain": [
       "      farm_id  operations_commencing_year  num_processing_plants  \\\n",
       "0  fid_110884                      2008.0                    NaN   \n",
       "1   fid_90053                      2004.0                    NaN   \n",
       "2   fid_17537                      1991.0                    NaN   \n",
       "3  fid_110392                      2002.0                    NaN   \n",
       "4   fid_62402                      1975.0                    NaN   \n",
       "\n",
       "      farm_area farming_company deidentified_location  \n",
       "0    690.455096     Obery Farms         location 7369  \n",
       "1    252.696160     Obery Farms         location 7369  \n",
       "2    499.446528     Obery Farms         location 7369  \n",
       "3   2200.407555     Obery Farms         location 7369  \n",
       "4  10833.140121     Obery Farms         location 7369  "
      ]
     },
     "execution_count": 13,
     "metadata": {},
     "output_type": "execute_result"
    }
   ],
   "source": [
    "# checking the farm data\n",
    "farm_data.head()"
   ]
  },
  {
   "cell_type": "markdown",
   "metadata": {
    "id": "Dbiqg_xV5HCE"
   },
   "source": [
    "## Identification of Varibales and Datatypes"
   ]
  },
  {
   "cell_type": "code",
   "execution_count": 14,
   "metadata": {
    "execution": {
     "iopub.execute_input": "2023-02-23T03:56:15.763215Z",
     "iopub.status.busy": "2023-02-23T03:56:15.762746Z",
     "iopub.status.idle": "2023-02-23T03:56:15.780995Z",
     "shell.execute_reply": "2023-02-23T03:56:15.779362Z",
     "shell.execute_reply.started": "2023-02-23T03:56:15.763178Z"
    },
    "id": "udnzed_CygUW",
    "outputId": "f6598a02-5500-475c-9b1d-5d0d0c444082"
   },
   "outputs": [
    {
     "data": {
      "text/plain": [
       "date                object\n",
       "farm_id             object\n",
       "ingredient_type     object\n",
       "yield              float64\n",
       "dtype: object"
      ]
     },
     "execution_count": 14,
     "metadata": {},
     "output_type": "execute_result"
    }
   ],
   "source": [
    "# checking the train data types\n",
    "train_data.dtypes"
   ]
  },
  {
   "cell_type": "markdown",
   "metadata": {},
   "source": [
    "* The data contains 2 object features such as 'date', 'farm_id', 'ingredient_type' and 1 category feature such as ingredient type which we will be converting to numerical feature using one-hot-encoding \n",
    "* The data consist 1 numerical continuous features is 'yield'"
   ]
  },
  {
   "cell_type": "code",
   "execution_count": 15,
   "metadata": {
    "execution": {
     "iopub.execute_input": "2023-02-23T03:56:15.783536Z",
     "iopub.status.busy": "2023-02-23T03:56:15.782999Z",
     "iopub.status.idle": "2023-02-23T03:56:15.800178Z",
     "shell.execute_reply": "2023-02-23T03:56:15.798914Z",
     "shell.execute_reply.started": "2023-02-23T03:56:15.783496Z"
    }
   },
   "outputs": [
    {
     "data": {
      "text/plain": [
       "date               object\n",
       "farm_id            object\n",
       "ingredient_type    object\n",
       "id                  int64\n",
       "dtype: object"
      ]
     },
     "execution_count": 15,
     "metadata": {},
     "output_type": "execute_result"
    }
   ],
   "source": [
    "# checking the test data types\n",
    "test_data.dtypes"
   ]
  },
  {
   "cell_type": "code",
   "execution_count": 16,
   "metadata": {
    "execution": {
     "iopub.execute_input": "2023-02-23T03:56:15.802981Z",
     "iopub.status.busy": "2023-02-23T03:56:15.802089Z",
     "iopub.status.idle": "2023-02-23T03:56:15.817977Z",
     "shell.execute_reply": "2023-02-23T03:56:15.816296Z",
     "shell.execute_reply.started": "2023-02-23T03:56:15.802939Z"
    },
    "id": "YSnLD5J_ynv1",
    "outputId": "a26d85b1-9047-4112-86ff-97374e0ba78d"
   },
   "outputs": [
    {
     "data": {
      "text/plain": [
       "timestamp                 object\n",
       "deidentified_location     object\n",
       "temp_obs                 float64\n",
       "cloudiness               float64\n",
       "wind_direction           float64\n",
       "dew_temp                 float64\n",
       "pressure_sea_level       float64\n",
       "precipitation            float64\n",
       "wind_speed               float64\n",
       "dtype: object"
      ]
     },
     "execution_count": 16,
     "metadata": {},
     "output_type": "execute_result"
    }
   ],
   "source": [
    "# checking the train weather data types\n",
    "train_weather.dtypes"
   ]
  },
  {
   "cell_type": "markdown",
   "metadata": {},
   "source": [
    "* The data contains 1 object feature i.e timestamp and 1 categorical feature such as 'deidentified_location' which we will be converting to numerical feature using one-hot-encoding.\n",
    "* The data consist 7 numerical continuous features such as 'temp_obs', 'cloudiness', 'wind direction', 'dew_temp', 'pressure_sea_level', 'precipitation', 'wind_speed'"
   ]
  },
  {
   "cell_type": "code",
   "execution_count": 17,
   "metadata": {
    "execution": {
     "iopub.execute_input": "2023-02-23T03:56:15.822734Z",
     "iopub.status.busy": "2023-02-23T03:56:15.820739Z",
     "iopub.status.idle": "2023-02-23T03:56:15.841609Z",
     "shell.execute_reply": "2023-02-23T03:56:15.839987Z",
     "shell.execute_reply.started": "2023-02-23T03:56:15.822674Z"
    }
   },
   "outputs": [
    {
     "data": {
      "text/plain": [
       "timestamp                 object\n",
       "deidentified_location     object\n",
       "temp_obs                 float64\n",
       "cloudiness               float64\n",
       "wind_direction           float64\n",
       "dew_temp                 float64\n",
       "pressure_sea_level       float64\n",
       "precipitation            float64\n",
       "wind_speed               float64\n",
       "dtype: object"
      ]
     },
     "execution_count": 17,
     "metadata": {},
     "output_type": "execute_result"
    }
   ],
   "source": [
    "# checking the test weather data types\n",
    "test_weather.dtypes"
   ]
  },
  {
   "cell_type": "code",
   "execution_count": 18,
   "metadata": {
    "execution": {
     "iopub.execute_input": "2023-02-23T03:56:15.843212Z",
     "iopub.status.busy": "2023-02-23T03:56:15.842826Z",
     "iopub.status.idle": "2023-02-23T03:56:15.860267Z",
     "shell.execute_reply": "2023-02-23T03:56:15.857921Z",
     "shell.execute_reply.started": "2023-02-23T03:56:15.843179Z"
    },
    "id": "_1HHsrC7yt8B",
    "outputId": "533fb9e9-e55a-44ac-c49c-adc667e50eaa"
   },
   "outputs": [
    {
     "data": {
      "text/plain": [
       "farm_id                        object\n",
       "operations_commencing_year    float64\n",
       "num_processing_plants         float64\n",
       "farm_area                     float64\n",
       "farming_company                object\n",
       "deidentified_location          object\n",
       "dtype: object"
      ]
     },
     "execution_count": 18,
     "metadata": {},
     "output_type": "execute_result"
    }
   ],
   "source": [
    "# checking the farm data types\n",
    "farm_data.dtypes"
   ]
  },
  {
   "cell_type": "markdown",
   "metadata": {},
   "source": [
    "* The data contains 1 object feature i.e farm_id and 2 categorical features such as 'deidentified_location', 'farming company' which we will be converting to numerical feature using one-hot-encoding.\n",
    "* The data consist 2 numerical discrete features such as 'num_processing_plants', 'num_processing_plants'\n",
    "* The data consist 1 numerical continuous feature such as 'farm_area'"
   ]
  },
  {
   "cell_type": "markdown",
   "metadata": {},
   "source": [
    "## Dimensions of the Data"
   ]
  },
  {
   "cell_type": "code",
   "execution_count": 19,
   "metadata": {
    "execution": {
     "iopub.execute_input": "2023-02-23T03:56:15.863967Z",
     "iopub.status.busy": "2023-02-23T03:56:15.862533Z",
     "iopub.status.idle": "2023-02-23T03:56:15.872964Z",
     "shell.execute_reply": "2023-02-23T03:56:15.870990Z",
     "shell.execute_reply.started": "2023-02-23T03:56:15.863910Z"
    },
    "id": "apNOtMFl2uxR",
    "outputId": "2f99bd76-1c65-442d-d392-3b1345b2dad2"
   },
   "outputs": [
    {
     "name": "stdout",
     "output_type": "stream",
     "text": [
      "train_weather shape (139773, 9)\n",
      "farm_data shape (1449, 6)\n",
      "train_data shape (20216100, 4)\n"
     ]
    }
   ],
   "source": [
    "# Gives the number of rows and columns in the dataframe.\n",
    "print(\"train_weather shape\",train_weather.shape)\n",
    "print(\"farm_data shape\",farm_data.shape)\n",
    "print(\"train_data shape\",train_data.shape)"
   ]
  },
  {
   "cell_type": "code",
   "execution_count": 20,
   "metadata": {
    "execution": {
     "iopub.execute_input": "2023-02-23T03:56:15.876288Z",
     "iopub.status.busy": "2023-02-23T03:56:15.875686Z",
     "iopub.status.idle": "2023-02-23T03:56:15.888920Z",
     "shell.execute_reply": "2023-02-23T03:56:15.887422Z",
     "shell.execute_reply.started": "2023-02-23T03:56:15.876239Z"
    },
    "id": "TCIKCmSv9itZ",
    "outputId": "1d701576-a859-434c-9b4e-40455577f3ab"
   },
   "outputs": [
    {
     "name": "stdout",
     "output_type": "stream",
     "text": [
      "test_weather shape (138825, 9)\n",
      "test_data shape (20848800, 4)\n"
     ]
    }
   ],
   "source": [
    "# Gives the number of rows and columns in the dataframe.\n",
    "print(\"test_weather shape\",test_weather.shape)\n",
    "print(\"test_data shape\",test_data.shape)"
   ]
  },
  {
   "cell_type": "code",
   "execution_count": 21,
   "metadata": {
    "execution": {
     "iopub.execute_input": "2023-02-23T03:56:15.898993Z",
     "iopub.status.busy": "2023-02-23T03:56:15.897874Z",
     "iopub.status.idle": "2023-02-23T03:56:17.235255Z",
     "shell.execute_reply": "2023-02-23T03:56:17.233545Z",
     "shell.execute_reply.started": "2023-02-23T03:56:15.898949Z"
    },
    "id": "IvW1tcBYy5PZ",
    "outputId": "23a65384-1633-4782-f321-f526e969935f"
   },
   "outputs": [
    {
     "data": {
      "text/html": [
       "<div>\n",
       "<style scoped>\n",
       "    .dataframe tbody tr th:only-of-type {\n",
       "        vertical-align: middle;\n",
       "    }\n",
       "\n",
       "    .dataframe tbody tr th {\n",
       "        vertical-align: top;\n",
       "    }\n",
       "\n",
       "    .dataframe thead th {\n",
       "        text-align: right;\n",
       "    }\n",
       "</style>\n",
       "<table border=\"1\" class=\"dataframe\">\n",
       "  <thead>\n",
       "    <tr style=\"text-align: right;\">\n",
       "      <th></th>\n",
       "      <th>yield</th>\n",
       "    </tr>\n",
       "  </thead>\n",
       "  <tbody>\n",
       "    <tr>\n",
       "      <th>count</th>\n",
       "      <td>20216100.00</td>\n",
       "    </tr>\n",
       "    <tr>\n",
       "      <th>mean</th>\n",
       "      <td>2117.12</td>\n",
       "    </tr>\n",
       "    <tr>\n",
       "      <th>std</th>\n",
       "      <td>153235.62</td>\n",
       "    </tr>\n",
       "    <tr>\n",
       "      <th>min</th>\n",
       "      <td>0.00</td>\n",
       "    </tr>\n",
       "    <tr>\n",
       "      <th>25%</th>\n",
       "      <td>18.30</td>\n",
       "    </tr>\n",
       "    <tr>\n",
       "      <th>50%</th>\n",
       "      <td>78.78</td>\n",
       "    </tr>\n",
       "    <tr>\n",
       "      <th>75%</th>\n",
       "      <td>267.98</td>\n",
       "    </tr>\n",
       "    <tr>\n",
       "      <th>max</th>\n",
       "      <td>21904700.00</td>\n",
       "    </tr>\n",
       "  </tbody>\n",
       "</table>\n",
       "</div>"
      ],
      "text/plain": [
       "             yield\n",
       "count  20216100.00\n",
       "mean       2117.12\n",
       "std      153235.62\n",
       "min           0.00\n",
       "25%          18.30\n",
       "50%          78.78\n",
       "75%         267.98\n",
       "max    21904700.00"
      ]
     },
     "execution_count": 21,
     "metadata": {},
     "output_type": "execute_result"
    }
   ],
   "source": [
    "# checking the descriptive statistics of train_data\n",
    "train_data.describe().round(2)"
   ]
  },
  {
   "cell_type": "code",
   "execution_count": 22,
   "metadata": {
    "execution": {
     "iopub.execute_input": "2023-02-23T03:56:17.237676Z",
     "iopub.status.busy": "2023-02-23T03:56:17.237191Z",
     "iopub.status.idle": "2023-02-23T03:56:17.270620Z",
     "shell.execute_reply": "2023-02-23T03:56:17.268293Z",
     "shell.execute_reply.started": "2023-02-23T03:56:17.237639Z"
    },
    "id": "zdhJ88Pxy5U9",
    "outputId": "1a3d4002-a081-4079-d2dc-9dbeb4bcf907"
   },
   "outputs": [
    {
     "data": {
      "text/html": [
       "<div>\n",
       "<style scoped>\n",
       "    .dataframe tbody tr th:only-of-type {\n",
       "        vertical-align: middle;\n",
       "    }\n",
       "\n",
       "    .dataframe tbody tr th {\n",
       "        vertical-align: top;\n",
       "    }\n",
       "\n",
       "    .dataframe thead th {\n",
       "        text-align: right;\n",
       "    }\n",
       "</style>\n",
       "<table border=\"1\" class=\"dataframe\">\n",
       "  <thead>\n",
       "    <tr style=\"text-align: right;\">\n",
       "      <th></th>\n",
       "      <th>operations_commencing_year</th>\n",
       "      <th>num_processing_plants</th>\n",
       "      <th>farm_area</th>\n",
       "    </tr>\n",
       "  </thead>\n",
       "  <tbody>\n",
       "    <tr>\n",
       "      <th>count</th>\n",
       "      <td>675.00</td>\n",
       "      <td>355.00</td>\n",
       "      <td>1449.00</td>\n",
       "    </tr>\n",
       "    <tr>\n",
       "      <th>mean</th>\n",
       "      <td>1967.96</td>\n",
       "      <td>7.74</td>\n",
       "      <td>8557.46</td>\n",
       "    </tr>\n",
       "    <tr>\n",
       "      <th>std</th>\n",
       "      <td>31.05</td>\n",
       "      <td>3.33</td>\n",
       "      <td>10290.86</td>\n",
       "    </tr>\n",
       "    <tr>\n",
       "      <th>min</th>\n",
       "      <td>1900.00</td>\n",
       "      <td>5.00</td>\n",
       "      <td>26.29</td>\n",
       "    </tr>\n",
       "    <tr>\n",
       "      <th>25%</th>\n",
       "      <td>1949.00</td>\n",
       "      <td>5.00</td>\n",
       "      <td>2137.88</td>\n",
       "    </tr>\n",
       "    <tr>\n",
       "      <th>50%</th>\n",
       "      <td>1970.00</td>\n",
       "      <td>7.00</td>\n",
       "      <td>5357.99</td>\n",
       "    </tr>\n",
       "    <tr>\n",
       "      <th>75%</th>\n",
       "      <td>1995.00</td>\n",
       "      <td>9.00</td>\n",
       "      <td>10746.65</td>\n",
       "    </tr>\n",
       "    <tr>\n",
       "      <th>max</th>\n",
       "      <td>2017.00</td>\n",
       "      <td>30.00</td>\n",
       "      <td>81290.12</td>\n",
       "    </tr>\n",
       "  </tbody>\n",
       "</table>\n",
       "</div>"
      ],
      "text/plain": [
       "       operations_commencing_year  num_processing_plants  farm_area\n",
       "count                      675.00                 355.00    1449.00\n",
       "mean                      1967.96                   7.74    8557.46\n",
       "std                         31.05                   3.33   10290.86\n",
       "min                       1900.00                   5.00      26.29\n",
       "25%                       1949.00                   5.00    2137.88\n",
       "50%                       1970.00                   7.00    5357.99\n",
       "75%                       1995.00                   9.00   10746.65\n",
       "max                       2017.00                  30.00   81290.12"
      ]
     },
     "execution_count": 22,
     "metadata": {},
     "output_type": "execute_result"
    }
   ],
   "source": [
    "# checking the descriptive statistics of farm data\n",
    "farm_data.describe().round(2)"
   ]
  },
  {
   "cell_type": "code",
   "execution_count": 23,
   "metadata": {
    "execution": {
     "iopub.execute_input": "2023-02-23T03:56:17.273783Z",
     "iopub.status.busy": "2023-02-23T03:56:17.273024Z",
     "iopub.status.idle": "2023-02-23T03:56:17.391972Z",
     "shell.execute_reply": "2023-02-23T03:56:17.390232Z",
     "shell.execute_reply.started": "2023-02-23T03:56:17.273721Z"
    },
    "id": "7uEzBc3uzIp4",
    "outputId": "ae24aeaa-c74d-4d28-f504-4f0bd37c03d4"
   },
   "outputs": [
    {
     "data": {
      "text/html": [
       "<div>\n",
       "<style scoped>\n",
       "    .dataframe tbody tr th:only-of-type {\n",
       "        vertical-align: middle;\n",
       "    }\n",
       "\n",
       "    .dataframe tbody tr th {\n",
       "        vertical-align: top;\n",
       "    }\n",
       "\n",
       "    .dataframe thead th {\n",
       "        text-align: right;\n",
       "    }\n",
       "</style>\n",
       "<table border=\"1\" class=\"dataframe\">\n",
       "  <thead>\n",
       "    <tr style=\"text-align: right;\">\n",
       "      <th></th>\n",
       "      <th>temp_obs</th>\n",
       "      <th>cloudiness</th>\n",
       "      <th>wind_direction</th>\n",
       "      <th>dew_temp</th>\n",
       "      <th>pressure_sea_level</th>\n",
       "      <th>precipitation</th>\n",
       "      <th>wind_speed</th>\n",
       "    </tr>\n",
       "  </thead>\n",
       "  <tbody>\n",
       "    <tr>\n",
       "      <th>count</th>\n",
       "      <td>139718.00</td>\n",
       "      <td>70600.00</td>\n",
       "      <td>133505.00</td>\n",
       "      <td>139660.00</td>\n",
       "      <td>129155.00</td>\n",
       "      <td>89484.00</td>\n",
       "      <td>139469.00</td>\n",
       "    </tr>\n",
       "    <tr>\n",
       "      <th>mean</th>\n",
       "      <td>14.42</td>\n",
       "      <td>2.15</td>\n",
       "      <td>180.53</td>\n",
       "      <td>7.35</td>\n",
       "      <td>1016.16</td>\n",
       "      <td>0.98</td>\n",
       "      <td>3.56</td>\n",
       "    </tr>\n",
       "    <tr>\n",
       "      <th>std</th>\n",
       "      <td>10.63</td>\n",
       "      <td>2.60</td>\n",
       "      <td>111.52</td>\n",
       "      <td>9.79</td>\n",
       "      <td>7.63</td>\n",
       "      <td>8.46</td>\n",
       "      <td>2.34</td>\n",
       "    </tr>\n",
       "    <tr>\n",
       "      <th>min</th>\n",
       "      <td>-28.90</td>\n",
       "      <td>0.00</td>\n",
       "      <td>0.00</td>\n",
       "      <td>-35.00</td>\n",
       "      <td>968.20</td>\n",
       "      <td>-1.00</td>\n",
       "      <td>0.00</td>\n",
       "    </tr>\n",
       "    <tr>\n",
       "      <th>25%</th>\n",
       "      <td>7.20</td>\n",
       "      <td>0.00</td>\n",
       "      <td>80.00</td>\n",
       "      <td>0.60</td>\n",
       "      <td>1011.80</td>\n",
       "      <td>0.00</td>\n",
       "      <td>2.10</td>\n",
       "    </tr>\n",
       "    <tr>\n",
       "      <th>50%</th>\n",
       "      <td>15.00</td>\n",
       "      <td>2.00</td>\n",
       "      <td>190.00</td>\n",
       "      <td>8.30</td>\n",
       "      <td>1016.40</td>\n",
       "      <td>0.00</td>\n",
       "      <td>3.10</td>\n",
       "    </tr>\n",
       "    <tr>\n",
       "      <th>75%</th>\n",
       "      <td>22.20</td>\n",
       "      <td>4.00</td>\n",
       "      <td>280.00</td>\n",
       "      <td>14.40</td>\n",
       "      <td>1020.80</td>\n",
       "      <td>0.00</td>\n",
       "      <td>5.00</td>\n",
       "    </tr>\n",
       "    <tr>\n",
       "      <th>max</th>\n",
       "      <td>47.20</td>\n",
       "      <td>9.00</td>\n",
       "      <td>360.00</td>\n",
       "      <td>26.10</td>\n",
       "      <td>1045.50</td>\n",
       "      <td>343.00</td>\n",
       "      <td>19.00</td>\n",
       "    </tr>\n",
       "  </tbody>\n",
       "</table>\n",
       "</div>"
      ],
      "text/plain": [
       "        temp_obs  cloudiness  wind_direction   dew_temp  pressure_sea_level  \\\n",
       "count  139718.00    70600.00       133505.00  139660.00           129155.00   \n",
       "mean       14.42        2.15          180.53       7.35             1016.16   \n",
       "std        10.63        2.60          111.52       9.79                7.63   \n",
       "min       -28.90        0.00            0.00     -35.00              968.20   \n",
       "25%         7.20        0.00           80.00       0.60             1011.80   \n",
       "50%        15.00        2.00          190.00       8.30             1016.40   \n",
       "75%        22.20        4.00          280.00      14.40             1020.80   \n",
       "max        47.20        9.00          360.00      26.10             1045.50   \n",
       "\n",
       "       precipitation  wind_speed  \n",
       "count       89484.00   139469.00  \n",
       "mean            0.98        3.56  \n",
       "std             8.46        2.34  \n",
       "min            -1.00        0.00  \n",
       "25%             0.00        2.10  \n",
       "50%             0.00        3.10  \n",
       "75%             0.00        5.00  \n",
       "max           343.00       19.00  "
      ]
     },
     "execution_count": 23,
     "metadata": {},
     "output_type": "execute_result"
    }
   ],
   "source": [
    "# checking the descriptive statistics of train weather data\n",
    "train_weather.describe().round(2)"
   ]
  },
  {
   "cell_type": "markdown",
   "metadata": {},
   "source": [
    "## unique values in each dataset"
   ]
  },
  {
   "cell_type": "code",
   "execution_count": 24,
   "metadata": {
    "execution": {
     "iopub.execute_input": "2023-02-23T03:56:17.394863Z",
     "iopub.status.busy": "2023-02-23T03:56:17.394312Z",
     "iopub.status.idle": "2023-02-23T03:56:24.205479Z",
     "shell.execute_reply": "2023-02-23T03:56:24.203820Z",
     "shell.execute_reply.started": "2023-02-23T03:56:17.394816Z"
    }
   },
   "outputs": [
    {
     "data": {
      "text/plain": [
       "date                  8784\n",
       "farm_id               1434\n",
       "ingredient_type          4\n",
       "yield              1688175\n",
       "dtype: int64"
      ]
     },
     "execution_count": 24,
     "metadata": {},
     "output_type": "execute_result"
    }
   ],
   "source": [
    "# train data unique value count\n",
    "train_data.nunique()"
   ]
  },
  {
   "cell_type": "code",
   "execution_count": 25,
   "metadata": {
    "execution": {
     "iopub.execute_input": "2023-02-23T03:56:24.210540Z",
     "iopub.status.busy": "2023-02-23T03:56:24.209373Z",
     "iopub.status.idle": "2023-02-23T03:56:33.948965Z",
     "shell.execute_reply": "2023-02-23T03:56:33.947467Z",
     "shell.execute_reply.started": "2023-02-23T03:56:24.210496Z"
    }
   },
   "outputs": [
    {
     "data": {
      "text/plain": [
       "date                   8760\n",
       "farm_id                1434\n",
       "ingredient_type           4\n",
       "id                 20848800\n",
       "dtype: int64"
      ]
     },
     "execution_count": 25,
     "metadata": {},
     "output_type": "execute_result"
    }
   ],
   "source": [
    "# test data unique value count analysis.\n",
    "test_data.nunique()"
   ]
  },
  {
   "cell_type": "code",
   "execution_count": 26,
   "metadata": {
    "execution": {
     "iopub.execute_input": "2023-02-23T03:56:33.950761Z",
     "iopub.status.busy": "2023-02-23T03:56:33.950392Z",
     "iopub.status.idle": "2023-02-23T03:56:33.967157Z",
     "shell.execute_reply": "2023-02-23T03:56:33.965595Z",
     "shell.execute_reply.started": "2023-02-23T03:56:33.950731Z"
    }
   },
   "outputs": [
    {
     "data": {
      "text/plain": [
       "farm_id                       1434\n",
       "operations_commencing_year     116\n",
       "num_processing_plants           18\n",
       "farm_area                     1397\n",
       "farming_company                 16\n",
       "deidentified_location           16\n",
       "dtype: int64"
      ]
     },
     "execution_count": 26,
     "metadata": {},
     "output_type": "execute_result"
    }
   ],
   "source": [
    "# farm data unique value count analysis\n",
    "farm_data.nunique()"
   ]
  },
  {
   "cell_type": "code",
   "execution_count": 27,
   "metadata": {
    "execution": {
     "iopub.execute_input": "2023-02-23T03:56:33.969610Z",
     "iopub.status.busy": "2023-02-23T03:56:33.968828Z",
     "iopub.status.idle": "2023-02-23T03:56:34.025827Z",
     "shell.execute_reply": "2023-02-23T03:56:34.023883Z",
     "shell.execute_reply.started": "2023-02-23T03:56:33.969557Z"
    }
   },
   "outputs": [
    {
     "data": {
      "text/plain": [
       "timestamp                8784\n",
       "deidentified_location      16\n",
       "temp_obs                  619\n",
       "cloudiness                 10\n",
       "wind_direction             43\n",
       "dew_temp                  522\n",
       "pressure_sea_level        709\n",
       "precipitation             128\n",
       "wind_speed                 58\n",
       "dtype: int64"
      ]
     },
     "execution_count": 27,
     "metadata": {},
     "output_type": "execute_result"
    }
   ],
   "source": [
    "# train weather data unique count Analysis\n",
    "train_weather.nunique()"
   ]
  },
  {
   "cell_type": "code",
   "execution_count": 28,
   "metadata": {
    "execution": {
     "iopub.execute_input": "2023-02-23T03:56:34.030738Z",
     "iopub.status.busy": "2023-02-23T03:56:34.029664Z",
     "iopub.status.idle": "2023-02-23T03:56:34.083114Z",
     "shell.execute_reply": "2023-02-23T03:56:34.081484Z",
     "shell.execute_reply.started": "2023-02-23T03:56:34.030691Z"
    }
   },
   "outputs": [
    {
     "data": {
      "text/plain": [
       "timestamp                8760\n",
       "deidentified_location      16\n",
       "temp_obs                  612\n",
       "cloudiness                 10\n",
       "wind_direction             53\n",
       "dew_temp                  528\n",
       "pressure_sea_level        713\n",
       "precipitation             144\n",
       "wind_speed                 70\n",
       "dtype: int64"
      ]
     },
     "execution_count": 28,
     "metadata": {},
     "output_type": "execute_result"
    }
   ],
   "source": [
    "# test weather data unique value count analysis.\n",
    "test_weather.nunique()"
   ]
  },
  {
   "cell_type": "code",
   "execution_count": 29,
   "metadata": {
    "execution": {
     "iopub.execute_input": "2023-02-23T03:56:34.085739Z",
     "iopub.status.busy": "2023-02-23T03:56:34.084810Z",
     "iopub.status.idle": "2023-02-23T03:56:40.611979Z",
     "shell.execute_reply": "2023-02-23T03:56:40.609876Z",
     "shell.execute_reply.started": "2023-02-23T03:56:34.085679Z"
    }
   },
   "outputs": [
    {
     "name": "stdout",
     "output_type": "stream",
     "text": [
      "2016-12-27 22:00:00    2370\n",
      "2016-12-27 19:00:00    2369\n",
      "2016-12-27 20:00:00    2369\n",
      "2016-12-27 17:00:00    2369\n",
      "2016-12-27 21:00:00    2369\n",
      "                       ... \n",
      "2016-02-26 01:00:00    1887\n",
      "2016-02-23 09:00:00    1871\n",
      "2016-03-23 16:00:00    1822\n",
      "2016-03-13 03:00:00    1767\n",
      "2016-03-13 02:00:00    1557\n",
      "Name: date, Length: 8784, dtype: int64\n",
      "____________________________________________\n",
      "fid_63700     51227\n",
      "fid_68761     41733\n",
      "fid_103446    35136\n",
      "fid_109814    35136\n",
      "fid_122174    35135\n",
      "              ...  \n",
      "fid_60652      2657\n",
      "fid_118770     2327\n",
      "fid_73322      1685\n",
      "fid_20058      1012\n",
      "fid_19864       479\n",
      "Name: farm_id, Length: 1434, dtype: int64\n",
      "____________________________________________\n",
      "ing_w    12060910\n",
      "ing_x     4182440\n",
      "ing_y     2708713\n",
      "ing_z     1264037\n",
      "Name: ingredient_type, dtype: int64\n",
      "____________________________________________\n",
      "0.0000      1873976\n",
      "20.0000       23363\n",
      "2.9307        23181\n",
      "36.6000       22154\n",
      "8.7921        21787\n",
      "             ...   \n",
      "27.8031           1\n",
      "58.9751           1\n",
      "90.4884           1\n",
      "370.9390          1\n",
      "55.6241           1\n",
      "Name: yield, Length: 1688175, dtype: int64\n",
      "____________________________________________\n"
     ]
    }
   ],
   "source": [
    "#Unique value count of the each column in train dataset\n",
    "for i in (train_data.columns):\n",
    "    print(train_data[i].value_counts())\n",
    "    print(\"____________________________________________\")"
   ]
  },
  {
   "cell_type": "code",
   "execution_count": 30,
   "metadata": {
    "execution": {
     "iopub.execute_input": "2023-02-23T03:56:40.614440Z",
     "iopub.status.busy": "2023-02-23T03:56:40.614046Z",
     "iopub.status.idle": "2023-02-23T03:56:51.100680Z",
     "shell.execute_reply": "2023-02-23T03:56:51.098714Z",
     "shell.execute_reply.started": "2023-02-23T03:56:40.614409Z"
    }
   },
   "outputs": [
    {
     "name": "stdout",
     "output_type": "stream",
     "text": [
      "2017-01-01 00:00:00    2380\n",
      "2017-09-01 10:00:00    2380\n",
      "2017-09-01 04:00:00    2380\n",
      "2017-09-01 05:00:00    2380\n",
      "2017-09-01 06:00:00    2380\n",
      "                       ... \n",
      "2017-05-02 10:00:00    2380\n",
      "2017-05-02 09:00:00    2380\n",
      "2017-05-02 08:00:00    2380\n",
      "2017-05-02 07:00:00    2380\n",
      "2017-12-31 23:00:00    2380\n",
      "Name: date, Length: 8760, dtype: int64\n",
      "____________________________________________\n",
      "fid_63700     52560\n",
      "fid_68761     43800\n",
      "fid_81195     35040\n",
      "fid_70655     35040\n",
      "fid_75385     35040\n",
      "              ...  \n",
      "fid_20681      8760\n",
      "fid_73716      8760\n",
      "fid_79063      8760\n",
      "fid_113611     8760\n",
      "fid_34139      8760\n",
      "Name: farm_id, Length: 1434, dtype: int64\n",
      "____________________________________________\n",
      "ing_w    12377880\n",
      "ing_x     4362480\n",
      "ing_y     2838240\n",
      "ing_z     1270200\n",
      "Name: ingredient_type, dtype: int64\n",
      "____________________________________________\n",
      "0           1\n",
      "27246199    1\n",
      "27246206    1\n",
      "27246205    1\n",
      "27246204    1\n",
      "           ..\n",
      "13548614    1\n",
      "13548613    1\n",
      "13548612    1\n",
      "13548611    1\n",
      "41696849    1\n",
      "Name: id, Length: 20848800, dtype: int64\n",
      "____________________________________________\n"
     ]
    }
   ],
   "source": [
    "#Unique value count of the each column in test dataset\n",
    "for i in (test_data.columns):\n",
    "    print(test_data[i].value_counts())\n",
    "    print(\"____________________________________________\")"
   ]
  },
  {
   "cell_type": "code",
   "execution_count": 31,
   "metadata": {
    "execution": {
     "iopub.execute_input": "2023-02-23T03:56:51.103588Z",
     "iopub.status.busy": "2023-02-23T03:56:51.103008Z",
     "iopub.status.idle": "2023-02-23T03:56:51.173752Z",
     "shell.execute_reply": "2023-02-23T03:56:51.172404Z",
     "shell.execute_reply.started": "2023-02-23T03:56:51.103547Z"
    }
   },
   "outputs": [
    {
     "name": "stdout",
     "output_type": "stream",
     "text": [
      "2016-07-02 00:00:00    16\n",
      "2016-08-30 12:00:00    16\n",
      "2016-08-31 03:00:00    16\n",
      "2016-08-31 02:00:00    16\n",
      "2016-08-31 01:00:00    16\n",
      "                       ..\n",
      "2016-02-15 20:00:00    11\n",
      "2016-04-07 15:00:00    11\n",
      "2016-03-23 00:00:00    10\n",
      "2016-03-23 01:00:00    10\n",
      "2016-01-01 00:00:00     9\n",
      "Name: timestamp, Length: 8784, dtype: int64\n",
      "____________________________________________\n",
      "location 7369    8784\n",
      "location 5677    8784\n",
      "location 5489    8783\n",
      "location 5833    8783\n",
      "location 2532    8783\n",
      "location 565     8782\n",
      "location 1784    8782\n",
      "location 5290    8780\n",
      "location 8421    8780\n",
      "location 5410    8777\n",
      "location 959     8763\n",
      "location 6364    8755\n",
      "location 7048    8755\n",
      "location 4525    8614\n",
      "location 868     8614\n",
      "location 5150    8454\n",
      "Name: deidentified_location, dtype: int64\n",
      "____________________________________________\n",
      " 15.0    2722\n",
      " 24.4    2200\n",
      " 20.0    2191\n",
      " 10.0    2187\n",
      " 25.0    2185\n",
      "         ... \n",
      "-20.4       2\n",
      "-20.9       2\n",
      " 32.6       1\n",
      "-28.3       1\n",
      "-28.9       1\n",
      "Name: temp_obs, Length: 619, dtype: int64\n",
      "____________________________________________\n",
      "0.0    33871\n",
      "2.0    13585\n",
      "4.0    10241\n",
      "8.0     3531\n",
      "6.0     3521\n",
      "7.0     3485\n",
      "1.0      713\n",
      "3.0      608\n",
      "5.0      526\n",
      "9.0      519\n",
      "Name: cloudiness, dtype: int64\n",
      "____________________________________________\n",
      "0.0      13154\n",
      "270.0     4950\n",
      "300.0     4688\n",
      "280.0     4660\n",
      "290.0     4651\n",
      "170.0     4627\n",
      "260.0     4394\n",
      "310.0     4009\n",
      "180.0     3903\n",
      "190.0     3755\n",
      "70.0      3745\n",
      "160.0     3744\n",
      "210.0     3714\n",
      "200.0     3671\n",
      "320.0     3660\n",
      "330.0     3362\n",
      "250.0     3356\n",
      "60.0      3312\n",
      "360.0     3301\n",
      "350.0     3276\n",
      "220.0     3255\n",
      "230.0     3255\n",
      "80.0      3217\n",
      "340.0     3120\n",
      "240.0     3110\n",
      "150.0     2952\n",
      "140.0     2716\n",
      "90.0      2711\n",
      "50.0      2617\n",
      "100.0     2588\n",
      "130.0     2534\n",
      "120.0     2432\n",
      "110.0     2361\n",
      "40.0      2256\n",
      "30.0      2191\n",
      "10.0      2149\n",
      "20.0      2098\n",
      "174.0        2\n",
      "176.0        2\n",
      "84.0         2\n",
      "198.0        2\n",
      "196.0        2\n",
      "202.0        1\n",
      "Name: wind_direction, dtype: int64\n",
      "____________________________________________\n",
      " 10.0    2759\n",
      " 12.8    2201\n",
      " 5.0     2196\n",
      " 13.3    2193\n",
      " 11.7    2188\n",
      "         ... \n",
      "-26.8       2\n",
      "-16.5       2\n",
      "-24.3       2\n",
      "-24.6       2\n",
      "-30.6       2\n",
      "Name: dew_temp, Length: 522, dtype: int64\n",
      "____________________________________________\n",
      "1015.2    851\n",
      "1017.7    827\n",
      "1016.3    799\n",
      "1016.4    799\n",
      "1019.2    798\n",
      "         ... \n",
      "976.5       1\n",
      "977.3       1\n",
      "976.4       1\n",
      "974.4       1\n",
      "1041.7      1\n",
      "Name: pressure_sea_level, Length: 709, dtype: int64\n",
      "____________________________________________\n",
      " 0.0      77910\n",
      "-1.0       5780\n",
      " 3.0       1469\n",
      " 5.0        720\n",
      " 2.0        517\n",
      "          ...  \n",
      " 140.0        1\n",
      " 333.0        1\n",
      " 147.0        1\n",
      " 211.0        1\n",
      " 180.0        1\n",
      "Name: precipitation, Length: 128, dtype: int64\n",
      "____________________________________________\n",
      "2.1     14381\n",
      "2.6     14055\n",
      "0.0     13542\n",
      "1.5     13097\n",
      "3.1     12965\n",
      "3.6     11883\n",
      "4.1      9980\n",
      "4.6      8270\n",
      "5.1      6639\n",
      "5.7      5416\n",
      "6.2      4459\n",
      "6.7      3522\n",
      "7.2      2775\n",
      "1.0      2059\n",
      "7.7      1980\n",
      "8.2      1497\n",
      "4.0      1413\n",
      "5.0      1358\n",
      "6.0      1152\n",
      "3.0      1133\n",
      "0.5      1059\n",
      "8.8      1019\n",
      "7.0       861\n",
      "9.3       730\n",
      "2.0       669\n",
      "8.0       604\n",
      "9.8       495\n",
      "9.0       449\n",
      "10.3      320\n",
      "10.0      305\n",
      "10.8      271\n",
      "11.0      207\n",
      "11.3      190\n",
      "11.8      122\n",
      "12.0      119\n",
      "12.4       81\n",
      "13.0       70\n",
      "12.9       57\n",
      "8.7        57\n",
      "13.4       36\n",
      "14.0       36\n",
      "13.9       26\n",
      "14.4       23\n",
      "15.0       18\n",
      "16.0       13\n",
      "15.4       13\n",
      "14.9       12\n",
      "17.0        5\n",
      "16.5        4\n",
      "1.3         3\n",
      "2.2         3\n",
      "18.0        3\n",
      "19.0        3\n",
      "18.5        2\n",
      "12.8        2\n",
      "3.2         2\n",
      "1.6         2\n",
      "6.1         2\n",
      "Name: wind_speed, dtype: int64\n",
      "____________________________________________\n"
     ]
    }
   ],
   "source": [
    "#Unique value count of the each column in train_weather dataset\n",
    "for i in (train_weather.columns):\n",
    "    print(train_weather[i].value_counts())\n",
    "    print(\"____________________________________________\")"
   ]
  },
  {
   "cell_type": "code",
   "execution_count": 32,
   "metadata": {
    "execution": {
     "iopub.execute_input": "2023-02-23T03:56:51.175798Z",
     "iopub.status.busy": "2023-02-23T03:56:51.175265Z",
     "iopub.status.idle": "2023-02-23T03:56:51.242758Z",
     "shell.execute_reply": "2023-02-23T03:56:51.240970Z",
     "shell.execute_reply.started": "2023-02-23T03:56:51.175755Z"
    }
   },
   "outputs": [
    {
     "name": "stdout",
     "output_type": "stream",
     "text": [
      "2017-07-02 12:00:00    16\n",
      "2017-08-21 06:00:00    16\n",
      "2017-08-22 12:00:00    16\n",
      "2017-08-22 11:00:00    16\n",
      "2017-08-22 10:00:00    16\n",
      "                       ..\n",
      "2017-08-15 19:00:00    11\n",
      "2017-08-15 20:00:00    11\n",
      "2017-01-18 19:00:00    11\n",
      "2017-09-18 17:00:00    11\n",
      "2017-01-01 00:00:00     9\n",
      "Name: timestamp, Length: 8760, dtype: int64\n",
      "____________________________________________\n",
      "location 7369    8760\n",
      "location 5489    8760\n",
      "location 5677    8760\n",
      "location 5290    8759\n",
      "location 5833    8759\n",
      "location 2532    8759\n",
      "location 5410    8759\n",
      "location 565     8757\n",
      "location 959     8753\n",
      "location 7048    8750\n",
      "location 8421    8749\n",
      "location 6364    8745\n",
      "location 1784    8743\n",
      "location 5150    8520\n",
      "location 4525    8246\n",
      "location 868     8246\n",
      "Name: deidentified_location, dtype: int64\n",
      "____________________________________________\n",
      "15.0    2823\n",
      "23.3    2456\n",
      "10.0    2382\n",
      "23.9    2317\n",
      "22.8    2316\n",
      "        ... \n",
      "33.8       1\n",
      "32.7       1\n",
      "33.2       1\n",
      "39.0       1\n",
      "37.0       1\n",
      "Name: temp_obs, Length: 612, dtype: int64\n",
      "____________________________________________\n",
      "0.0    33259\n",
      "2.0    13308\n",
      "4.0     9995\n",
      "8.0     3718\n",
      "6.0     3626\n",
      "7.0     3349\n",
      "1.0      730\n",
      "3.0      643\n",
      "9.0      605\n",
      "5.0      527\n",
      "Name: cloudiness, dtype: int64\n",
      "____________________________________________\n",
      "0.0      13191\n",
      "270.0     5484\n",
      "280.0     5002\n",
      "290.0     4945\n",
      "260.0     4924\n",
      "300.0     4865\n",
      "170.0     4583\n",
      "180.0     4085\n",
      "310.0     3962\n",
      "200.0     3808\n",
      "210.0     3772\n",
      "190.0     3726\n",
      "250.0     3579\n",
      "320.0     3545\n",
      "240.0     3544\n",
      "70.0      3495\n",
      "160.0     3454\n",
      "220.0     3420\n",
      "230.0     3403\n",
      "330.0     3133\n",
      "80.0      3113\n",
      "360.0     3042\n",
      "340.0     2927\n",
      "150.0     2921\n",
      "350.0     2894\n",
      "60.0      2791\n",
      "140.0     2660\n",
      "130.0     2458\n",
      "90.0      2452\n",
      "120.0     2433\n",
      "110.0     2399\n",
      "100.0     2394\n",
      "50.0      2336\n",
      "10.0      2087\n",
      "20.0      1980\n",
      "40.0      1934\n",
      "30.0      1918\n",
      "185.0        2\n",
      "213.0        2\n",
      "211.0        2\n",
      "59.0         2\n",
      "255.0        2\n",
      "201.0        2\n",
      "217.0        2\n",
      "123.0        2\n",
      "175.0        2\n",
      "222.0        2\n",
      "77.0         2\n",
      "288.0        2\n",
      "319.0        2\n",
      "331.0        2\n",
      "359.0        2\n",
      "26.0         2\n",
      "Name: wind_direction, dtype: int64\n",
      "____________________________________________\n",
      " 10.0    2604\n",
      " 15.0    2377\n",
      " 12.8    2219\n",
      " 13.3    2158\n",
      " 12.2    2140\n",
      "         ... \n",
      "-26.4       2\n",
      "-24.5       2\n",
      " 22.3       2\n",
      "-24.0       2\n",
      "-29.4       2\n",
      "Name: dew_temp, Length: 528, dtype: int64\n",
      "____________________________________________\n",
      "1015.9    864\n",
      "1015.6    834\n",
      "1016.5    828\n",
      "1015.5    827\n",
      "1014.9    823\n",
      "         ... \n",
      "975.1       1\n",
      "975.4       1\n",
      "976.7       1\n",
      "978.6       1\n",
      "1044.6      1\n",
      "Name: pressure_sea_level, Length: 713, dtype: int64\n",
      "____________________________________________\n",
      " 0.0      78640\n",
      "-1.0       5964\n",
      " 3.0       1612\n",
      " 5.0        852\n",
      " 2.0        530\n",
      "          ...  \n",
      " 234.0        1\n",
      " 188.0        1\n",
      " 124.0        1\n",
      " 111.0        1\n",
      " 442.0        1\n",
      "Name: precipitation, Length: 144, dtype: int64\n",
      "____________________________________________\n",
      "2.1     14083\n",
      "2.6     13847\n",
      "0.0     13668\n",
      "3.1     13048\n",
      "1.5     12874\n",
      "        ...  \n",
      "1.3         1\n",
      "17.0        1\n",
      "23.0        1\n",
      "12.3        1\n",
      "3.5         1\n",
      "Name: wind_speed, Length: 70, dtype: int64\n",
      "____________________________________________\n"
     ]
    }
   ],
   "source": [
    "#Unique value count of the each column in train_weather dataset\n",
    "for i in (test_weather.columns):\n",
    "    print(test_weather[i].value_counts())\n",
    "    print(\"____________________________________________\")"
   ]
  },
  {
   "cell_type": "code",
   "execution_count": 33,
   "metadata": {
    "execution": {
     "iopub.execute_input": "2023-02-23T03:56:51.244493Z",
     "iopub.status.busy": "2023-02-23T03:56:51.244101Z",
     "iopub.status.idle": "2023-02-23T03:56:51.266984Z",
     "shell.execute_reply": "2023-02-23T03:56:51.265401Z",
     "shell.execute_reply.started": "2023-02-23T03:56:51.244462Z"
    }
   },
   "outputs": [
    {
     "name": "stdout",
     "output_type": "stream",
     "text": [
      "fid_29387    2\n",
      "fid_68792    2\n",
      "fid_73431    2\n",
      "fid_40459    2\n",
      "fid_59158    2\n",
      "            ..\n",
      "fid_84714    1\n",
      "fid_71572    1\n",
      "fid_36519    1\n",
      "fid_80473    1\n",
      "fid_34139    1\n",
      "Name: farm_id, Length: 1434, dtype: int64\n",
      "____________________________________________\n",
      "1976.0    55\n",
      "1966.0    23\n",
      "1968.0    18\n",
      "1919.0    17\n",
      "1964.0    15\n",
      "          ..\n",
      "1926.0     1\n",
      "1916.0     1\n",
      "1922.0     1\n",
      "2017.0     1\n",
      "1937.0     1\n",
      "Name: operations_commencing_year, Length: 116, dtype: int64\n",
      "____________________________________________\n",
      "5.0     109\n",
      "6.0      67\n",
      "8.0      37\n",
      "7.0      33\n",
      "9.0      25\n",
      "10.0     25\n",
      "12.0     19\n",
      "11.0     14\n",
      "13.0      8\n",
      "15.0      5\n",
      "14.0      4\n",
      "16.0      2\n",
      "17.0      2\n",
      "20.0      1\n",
      "18.0      1\n",
      "25.0      1\n",
      "30.0      1\n",
      "23.0      1\n",
      "Name: num_processing_plants, dtype: int64\n",
      "____________________________________________\n",
      "36012.733114    7\n",
      "2043.866000     4\n",
      "4935.936390     4\n",
      "2272.035768     4\n",
      "371.612000      3\n",
      "               ..\n",
      "1144.193348     1\n",
      "425.588643      1\n",
      "982.727934      1\n",
      "5681.111353     1\n",
      "8572.252713     1\n",
      "Name: farm_area, Length: 1397, dtype: int64\n",
      "____________________________________________\n",
      "Obery Farms                            549\n",
      "Wayne Farms                            279\n",
      "Sanderson Farms                        184\n",
      "Del Monte Foods                        156\n",
      "Dole Food Company                      147\n",
      "Other                                   25\n",
      "Foster Farms                            23\n",
      "Freight Farms                           22\n",
      "Mountaire Farms                         13\n",
      "Monogram Foods                          12\n",
      "Tyson Foods                             11\n",
      "Northland Organic Foods Corporation     10\n",
      "West Liberty Foods                       6\n",
      "Perdue Farms                             5\n",
      "Kansas Ville Farms                       4\n",
      "Southern Confederate Farms               3\n",
      "Name: farming_company, dtype: int64\n",
      "____________________________________________\n",
      "location 5290    274\n",
      "location 2532    154\n",
      "location 5489    135\n",
      "location 8421    124\n",
      "location 5150    124\n",
      "location 7369    105\n",
      "location 5410    102\n",
      "location 5833     91\n",
      "location 6364     89\n",
      "location 5677     70\n",
      "location 959      51\n",
      "location 565      44\n",
      "location 7048     36\n",
      "location 1784     30\n",
      "location 4525     15\n",
      "location 868       5\n",
      "Name: deidentified_location, dtype: int64\n",
      "____________________________________________\n"
     ]
    }
   ],
   "source": [
    "#Unique value count of the each column in farm_data dataset\n",
    "for i in (farm_data.columns):\n",
    "    print(farm_data[i].value_counts())\n",
    "    print(\"____________________________________________\")"
   ]
  },
  {
   "cell_type": "markdown",
   "metadata": {},
   "source": [
    "## Exploratory Data Analysis"
   ]
  },
  {
   "cell_type": "markdown",
   "metadata": {
    "id": "mgfqcEGs7Oxt"
   },
   "source": [
    "## missing values in each dataset"
   ]
  },
  {
   "cell_type": "markdown",
   "metadata": {
    "id": "Ib96VXru7SPo"
   },
   "source": [
    "Train Data -"
   ]
  },
  {
   "cell_type": "code",
   "execution_count": 34,
   "metadata": {
    "execution": {
     "iopub.execute_input": "2023-02-23T03:56:51.269641Z",
     "iopub.status.busy": "2023-02-23T03:56:51.269030Z",
     "iopub.status.idle": "2023-02-23T03:56:54.177232Z",
     "shell.execute_reply": "2023-02-23T03:56:54.175653Z",
     "shell.execute_reply.started": "2023-02-23T03:56:51.269604Z"
    }
   },
   "outputs": [
    {
     "data": {
      "text/plain": [
       "date               0\n",
       "farm_id            0\n",
       "ingredient_type    0\n",
       "yield              0\n",
       "dtype: int64"
      ]
     },
     "execution_count": 34,
     "metadata": {},
     "output_type": "execute_result"
    }
   ],
   "source": [
    "# checking misiing value count for train data\n",
    "train_data.isna().sum()"
   ]
  },
  {
   "cell_type": "markdown",
   "metadata": {},
   "source": [
    "This is a clean dataset so there are no missing values.\n",
    "Missing values can be addressed by :-\n",
    "- Dropping the feature or observation if it contains too much missing values.\n",
    "- imputing the missing values."
   ]
  },
  {
   "cell_type": "code",
   "execution_count": 35,
   "metadata": {
    "execution": {
     "iopub.execute_input": "2023-02-23T03:56:54.179581Z",
     "iopub.status.busy": "2023-02-23T03:56:54.179128Z",
     "iopub.status.idle": "2023-02-23T03:56:57.253982Z",
     "shell.execute_reply": "2023-02-23T03:56:57.252570Z",
     "shell.execute_reply.started": "2023-02-23T03:56:54.179547Z"
    }
   },
   "outputs": [
    {
     "data": {
      "text/plain": [
       "date               0\n",
       "farm_id            0\n",
       "ingredient_type    0\n",
       "id                 0\n",
       "dtype: int64"
      ]
     },
     "execution_count": 35,
     "metadata": {},
     "output_type": "execute_result"
    }
   ],
   "source": [
    "# checking misiing value count for test data\n",
    "test_data.isna().sum()"
   ]
  },
  {
   "cell_type": "markdown",
   "metadata": {
    "id": "hA1awcvy7k3h"
   },
   "source": [
    "Weather Data"
   ]
  },
  {
   "cell_type": "code",
   "execution_count": 36,
   "metadata": {
    "execution": {
     "iopub.execute_input": "2023-02-23T03:56:57.256705Z",
     "iopub.status.busy": "2023-02-23T03:56:57.256139Z",
     "iopub.status.idle": "2023-02-23T03:56:57.285283Z",
     "shell.execute_reply": "2023-02-23T03:56:57.283920Z",
     "shell.execute_reply.started": "2023-02-23T03:56:57.256657Z"
    },
    "id": "1saiHlek69ir"
   },
   "outputs": [
    {
     "data": {
      "text/plain": [
       "timestamp                 0.00\n",
       "deidentified_location     0.00\n",
       "temp_obs                  0.04\n",
       "cloudiness               49.49\n",
       "wind_direction            4.48\n",
       "dew_temp                  0.08\n",
       "pressure_sea_level        7.60\n",
       "precipitation            35.98\n",
       "wind_speed                0.22\n",
       "dtype: float64"
      ]
     },
     "execution_count": 36,
     "metadata": {},
     "output_type": "execute_result"
    }
   ],
   "source": [
    "# checking misiing value count for train weather data\n",
    "train_weather.isna().mean().round(4) * 100"
   ]
  },
  {
   "cell_type": "code",
   "execution_count": 37,
   "metadata": {
    "execution": {
     "iopub.execute_input": "2023-02-23T03:56:57.287634Z",
     "iopub.status.busy": "2023-02-23T03:56:57.287092Z",
     "iopub.status.idle": "2023-02-23T03:56:57.319709Z",
     "shell.execute_reply": "2023-02-23T03:56:57.318414Z",
     "shell.execute_reply.started": "2023-02-23T03:56:57.287587Z"
    }
   },
   "outputs": [
    {
     "data": {
      "text/plain": [
       "timestamp                 0.00\n",
       "deidentified_location     0.00\n",
       "temp_obs                  0.03\n",
       "cloudiness               49.75\n",
       "wind_direction            4.42\n",
       "dew_temp                  0.13\n",
       "pressure_sea_level        7.84\n",
       "precipitation            34.42\n",
       "wind_speed                0.17\n",
       "dtype: float64"
      ]
     },
     "execution_count": 37,
     "metadata": {},
     "output_type": "execute_result"
    }
   ],
   "source": [
    "# checking misiing value count for test weather data\n",
    "test_weather.isna().mean().round(4) * 100"
   ]
  },
  {
   "cell_type": "markdown",
   "metadata": {
    "id": "RVyQZ2077jYz"
   },
   "source": [
    "Farm Data -"
   ]
  },
  {
   "cell_type": "code",
   "execution_count": 38,
   "metadata": {
    "execution": {
     "iopub.execute_input": "2023-02-23T03:56:57.323194Z",
     "iopub.status.busy": "2023-02-23T03:56:57.322597Z",
     "iopub.status.idle": "2023-02-23T03:56:57.337287Z",
     "shell.execute_reply": "2023-02-23T03:56:57.335579Z",
     "shell.execute_reply.started": "2023-02-23T03:56:57.323128Z"
    },
    "id": "veP2HGoF69ps"
   },
   "outputs": [
    {
     "data": {
      "text/plain": [
       "farm_id                        0.00\n",
       "operations_commencing_year    53.42\n",
       "num_processing_plants         75.50\n",
       "farm_area                      0.00\n",
       "farming_company                0.00\n",
       "deidentified_location          0.00\n",
       "dtype: float64"
      ]
     },
     "execution_count": 38,
     "metadata": {},
     "output_type": "execute_result"
    }
   ],
   "source": [
    "# checking misiing value count for farm data\n",
    "farm_data.isna().mean().round(4)  * 100"
   ]
  },
  {
   "cell_type": "markdown",
   "metadata": {
    "id": "oEl-BPgT9OQL"
   },
   "source": [
    "### Data Cleaning and Preprocessing -"
   ]
  },
  {
   "cell_type": "markdown",
   "metadata": {
    "id": "iTOetRdU9fve"
   },
   "source": [
    "Train data"
   ]
  },
  {
   "cell_type": "code",
   "execution_count": 39,
   "metadata": {
    "execution": {
     "iopub.execute_input": "2023-02-23T03:56:57.340445Z",
     "iopub.status.busy": "2023-02-23T03:56:57.339890Z",
     "iopub.status.idle": "2023-02-23T03:57:01.150293Z",
     "shell.execute_reply": "2023-02-23T03:57:01.148184Z",
     "shell.execute_reply.started": "2023-02-23T03:56:57.340407Z"
    },
    "id": "WQesoyd29NOs"
   },
   "outputs": [],
   "source": [
    "# Convert date Object to datetime format in train data\n",
    "train_data['date'] = pd.to_datetime(train_data['date'], format='%Y-%m-%d %H:%M:%S')"
   ]
  },
  {
   "cell_type": "code",
   "execution_count": 40,
   "metadata": {
    "execution": {
     "iopub.execute_input": "2023-02-23T03:57:01.152758Z",
     "iopub.status.busy": "2023-02-23T03:57:01.152119Z",
     "iopub.status.idle": "2023-02-23T03:57:05.616798Z",
     "shell.execute_reply": "2023-02-23T03:57:05.614959Z",
     "shell.execute_reply.started": "2023-02-23T03:57:01.152708Z"
    }
   },
   "outputs": [],
   "source": [
    "# Convert date Object to datetime format in test data\n",
    "test_data['date'] = pd.to_datetime(test_data['date'], format='%Y-%m-%d %H:%M:%S')"
   ]
  },
  {
   "cell_type": "markdown",
   "metadata": {
    "id": "etaeIpYY93eN"
   },
   "source": [
    "Farm Data - "
   ]
  },
  {
   "cell_type": "markdown",
   "metadata": {},
   "source": [
    "The founding year of the farm can give an indication of the age of the infrastructure, which may affect the efficiency and effectiveness of the farm's operations. For example, an older farm may have outdated equipment or technology that could impact crop yield."
   ]
  },
  {
   "cell_type": "code",
   "execution_count": 41,
   "metadata": {
    "execution": {
     "iopub.execute_input": "2023-02-23T03:57:05.619410Z",
     "iopub.status.busy": "2023-02-23T03:57:05.618885Z",
     "iopub.status.idle": "2023-02-23T03:57:05.630510Z",
     "shell.execute_reply": "2023-02-23T03:57:05.628800Z",
     "shell.execute_reply.started": "2023-02-23T03:57:05.619371Z"
    },
    "id": "SLmHtZRWzW7k"
   },
   "outputs": [],
   "source": [
    "import datetime\n",
    "current_year = datetime.datetime.now().year\n",
    "def classify_founding_year(year):\n",
    "    age = current_year - year\n",
    "    if age >= 50:\n",
    "        return 'old'\n",
    "    elif age < 50 and age >= 20:\n",
    "        return 'moderate'\n",
    "    else:\n",
    "        return 'new'\n",
    "    \n",
    "# Example usage\n",
    "farm_data['operations_commencing_year'] = farm_data['operations_commencing_year'].apply(classify_founding_year)\n"
   ]
  },
  {
   "cell_type": "code",
   "execution_count": 42,
   "metadata": {
    "execution": {
     "iopub.execute_input": "2023-02-23T03:57:05.633451Z",
     "iopub.status.busy": "2023-02-23T03:57:05.632300Z",
     "iopub.status.idle": "2023-02-23T03:57:05.675079Z",
     "shell.execute_reply": "2023-02-23T03:57:05.673727Z",
     "shell.execute_reply.started": "2023-02-23T03:57:05.633366Z"
    },
    "id": "ilNHSmBq9-N6"
   },
   "outputs": [],
   "source": [
    "#Fill missing values with median in train weather dataset\n",
    "farm_data['num_processing_plants'].fillna(farm_data['num_processing_plants'].median(), inplace=True)\n",
    "train_weather['temp_obs'].fillna(train_weather['temp_obs'].median(), inplace = True)\n",
    "train_weather['wind_direction'].fillna(train_weather['wind_direction'].median(), inplace = True)\n",
    "train_weather['dew_temp'].fillna(train_weather['dew_temp'].median(), inplace = True)\n",
    "train_weather['pressure_sea_level'].fillna(train_weather['pressure_sea_level'].median(), inplace = True)\n",
    "train_weather['precipitation'].fillna(train_weather['precipitation'].median(), inplace = True)\n",
    "train_weather['wind_speed'].fillna(train_weather['wind_speed'].median(), inplace = True)\n",
    "train_weather['cloudiness'].fillna(train_weather['cloudiness'].median(), inplace = True)"
   ]
  },
  {
   "cell_type": "code",
   "execution_count": 43,
   "metadata": {
    "execution": {
     "iopub.execute_input": "2023-02-23T03:57:05.677527Z",
     "iopub.status.busy": "2023-02-23T03:57:05.676947Z",
     "iopub.status.idle": "2023-02-23T03:57:05.710722Z",
     "shell.execute_reply": "2023-02-23T03:57:05.709646Z",
     "shell.execute_reply.started": "2023-02-23T03:57:05.677476Z"
    }
   },
   "outputs": [],
   "source": [
    "# Fill missing values with median in test weather dataset\n",
    "test_weather['temp_obs'].fillna(test_weather['temp_obs'].median(), inplace = True)\n",
    "test_weather['wind_direction'].fillna(test_weather['wind_direction'].median(), inplace = True)\n",
    "test_weather['dew_temp'].fillna(test_weather['dew_temp'].median(), inplace = True)\n",
    "test_weather['pressure_sea_level'].fillna(test_weather['pressure_sea_level'].median(), inplace = True)\n",
    "test_weather['precipitation'].fillna(test_weather['precipitation'].median(), inplace = True)\n",
    "test_weather['wind_speed'].fillna(test_weather['wind_speed'].median(), inplace = True)\n",
    "test_weather['cloudiness'].fillna(test_weather['cloudiness'].median(), inplace = True)"
   ]
  },
  {
   "cell_type": "markdown",
   "metadata": {},
   "source": [
    "* num processing plants is in float but it should be in integer right so let's convert it"
   ]
  },
  {
   "cell_type": "code",
   "execution_count": 44,
   "metadata": {
    "execution": {
     "iopub.execute_input": "2023-02-23T03:57:05.720868Z",
     "iopub.status.busy": "2023-02-23T03:57:05.719809Z",
     "iopub.status.idle": "2023-02-23T03:57:05.730630Z",
     "shell.execute_reply": "2023-02-23T03:57:05.728216Z",
     "shell.execute_reply.started": "2023-02-23T03:57:05.720791Z"
    },
    "id": "_iYiMhRd9-RB"
   },
   "outputs": [],
   "source": [
    "#Type Conversion\n",
    "farm_data['num_processing_plants'] = farm_data['num_processing_plants'].astype('int64')"
   ]
  },
  {
   "cell_type": "markdown",
   "metadata": {
    "id": "-kEox2Wv-LHR"
   },
   "source": [
    "Weather Data -"
   ]
  },
  {
   "cell_type": "code",
   "execution_count": 45,
   "metadata": {
    "execution": {
     "iopub.execute_input": "2023-02-23T03:57:05.734509Z",
     "iopub.status.busy": "2023-02-23T03:57:05.732710Z",
     "iopub.status.idle": "2023-02-23T03:57:05.771420Z",
     "shell.execute_reply": "2023-02-23T03:57:05.769811Z",
     "shell.execute_reply.started": "2023-02-23T03:57:05.734448Z"
    },
    "id": "yMxnJOcL9-T5"
   },
   "outputs": [],
   "source": [
    "# Convert date Object to datetime format in train weather data\n",
    "train_weather['timestamp'] = pd.to_datetime(train_weather['timestamp'], format='%Y-%m-%d %H:%M:%S')"
   ]
  },
  {
   "cell_type": "code",
   "execution_count": 46,
   "metadata": {
    "execution": {
     "iopub.execute_input": "2023-02-23T03:57:05.775798Z",
     "iopub.status.busy": "2023-02-23T03:57:05.774168Z",
     "iopub.status.idle": "2023-02-23T03:57:05.810089Z",
     "shell.execute_reply": "2023-02-23T03:57:05.809064Z",
     "shell.execute_reply.started": "2023-02-23T03:57:05.775746Z"
    }
   },
   "outputs": [],
   "source": [
    "# Convert date Object to datetime format in test weather data\n",
    "test_weather['timestamp'] = pd.to_datetime(test_weather['timestamp'], format='%Y-%m-%d %H:%M:%S')"
   ]
  },
  {
   "cell_type": "markdown",
   "metadata": {},
   "source": [
    "<div class=\"alert alert-block alert-info\"><b> \n",
    " i have done all the viaulizations in tableu that's why i didn't included any plots here\n",
    "</b></div> "
   ]
  },
  {
   "cell_type": "markdown",
   "metadata": {
    "id": "VIZLaVvw-Vg3"
   },
   "source": [
    "### Merging the Datasets"
   ]
  },
  {
   "cell_type": "code",
   "execution_count": 47,
   "metadata": {
    "execution": {
     "iopub.execute_input": "2023-02-23T03:57:05.812861Z",
     "iopub.status.busy": "2023-02-23T03:57:05.811256Z",
     "iopub.status.idle": "2023-02-23T03:57:16.173063Z",
     "shell.execute_reply": "2023-02-23T03:57:16.172019Z",
     "shell.execute_reply.started": "2023-02-23T03:57:05.812805Z"
    },
    "id": "8oRp7ELy9-Y9"
   },
   "outputs": [],
   "source": [
    "# Merging train_data and farm_data on 'farm_id' column\n",
    "train_data_merged = pd.merge(train_data,farm_data, on = 'farm_id')"
   ]
  },
  {
   "cell_type": "code",
   "execution_count": 48,
   "metadata": {
    "execution": {
     "iopub.execute_input": "2023-02-23T03:57:16.175902Z",
     "iopub.status.busy": "2023-02-23T03:57:16.174670Z",
     "iopub.status.idle": "2023-02-23T03:57:25.773288Z",
     "shell.execute_reply": "2023-02-23T03:57:25.772030Z",
     "shell.execute_reply.started": "2023-02-23T03:57:16.175852Z"
    }
   },
   "outputs": [],
   "source": [
    "# Merging test_data and farm_data on 'farm_id' column\n",
    "test_data_merged = pd.merge(test_data,farm_data, on = 'farm_id')"
   ]
  },
  {
   "cell_type": "code",
   "execution_count": 49,
   "metadata": {
    "execution": {
     "iopub.execute_input": "2023-02-23T03:57:25.776291Z",
     "iopub.status.busy": "2023-02-23T03:57:25.775426Z",
     "iopub.status.idle": "2023-02-23T03:57:25.796551Z",
     "shell.execute_reply": "2023-02-23T03:57:25.794738Z",
     "shell.execute_reply.started": "2023-02-23T03:57:25.776247Z"
    },
    "id": "-kU6jytY9-ca"
   },
   "outputs": [
    {
     "data": {
      "text/html": [
       "<div>\n",
       "<style scoped>\n",
       "    .dataframe tbody tr th:only-of-type {\n",
       "        vertical-align: middle;\n",
       "    }\n",
       "\n",
       "    .dataframe tbody tr th {\n",
       "        vertical-align: top;\n",
       "    }\n",
       "\n",
       "    .dataframe thead th {\n",
       "        text-align: right;\n",
       "    }\n",
       "</style>\n",
       "<table border=\"1\" class=\"dataframe\">\n",
       "  <thead>\n",
       "    <tr style=\"text-align: right;\">\n",
       "      <th></th>\n",
       "      <th>date</th>\n",
       "      <th>farm_id</th>\n",
       "      <th>ingredient_type</th>\n",
       "      <th>yield</th>\n",
       "      <th>operations_commencing_year</th>\n",
       "      <th>num_processing_plants</th>\n",
       "      <th>farm_area</th>\n",
       "      <th>farming_company</th>\n",
       "      <th>deidentified_location</th>\n",
       "    </tr>\n",
       "  </thead>\n",
       "  <tbody>\n",
       "    <tr>\n",
       "      <th>0</th>\n",
       "      <td>2016-01-01 00:00:00</td>\n",
       "      <td>fid_110884</td>\n",
       "      <td>ing_w</td>\n",
       "      <td>0.0</td>\n",
       "      <td>new</td>\n",
       "      <td>7</td>\n",
       "      <td>690.455096</td>\n",
       "      <td>Obery Farms</td>\n",
       "      <td>location 7369</td>\n",
       "    </tr>\n",
       "    <tr>\n",
       "      <th>1</th>\n",
       "      <td>2016-01-01 01:00:00</td>\n",
       "      <td>fid_110884</td>\n",
       "      <td>ing_w</td>\n",
       "      <td>0.0</td>\n",
       "      <td>new</td>\n",
       "      <td>7</td>\n",
       "      <td>690.455096</td>\n",
       "      <td>Obery Farms</td>\n",
       "      <td>location 7369</td>\n",
       "    </tr>\n",
       "    <tr>\n",
       "      <th>2</th>\n",
       "      <td>2016-01-01 02:00:00</td>\n",
       "      <td>fid_110884</td>\n",
       "      <td>ing_w</td>\n",
       "      <td>0.0</td>\n",
       "      <td>new</td>\n",
       "      <td>7</td>\n",
       "      <td>690.455096</td>\n",
       "      <td>Obery Farms</td>\n",
       "      <td>location 7369</td>\n",
       "    </tr>\n",
       "    <tr>\n",
       "      <th>3</th>\n",
       "      <td>2016-01-01 03:00:00</td>\n",
       "      <td>fid_110884</td>\n",
       "      <td>ing_w</td>\n",
       "      <td>0.0</td>\n",
       "      <td>new</td>\n",
       "      <td>7</td>\n",
       "      <td>690.455096</td>\n",
       "      <td>Obery Farms</td>\n",
       "      <td>location 7369</td>\n",
       "    </tr>\n",
       "    <tr>\n",
       "      <th>4</th>\n",
       "      <td>2016-01-01 04:00:00</td>\n",
       "      <td>fid_110884</td>\n",
       "      <td>ing_w</td>\n",
       "      <td>0.0</td>\n",
       "      <td>new</td>\n",
       "      <td>7</td>\n",
       "      <td>690.455096</td>\n",
       "      <td>Obery Farms</td>\n",
       "      <td>location 7369</td>\n",
       "    </tr>\n",
       "  </tbody>\n",
       "</table>\n",
       "</div>"
      ],
      "text/plain": [
       "                 date     farm_id ingredient_type  yield  \\\n",
       "0 2016-01-01 00:00:00  fid_110884           ing_w    0.0   \n",
       "1 2016-01-01 01:00:00  fid_110884           ing_w    0.0   \n",
       "2 2016-01-01 02:00:00  fid_110884           ing_w    0.0   \n",
       "3 2016-01-01 03:00:00  fid_110884           ing_w    0.0   \n",
       "4 2016-01-01 04:00:00  fid_110884           ing_w    0.0   \n",
       "\n",
       "  operations_commencing_year  num_processing_plants   farm_area  \\\n",
       "0                        new                      7  690.455096   \n",
       "1                        new                      7  690.455096   \n",
       "2                        new                      7  690.455096   \n",
       "3                        new                      7  690.455096   \n",
       "4                        new                      7  690.455096   \n",
       "\n",
       "  farming_company deidentified_location  \n",
       "0     Obery Farms         location 7369  \n",
       "1     Obery Farms         location 7369  \n",
       "2     Obery Farms         location 7369  \n",
       "3     Obery Farms         location 7369  \n",
       "4     Obery Farms         location 7369  "
      ]
     },
     "execution_count": 49,
     "metadata": {},
     "output_type": "execute_result"
    }
   ],
   "source": [
    "# checking the train merged data\n",
    "train_data_merged.head()"
   ]
  },
  {
   "cell_type": "code",
   "execution_count": 50,
   "metadata": {
    "execution": {
     "iopub.execute_input": "2023-02-23T03:57:25.799695Z",
     "iopub.status.busy": "2023-02-23T03:57:25.798909Z",
     "iopub.status.idle": "2023-02-23T03:57:25.836448Z",
     "shell.execute_reply": "2023-02-23T03:57:25.834805Z",
     "shell.execute_reply.started": "2023-02-23T03:57:25.799622Z"
    }
   },
   "outputs": [
    {
     "data": {
      "text/html": [
       "<div>\n",
       "<style scoped>\n",
       "    .dataframe tbody tr th:only-of-type {\n",
       "        vertical-align: middle;\n",
       "    }\n",
       "\n",
       "    .dataframe tbody tr th {\n",
       "        vertical-align: top;\n",
       "    }\n",
       "\n",
       "    .dataframe thead th {\n",
       "        text-align: right;\n",
       "    }\n",
       "</style>\n",
       "<table border=\"1\" class=\"dataframe\">\n",
       "  <thead>\n",
       "    <tr style=\"text-align: right;\">\n",
       "      <th></th>\n",
       "      <th>date</th>\n",
       "      <th>farm_id</th>\n",
       "      <th>ingredient_type</th>\n",
       "      <th>id</th>\n",
       "      <th>operations_commencing_year</th>\n",
       "      <th>num_processing_plants</th>\n",
       "      <th>farm_area</th>\n",
       "      <th>farming_company</th>\n",
       "      <th>deidentified_location</th>\n",
       "    </tr>\n",
       "  </thead>\n",
       "  <tbody>\n",
       "    <tr>\n",
       "      <th>0</th>\n",
       "      <td>2017-01-01 00:00:00</td>\n",
       "      <td>fid_110884</td>\n",
       "      <td>ing_w</td>\n",
       "      <td>0</td>\n",
       "      <td>new</td>\n",
       "      <td>7</td>\n",
       "      <td>690.455096</td>\n",
       "      <td>Obery Farms</td>\n",
       "      <td>location 7369</td>\n",
       "    </tr>\n",
       "    <tr>\n",
       "      <th>1</th>\n",
       "      <td>2017-01-01 01:00:00</td>\n",
       "      <td>fid_110884</td>\n",
       "      <td>ing_w</td>\n",
       "      <td>129</td>\n",
       "      <td>new</td>\n",
       "      <td>7</td>\n",
       "      <td>690.455096</td>\n",
       "      <td>Obery Farms</td>\n",
       "      <td>location 7369</td>\n",
       "    </tr>\n",
       "    <tr>\n",
       "      <th>2</th>\n",
       "      <td>2017-01-01 02:00:00</td>\n",
       "      <td>fid_110884</td>\n",
       "      <td>ing_w</td>\n",
       "      <td>258</td>\n",
       "      <td>new</td>\n",
       "      <td>7</td>\n",
       "      <td>690.455096</td>\n",
       "      <td>Obery Farms</td>\n",
       "      <td>location 7369</td>\n",
       "    </tr>\n",
       "    <tr>\n",
       "      <th>3</th>\n",
       "      <td>2017-01-01 03:00:00</td>\n",
       "      <td>fid_110884</td>\n",
       "      <td>ing_w</td>\n",
       "      <td>387</td>\n",
       "      <td>new</td>\n",
       "      <td>7</td>\n",
       "      <td>690.455096</td>\n",
       "      <td>Obery Farms</td>\n",
       "      <td>location 7369</td>\n",
       "    </tr>\n",
       "    <tr>\n",
       "      <th>4</th>\n",
       "      <td>2017-01-01 04:00:00</td>\n",
       "      <td>fid_110884</td>\n",
       "      <td>ing_w</td>\n",
       "      <td>516</td>\n",
       "      <td>new</td>\n",
       "      <td>7</td>\n",
       "      <td>690.455096</td>\n",
       "      <td>Obery Farms</td>\n",
       "      <td>location 7369</td>\n",
       "    </tr>\n",
       "  </tbody>\n",
       "</table>\n",
       "</div>"
      ],
      "text/plain": [
       "                 date     farm_id ingredient_type   id  \\\n",
       "0 2017-01-01 00:00:00  fid_110884           ing_w    0   \n",
       "1 2017-01-01 01:00:00  fid_110884           ing_w  129   \n",
       "2 2017-01-01 02:00:00  fid_110884           ing_w  258   \n",
       "3 2017-01-01 03:00:00  fid_110884           ing_w  387   \n",
       "4 2017-01-01 04:00:00  fid_110884           ing_w  516   \n",
       "\n",
       "  operations_commencing_year  num_processing_plants   farm_area  \\\n",
       "0                        new                      7  690.455096   \n",
       "1                        new                      7  690.455096   \n",
       "2                        new                      7  690.455096   \n",
       "3                        new                      7  690.455096   \n",
       "4                        new                      7  690.455096   \n",
       "\n",
       "  farming_company deidentified_location  \n",
       "0     Obery Farms         location 7369  \n",
       "1     Obery Farms         location 7369  \n",
       "2     Obery Farms         location 7369  \n",
       "3     Obery Farms         location 7369  \n",
       "4     Obery Farms         location 7369  "
      ]
     },
     "execution_count": 50,
     "metadata": {},
     "output_type": "execute_result"
    }
   ],
   "source": [
    "# checking the test merged data\n",
    "test_data_merged.head()"
   ]
  },
  {
   "cell_type": "markdown",
   "metadata": {},
   "source": [
    "in weather data the date column named as timestamp so we should rename that as date or we should rename merged data as timestamp.\n",
    "so let's rename merged data as timestamp"
   ]
  },
  {
   "cell_type": "code",
   "execution_count": 51,
   "metadata": {
    "execution": {
     "iopub.execute_input": "2023-02-23T03:57:25.842930Z",
     "iopub.status.busy": "2023-02-23T03:57:25.841102Z",
     "iopub.status.idle": "2023-02-23T03:57:25.851085Z",
     "shell.execute_reply": "2023-02-23T03:57:25.849507Z",
     "shell.execute_reply.started": "2023-02-23T03:57:25.842877Z"
    },
    "id": "ww9WJTk_9-kX"
   },
   "outputs": [],
   "source": [
    "# Renaming date column as timestamp\n",
    "train_data_merged.rename(columns = {'date':'timestamp'},inplace = True)\n",
    "test_data_merged.rename(columns = {'date':'timestamp'},inplace = True)"
   ]
  },
  {
   "cell_type": "code",
   "execution_count": 52,
   "metadata": {
    "execution": {
     "iopub.execute_input": "2023-02-23T03:57:25.854136Z",
     "iopub.status.busy": "2023-02-23T03:57:25.852882Z",
     "iopub.status.idle": "2023-02-23T03:57:25.872574Z",
     "shell.execute_reply": "2023-02-23T03:57:25.871115Z",
     "shell.execute_reply.started": "2023-02-23T03:57:25.854081Z"
    },
    "id": "Uq9fhv6jUC1v"
   },
   "outputs": [
    {
     "data": {
      "text/plain": [
       "(20602899, 9)"
      ]
     },
     "execution_count": 52,
     "metadata": {},
     "output_type": "execute_result"
    }
   ],
   "source": [
    "# checking the shape of the train merged dataset\n",
    "train_data_merged.shape"
   ]
  },
  {
   "cell_type": "code",
   "execution_count": 53,
   "metadata": {
    "execution": {
     "iopub.execute_input": "2023-02-23T03:57:25.875224Z",
     "iopub.status.busy": "2023-02-23T03:57:25.874422Z",
     "iopub.status.idle": "2023-02-23T03:57:25.894214Z",
     "shell.execute_reply": "2023-02-23T03:57:25.892710Z",
     "shell.execute_reply.started": "2023-02-23T03:57:25.875185Z"
    }
   },
   "outputs": [
    {
     "data": {
      "text/plain": [
       "(21251760, 9)"
      ]
     },
     "execution_count": 53,
     "metadata": {},
     "output_type": "execute_result"
    }
   ],
   "source": [
    "# checking the shape of the test merged dataset\n",
    "test_data_merged.shape"
   ]
  },
  {
   "cell_type": "code",
   "execution_count": 54,
   "metadata": {
    "execution": {
     "iopub.execute_input": "2023-02-23T03:57:25.898022Z",
     "iopub.status.busy": "2023-02-23T03:57:25.896201Z",
     "iopub.status.idle": "2023-02-23T03:57:25.927828Z",
     "shell.execute_reply": "2023-02-23T03:57:25.926273Z",
     "shell.execute_reply.started": "2023-02-23T03:57:25.897704Z"
    }
   },
   "outputs": [
    {
     "data": {
      "text/html": [
       "<div>\n",
       "<style scoped>\n",
       "    .dataframe tbody tr th:only-of-type {\n",
       "        vertical-align: middle;\n",
       "    }\n",
       "\n",
       "    .dataframe tbody tr th {\n",
       "        vertical-align: top;\n",
       "    }\n",
       "\n",
       "    .dataframe thead th {\n",
       "        text-align: right;\n",
       "    }\n",
       "</style>\n",
       "<table border=\"1\" class=\"dataframe\">\n",
       "  <thead>\n",
       "    <tr style=\"text-align: right;\">\n",
       "      <th></th>\n",
       "      <th>timestamp</th>\n",
       "      <th>farm_id</th>\n",
       "      <th>ingredient_type</th>\n",
       "      <th>id</th>\n",
       "      <th>operations_commencing_year</th>\n",
       "      <th>num_processing_plants</th>\n",
       "      <th>farm_area</th>\n",
       "      <th>farming_company</th>\n",
       "      <th>deidentified_location</th>\n",
       "    </tr>\n",
       "  </thead>\n",
       "  <tbody>\n",
       "    <tr>\n",
       "      <th>0</th>\n",
       "      <td>2017-01-01 00:00:00</td>\n",
       "      <td>fid_110884</td>\n",
       "      <td>ing_w</td>\n",
       "      <td>0</td>\n",
       "      <td>new</td>\n",
       "      <td>7</td>\n",
       "      <td>690.455096</td>\n",
       "      <td>Obery Farms</td>\n",
       "      <td>location 7369</td>\n",
       "    </tr>\n",
       "    <tr>\n",
       "      <th>1</th>\n",
       "      <td>2017-01-01 01:00:00</td>\n",
       "      <td>fid_110884</td>\n",
       "      <td>ing_w</td>\n",
       "      <td>129</td>\n",
       "      <td>new</td>\n",
       "      <td>7</td>\n",
       "      <td>690.455096</td>\n",
       "      <td>Obery Farms</td>\n",
       "      <td>location 7369</td>\n",
       "    </tr>\n",
       "    <tr>\n",
       "      <th>2</th>\n",
       "      <td>2017-01-01 02:00:00</td>\n",
       "      <td>fid_110884</td>\n",
       "      <td>ing_w</td>\n",
       "      <td>258</td>\n",
       "      <td>new</td>\n",
       "      <td>7</td>\n",
       "      <td>690.455096</td>\n",
       "      <td>Obery Farms</td>\n",
       "      <td>location 7369</td>\n",
       "    </tr>\n",
       "    <tr>\n",
       "      <th>3</th>\n",
       "      <td>2017-01-01 03:00:00</td>\n",
       "      <td>fid_110884</td>\n",
       "      <td>ing_w</td>\n",
       "      <td>387</td>\n",
       "      <td>new</td>\n",
       "      <td>7</td>\n",
       "      <td>690.455096</td>\n",
       "      <td>Obery Farms</td>\n",
       "      <td>location 7369</td>\n",
       "    </tr>\n",
       "    <tr>\n",
       "      <th>4</th>\n",
       "      <td>2017-01-01 04:00:00</td>\n",
       "      <td>fid_110884</td>\n",
       "      <td>ing_w</td>\n",
       "      <td>516</td>\n",
       "      <td>new</td>\n",
       "      <td>7</td>\n",
       "      <td>690.455096</td>\n",
       "      <td>Obery Farms</td>\n",
       "      <td>location 7369</td>\n",
       "    </tr>\n",
       "  </tbody>\n",
       "</table>\n",
       "</div>"
      ],
      "text/plain": [
       "            timestamp     farm_id ingredient_type   id  \\\n",
       "0 2017-01-01 00:00:00  fid_110884           ing_w    0   \n",
       "1 2017-01-01 01:00:00  fid_110884           ing_w  129   \n",
       "2 2017-01-01 02:00:00  fid_110884           ing_w  258   \n",
       "3 2017-01-01 03:00:00  fid_110884           ing_w  387   \n",
       "4 2017-01-01 04:00:00  fid_110884           ing_w  516   \n",
       "\n",
       "  operations_commencing_year  num_processing_plants   farm_area  \\\n",
       "0                        new                      7  690.455096   \n",
       "1                        new                      7  690.455096   \n",
       "2                        new                      7  690.455096   \n",
       "3                        new                      7  690.455096   \n",
       "4                        new                      7  690.455096   \n",
       "\n",
       "  farming_company deidentified_location  \n",
       "0     Obery Farms         location 7369  \n",
       "1     Obery Farms         location 7369  \n",
       "2     Obery Farms         location 7369  \n",
       "3     Obery Farms         location 7369  \n",
       "4     Obery Farms         location 7369  "
      ]
     },
     "execution_count": 54,
     "metadata": {},
     "output_type": "execute_result"
    }
   ],
   "source": [
    "# checking the test merged data\n",
    "test_data_merged.head()"
   ]
  },
  {
   "cell_type": "code",
   "execution_count": 55,
   "metadata": {
    "execution": {
     "iopub.execute_input": "2023-02-23T03:57:25.929997Z",
     "iopub.status.busy": "2023-02-23T03:57:25.929580Z",
     "iopub.status.idle": "2023-02-23T03:57:31.078953Z",
     "shell.execute_reply": "2023-02-23T03:57:31.077045Z",
     "shell.execute_reply.started": "2023-02-23T03:57:25.929962Z"
    },
    "id": "m_ipO89NUC5J"
   },
   "outputs": [
    {
     "data": {
      "text/plain": [
       "timestamp                     0\n",
       "farm_id                       0\n",
       "ingredient_type               0\n",
       "yield                         0\n",
       "operations_commencing_year    0\n",
       "num_processing_plants         0\n",
       "farm_area                     0\n",
       "farming_company               0\n",
       "deidentified_location         0\n",
       "dtype: int64"
      ]
     },
     "execution_count": 55,
     "metadata": {},
     "output_type": "execute_result"
    }
   ],
   "source": [
    "# checking the null values in train merged dataset\n",
    "train_data_merged.isnull().sum()"
   ]
  },
  {
   "cell_type": "code",
   "execution_count": 56,
   "metadata": {
    "execution": {
     "iopub.execute_input": "2023-02-23T03:57:31.081117Z",
     "iopub.status.busy": "2023-02-23T03:57:31.080734Z",
     "iopub.status.idle": "2023-02-23T03:57:36.353993Z",
     "shell.execute_reply": "2023-02-23T03:57:36.352560Z",
     "shell.execute_reply.started": "2023-02-23T03:57:31.081086Z"
    }
   },
   "outputs": [
    {
     "data": {
      "text/plain": [
       "timestamp                     0\n",
       "farm_id                       0\n",
       "ingredient_type               0\n",
       "id                            0\n",
       "operations_commencing_year    0\n",
       "num_processing_plants         0\n",
       "farm_area                     0\n",
       "farming_company               0\n",
       "deidentified_location         0\n",
       "dtype: int64"
      ]
     },
     "execution_count": 56,
     "metadata": {},
     "output_type": "execute_result"
    }
   ],
   "source": [
    "# checking the null values in test merged dataset\n",
    "test_data_merged.isnull().sum()"
   ]
  },
  {
   "cell_type": "code",
   "execution_count": 57,
   "metadata": {
    "execution": {
     "iopub.execute_input": "2023-02-23T03:57:36.356942Z",
     "iopub.status.busy": "2023-02-23T03:57:36.356440Z",
     "iopub.status.idle": "2023-02-23T03:57:46.156973Z",
     "shell.execute_reply": "2023-02-23T03:57:46.155708Z",
     "shell.execute_reply.started": "2023-02-23T03:57:36.356894Z"
    },
    "id": "jkBBRdIk-4sc"
   },
   "outputs": [
    {
     "data": {
      "text/plain": [
       "timestamp                        8784\n",
       "farm_id                          1434\n",
       "ingredient_type                     4\n",
       "yield                         1688175\n",
       "operations_commencing_year          3\n",
       "num_processing_plants              18\n",
       "farm_area                        1397\n",
       "farming_company                    16\n",
       "deidentified_location              16\n",
       "dtype: int64"
      ]
     },
     "execution_count": 57,
     "metadata": {},
     "output_type": "execute_result"
    }
   ],
   "source": [
    "# checking the unique value count in train merged dataset\n",
    "train_data_merged.nunique()"
   ]
  },
  {
   "cell_type": "code",
   "execution_count": 58,
   "metadata": {
    "execution": {
     "iopub.execute_input": "2023-02-23T03:57:46.158951Z",
     "iopub.status.busy": "2023-02-23T03:57:46.158543Z",
     "iopub.status.idle": "2023-02-23T03:57:47.534172Z",
     "shell.execute_reply": "2023-02-23T03:57:47.533264Z",
     "shell.execute_reply.started": "2023-02-23T03:57:46.158917Z"
    },
    "id": "2VEUPkju-4vW"
   },
   "outputs": [
    {
     "data": {
      "text/plain": [
       "ing_w    59.769370\n",
       "ing_x    20.659355\n",
       "ing_y    13.308253\n",
       "ing_z     6.263022\n",
       "Name: ingredient_type, dtype: float64"
      ]
     },
     "execution_count": 58,
     "metadata": {},
     "output_type": "execute_result"
    }
   ],
   "source": [
    "# checking the what portion of different ingredient types are there in train merged dataset\n",
    "train_data_merged.ingredient_type.value_counts(normalize = True)*100"
   ]
  },
  {
   "cell_type": "code",
   "execution_count": 59,
   "metadata": {
    "execution": {
     "iopub.execute_input": "2023-02-23T03:57:47.536267Z",
     "iopub.status.busy": "2023-02-23T03:57:47.535780Z",
     "iopub.status.idle": "2023-02-23T03:57:48.454897Z",
     "shell.execute_reply": "2023-02-23T03:57:48.453274Z",
     "shell.execute_reply.started": "2023-02-23T03:57:47.536230Z"
    },
    "id": "usZroLLO-4yZ"
   },
   "outputs": [
    {
     "data": {
      "text/plain": [
       "Obery Farms                            40.450240\n",
       "Wayne Farms                            21.702417\n",
       "Sanderson Farms                        11.029530\n",
       "Dole Food Company                      10.588427\n",
       "Del Monte Foods                         8.382582\n",
       "Foster Farms                            2.062030\n",
       "Other                                   1.175670\n",
       "Freight Farms                           1.037699\n",
       "Monogram Foods                          0.610171\n",
       "Perdue Farms                            0.553757\n",
       "Tyson Foods                             0.546802\n",
       "Mountaire Farms                         0.542938\n",
       "Northland Organic Foods Corporation     0.468473\n",
       "West Liberty Foods                      0.376777\n",
       "Kansas Ville Farms                      0.272792\n",
       "Southern Confederate Farms              0.199695\n",
       "Name: farming_company, dtype: float64"
      ]
     },
     "execution_count": 59,
     "metadata": {},
     "output_type": "execute_result"
    }
   ],
   "source": [
    "# checking the what portion of different farming companies are there in train merged dataset\n",
    "train_data_merged.farming_company.value_counts(normalize = True)*100"
   ]
  },
  {
   "cell_type": "code",
   "execution_count": 60,
   "metadata": {
    "execution": {
     "iopub.execute_input": "2023-02-23T03:57:48.457997Z",
     "iopub.status.busy": "2023-02-23T03:57:48.457158Z",
     "iopub.status.idle": "2023-02-23T03:57:48.481016Z",
     "shell.execute_reply": "2023-02-23T03:57:48.479550Z",
     "shell.execute_reply.started": "2023-02-23T03:57:48.457947Z"
    },
    "id": "UY6637Mn-41r"
   },
   "outputs": [
    {
     "data": {
      "text/html": [
       "<div>\n",
       "<style scoped>\n",
       "    .dataframe tbody tr th:only-of-type {\n",
       "        vertical-align: middle;\n",
       "    }\n",
       "\n",
       "    .dataframe tbody tr th {\n",
       "        vertical-align: top;\n",
       "    }\n",
       "\n",
       "    .dataframe thead th {\n",
       "        text-align: right;\n",
       "    }\n",
       "</style>\n",
       "<table border=\"1\" class=\"dataframe\">\n",
       "  <thead>\n",
       "    <tr style=\"text-align: right;\">\n",
       "      <th></th>\n",
       "      <th>timestamp</th>\n",
       "      <th>deidentified_location</th>\n",
       "      <th>temp_obs</th>\n",
       "      <th>cloudiness</th>\n",
       "      <th>wind_direction</th>\n",
       "      <th>dew_temp</th>\n",
       "      <th>pressure_sea_level</th>\n",
       "      <th>precipitation</th>\n",
       "      <th>wind_speed</th>\n",
       "    </tr>\n",
       "  </thead>\n",
       "  <tbody>\n",
       "    <tr>\n",
       "      <th>0</th>\n",
       "      <td>2016-01-01 00:00:00</td>\n",
       "      <td>location 7369</td>\n",
       "      <td>25.0</td>\n",
       "      <td>6.0</td>\n",
       "      <td>0.0</td>\n",
       "      <td>20.0</td>\n",
       "      <td>1019.7</td>\n",
       "      <td>0.0</td>\n",
       "      <td>0.0</td>\n",
       "    </tr>\n",
       "    <tr>\n",
       "      <th>1</th>\n",
       "      <td>2016-01-01 01:00:00</td>\n",
       "      <td>location 7369</td>\n",
       "      <td>24.4</td>\n",
       "      <td>2.0</td>\n",
       "      <td>70.0</td>\n",
       "      <td>21.1</td>\n",
       "      <td>1020.2</td>\n",
       "      <td>-1.0</td>\n",
       "      <td>1.5</td>\n",
       "    </tr>\n",
       "    <tr>\n",
       "      <th>2</th>\n",
       "      <td>2016-01-01 02:00:00</td>\n",
       "      <td>location 7369</td>\n",
       "      <td>22.8</td>\n",
       "      <td>2.0</td>\n",
       "      <td>0.0</td>\n",
       "      <td>21.1</td>\n",
       "      <td>1020.2</td>\n",
       "      <td>0.0</td>\n",
       "      <td>0.0</td>\n",
       "    </tr>\n",
       "    <tr>\n",
       "      <th>3</th>\n",
       "      <td>2016-01-01 03:00:00</td>\n",
       "      <td>location 7369</td>\n",
       "      <td>21.1</td>\n",
       "      <td>2.0</td>\n",
       "      <td>0.0</td>\n",
       "      <td>20.6</td>\n",
       "      <td>1020.1</td>\n",
       "      <td>0.0</td>\n",
       "      <td>0.0</td>\n",
       "    </tr>\n",
       "    <tr>\n",
       "      <th>4</th>\n",
       "      <td>2016-01-01 04:00:00</td>\n",
       "      <td>location 7369</td>\n",
       "      <td>20.0</td>\n",
       "      <td>2.0</td>\n",
       "      <td>250.0</td>\n",
       "      <td>20.0</td>\n",
       "      <td>1020.0</td>\n",
       "      <td>-1.0</td>\n",
       "      <td>2.6</td>\n",
       "    </tr>\n",
       "  </tbody>\n",
       "</table>\n",
       "</div>"
      ],
      "text/plain": [
       "            timestamp deidentified_location  temp_obs  cloudiness  \\\n",
       "0 2016-01-01 00:00:00         location 7369      25.0         6.0   \n",
       "1 2016-01-01 01:00:00         location 7369      24.4         2.0   \n",
       "2 2016-01-01 02:00:00         location 7369      22.8         2.0   \n",
       "3 2016-01-01 03:00:00         location 7369      21.1         2.0   \n",
       "4 2016-01-01 04:00:00         location 7369      20.0         2.0   \n",
       "\n",
       "   wind_direction  dew_temp  pressure_sea_level  precipitation  wind_speed  \n",
       "0             0.0      20.0              1019.7            0.0         0.0  \n",
       "1            70.0      21.1              1020.2           -1.0         1.5  \n",
       "2             0.0      21.1              1020.2            0.0         0.0  \n",
       "3             0.0      20.6              1020.1            0.0         0.0  \n",
       "4           250.0      20.0              1020.0           -1.0         2.6  "
      ]
     },
     "execution_count": 60,
     "metadata": {},
     "output_type": "execute_result"
    }
   ],
   "source": [
    "# checking the train weather\n",
    "train_weather.head()"
   ]
  },
  {
   "cell_type": "code",
   "execution_count": 61,
   "metadata": {
    "execution": {
     "iopub.execute_input": "2023-02-23T03:57:48.483145Z",
     "iopub.status.busy": "2023-02-23T03:57:48.482745Z",
     "iopub.status.idle": "2023-02-23T03:57:48.492142Z",
     "shell.execute_reply": "2023-02-23T03:57:48.490768Z",
     "shell.execute_reply.started": "2023-02-23T03:57:48.483113Z"
    },
    "id": "k-1mSg_b-44Q"
   },
   "outputs": [
    {
     "data": {
      "text/plain": [
       "timestamp                datetime64[ns]\n",
       "deidentified_location            object\n",
       "temp_obs                        float64\n",
       "cloudiness                      float64\n",
       "wind_direction                  float64\n",
       "dew_temp                        float64\n",
       "pressure_sea_level              float64\n",
       "precipitation                   float64\n",
       "wind_speed                      float64\n",
       "dtype: object"
      ]
     },
     "execution_count": 61,
     "metadata": {},
     "output_type": "execute_result"
    }
   ],
   "source": [
    "# checking the train weather data types\n",
    "train_weather.dtypes"
   ]
  },
  {
   "cell_type": "code",
   "execution_count": 62,
   "metadata": {
    "execution": {
     "iopub.execute_input": "2023-02-23T03:57:48.496568Z",
     "iopub.status.busy": "2023-02-23T03:57:48.495729Z",
     "iopub.status.idle": "2023-02-23T03:57:48.508197Z",
     "shell.execute_reply": "2023-02-23T03:57:48.506733Z",
     "shell.execute_reply.started": "2023-02-23T03:57:48.496529Z"
    },
    "id": "Nhl9H5RBAh2q"
   },
   "outputs": [
    {
     "data": {
      "text/plain": [
       "(139773, 9)"
      ]
     },
     "execution_count": 62,
     "metadata": {},
     "output_type": "execute_result"
    }
   ],
   "source": [
    "# checking the train weather shape\n",
    "train_weather.shape"
   ]
  },
  {
   "cell_type": "code",
   "execution_count": 63,
   "metadata": {
    "execution": {
     "iopub.execute_input": "2023-02-23T03:57:48.510508Z",
     "iopub.status.busy": "2023-02-23T03:57:48.510039Z",
     "iopub.status.idle": "2023-02-23T03:57:48.523356Z",
     "shell.execute_reply": "2023-02-23T03:57:48.521155Z",
     "shell.execute_reply.started": "2023-02-23T03:57:48.510470Z"
    },
    "id": "RjJxt8D-AiAy"
   },
   "outputs": [
    {
     "data": {
      "text/plain": [
       "(20602899, 9)"
      ]
     },
     "execution_count": 63,
     "metadata": {},
     "output_type": "execute_result"
    }
   ],
   "source": [
    "# checking the train merged data shape\n",
    "train_data_merged.shape"
   ]
  },
  {
   "cell_type": "code",
   "execution_count": 64,
   "metadata": {
    "execution": {
     "iopub.execute_input": "2023-02-23T03:57:48.525870Z",
     "iopub.status.busy": "2023-02-23T03:57:48.525211Z",
     "iopub.status.idle": "2023-02-23T03:57:57.288287Z",
     "shell.execute_reply": "2023-02-23T03:57:57.286828Z",
     "shell.execute_reply.started": "2023-02-23T03:57:48.525823Z"
    },
    "id": "_mYTx3m2-47p"
   },
   "outputs": [
    {
     "data": {
      "text/plain": [
       "(20511532, 16)"
      ]
     },
     "execution_count": 64,
     "metadata": {},
     "output_type": "execute_result"
    }
   ],
   "source": [
    "# final train merged dataset  here we are doing inner join\n",
    "train_final_merged = pd.merge(train_data_merged,train_weather,on = ['deidentified_location','timestamp'],how = 'inner')\n",
    "train_final_merged.shape"
   ]
  },
  {
   "cell_type": "code",
   "execution_count": 65,
   "metadata": {
    "execution": {
     "iopub.execute_input": "2023-02-23T03:57:57.290438Z",
     "iopub.status.busy": "2023-02-23T03:57:57.289998Z",
     "iopub.status.idle": "2023-02-23T03:58:06.630204Z",
     "shell.execute_reply": "2023-02-23T03:58:06.628655Z",
     "shell.execute_reply.started": "2023-02-23T03:57:57.290405Z"
    }
   },
   "outputs": [
    {
     "data": {
      "text/plain": [
       "(21154797, 16)"
      ]
     },
     "execution_count": 65,
     "metadata": {},
     "output_type": "execute_result"
    }
   ],
   "source": [
    "#final test merged dataset  here we are doing inner join\n",
    "test_final_merged = pd.merge(test_data_merged,test_weather,on = ['deidentified_location','timestamp'],how = 'inner')\n",
    "test_final_merged.shape"
   ]
  },
  {
   "cell_type": "code",
   "execution_count": 66,
   "metadata": {
    "execution": {
     "iopub.execute_input": "2023-02-23T03:58:06.632418Z",
     "iopub.status.busy": "2023-02-23T03:58:06.631822Z",
     "iopub.status.idle": "2023-02-23T03:58:18.298397Z",
     "shell.execute_reply": "2023-02-23T03:58:18.297537Z",
     "shell.execute_reply.started": "2023-02-23T03:58:06.632365Z"
    },
    "id": "xYrWEDnt-5FI"
   },
   "outputs": [
    {
     "data": {
      "text/plain": [
       "timestamp                        8784\n",
       "farm_id                          1434\n",
       "ingredient_type                     4\n",
       "yield                         1679625\n",
       "operations_commencing_year          3\n",
       "num_processing_plants              18\n",
       "farm_area                        1397\n",
       "farming_company                    16\n",
       "deidentified_location              16\n",
       "temp_obs                          619\n",
       "cloudiness                         10\n",
       "wind_direction                     43\n",
       "dew_temp                          522\n",
       "pressure_sea_level                709\n",
       "precipitation                     128\n",
       "wind_speed                         58\n",
       "dtype: int64"
      ]
     },
     "execution_count": 66,
     "metadata": {},
     "output_type": "execute_result"
    }
   ],
   "source": [
    "# checking the unique values in final merged train dataset\n",
    "train_final_merged.nunique()"
   ]
  },
  {
   "cell_type": "code",
   "execution_count": 67,
   "metadata": {
    "execution": {
     "iopub.execute_input": "2023-02-23T03:58:18.300237Z",
     "iopub.status.busy": "2023-02-23T03:58:18.299693Z",
     "iopub.status.idle": "2023-02-23T03:58:24.011313Z",
     "shell.execute_reply": "2023-02-23T03:58:24.010067Z",
     "shell.execute_reply.started": "2023-02-23T03:58:18.300204Z"
    },
    "id": "J3DUlhSsAtcs"
   },
   "outputs": [
    {
     "data": {
      "text/plain": [
       "timestamp                     0\n",
       "farm_id                       0\n",
       "ingredient_type               0\n",
       "yield                         0\n",
       "operations_commencing_year    0\n",
       "num_processing_plants         0\n",
       "farm_area                     0\n",
       "farming_company               0\n",
       "deidentified_location         0\n",
       "temp_obs                      0\n",
       "cloudiness                    0\n",
       "wind_direction                0\n",
       "dew_temp                      0\n",
       "pressure_sea_level            0\n",
       "precipitation                 0\n",
       "wind_speed                    0\n",
       "dtype: int64"
      ]
     },
     "execution_count": 67,
     "metadata": {},
     "output_type": "execute_result"
    }
   ],
   "source": [
    "# checking the null values in final merged train dataset\n",
    "train_final_merged.isnull().sum()"
   ]
  },
  {
   "cell_type": "code",
   "execution_count": 68,
   "metadata": {
    "execution": {
     "iopub.execute_input": "2023-02-23T03:58:24.013513Z",
     "iopub.status.busy": "2023-02-23T03:58:24.013091Z",
     "iopub.status.idle": "2023-02-23T03:58:29.776065Z",
     "shell.execute_reply": "2023-02-23T03:58:29.774314Z",
     "shell.execute_reply.started": "2023-02-23T03:58:24.013478Z"
    }
   },
   "outputs": [
    {
     "data": {
      "text/plain": [
       "timestamp                     0\n",
       "farm_id                       0\n",
       "ingredient_type               0\n",
       "id                            0\n",
       "operations_commencing_year    0\n",
       "num_processing_plants         0\n",
       "farm_area                     0\n",
       "farming_company               0\n",
       "deidentified_location         0\n",
       "temp_obs                      0\n",
       "cloudiness                    0\n",
       "wind_direction                0\n",
       "dew_temp                      0\n",
       "pressure_sea_level            0\n",
       "precipitation                 0\n",
       "wind_speed                    0\n",
       "dtype: int64"
      ]
     },
     "execution_count": 68,
     "metadata": {},
     "output_type": "execute_result"
    }
   ],
   "source": [
    "# checking the null values in final merged test dataset\n",
    "test_final_merged.isnull().sum()"
   ]
  },
  {
   "cell_type": "code",
   "execution_count": 69,
   "metadata": {
    "execution": {
     "iopub.execute_input": "2023-02-23T03:58:29.778445Z",
     "iopub.status.busy": "2023-02-23T03:58:29.777890Z",
     "iopub.status.idle": "2023-02-23T03:58:29.809229Z",
     "shell.execute_reply": "2023-02-23T03:58:29.807716Z",
     "shell.execute_reply.started": "2023-02-23T03:58:29.778388Z"
    }
   },
   "outputs": [
    {
     "data": {
      "text/html": [
       "<div>\n",
       "<style scoped>\n",
       "    .dataframe tbody tr th:only-of-type {\n",
       "        vertical-align: middle;\n",
       "    }\n",
       "\n",
       "    .dataframe tbody tr th {\n",
       "        vertical-align: top;\n",
       "    }\n",
       "\n",
       "    .dataframe thead th {\n",
       "        text-align: right;\n",
       "    }\n",
       "</style>\n",
       "<table border=\"1\" class=\"dataframe\">\n",
       "  <thead>\n",
       "    <tr style=\"text-align: right;\">\n",
       "      <th></th>\n",
       "      <th>timestamp</th>\n",
       "      <th>farm_id</th>\n",
       "      <th>ingredient_type</th>\n",
       "      <th>id</th>\n",
       "      <th>operations_commencing_year</th>\n",
       "      <th>num_processing_plants</th>\n",
       "      <th>farm_area</th>\n",
       "      <th>farming_company</th>\n",
       "      <th>deidentified_location</th>\n",
       "      <th>temp_obs</th>\n",
       "      <th>cloudiness</th>\n",
       "      <th>wind_direction</th>\n",
       "      <th>dew_temp</th>\n",
       "      <th>pressure_sea_level</th>\n",
       "      <th>precipitation</th>\n",
       "      <th>wind_speed</th>\n",
       "    </tr>\n",
       "  </thead>\n",
       "  <tbody>\n",
       "    <tr>\n",
       "      <th>0</th>\n",
       "      <td>2017-01-01</td>\n",
       "      <td>fid_110884</td>\n",
       "      <td>ing_w</td>\n",
       "      <td>0</td>\n",
       "      <td>new</td>\n",
       "      <td>7</td>\n",
       "      <td>690.455096</td>\n",
       "      <td>Obery Farms</td>\n",
       "      <td>location 7369</td>\n",
       "      <td>17.8</td>\n",
       "      <td>4.0</td>\n",
       "      <td>100.0</td>\n",
       "      <td>11.7</td>\n",
       "      <td>1021.4</td>\n",
       "      <td>0.0</td>\n",
       "      <td>3.6</td>\n",
       "    </tr>\n",
       "    <tr>\n",
       "      <th>1</th>\n",
       "      <td>2017-01-01</td>\n",
       "      <td>fid_90053</td>\n",
       "      <td>ing_w</td>\n",
       "      <td>1</td>\n",
       "      <td>new</td>\n",
       "      <td>7</td>\n",
       "      <td>252.696160</td>\n",
       "      <td>Obery Farms</td>\n",
       "      <td>location 7369</td>\n",
       "      <td>17.8</td>\n",
       "      <td>4.0</td>\n",
       "      <td>100.0</td>\n",
       "      <td>11.7</td>\n",
       "      <td>1021.4</td>\n",
       "      <td>0.0</td>\n",
       "      <td>3.6</td>\n",
       "    </tr>\n",
       "    <tr>\n",
       "      <th>2</th>\n",
       "      <td>2017-01-01</td>\n",
       "      <td>fid_17537</td>\n",
       "      <td>ing_w</td>\n",
       "      <td>2</td>\n",
       "      <td>moderate</td>\n",
       "      <td>7</td>\n",
       "      <td>499.446528</td>\n",
       "      <td>Obery Farms</td>\n",
       "      <td>location 7369</td>\n",
       "      <td>17.8</td>\n",
       "      <td>4.0</td>\n",
       "      <td>100.0</td>\n",
       "      <td>11.7</td>\n",
       "      <td>1021.4</td>\n",
       "      <td>0.0</td>\n",
       "      <td>3.6</td>\n",
       "    </tr>\n",
       "    <tr>\n",
       "      <th>3</th>\n",
       "      <td>2017-01-01</td>\n",
       "      <td>fid_110392</td>\n",
       "      <td>ing_w</td>\n",
       "      <td>3</td>\n",
       "      <td>moderate</td>\n",
       "      <td>7</td>\n",
       "      <td>2200.407555</td>\n",
       "      <td>Obery Farms</td>\n",
       "      <td>location 7369</td>\n",
       "      <td>17.8</td>\n",
       "      <td>4.0</td>\n",
       "      <td>100.0</td>\n",
       "      <td>11.7</td>\n",
       "      <td>1021.4</td>\n",
       "      <td>0.0</td>\n",
       "      <td>3.6</td>\n",
       "    </tr>\n",
       "    <tr>\n",
       "      <th>4</th>\n",
       "      <td>2017-01-01</td>\n",
       "      <td>fid_62402</td>\n",
       "      <td>ing_w</td>\n",
       "      <td>4</td>\n",
       "      <td>moderate</td>\n",
       "      <td>7</td>\n",
       "      <td>10833.140121</td>\n",
       "      <td>Obery Farms</td>\n",
       "      <td>location 7369</td>\n",
       "      <td>17.8</td>\n",
       "      <td>4.0</td>\n",
       "      <td>100.0</td>\n",
       "      <td>11.7</td>\n",
       "      <td>1021.4</td>\n",
       "      <td>0.0</td>\n",
       "      <td>3.6</td>\n",
       "    </tr>\n",
       "  </tbody>\n",
       "</table>\n",
       "</div>"
      ],
      "text/plain": [
       "   timestamp     farm_id ingredient_type  id operations_commencing_year  \\\n",
       "0 2017-01-01  fid_110884           ing_w   0                        new   \n",
       "1 2017-01-01   fid_90053           ing_w   1                        new   \n",
       "2 2017-01-01   fid_17537           ing_w   2                   moderate   \n",
       "3 2017-01-01  fid_110392           ing_w   3                   moderate   \n",
       "4 2017-01-01   fid_62402           ing_w   4                   moderate   \n",
       "\n",
       "   num_processing_plants     farm_area farming_company deidentified_location  \\\n",
       "0                      7    690.455096     Obery Farms         location 7369   \n",
       "1                      7    252.696160     Obery Farms         location 7369   \n",
       "2                      7    499.446528     Obery Farms         location 7369   \n",
       "3                      7   2200.407555     Obery Farms         location 7369   \n",
       "4                      7  10833.140121     Obery Farms         location 7369   \n",
       "\n",
       "   temp_obs  cloudiness  wind_direction  dew_temp  pressure_sea_level  \\\n",
       "0      17.8         4.0           100.0      11.7              1021.4   \n",
       "1      17.8         4.0           100.0      11.7              1021.4   \n",
       "2      17.8         4.0           100.0      11.7              1021.4   \n",
       "3      17.8         4.0           100.0      11.7              1021.4   \n",
       "4      17.8         4.0           100.0      11.7              1021.4   \n",
       "\n",
       "   precipitation  wind_speed  \n",
       "0            0.0         3.6  \n",
       "1            0.0         3.6  \n",
       "2            0.0         3.6  \n",
       "3            0.0         3.6  \n",
       "4            0.0         3.6  "
      ]
     },
     "execution_count": 69,
     "metadata": {},
     "output_type": "execute_result"
    }
   ],
   "source": [
    "# checking the final merged test dataset\n",
    "test_final_merged.head()"
   ]
  },
  {
   "cell_type": "code",
   "execution_count": 70,
   "metadata": {
    "execution": {
     "iopub.execute_input": "2023-02-23T03:58:29.812736Z",
     "iopub.status.busy": "2023-02-23T03:58:29.812204Z",
     "iopub.status.idle": "2023-02-23T03:58:29.844950Z",
     "shell.execute_reply": "2023-02-23T03:58:29.843796Z",
     "shell.execute_reply.started": "2023-02-23T03:58:29.812697Z"
    },
    "id": "0HZUk9_sAtgR"
   },
   "outputs": [
    {
     "data": {
      "text/html": [
       "<div>\n",
       "<style scoped>\n",
       "    .dataframe tbody tr th:only-of-type {\n",
       "        vertical-align: middle;\n",
       "    }\n",
       "\n",
       "    .dataframe tbody tr th {\n",
       "        vertical-align: top;\n",
       "    }\n",
       "\n",
       "    .dataframe thead th {\n",
       "        text-align: right;\n",
       "    }\n",
       "</style>\n",
       "<table border=\"1\" class=\"dataframe\">\n",
       "  <thead>\n",
       "    <tr style=\"text-align: right;\">\n",
       "      <th></th>\n",
       "      <th>timestamp</th>\n",
       "      <th>farm_id</th>\n",
       "      <th>ingredient_type</th>\n",
       "      <th>yield</th>\n",
       "      <th>operations_commencing_year</th>\n",
       "      <th>num_processing_plants</th>\n",
       "      <th>farm_area</th>\n",
       "      <th>farming_company</th>\n",
       "      <th>deidentified_location</th>\n",
       "      <th>temp_obs</th>\n",
       "      <th>cloudiness</th>\n",
       "      <th>wind_direction</th>\n",
       "      <th>dew_temp</th>\n",
       "      <th>pressure_sea_level</th>\n",
       "      <th>precipitation</th>\n",
       "      <th>wind_speed</th>\n",
       "    </tr>\n",
       "  </thead>\n",
       "  <tbody>\n",
       "    <tr>\n",
       "      <th>0</th>\n",
       "      <td>2016-01-01</td>\n",
       "      <td>fid_110884</td>\n",
       "      <td>ing_w</td>\n",
       "      <td>0.0</td>\n",
       "      <td>new</td>\n",
       "      <td>7</td>\n",
       "      <td>690.455096</td>\n",
       "      <td>Obery Farms</td>\n",
       "      <td>location 7369</td>\n",
       "      <td>25.0</td>\n",
       "      <td>6.0</td>\n",
       "      <td>0.0</td>\n",
       "      <td>20.0</td>\n",
       "      <td>1019.7</td>\n",
       "      <td>0.0</td>\n",
       "      <td>0.0</td>\n",
       "    </tr>\n",
       "    <tr>\n",
       "      <th>1</th>\n",
       "      <td>2016-01-01</td>\n",
       "      <td>fid_90053</td>\n",
       "      <td>ing_w</td>\n",
       "      <td>0.0</td>\n",
       "      <td>new</td>\n",
       "      <td>7</td>\n",
       "      <td>252.696160</td>\n",
       "      <td>Obery Farms</td>\n",
       "      <td>location 7369</td>\n",
       "      <td>25.0</td>\n",
       "      <td>6.0</td>\n",
       "      <td>0.0</td>\n",
       "      <td>20.0</td>\n",
       "      <td>1019.7</td>\n",
       "      <td>0.0</td>\n",
       "      <td>0.0</td>\n",
       "    </tr>\n",
       "    <tr>\n",
       "      <th>2</th>\n",
       "      <td>2016-01-01</td>\n",
       "      <td>fid_17537</td>\n",
       "      <td>ing_w</td>\n",
       "      <td>0.0</td>\n",
       "      <td>moderate</td>\n",
       "      <td>7</td>\n",
       "      <td>499.446528</td>\n",
       "      <td>Obery Farms</td>\n",
       "      <td>location 7369</td>\n",
       "      <td>25.0</td>\n",
       "      <td>6.0</td>\n",
       "      <td>0.0</td>\n",
       "      <td>20.0</td>\n",
       "      <td>1019.7</td>\n",
       "      <td>0.0</td>\n",
       "      <td>0.0</td>\n",
       "    </tr>\n",
       "    <tr>\n",
       "      <th>3</th>\n",
       "      <td>2016-01-01</td>\n",
       "      <td>fid_110392</td>\n",
       "      <td>ing_w</td>\n",
       "      <td>0.0</td>\n",
       "      <td>moderate</td>\n",
       "      <td>7</td>\n",
       "      <td>2200.407555</td>\n",
       "      <td>Obery Farms</td>\n",
       "      <td>location 7369</td>\n",
       "      <td>25.0</td>\n",
       "      <td>6.0</td>\n",
       "      <td>0.0</td>\n",
       "      <td>20.0</td>\n",
       "      <td>1019.7</td>\n",
       "      <td>0.0</td>\n",
       "      <td>0.0</td>\n",
       "    </tr>\n",
       "    <tr>\n",
       "      <th>4</th>\n",
       "      <td>2016-01-01</td>\n",
       "      <td>fid_62402</td>\n",
       "      <td>ing_w</td>\n",
       "      <td>0.0</td>\n",
       "      <td>moderate</td>\n",
       "      <td>7</td>\n",
       "      <td>10833.140121</td>\n",
       "      <td>Obery Farms</td>\n",
       "      <td>location 7369</td>\n",
       "      <td>25.0</td>\n",
       "      <td>6.0</td>\n",
       "      <td>0.0</td>\n",
       "      <td>20.0</td>\n",
       "      <td>1019.7</td>\n",
       "      <td>0.0</td>\n",
       "      <td>0.0</td>\n",
       "    </tr>\n",
       "  </tbody>\n",
       "</table>\n",
       "</div>"
      ],
      "text/plain": [
       "   timestamp     farm_id ingredient_type  yield operations_commencing_year  \\\n",
       "0 2016-01-01  fid_110884           ing_w    0.0                        new   \n",
       "1 2016-01-01   fid_90053           ing_w    0.0                        new   \n",
       "2 2016-01-01   fid_17537           ing_w    0.0                   moderate   \n",
       "3 2016-01-01  fid_110392           ing_w    0.0                   moderate   \n",
       "4 2016-01-01   fid_62402           ing_w    0.0                   moderate   \n",
       "\n",
       "   num_processing_plants     farm_area farming_company deidentified_location  \\\n",
       "0                      7    690.455096     Obery Farms         location 7369   \n",
       "1                      7    252.696160     Obery Farms         location 7369   \n",
       "2                      7    499.446528     Obery Farms         location 7369   \n",
       "3                      7   2200.407555     Obery Farms         location 7369   \n",
       "4                      7  10833.140121     Obery Farms         location 7369   \n",
       "\n",
       "   temp_obs  cloudiness  wind_direction  dew_temp  pressure_sea_level  \\\n",
       "0      25.0         6.0             0.0      20.0              1019.7   \n",
       "1      25.0         6.0             0.0      20.0              1019.7   \n",
       "2      25.0         6.0             0.0      20.0              1019.7   \n",
       "3      25.0         6.0             0.0      20.0              1019.7   \n",
       "4      25.0         6.0             0.0      20.0              1019.7   \n",
       "\n",
       "   precipitation  wind_speed  \n",
       "0            0.0         0.0  \n",
       "1            0.0         0.0  \n",
       "2            0.0         0.0  \n",
       "3            0.0         0.0  \n",
       "4            0.0         0.0  "
      ]
     },
     "execution_count": 70,
     "metadata": {},
     "output_type": "execute_result"
    }
   ],
   "source": [
    "# checking the final merged train dataset\n",
    "train_final_merged.head()"
   ]
  },
  {
   "cell_type": "code",
   "execution_count": 71,
   "metadata": {
    "execution": {
     "iopub.execute_input": "2023-02-23T03:58:29.847834Z",
     "iopub.status.busy": "2023-02-23T03:58:29.846588Z",
     "iopub.status.idle": "2023-02-23T03:58:29.865188Z",
     "shell.execute_reply": "2023-02-23T03:58:29.863677Z",
     "shell.execute_reply.started": "2023-02-23T03:58:29.847777Z"
    },
    "id": "PJprf6qGBEZa"
   },
   "outputs": [
    {
     "data": {
      "text/plain": [
       "timestamp                     datetime64[ns]\n",
       "farm_id                               object\n",
       "ingredient_type                       object\n",
       "yield                                float64\n",
       "operations_commencing_year            object\n",
       "num_processing_plants                  int64\n",
       "farm_area                            float64\n",
       "farming_company                       object\n",
       "deidentified_location                 object\n",
       "temp_obs                             float64\n",
       "cloudiness                           float64\n",
       "wind_direction                       float64\n",
       "dew_temp                             float64\n",
       "pressure_sea_level                   float64\n",
       "precipitation                        float64\n",
       "wind_speed                           float64\n",
       "dtype: object"
      ]
     },
     "execution_count": 71,
     "metadata": {},
     "output_type": "execute_result"
    }
   ],
   "source": [
    "# checking the  data types of final merged tarin dataset\n",
    "train_final_merged.dtypes"
   ]
  },
  {
   "cell_type": "code",
   "execution_count": 72,
   "metadata": {
    "execution": {
     "iopub.execute_input": "2023-02-23T03:58:29.867660Z",
     "iopub.status.busy": "2023-02-23T03:58:29.866915Z",
     "iopub.status.idle": "2023-02-23T03:58:45.507726Z",
     "shell.execute_reply": "2023-02-23T03:58:45.505745Z",
     "shell.execute_reply.started": "2023-02-23T03:58:29.867610Z"
    }
   },
   "outputs": [],
   "source": [
    "# extracting the date/time components from timestamp using them to create new columns\n",
    "train_final_merged['month'] = train_final_merged['timestamp'].dt.month     #Extract Month\n",
    "train_final_merged['day'] = train_final_merged['timestamp'].dt.day  #Extract Day\n",
    "train_final_merged['hour'] = train_final_merged['timestamp'].dt.hour #extract the hour\n",
    "train_final_merged.drop(['timestamp'], axis=1, inplace=True)"
   ]
  },
  {
   "cell_type": "markdown",
   "metadata": {},
   "source": [
    "The .dt accessor allows us to access the date/time components of the timestamp data. In this case, we are using the .month property of the dt accessor to extract the month value from each timestamp in the timestamp column."
   ]
  },
  {
   "cell_type": "code",
   "execution_count": 73,
   "metadata": {
    "execution": {
     "iopub.execute_input": "2023-02-23T03:58:45.510415Z",
     "iopub.status.busy": "2023-02-23T03:58:45.509878Z",
     "iopub.status.idle": "2023-02-23T03:59:09.467207Z",
     "shell.execute_reply": "2023-02-23T03:59:09.463663Z",
     "shell.execute_reply.started": "2023-02-23T03:58:45.510375Z"
    },
    "id": "K-tdaEwKBEc2"
   },
   "outputs": [],
   "source": [
    "# extracting the date/time components from timestamp using them to create new columns\n",
    "test_final_merged['month'] = test_final_merged['timestamp'].dt.month     #Extract Month\n",
    "test_final_merged['day'] = test_final_merged['timestamp'].dt.day  #Extract Day\n",
    "test_final_merged['hour'] = test_final_merged['timestamp'].dt.hour #extract the hour\n",
    "test_final_merged.drop(['timestamp'], axis=1, inplace=True)"
   ]
  },
  {
   "cell_type": "code",
   "execution_count": 74,
   "metadata": {
    "execution": {
     "iopub.execute_input": "2023-02-23T03:59:09.471270Z",
     "iopub.status.busy": "2023-02-23T03:59:09.470652Z",
     "iopub.status.idle": "2023-02-23T03:59:09.511264Z",
     "shell.execute_reply": "2023-02-23T03:59:09.508754Z",
     "shell.execute_reply.started": "2023-02-23T03:59:09.471213Z"
    },
    "id": "N_1D2USgBEfb"
   },
   "outputs": [
    {
     "data": {
      "text/html": [
       "<div>\n",
       "<style scoped>\n",
       "    .dataframe tbody tr th:only-of-type {\n",
       "        vertical-align: middle;\n",
       "    }\n",
       "\n",
       "    .dataframe tbody tr th {\n",
       "        vertical-align: top;\n",
       "    }\n",
       "\n",
       "    .dataframe thead th {\n",
       "        text-align: right;\n",
       "    }\n",
       "</style>\n",
       "<table border=\"1\" class=\"dataframe\">\n",
       "  <thead>\n",
       "    <tr style=\"text-align: right;\">\n",
       "      <th></th>\n",
       "      <th>farm_id</th>\n",
       "      <th>ingredient_type</th>\n",
       "      <th>yield</th>\n",
       "      <th>operations_commencing_year</th>\n",
       "      <th>num_processing_plants</th>\n",
       "      <th>farm_area</th>\n",
       "      <th>farming_company</th>\n",
       "      <th>deidentified_location</th>\n",
       "      <th>temp_obs</th>\n",
       "      <th>cloudiness</th>\n",
       "      <th>wind_direction</th>\n",
       "      <th>dew_temp</th>\n",
       "      <th>pressure_sea_level</th>\n",
       "      <th>precipitation</th>\n",
       "      <th>wind_speed</th>\n",
       "      <th>month</th>\n",
       "      <th>day</th>\n",
       "      <th>hour</th>\n",
       "    </tr>\n",
       "  </thead>\n",
       "  <tbody>\n",
       "    <tr>\n",
       "      <th>0</th>\n",
       "      <td>fid_110884</td>\n",
       "      <td>ing_w</td>\n",
       "      <td>0.0</td>\n",
       "      <td>new</td>\n",
       "      <td>7</td>\n",
       "      <td>690.455096</td>\n",
       "      <td>Obery Farms</td>\n",
       "      <td>location 7369</td>\n",
       "      <td>25.0</td>\n",
       "      <td>6.0</td>\n",
       "      <td>0.0</td>\n",
       "      <td>20.0</td>\n",
       "      <td>1019.7</td>\n",
       "      <td>0.0</td>\n",
       "      <td>0.0</td>\n",
       "      <td>1</td>\n",
       "      <td>1</td>\n",
       "      <td>0</td>\n",
       "    </tr>\n",
       "    <tr>\n",
       "      <th>1</th>\n",
       "      <td>fid_90053</td>\n",
       "      <td>ing_w</td>\n",
       "      <td>0.0</td>\n",
       "      <td>new</td>\n",
       "      <td>7</td>\n",
       "      <td>252.696160</td>\n",
       "      <td>Obery Farms</td>\n",
       "      <td>location 7369</td>\n",
       "      <td>25.0</td>\n",
       "      <td>6.0</td>\n",
       "      <td>0.0</td>\n",
       "      <td>20.0</td>\n",
       "      <td>1019.7</td>\n",
       "      <td>0.0</td>\n",
       "      <td>0.0</td>\n",
       "      <td>1</td>\n",
       "      <td>1</td>\n",
       "      <td>0</td>\n",
       "    </tr>\n",
       "    <tr>\n",
       "      <th>2</th>\n",
       "      <td>fid_17537</td>\n",
       "      <td>ing_w</td>\n",
       "      <td>0.0</td>\n",
       "      <td>moderate</td>\n",
       "      <td>7</td>\n",
       "      <td>499.446528</td>\n",
       "      <td>Obery Farms</td>\n",
       "      <td>location 7369</td>\n",
       "      <td>25.0</td>\n",
       "      <td>6.0</td>\n",
       "      <td>0.0</td>\n",
       "      <td>20.0</td>\n",
       "      <td>1019.7</td>\n",
       "      <td>0.0</td>\n",
       "      <td>0.0</td>\n",
       "      <td>1</td>\n",
       "      <td>1</td>\n",
       "      <td>0</td>\n",
       "    </tr>\n",
       "    <tr>\n",
       "      <th>3</th>\n",
       "      <td>fid_110392</td>\n",
       "      <td>ing_w</td>\n",
       "      <td>0.0</td>\n",
       "      <td>moderate</td>\n",
       "      <td>7</td>\n",
       "      <td>2200.407555</td>\n",
       "      <td>Obery Farms</td>\n",
       "      <td>location 7369</td>\n",
       "      <td>25.0</td>\n",
       "      <td>6.0</td>\n",
       "      <td>0.0</td>\n",
       "      <td>20.0</td>\n",
       "      <td>1019.7</td>\n",
       "      <td>0.0</td>\n",
       "      <td>0.0</td>\n",
       "      <td>1</td>\n",
       "      <td>1</td>\n",
       "      <td>0</td>\n",
       "    </tr>\n",
       "    <tr>\n",
       "      <th>4</th>\n",
       "      <td>fid_62402</td>\n",
       "      <td>ing_w</td>\n",
       "      <td>0.0</td>\n",
       "      <td>moderate</td>\n",
       "      <td>7</td>\n",
       "      <td>10833.140121</td>\n",
       "      <td>Obery Farms</td>\n",
       "      <td>location 7369</td>\n",
       "      <td>25.0</td>\n",
       "      <td>6.0</td>\n",
       "      <td>0.0</td>\n",
       "      <td>20.0</td>\n",
       "      <td>1019.7</td>\n",
       "      <td>0.0</td>\n",
       "      <td>0.0</td>\n",
       "      <td>1</td>\n",
       "      <td>1</td>\n",
       "      <td>0</td>\n",
       "    </tr>\n",
       "  </tbody>\n",
       "</table>\n",
       "</div>"
      ],
      "text/plain": [
       "      farm_id ingredient_type  yield operations_commencing_year  \\\n",
       "0  fid_110884           ing_w    0.0                        new   \n",
       "1   fid_90053           ing_w    0.0                        new   \n",
       "2   fid_17537           ing_w    0.0                   moderate   \n",
       "3  fid_110392           ing_w    0.0                   moderate   \n",
       "4   fid_62402           ing_w    0.0                   moderate   \n",
       "\n",
       "   num_processing_plants     farm_area farming_company deidentified_location  \\\n",
       "0                      7    690.455096     Obery Farms         location 7369   \n",
       "1                      7    252.696160     Obery Farms         location 7369   \n",
       "2                      7    499.446528     Obery Farms         location 7369   \n",
       "3                      7   2200.407555     Obery Farms         location 7369   \n",
       "4                      7  10833.140121     Obery Farms         location 7369   \n",
       "\n",
       "   temp_obs  cloudiness  wind_direction  dew_temp  pressure_sea_level  \\\n",
       "0      25.0         6.0             0.0      20.0              1019.7   \n",
       "1      25.0         6.0             0.0      20.0              1019.7   \n",
       "2      25.0         6.0             0.0      20.0              1019.7   \n",
       "3      25.0         6.0             0.0      20.0              1019.7   \n",
       "4      25.0         6.0             0.0      20.0              1019.7   \n",
       "\n",
       "   precipitation  wind_speed  month  day  hour  \n",
       "0            0.0         0.0      1    1     0  \n",
       "1            0.0         0.0      1    1     0  \n",
       "2            0.0         0.0      1    1     0  \n",
       "3            0.0         0.0      1    1     0  \n",
       "4            0.0         0.0      1    1     0  "
      ]
     },
     "execution_count": 74,
     "metadata": {},
     "output_type": "execute_result"
    }
   ],
   "source": [
    "# checking the final merged train data\n",
    "train_final_merged.head()"
   ]
  },
  {
   "cell_type": "code",
   "execution_count": 75,
   "metadata": {
    "execution": {
     "iopub.execute_input": "2023-02-23T03:59:09.514123Z",
     "iopub.status.busy": "2023-02-23T03:59:09.512990Z",
     "iopub.status.idle": "2023-02-23T03:59:09.551613Z",
     "shell.execute_reply": "2023-02-23T03:59:09.550160Z",
     "shell.execute_reply.started": "2023-02-23T03:59:09.514080Z"
    }
   },
   "outputs": [
    {
     "data": {
      "text/html": [
       "<div>\n",
       "<style scoped>\n",
       "    .dataframe tbody tr th:only-of-type {\n",
       "        vertical-align: middle;\n",
       "    }\n",
       "\n",
       "    .dataframe tbody tr th {\n",
       "        vertical-align: top;\n",
       "    }\n",
       "\n",
       "    .dataframe thead th {\n",
       "        text-align: right;\n",
       "    }\n",
       "</style>\n",
       "<table border=\"1\" class=\"dataframe\">\n",
       "  <thead>\n",
       "    <tr style=\"text-align: right;\">\n",
       "      <th></th>\n",
       "      <th>farm_id</th>\n",
       "      <th>ingredient_type</th>\n",
       "      <th>id</th>\n",
       "      <th>operations_commencing_year</th>\n",
       "      <th>num_processing_plants</th>\n",
       "      <th>farm_area</th>\n",
       "      <th>farming_company</th>\n",
       "      <th>deidentified_location</th>\n",
       "      <th>temp_obs</th>\n",
       "      <th>cloudiness</th>\n",
       "      <th>wind_direction</th>\n",
       "      <th>dew_temp</th>\n",
       "      <th>pressure_sea_level</th>\n",
       "      <th>precipitation</th>\n",
       "      <th>wind_speed</th>\n",
       "      <th>month</th>\n",
       "      <th>day</th>\n",
       "      <th>hour</th>\n",
       "    </tr>\n",
       "  </thead>\n",
       "  <tbody>\n",
       "    <tr>\n",
       "      <th>0</th>\n",
       "      <td>fid_110884</td>\n",
       "      <td>ing_w</td>\n",
       "      <td>0</td>\n",
       "      <td>new</td>\n",
       "      <td>7</td>\n",
       "      <td>690.455096</td>\n",
       "      <td>Obery Farms</td>\n",
       "      <td>location 7369</td>\n",
       "      <td>17.8</td>\n",
       "      <td>4.0</td>\n",
       "      <td>100.0</td>\n",
       "      <td>11.7</td>\n",
       "      <td>1021.4</td>\n",
       "      <td>0.0</td>\n",
       "      <td>3.6</td>\n",
       "      <td>1</td>\n",
       "      <td>1</td>\n",
       "      <td>0</td>\n",
       "    </tr>\n",
       "    <tr>\n",
       "      <th>1</th>\n",
       "      <td>fid_90053</td>\n",
       "      <td>ing_w</td>\n",
       "      <td>1</td>\n",
       "      <td>new</td>\n",
       "      <td>7</td>\n",
       "      <td>252.696160</td>\n",
       "      <td>Obery Farms</td>\n",
       "      <td>location 7369</td>\n",
       "      <td>17.8</td>\n",
       "      <td>4.0</td>\n",
       "      <td>100.0</td>\n",
       "      <td>11.7</td>\n",
       "      <td>1021.4</td>\n",
       "      <td>0.0</td>\n",
       "      <td>3.6</td>\n",
       "      <td>1</td>\n",
       "      <td>1</td>\n",
       "      <td>0</td>\n",
       "    </tr>\n",
       "    <tr>\n",
       "      <th>2</th>\n",
       "      <td>fid_17537</td>\n",
       "      <td>ing_w</td>\n",
       "      <td>2</td>\n",
       "      <td>moderate</td>\n",
       "      <td>7</td>\n",
       "      <td>499.446528</td>\n",
       "      <td>Obery Farms</td>\n",
       "      <td>location 7369</td>\n",
       "      <td>17.8</td>\n",
       "      <td>4.0</td>\n",
       "      <td>100.0</td>\n",
       "      <td>11.7</td>\n",
       "      <td>1021.4</td>\n",
       "      <td>0.0</td>\n",
       "      <td>3.6</td>\n",
       "      <td>1</td>\n",
       "      <td>1</td>\n",
       "      <td>0</td>\n",
       "    </tr>\n",
       "    <tr>\n",
       "      <th>3</th>\n",
       "      <td>fid_110392</td>\n",
       "      <td>ing_w</td>\n",
       "      <td>3</td>\n",
       "      <td>moderate</td>\n",
       "      <td>7</td>\n",
       "      <td>2200.407555</td>\n",
       "      <td>Obery Farms</td>\n",
       "      <td>location 7369</td>\n",
       "      <td>17.8</td>\n",
       "      <td>4.0</td>\n",
       "      <td>100.0</td>\n",
       "      <td>11.7</td>\n",
       "      <td>1021.4</td>\n",
       "      <td>0.0</td>\n",
       "      <td>3.6</td>\n",
       "      <td>1</td>\n",
       "      <td>1</td>\n",
       "      <td>0</td>\n",
       "    </tr>\n",
       "    <tr>\n",
       "      <th>4</th>\n",
       "      <td>fid_62402</td>\n",
       "      <td>ing_w</td>\n",
       "      <td>4</td>\n",
       "      <td>moderate</td>\n",
       "      <td>7</td>\n",
       "      <td>10833.140121</td>\n",
       "      <td>Obery Farms</td>\n",
       "      <td>location 7369</td>\n",
       "      <td>17.8</td>\n",
       "      <td>4.0</td>\n",
       "      <td>100.0</td>\n",
       "      <td>11.7</td>\n",
       "      <td>1021.4</td>\n",
       "      <td>0.0</td>\n",
       "      <td>3.6</td>\n",
       "      <td>1</td>\n",
       "      <td>1</td>\n",
       "      <td>0</td>\n",
       "    </tr>\n",
       "  </tbody>\n",
       "</table>\n",
       "</div>"
      ],
      "text/plain": [
       "      farm_id ingredient_type  id operations_commencing_year  \\\n",
       "0  fid_110884           ing_w   0                        new   \n",
       "1   fid_90053           ing_w   1                        new   \n",
       "2   fid_17537           ing_w   2                   moderate   \n",
       "3  fid_110392           ing_w   3                   moderate   \n",
       "4   fid_62402           ing_w   4                   moderate   \n",
       "\n",
       "   num_processing_plants     farm_area farming_company deidentified_location  \\\n",
       "0                      7    690.455096     Obery Farms         location 7369   \n",
       "1                      7    252.696160     Obery Farms         location 7369   \n",
       "2                      7    499.446528     Obery Farms         location 7369   \n",
       "3                      7   2200.407555     Obery Farms         location 7369   \n",
       "4                      7  10833.140121     Obery Farms         location 7369   \n",
       "\n",
       "   temp_obs  cloudiness  wind_direction  dew_temp  pressure_sea_level  \\\n",
       "0      17.8         4.0           100.0      11.7              1021.4   \n",
       "1      17.8         4.0           100.0      11.7              1021.4   \n",
       "2      17.8         4.0           100.0      11.7              1021.4   \n",
       "3      17.8         4.0           100.0      11.7              1021.4   \n",
       "4      17.8         4.0           100.0      11.7              1021.4   \n",
       "\n",
       "   precipitation  wind_speed  month  day  hour  \n",
       "0            0.0         3.6      1    1     0  \n",
       "1            0.0         3.6      1    1     0  \n",
       "2            0.0         3.6      1    1     0  \n",
       "3            0.0         3.6      1    1     0  \n",
       "4            0.0         3.6      1    1     0  "
      ]
     },
     "execution_count": 75,
     "metadata": {},
     "output_type": "execute_result"
    }
   ],
   "source": [
    "# checking the final merged test data\n",
    "test_final_merged.head()"
   ]
  },
  {
   "cell_type": "code",
   "execution_count": 76,
   "metadata": {
    "execution": {
     "iopub.execute_input": "2023-02-23T03:59:09.553817Z",
     "iopub.status.busy": "2023-02-23T03:59:09.553414Z",
     "iopub.status.idle": "2023-02-23T03:59:35.337744Z",
     "shell.execute_reply": "2023-02-23T03:59:35.336038Z",
     "shell.execute_reply.started": "2023-02-23T03:59:09.553783Z"
    }
   },
   "outputs": [
    {
     "data": {
      "image/png": "[encoded data removed]",
      "text/plain": [
       "<Figure size 1000x600 with 2 Axes>"
      ]
     },
     "metadata": {},
     "output_type": "display_data"
    }
   ],
   "source": [
    "# creating mask\n",
    "mask = np.triu(np.ones_like(train_final_merged.corr()))\n",
    " \n",
    "# plotting a triangle correlation heatmap\n",
    "dataplot = sns.heatmap(train_final_merged.corr(), cmap=\"YlGnBu\", annot=True, mask=mask)\n",
    " \n",
    "# displaying heatmap\n",
    "plt.show()"
   ]
  },
  {
   "cell_type": "markdown",
   "metadata": {},
   "source": [
    "1. None of the features are strongly correlated with the target variable (yield).\n",
    "\n",
    "2. from the above heatmap we can clearly see that dew_temp column and temp_obs column are highly correlated so let's drop one column"
   ]
  },
  {
   "cell_type": "code",
   "execution_count": 77,
   "metadata": {
    "execution": {
     "iopub.execute_input": "2023-02-23T03:59:35.340556Z",
     "iopub.status.busy": "2023-02-23T03:59:35.339565Z",
     "iopub.status.idle": "2023-02-23T03:59:41.587088Z",
     "shell.execute_reply": "2023-02-23T03:59:41.585092Z",
     "shell.execute_reply.started": "2023-02-23T03:59:35.340499Z"
    }
   },
   "outputs": [],
   "source": [
    "# dropping the dew_temp column from final merged datasets\n",
    "train_final_merged.drop(['dew_temp'], axis=1, inplace=True)\n",
    "test_final_merged.drop(['dew_temp'], axis=1, inplace=True)"
   ]
  },
  {
   "cell_type": "code",
   "execution_count": 78,
   "metadata": {
    "execution": {
     "iopub.execute_input": "2023-02-23T03:59:41.589869Z",
     "iopub.status.busy": "2023-02-23T03:59:41.589054Z",
     "iopub.status.idle": "2023-02-23T03:59:41.601920Z",
     "shell.execute_reply": "2023-02-23T03:59:41.599544Z",
     "shell.execute_reply.started": "2023-02-23T03:59:41.589828Z"
    },
    "id": "sPvoEJjGEk3Z"
   },
   "outputs": [
    {
     "data": {
      "text/plain": [
       "farm_id                        object\n",
       "ingredient_type                object\n",
       "yield                         float64\n",
       "operations_commencing_year     object\n",
       "num_processing_plants           int64\n",
       "farm_area                     float64\n",
       "farming_company                object\n",
       "deidentified_location          object\n",
       "temp_obs                      float64\n",
       "cloudiness                    float64\n",
       "wind_direction                float64\n",
       "pressure_sea_level            float64\n",
       "precipitation                 float64\n",
       "wind_speed                    float64\n",
       "month                           int64\n",
       "day                             int64\n",
       "hour                            int64\n",
       "dtype: object"
      ]
     },
     "execution_count": 78,
     "metadata": {},
     "output_type": "execute_result"
    }
   ],
   "source": [
    "# checking the data types of train final merged\n",
    "train_final_merged.dtypes"
   ]
  },
  {
   "cell_type": "code",
   "execution_count": 79,
   "metadata": {
    "execution": {
     "iopub.execute_input": "2023-02-23T03:59:41.607730Z",
     "iopub.status.busy": "2023-02-23T03:59:41.606630Z",
     "iopub.status.idle": "2023-02-23T03:59:41.619305Z",
     "shell.execute_reply": "2023-02-23T03:59:41.617350Z",
     "shell.execute_reply.started": "2023-02-23T03:59:41.607673Z"
    }
   },
   "outputs": [
    {
     "data": {
      "text/plain": [
       "farm_id                        object\n",
       "ingredient_type                object\n",
       "id                              int64\n",
       "operations_commencing_year     object\n",
       "num_processing_plants           int64\n",
       "farm_area                     float64\n",
       "farming_company                object\n",
       "deidentified_location          object\n",
       "temp_obs                      float64\n",
       "cloudiness                    float64\n",
       "wind_direction                float64\n",
       "pressure_sea_level            float64\n",
       "precipitation                 float64\n",
       "wind_speed                    float64\n",
       "month                           int64\n",
       "day                             int64\n",
       "hour                            int64\n",
       "dtype: object"
      ]
     },
     "execution_count": 79,
     "metadata": {},
     "output_type": "execute_result"
    }
   ],
   "source": [
    "# checking the data types of test final merged \n",
    "test_final_merged.dtypes"
   ]
  },
  {
   "cell_type": "code",
   "execution_count": 80,
   "metadata": {
    "execution": {
     "iopub.execute_input": "2023-02-23T03:59:41.622603Z",
     "iopub.status.busy": "2023-02-23T03:59:41.621630Z",
     "iopub.status.idle": "2023-02-23T03:59:53.862151Z",
     "shell.execute_reply": "2023-02-23T03:59:53.860725Z",
     "shell.execute_reply.started": "2023-02-23T03:59:41.622557Z"
    },
    "id": "ymdjGRlfEk6v"
   },
   "outputs": [
    {
     "data": {
      "text/plain": [
       "farm_id                          1434\n",
       "ingredient_type                     4\n",
       "yield                         1679625\n",
       "operations_commencing_year          3\n",
       "num_processing_plants              18\n",
       "farm_area                        1397\n",
       "farming_company                    16\n",
       "deidentified_location              16\n",
       "temp_obs                          619\n",
       "cloudiness                         10\n",
       "wind_direction                     43\n",
       "pressure_sea_level                709\n",
       "precipitation                     128\n",
       "wind_speed                         58\n",
       "month                              12\n",
       "day                                31\n",
       "hour                               24\n",
       "dtype: int64"
      ]
     },
     "execution_count": 80,
     "metadata": {},
     "output_type": "execute_result"
    }
   ],
   "source": [
    "# checking the unique value count in train final merged dataset\n",
    "train_final_merged.nunique()"
   ]
  },
  {
   "cell_type": "code",
   "execution_count": 81,
   "metadata": {
    "execution": {
     "iopub.execute_input": "2023-02-23T03:59:53.864299Z",
     "iopub.status.busy": "2023-02-23T03:59:53.863805Z",
     "iopub.status.idle": "2023-02-23T03:59:54.773742Z",
     "shell.execute_reply": "2023-02-23T03:59:54.772415Z",
     "shell.execute_reply.started": "2023-02-23T03:59:53.864264Z"
    },
    "id": "ZdkEK72CFQ8k"
   },
   "outputs": [
    {
     "data": {
      "text/plain": [
       "location 2532    2790470\n",
       "location 8421    2703006\n",
       "location 5489    2580537\n",
       "location 5410    2525792\n",
       "location 5290    2439148\n",
       "location 5150    1760872\n",
       "location 7369    1085446\n",
       "location 6364     819743\n",
       "location 5833     799257\n",
       "location 565      667989\n",
       "location 5677     575401\n",
       "location 959      552034\n",
       "location 1784     411313\n",
       "location 4525     359642\n",
       "location 7048     323623\n",
       "location 868      117259\n",
       "Name: deidentified_location, dtype: int64"
      ]
     },
     "execution_count": 81,
     "metadata": {},
     "output_type": "execute_result"
    }
   ],
   "source": [
    "# checking the value counts of loaction in train final merged dataset\n",
    "train_final_merged.deidentified_location.value_counts()"
   ]
  },
  {
   "cell_type": "code",
   "execution_count": 82,
   "metadata": {
    "execution": {
     "iopub.execute_input": "2023-02-23T03:59:54.775434Z",
     "iopub.status.busy": "2023-02-23T03:59:54.775027Z",
     "iopub.status.idle": "2023-02-23T03:59:56.217802Z",
     "shell.execute_reply": "2023-02-23T03:59:56.215808Z",
     "shell.execute_reply.started": "2023-02-23T03:59:54.775398Z"
    },
    "id": "ggjjNhpsFQ_a"
   },
   "outputs": [
    {
     "data": {
      "text/plain": [
       "ing_w    12269895\n",
       "ing_x     4234056\n",
       "ing_y     2719834\n",
       "ing_z     1287747\n",
       "Name: ingredient_type, dtype: int64"
      ]
     },
     "execution_count": 82,
     "metadata": {},
     "output_type": "execute_result"
    }
   ],
   "source": [
    "# checking the value counts of ingredient in train final merged dataset\n",
    "train_final_merged.ingredient_type.value_counts()"
   ]
  },
  {
   "cell_type": "code",
   "execution_count": 83,
   "metadata": {
    "execution": {
     "iopub.execute_input": "2023-02-23T03:59:56.221171Z",
     "iopub.status.busy": "2023-02-23T03:59:56.219464Z",
     "iopub.status.idle": "2023-02-23T04:00:07.474098Z",
     "shell.execute_reply": "2023-02-23T04:00:07.472142Z",
     "shell.execute_reply.started": "2023-02-23T03:59:56.221113Z"
    },
    "id": "330iAy9dFRCV"
   },
   "outputs": [
    {
     "data": {
      "text/html": [
       "<div>\n",
       "<style scoped>\n",
       "    .dataframe tbody tr th:only-of-type {\n",
       "        vertical-align: middle;\n",
       "    }\n",
       "\n",
       "    .dataframe tbody tr th {\n",
       "        vertical-align: top;\n",
       "    }\n",
       "\n",
       "    .dataframe thead th {\n",
       "        text-align: right;\n",
       "    }\n",
       "</style>\n",
       "<table border=\"1\" class=\"dataframe\">\n",
       "  <thead>\n",
       "    <tr style=\"text-align: right;\">\n",
       "      <th></th>\n",
       "      <th>yield</th>\n",
       "      <th>num_processing_plants</th>\n",
       "      <th>farm_area</th>\n",
       "      <th>temp_obs</th>\n",
       "      <th>cloudiness</th>\n",
       "      <th>wind_direction</th>\n",
       "      <th>pressure_sea_level</th>\n",
       "      <th>precipitation</th>\n",
       "      <th>wind_speed</th>\n",
       "      <th>month</th>\n",
       "      <th>day</th>\n",
       "      <th>hour</th>\n",
       "    </tr>\n",
       "  </thead>\n",
       "  <tbody>\n",
       "    <tr>\n",
       "      <th>count</th>\n",
       "      <td>20511532.00</td>\n",
       "      <td>20511532.00</td>\n",
       "      <td>20511532.00</td>\n",
       "      <td>20511532.00</td>\n",
       "      <td>20511532.00</td>\n",
       "      <td>20511532.00</td>\n",
       "      <td>20511532.00</td>\n",
       "      <td>20511532.00</td>\n",
       "      <td>20511532.00</td>\n",
       "      <td>20511532.00</td>\n",
       "      <td>20511532.00</td>\n",
       "      <td>20511532.00</td>\n",
       "    </tr>\n",
       "    <tr>\n",
       "      <th>mean</th>\n",
       "      <td>2093.07</td>\n",
       "      <td>7.21</td>\n",
       "      <td>9944.73</td>\n",
       "      <td>15.98</td>\n",
       "      <td>1.95</td>\n",
       "      <td>174.33</td>\n",
       "      <td>1016.10</td>\n",
       "      <td>0.65</td>\n",
       "      <td>3.38</td>\n",
       "      <td>6.58</td>\n",
       "      <td>15.77</td>\n",
       "      <td>11.51</td>\n",
       "    </tr>\n",
       "    <tr>\n",
       "      <th>std</th>\n",
       "      <td>152128.38</td>\n",
       "      <td>1.72</td>\n",
       "      <td>10856.29</td>\n",
       "      <td>10.94</td>\n",
       "      <td>1.81</td>\n",
       "      <td>110.19</td>\n",
       "      <td>6.85</td>\n",
       "      <td>6.75</td>\n",
       "      <td>2.27</td>\n",
       "      <td>3.44</td>\n",
       "      <td>8.82</td>\n",
       "      <td>6.92</td>\n",
       "    </tr>\n",
       "    <tr>\n",
       "      <th>min</th>\n",
       "      <td>0.00</td>\n",
       "      <td>5.00</td>\n",
       "      <td>26.29</td>\n",
       "      <td>-28.90</td>\n",
       "      <td>0.00</td>\n",
       "      <td>0.00</td>\n",
       "      <td>968.20</td>\n",
       "      <td>-1.00</td>\n",
       "      <td>0.00</td>\n",
       "      <td>1.00</td>\n",
       "      <td>1.00</td>\n",
       "      <td>0.00</td>\n",
       "    </tr>\n",
       "    <tr>\n",
       "      <th>25%</th>\n",
       "      <td>18.05</td>\n",
       "      <td>7.00</td>\n",
       "      <td>2992.03</td>\n",
       "      <td>8.60</td>\n",
       "      <td>0.00</td>\n",
       "      <td>80.00</td>\n",
       "      <td>1011.90</td>\n",
       "      <td>0.00</td>\n",
       "      <td>2.10</td>\n",
       "      <td>4.00</td>\n",
       "      <td>8.00</td>\n",
       "      <td>6.00</td>\n",
       "    </tr>\n",
       "    <tr>\n",
       "      <th>50%</th>\n",
       "      <td>77.68</td>\n",
       "      <td>7.00</td>\n",
       "      <td>6683.07</td>\n",
       "      <td>16.70</td>\n",
       "      <td>2.00</td>\n",
       "      <td>190.00</td>\n",
       "      <td>1016.40</td>\n",
       "      <td>0.00</td>\n",
       "      <td>3.10</td>\n",
       "      <td>7.00</td>\n",
       "      <td>16.00</td>\n",
       "      <td>12.00</td>\n",
       "    </tr>\n",
       "    <tr>\n",
       "      <th>75%</th>\n",
       "      <td>265.62</td>\n",
       "      <td>7.00</td>\n",
       "      <td>12802.59</td>\n",
       "      <td>23.90</td>\n",
       "      <td>2.00</td>\n",
       "      <td>270.00</td>\n",
       "      <td>1020.20</td>\n",
       "      <td>0.00</td>\n",
       "      <td>4.60</td>\n",
       "      <td>10.00</td>\n",
       "      <td>23.00</td>\n",
       "      <td>18.00</td>\n",
       "    </tr>\n",
       "    <tr>\n",
       "      <th>max</th>\n",
       "      <td>21904700.00</td>\n",
       "      <td>30.00</td>\n",
       "      <td>81290.12</td>\n",
       "      <td>47.20</td>\n",
       "      <td>9.00</td>\n",
       "      <td>360.00</td>\n",
       "      <td>1045.50</td>\n",
       "      <td>343.00</td>\n",
       "      <td>19.00</td>\n",
       "      <td>12.00</td>\n",
       "      <td>31.00</td>\n",
       "      <td>23.00</td>\n",
       "    </tr>\n",
       "  </tbody>\n",
       "</table>\n",
       "</div>"
      ],
      "text/plain": [
       "             yield  num_processing_plants    farm_area     temp_obs  \\\n",
       "count  20511532.00            20511532.00  20511532.00  20511532.00   \n",
       "mean       2093.07                   7.21      9944.73        15.98   \n",
       "std      152128.38                   1.72     10856.29        10.94   \n",
       "min           0.00                   5.00        26.29       -28.90   \n",
       "25%          18.05                   7.00      2992.03         8.60   \n",
       "50%          77.68                   7.00      6683.07        16.70   \n",
       "75%         265.62                   7.00     12802.59        23.90   \n",
       "max    21904700.00                  30.00     81290.12        47.20   \n",
       "\n",
       "        cloudiness  wind_direction  pressure_sea_level  precipitation  \\\n",
       "count  20511532.00     20511532.00         20511532.00    20511532.00   \n",
       "mean          1.95          174.33             1016.10           0.65   \n",
       "std           1.81          110.19                6.85           6.75   \n",
       "min           0.00            0.00              968.20          -1.00   \n",
       "25%           0.00           80.00             1011.90           0.00   \n",
       "50%           2.00          190.00             1016.40           0.00   \n",
       "75%           2.00          270.00             1020.20           0.00   \n",
       "max           9.00          360.00             1045.50         343.00   \n",
       "\n",
       "        wind_speed        month          day         hour  \n",
       "count  20511532.00  20511532.00  20511532.00  20511532.00  \n",
       "mean          3.38         6.58        15.77        11.51  \n",
       "std           2.27         3.44         8.82         6.92  \n",
       "min           0.00         1.00         1.00         0.00  \n",
       "25%           2.10         4.00         8.00         6.00  \n",
       "50%           3.10         7.00        16.00        12.00  \n",
       "75%           4.60        10.00        23.00        18.00  \n",
       "max          19.00        12.00        31.00        23.00  "
      ]
     },
     "execution_count": 83,
     "metadata": {},
     "output_type": "execute_result"
    }
   ],
   "source": [
    "# descriptive stats of final dataset\n",
    "train_final_merged.describe().round(2)"
   ]
  },
  {
   "cell_type": "code",
   "execution_count": 84,
   "metadata": {
    "execution": {
     "iopub.execute_input": "2023-02-23T04:00:07.477218Z",
     "iopub.status.busy": "2023-02-23T04:00:07.476270Z",
     "iopub.status.idle": "2023-02-23T04:00:13.182699Z",
     "shell.execute_reply": "2023-02-23T04:00:13.180277Z",
     "shell.execute_reply.started": "2023-02-23T04:00:07.477127Z"
    },
    "id": "WS7B-YmLFRFq"
   },
   "outputs": [
    {
     "data": {
      "text/plain": [
       "farm_id                       0\n",
       "ingredient_type               0\n",
       "yield                         0\n",
       "operations_commencing_year    0\n",
       "num_processing_plants         0\n",
       "farm_area                     0\n",
       "farming_company               0\n",
       "deidentified_location         0\n",
       "temp_obs                      0\n",
       "cloudiness                    0\n",
       "wind_direction                0\n",
       "pressure_sea_level            0\n",
       "precipitation                 0\n",
       "wind_speed                    0\n",
       "month                         0\n",
       "day                           0\n",
       "hour                          0\n",
       "dtype: int64"
      ]
     },
     "execution_count": 84,
     "metadata": {},
     "output_type": "execute_result"
    }
   ],
   "source": [
    "# check for null values in the train merged dataset\n",
    "train_final_merged.isnull().sum()"
   ]
  },
  {
   "cell_type": "code",
   "execution_count": 85,
   "metadata": {
    "execution": {
     "iopub.execute_input": "2023-02-23T04:00:13.186008Z",
     "iopub.status.busy": "2023-02-23T04:00:13.185408Z",
     "iopub.status.idle": "2023-02-23T04:00:19.099697Z",
     "shell.execute_reply": "2023-02-23T04:00:19.098448Z",
     "shell.execute_reply.started": "2023-02-23T04:00:13.185952Z"
    }
   },
   "outputs": [
    {
     "data": {
      "text/plain": [
       "farm_id                       0\n",
       "ingredient_type               0\n",
       "id                            0\n",
       "operations_commencing_year    0\n",
       "num_processing_plants         0\n",
       "farm_area                     0\n",
       "farming_company               0\n",
       "deidentified_location         0\n",
       "temp_obs                      0\n",
       "cloudiness                    0\n",
       "wind_direction                0\n",
       "pressure_sea_level            0\n",
       "precipitation                 0\n",
       "wind_speed                    0\n",
       "month                         0\n",
       "day                           0\n",
       "hour                          0\n",
       "dtype: int64"
      ]
     },
     "execution_count": 85,
     "metadata": {},
     "output_type": "execute_result"
    }
   ],
   "source": [
    "# check for null values in the test merged dataset\n",
    "test_final_merged.isnull().sum()"
   ]
  },
  {
   "cell_type": "code",
   "execution_count": 86,
   "metadata": {
    "execution": {
     "iopub.execute_input": "2023-02-23T04:00:19.102064Z",
     "iopub.status.busy": "2023-02-23T04:00:19.101473Z",
     "iopub.status.idle": "2023-02-23T04:00:19.290642Z",
     "shell.execute_reply": "2023-02-23T04:00:19.288930Z",
     "shell.execute_reply.started": "2023-02-23T04:00:19.102026Z"
    },
    "id": "_LoVLK_AFRPk"
   },
   "outputs": [
    {
     "data": {
      "text/plain": [
       "7     17263246\n",
       "5       949449\n",
       "6       688799\n",
       "8       377747\n",
       "10      309503\n",
       "9       261369\n",
       "12      174678\n",
       "11      139993\n",
       "13       86306\n",
       "15       60931\n",
       "14       43593\n",
       "17       43359\n",
       "25       25833\n",
       "23       25833\n",
       "30       25811\n",
       "16       17537\n",
       "18        8782\n",
       "20        8763\n",
       "Name: num_processing_plants, dtype: int64"
      ]
     },
     "execution_count": 86,
     "metadata": {},
     "output_type": "execute_result"
    }
   ],
   "source": [
    "# checking the value counts of processing plants in train final merged dataset\n",
    "train_final_merged.num_processing_plants.value_counts()"
   ]
  },
  {
   "cell_type": "code",
   "execution_count": 87,
   "metadata": {
    "execution": {
     "iopub.execute_input": "2023-02-23T04:00:19.293453Z",
     "iopub.status.busy": "2023-02-23T04:00:19.292715Z",
     "iopub.status.idle": "2023-02-23T04:00:19.310398Z",
     "shell.execute_reply": "2023-02-23T04:00:19.308287Z",
     "shell.execute_reply.started": "2023-02-23T04:00:19.293407Z"
    }
   },
   "outputs": [
    {
     "data": {
      "text/plain": [
       "Index(['farm_id', 'ingredient_type', 'yield', 'operations_commencing_year',\n",
       "       'num_processing_plants', 'farm_area', 'farming_company',\n",
       "       'deidentified_location', 'temp_obs', 'cloudiness', 'wind_direction',\n",
       "       'pressure_sea_level', 'precipitation', 'wind_speed', 'month', 'day',\n",
       "       'hour'],\n",
       "      dtype='object')"
      ]
     },
     "execution_count": 87,
     "metadata": {},
     "output_type": "execute_result"
    }
   ],
   "source": [
    "# checking the columns in train final merged dataset\n",
    "train_final_merged.columns"
   ]
  },
  {
   "cell_type": "code",
   "execution_count": 88,
   "metadata": {
    "execution": {
     "iopub.execute_input": "2023-02-23T04:00:19.315314Z",
     "iopub.status.busy": "2023-02-23T04:00:19.314804Z",
     "iopub.status.idle": "2023-02-23T04:06:18.646158Z",
     "shell.execute_reply": "2023-02-23T04:06:18.643762Z",
     "shell.execute_reply.started": "2023-02-23T04:00:19.315275Z"
    }
   },
   "outputs": [],
   "source": [
    "train_final_merged.to_csv(\"train_final.csv\")\n",
    "test_final_merged.to_csv(\"test_final.csv\")"
   ]
  },
  {
   "cell_type": "code",
   "execution_count": null,
   "metadata": {},
   "outputs": [],
   "source": []
  },
  {
   "cell_type": "code",
   "execution_count": null,
   "metadata": {},
   "outputs": [],
   "source": []
  }
 ],
 "metadata": {
  "kernelspec": {
   "display_name": "Python 3 (ipykernel)",
   "language": "python",
   "name": "python3"
  },
  "language_info": {
   "codemirror_mode": {
    "name": "ipython",
    "version": 3
   },
   "file_extension": ".py",
   "mimetype": "text/x-python",
   "name": "python",
   "nbconvert_exporter": "python",
   "pygments_lexer": "ipython3",
   "version": "3.9.13"
  }
 },
 "nbformat": 4,
 "nbformat_minor": 4
}
