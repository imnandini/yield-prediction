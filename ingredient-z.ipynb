{
 "cells": [
  {
   "cell_type": "code",
   "execution_count": 1,
   "metadata": {
    "execution": {
     "iopub.execute_input": "2023-02-23T06:53:18.861571Z",
     "iopub.status.busy": "2023-02-23T06:53:18.861126Z",
     "iopub.status.idle": "2023-02-23T06:53:18.902796Z",
     "shell.execute_reply": "2023-02-23T06:53:18.901715Z",
     "shell.execute_reply.started": "2023-02-23T06:53:18.861490Z"
    },
    "id": "6RHtcsZ02d8t",
    "outputId": "7da4c2f5-2cba-40ac-d1da-fe32fab5684c"
   },
   "outputs": [
    {
     "name": "stdout",
     "output_type": "stream",
     "text": [
      "/kaggle/input/final-data/train_final.csv\n",
      "/kaggle/input/final-data/test_final.csv\n"
     ]
    }
   ],
   "source": [
    "#importing necessary libraries\n",
    "import pandas as pd\n",
    "import numpy as np\n",
    "import warnings                   # To ignore the warnings\n",
    "warnings.filterwarnings(\"ignore\")\n",
    "import os\n",
    "for dirname, _, filenames in os.walk('/kaggle/input'):\n",
    "    for filename in filenames:\n",
    "        print(os.path.join(dirname, filename))"
   ]
  },
  {
   "cell_type": "code",
   "execution_count": 2,
   "metadata": {
    "execution": {
     "iopub.execute_input": "2023-02-23T06:53:18.904489Z",
     "iopub.status.busy": "2023-02-23T06:53:18.904167Z",
     "iopub.status.idle": "2023-02-23T06:55:14.457607Z",
     "shell.execute_reply": "2023-02-23T06:55:14.455818Z",
     "shell.execute_reply.started": "2023-02-23T06:53:18.904457Z"
    }
   },
   "outputs": [],
   "source": [
    "# Reading the test data files\n",
    "train_final_merged = pd.read_csv('/kaggle/input/final-data/train_final.csv')\n",
    "test_final_merged = pd.read_csv('/kaggle/input/final-data/test_final.csv')"
   ]
  },
  {
   "cell_type": "code",
   "execution_count": 3,
   "metadata": {
    "execution": {
     "iopub.execute_input": "2023-02-23T06:55:14.465482Z",
     "iopub.status.busy": "2023-02-23T06:55:14.463350Z",
     "iopub.status.idle": "2023-02-23T06:55:14.507198Z",
     "shell.execute_reply": "2023-02-23T06:55:14.506202Z",
     "shell.execute_reply.started": "2023-02-23T06:55:14.465428Z"
    }
   },
   "outputs": [
    {
     "data": {
      "text/html": [
       "<div>\n",
       "<style scoped>\n",
       "    .dataframe tbody tr th:only-of-type {\n",
       "        vertical-align: middle;\n",
       "    }\n",
       "\n",
       "    .dataframe tbody tr th {\n",
       "        vertical-align: top;\n",
       "    }\n",
       "\n",
       "    .dataframe thead th {\n",
       "        text-align: right;\n",
       "    }\n",
       "</style>\n",
       "<table border=\"1\" class=\"dataframe\">\n",
       "  <thead>\n",
       "    <tr style=\"text-align: right;\">\n",
       "      <th></th>\n",
       "      <th>Unnamed: 0</th>\n",
       "      <th>farm_id</th>\n",
       "      <th>ingredient_type</th>\n",
       "      <th>id</th>\n",
       "      <th>operations_commencing_year</th>\n",
       "      <th>num_processing_plants</th>\n",
       "      <th>farm_area</th>\n",
       "      <th>farming_company</th>\n",
       "      <th>deidentified_location</th>\n",
       "      <th>temp_obs</th>\n",
       "      <th>cloudiness</th>\n",
       "      <th>wind_direction</th>\n",
       "      <th>pressure_sea_level</th>\n",
       "      <th>precipitation</th>\n",
       "      <th>wind_speed</th>\n",
       "      <th>month</th>\n",
       "      <th>day</th>\n",
       "      <th>hour</th>\n",
       "    </tr>\n",
       "  </thead>\n",
       "  <tbody>\n",
       "    <tr>\n",
       "      <th>0</th>\n",
       "      <td>0</td>\n",
       "      <td>fid_110884</td>\n",
       "      <td>ing_w</td>\n",
       "      <td>0</td>\n",
       "      <td>new</td>\n",
       "      <td>7</td>\n",
       "      <td>690.455096</td>\n",
       "      <td>Obery Farms</td>\n",
       "      <td>location 7369</td>\n",
       "      <td>17.8</td>\n",
       "      <td>4.0</td>\n",
       "      <td>100.0</td>\n",
       "      <td>1021.4</td>\n",
       "      <td>0.0</td>\n",
       "      <td>3.6</td>\n",
       "      <td>1</td>\n",
       "      <td>1</td>\n",
       "      <td>0</td>\n",
       "    </tr>\n",
       "    <tr>\n",
       "      <th>1</th>\n",
       "      <td>1</td>\n",
       "      <td>fid_90053</td>\n",
       "      <td>ing_w</td>\n",
       "      <td>1</td>\n",
       "      <td>new</td>\n",
       "      <td>7</td>\n",
       "      <td>252.696160</td>\n",
       "      <td>Obery Farms</td>\n",
       "      <td>location 7369</td>\n",
       "      <td>17.8</td>\n",
       "      <td>4.0</td>\n",
       "      <td>100.0</td>\n",
       "      <td>1021.4</td>\n",
       "      <td>0.0</td>\n",
       "      <td>3.6</td>\n",
       "      <td>1</td>\n",
       "      <td>1</td>\n",
       "      <td>0</td>\n",
       "    </tr>\n",
       "    <tr>\n",
       "      <th>2</th>\n",
       "      <td>2</td>\n",
       "      <td>fid_17537</td>\n",
       "      <td>ing_w</td>\n",
       "      <td>2</td>\n",
       "      <td>moderate</td>\n",
       "      <td>7</td>\n",
       "      <td>499.446528</td>\n",
       "      <td>Obery Farms</td>\n",
       "      <td>location 7369</td>\n",
       "      <td>17.8</td>\n",
       "      <td>4.0</td>\n",
       "      <td>100.0</td>\n",
       "      <td>1021.4</td>\n",
       "      <td>0.0</td>\n",
       "      <td>3.6</td>\n",
       "      <td>1</td>\n",
       "      <td>1</td>\n",
       "      <td>0</td>\n",
       "    </tr>\n",
       "    <tr>\n",
       "      <th>3</th>\n",
       "      <td>3</td>\n",
       "      <td>fid_110392</td>\n",
       "      <td>ing_w</td>\n",
       "      <td>3</td>\n",
       "      <td>moderate</td>\n",
       "      <td>7</td>\n",
       "      <td>2200.407555</td>\n",
       "      <td>Obery Farms</td>\n",
       "      <td>location 7369</td>\n",
       "      <td>17.8</td>\n",
       "      <td>4.0</td>\n",
       "      <td>100.0</td>\n",
       "      <td>1021.4</td>\n",
       "      <td>0.0</td>\n",
       "      <td>3.6</td>\n",
       "      <td>1</td>\n",
       "      <td>1</td>\n",
       "      <td>0</td>\n",
       "    </tr>\n",
       "    <tr>\n",
       "      <th>4</th>\n",
       "      <td>4</td>\n",
       "      <td>fid_62402</td>\n",
       "      <td>ing_w</td>\n",
       "      <td>4</td>\n",
       "      <td>moderate</td>\n",
       "      <td>7</td>\n",
       "      <td>10833.140121</td>\n",
       "      <td>Obery Farms</td>\n",
       "      <td>location 7369</td>\n",
       "      <td>17.8</td>\n",
       "      <td>4.0</td>\n",
       "      <td>100.0</td>\n",
       "      <td>1021.4</td>\n",
       "      <td>0.0</td>\n",
       "      <td>3.6</td>\n",
       "      <td>1</td>\n",
       "      <td>1</td>\n",
       "      <td>0</td>\n",
       "    </tr>\n",
       "  </tbody>\n",
       "</table>\n",
       "</div>"
      ],
      "text/plain": [
       "   Unnamed: 0     farm_id ingredient_type  id operations_commencing_year  \\\n",
       "0           0  fid_110884           ing_w   0                        new   \n",
       "1           1   fid_90053           ing_w   1                        new   \n",
       "2           2   fid_17537           ing_w   2                   moderate   \n",
       "3           3  fid_110392           ing_w   3                   moderate   \n",
       "4           4   fid_62402           ing_w   4                   moderate   \n",
       "\n",
       "   num_processing_plants     farm_area farming_company deidentified_location  \\\n",
       "0                      7    690.455096     Obery Farms         location 7369   \n",
       "1                      7    252.696160     Obery Farms         location 7369   \n",
       "2                      7    499.446528     Obery Farms         location 7369   \n",
       "3                      7   2200.407555     Obery Farms         location 7369   \n",
       "4                      7  10833.140121     Obery Farms         location 7369   \n",
       "\n",
       "   temp_obs  cloudiness  wind_direction  pressure_sea_level  precipitation  \\\n",
       "0      17.8         4.0           100.0              1021.4            0.0   \n",
       "1      17.8         4.0           100.0              1021.4            0.0   \n",
       "2      17.8         4.0           100.0              1021.4            0.0   \n",
       "3      17.8         4.0           100.0              1021.4            0.0   \n",
       "4      17.8         4.0           100.0              1021.4            0.0   \n",
       "\n",
       "   wind_speed  month  day  hour  \n",
       "0         3.6      1    1     0  \n",
       "1         3.6      1    1     0  \n",
       "2         3.6      1    1     0  \n",
       "3         3.6      1    1     0  \n",
       "4         3.6      1    1     0  "
      ]
     },
     "execution_count": 3,
     "metadata": {},
     "output_type": "execute_result"
    }
   ],
   "source": [
    "# checking the final merged test dataset\n",
    "test_final_merged.head()"
   ]
  },
  {
   "cell_type": "code",
   "execution_count": 4,
   "metadata": {
    "execution": {
     "iopub.execute_input": "2023-02-23T06:55:14.512784Z",
     "iopub.status.busy": "2023-02-23T06:55:14.512437Z",
     "iopub.status.idle": "2023-02-23T06:55:14.524100Z",
     "shell.execute_reply": "2023-02-23T06:55:14.522304Z",
     "shell.execute_reply.started": "2023-02-23T06:55:14.512758Z"
    },
    "id": "PJprf6qGBEZa"
   },
   "outputs": [
    {
     "data": {
      "text/plain": [
       "Unnamed: 0                      int64\n",
       "farm_id                        object\n",
       "ingredient_type                object\n",
       "yield                         float64\n",
       "operations_commencing_year     object\n",
       "num_processing_plants           int64\n",
       "farm_area                     float64\n",
       "farming_company                object\n",
       "deidentified_location          object\n",
       "temp_obs                      float64\n",
       "cloudiness                    float64\n",
       "wind_direction                float64\n",
       "pressure_sea_level            float64\n",
       "precipitation                 float64\n",
       "wind_speed                    float64\n",
       "month                           int64\n",
       "day                             int64\n",
       "hour                            int64\n",
       "dtype: object"
      ]
     },
     "execution_count": 4,
     "metadata": {},
     "output_type": "execute_result"
    }
   ],
   "source": [
    "# checking the  data types of final merged tarin dataset\n",
    "train_final_merged.dtypes"
   ]
  },
  {
   "cell_type": "code",
   "execution_count": 5,
   "metadata": {
    "execution": {
     "iopub.execute_input": "2023-02-23T06:55:14.525894Z",
     "iopub.status.busy": "2023-02-23T06:55:14.525517Z",
     "iopub.status.idle": "2023-02-23T06:55:16.088055Z",
     "shell.execute_reply": "2023-02-23T06:55:16.087306Z",
     "shell.execute_reply.started": "2023-02-23T06:55:14.525859Z"
    }
   },
   "outputs": [],
   "source": [
    "train_ing_z = train_final_merged[train_final_merged['ingredient_type'] == 'ing_z']"
   ]
  },
  {
   "cell_type": "code",
   "execution_count": 6,
   "metadata": {
    "execution": {
     "iopub.execute_input": "2023-02-23T06:55:16.090066Z",
     "iopub.status.busy": "2023-02-23T06:55:16.089736Z",
     "iopub.status.idle": "2023-02-23T06:55:16.192502Z",
     "shell.execute_reply": "2023-02-23T06:55:16.191389Z",
     "shell.execute_reply.started": "2023-02-23T06:55:16.090019Z"
    }
   },
   "outputs": [],
   "source": [
    "# Split the dataset into three equal parts\n",
    "train_ing_z_splits = np.array_split(train_ing_z, 3)\n",
    "\n",
    "# Access and use the first split as a separate dataset\n",
    "train_z = train_ing_z_splits[0]"
   ]
  },
  {
   "cell_type": "code",
   "execution_count": 7,
   "metadata": {
    "execution": {
     "iopub.execute_input": "2023-02-23T06:55:16.193959Z",
     "iopub.status.busy": "2023-02-23T06:55:16.193714Z",
     "iopub.status.idle": "2023-02-23T06:55:17.882549Z",
     "shell.execute_reply": "2023-02-23T06:55:17.880790Z",
     "shell.execute_reply.started": "2023-02-23T06:55:16.193935Z"
    }
   },
   "outputs": [],
   "source": [
    "test_ing_z = test_final_merged[test_final_merged['ingredient_type'] == 'ing_z']"
   ]
  },
  {
   "cell_type": "code",
   "execution_count": 8,
   "metadata": {
    "execution": {
     "iopub.execute_input": "2023-02-23T06:55:17.885375Z",
     "iopub.status.busy": "2023-02-23T06:55:17.884506Z",
     "iopub.status.idle": "2023-02-23T06:55:17.994472Z",
     "shell.execute_reply": "2023-02-23T06:55:17.993430Z",
     "shell.execute_reply.started": "2023-02-23T06:55:17.885321Z"
    }
   },
   "outputs": [],
   "source": [
    "# Split the dataset into three equal parts\n",
    "test_ing_z_splits = np.array_split(test_ing_z, 3)\n",
    "\n",
    "# Access and use the first split as a separate dataset\n",
    "test_z = test_ing_z_splits[0]"
   ]
  },
  {
   "cell_type": "code",
   "execution_count": 9,
   "metadata": {
    "execution": {
     "iopub.execute_input": "2023-02-23T06:55:17.995925Z",
     "iopub.status.busy": "2023-02-23T06:55:17.995695Z",
     "iopub.status.idle": "2023-02-23T06:55:18.015670Z",
     "shell.execute_reply": "2023-02-23T06:55:18.014118Z",
     "shell.execute_reply.started": "2023-02-23T06:55:17.995901Z"
    }
   },
   "outputs": [
    {
     "data": {
      "text/html": [
       "<div>\n",
       "<style scoped>\n",
       "    .dataframe tbody tr th:only-of-type {\n",
       "        vertical-align: middle;\n",
       "    }\n",
       "\n",
       "    .dataframe tbody tr th {\n",
       "        vertical-align: top;\n",
       "    }\n",
       "\n",
       "    .dataframe thead th {\n",
       "        text-align: right;\n",
       "    }\n",
       "</style>\n",
       "<table border=\"1\" class=\"dataframe\">\n",
       "  <thead>\n",
       "    <tr style=\"text-align: right;\">\n",
       "      <th></th>\n",
       "      <th>Unnamed: 0</th>\n",
       "      <th>farm_id</th>\n",
       "      <th>ingredient_type</th>\n",
       "      <th>id</th>\n",
       "      <th>operations_commencing_year</th>\n",
       "      <th>num_processing_plants</th>\n",
       "      <th>farm_area</th>\n",
       "      <th>farming_company</th>\n",
       "      <th>deidentified_location</th>\n",
       "      <th>temp_obs</th>\n",
       "      <th>cloudiness</th>\n",
       "      <th>wind_direction</th>\n",
       "      <th>pressure_sea_level</th>\n",
       "      <th>precipitation</th>\n",
       "      <th>wind_speed</th>\n",
       "      <th>month</th>\n",
       "      <th>day</th>\n",
       "      <th>hour</th>\n",
       "    </tr>\n",
       "  </thead>\n",
       "  <tbody>\n",
       "    <tr>\n",
       "      <th>1960832</th>\n",
       "      <td>1960832</td>\n",
       "      <td>fid_87942</td>\n",
       "      <td>ing_z</td>\n",
       "      <td>2260082</td>\n",
       "      <td>new</td>\n",
       "      <td>8</td>\n",
       "      <td>499.260722</td>\n",
       "      <td>Obery Farms</td>\n",
       "      <td>location 959</td>\n",
       "      <td>6.7</td>\n",
       "      <td>2.0</td>\n",
       "      <td>200.0</td>\n",
       "      <td>1024.1</td>\n",
       "      <td>0.0</td>\n",
       "      <td>5.1</td>\n",
       "      <td>1</td>\n",
       "      <td>1</td>\n",
       "      <td>0</td>\n",
       "    </tr>\n",
       "    <tr>\n",
       "      <th>1960836</th>\n",
       "      <td>1960836</td>\n",
       "      <td>fid_66870</td>\n",
       "      <td>ing_z</td>\n",
       "      <td>2260086</td>\n",
       "      <td>old</td>\n",
       "      <td>10</td>\n",
       "      <td>5295.006485</td>\n",
       "      <td>Obery Farms</td>\n",
       "      <td>location 959</td>\n",
       "      <td>6.7</td>\n",
       "      <td>2.0</td>\n",
       "      <td>200.0</td>\n",
       "      <td>1024.1</td>\n",
       "      <td>0.0</td>\n",
       "      <td>5.1</td>\n",
       "      <td>1</td>\n",
       "      <td>1</td>\n",
       "      <td>0</td>\n",
       "    </tr>\n",
       "    <tr>\n",
       "      <th>1960840</th>\n",
       "      <td>1960840</td>\n",
       "      <td>fid_66062</td>\n",
       "      <td>ing_z</td>\n",
       "      <td>2260090</td>\n",
       "      <td>new</td>\n",
       "      <td>10</td>\n",
       "      <td>2992.034018</td>\n",
       "      <td>Obery Farms</td>\n",
       "      <td>location 959</td>\n",
       "      <td>6.7</td>\n",
       "      <td>2.0</td>\n",
       "      <td>200.0</td>\n",
       "      <td>1024.1</td>\n",
       "      <td>0.0</td>\n",
       "      <td>5.1</td>\n",
       "      <td>1</td>\n",
       "      <td>1</td>\n",
       "      <td>0</td>\n",
       "    </tr>\n",
       "    <tr>\n",
       "      <th>1960842</th>\n",
       "      <td>1960842</td>\n",
       "      <td>fid_75323</td>\n",
       "      <td>ing_z</td>\n",
       "      <td>2260092</td>\n",
       "      <td>old</td>\n",
       "      <td>13</td>\n",
       "      <td>9334.986343</td>\n",
       "      <td>Obery Farms</td>\n",
       "      <td>location 959</td>\n",
       "      <td>6.7</td>\n",
       "      <td>2.0</td>\n",
       "      <td>200.0</td>\n",
       "      <td>1024.1</td>\n",
       "      <td>0.0</td>\n",
       "      <td>5.1</td>\n",
       "      <td>1</td>\n",
       "      <td>1</td>\n",
       "      <td>0</td>\n",
       "    </tr>\n",
       "    <tr>\n",
       "      <th>1960844</th>\n",
       "      <td>1960844</td>\n",
       "      <td>fid_75397</td>\n",
       "      <td>ing_z</td>\n",
       "      <td>2260094</td>\n",
       "      <td>old</td>\n",
       "      <td>17</td>\n",
       "      <td>12976.969749</td>\n",
       "      <td>Obery Farms</td>\n",
       "      <td>location 959</td>\n",
       "      <td>6.7</td>\n",
       "      <td>2.0</td>\n",
       "      <td>200.0</td>\n",
       "      <td>1024.1</td>\n",
       "      <td>0.0</td>\n",
       "      <td>5.1</td>\n",
       "      <td>1</td>\n",
       "      <td>1</td>\n",
       "      <td>0</td>\n",
       "    </tr>\n",
       "  </tbody>\n",
       "</table>\n",
       "</div>"
      ],
      "text/plain": [
       "         Unnamed: 0    farm_id ingredient_type       id  \\\n",
       "1960832     1960832  fid_87942           ing_z  2260082   \n",
       "1960836     1960836  fid_66870           ing_z  2260086   \n",
       "1960840     1960840  fid_66062           ing_z  2260090   \n",
       "1960842     1960842  fid_75323           ing_z  2260092   \n",
       "1960844     1960844  fid_75397           ing_z  2260094   \n",
       "\n",
       "        operations_commencing_year  num_processing_plants     farm_area  \\\n",
       "1960832                        new                      8    499.260722   \n",
       "1960836                        old                     10   5295.006485   \n",
       "1960840                        new                     10   2992.034018   \n",
       "1960842                        old                     13   9334.986343   \n",
       "1960844                        old                     17  12976.969749   \n",
       "\n",
       "        farming_company deidentified_location  temp_obs  cloudiness  \\\n",
       "1960832     Obery Farms          location 959       6.7         2.0   \n",
       "1960836     Obery Farms          location 959       6.7         2.0   \n",
       "1960840     Obery Farms          location 959       6.7         2.0   \n",
       "1960842     Obery Farms          location 959       6.7         2.0   \n",
       "1960844     Obery Farms          location 959       6.7         2.0   \n",
       "\n",
       "         wind_direction  pressure_sea_level  precipitation  wind_speed  month  \\\n",
       "1960832           200.0              1024.1            0.0         5.1      1   \n",
       "1960836           200.0              1024.1            0.0         5.1      1   \n",
       "1960840           200.0              1024.1            0.0         5.1      1   \n",
       "1960842           200.0              1024.1            0.0         5.1      1   \n",
       "1960844           200.0              1024.1            0.0         5.1      1   \n",
       "\n",
       "         day  hour  \n",
       "1960832    1     0  \n",
       "1960836    1     0  \n",
       "1960840    1     0  \n",
       "1960842    1     0  \n",
       "1960844    1     0  "
      ]
     },
     "execution_count": 9,
     "metadata": {},
     "output_type": "execute_result"
    }
   ],
   "source": [
    "test_z.head()"
   ]
  },
  {
   "cell_type": "code",
   "execution_count": 10,
   "metadata": {
    "execution": {
     "iopub.execute_input": "2023-02-23T06:55:18.018089Z",
     "iopub.status.busy": "2023-02-23T06:55:18.017719Z",
     "iopub.status.idle": "2023-02-23T06:55:18.048543Z",
     "shell.execute_reply": "2023-02-23T06:55:18.047075Z",
     "shell.execute_reply.started": "2023-02-23T06:55:18.018061Z"
    }
   },
   "outputs": [],
   "source": [
    "# keep a copy of test w we need it in creating submission file\n",
    "import copy\n",
    "tes = copy.deepcopy(test_z)"
   ]
  },
  {
   "cell_type": "markdown",
   "metadata": {},
   "source": [
    "* farm_id is unique just like my id. my performance is measured based on my skills on based on my id right! same here the prediction of yield is depend on loaction and weather condtions on id. so let's drop it\n"
   ]
  },
  {
   "cell_type": "code",
   "execution_count": 11,
   "metadata": {
    "execution": {
     "iopub.execute_input": "2023-02-23T06:55:18.050459Z",
     "iopub.status.busy": "2023-02-23T06:55:18.050076Z",
     "iopub.status.idle": "2023-02-23T06:55:18.105602Z",
     "shell.execute_reply": "2023-02-23T06:55:18.104076Z",
     "shell.execute_reply.started": "2023-02-23T06:55:18.050422Z"
    }
   },
   "outputs": [],
   "source": [
    "# dropping the farm_id and num_processing pants from test and train datasets\n",
    "train_z.drop(['farm_id','Unnamed: 0'], axis=1, inplace=True)\n",
    "test_z.drop(['farm_id','Unnamed: 0'], axis=1, inplace=True)"
   ]
  },
  {
   "cell_type": "code",
   "execution_count": 12,
   "metadata": {
    "execution": {
     "iopub.execute_input": "2023-02-23T06:55:18.107876Z",
     "iopub.status.busy": "2023-02-23T06:55:18.107578Z",
     "iopub.status.idle": "2023-02-23T06:55:18.115855Z",
     "shell.execute_reply": "2023-02-23T06:55:18.114389Z",
     "shell.execute_reply.started": "2023-02-23T06:55:18.107850Z"
    }
   },
   "outputs": [
    {
     "data": {
      "text/plain": [
       "['ingredient_type',\n",
       " 'deidentified_location',\n",
       " 'operations_commencing_year',\n",
       " 'farming_company']"
      ]
     },
     "execution_count": 12,
     "metadata": {},
     "output_type": "execute_result"
    }
   ],
   "source": [
    "# assigning object columns in category columns\n",
    "cat_cols=['ingredient_type','deidentified_location',\n",
    "          'operations_commencing_year','farming_company']\n",
    "cat_cols"
   ]
  },
  {
   "cell_type": "code",
   "execution_count": 13,
   "metadata": {
    "execution": {
     "iopub.execute_input": "2023-02-23T06:55:18.120919Z",
     "iopub.status.busy": "2023-02-23T06:55:18.120608Z",
     "iopub.status.idle": "2023-02-23T06:55:18.444519Z",
     "shell.execute_reply": "2023-02-23T06:55:18.443128Z",
     "shell.execute_reply.started": "2023-02-23T06:55:18.120894Z"
    }
   },
   "outputs": [],
   "source": [
    "# converting object columns to category columns\n",
    "train_z[cat_cols] = train_z[cat_cols].astype(\"category\")\n",
    "test_z[cat_cols] = test_z[cat_cols].astype(\"category\")"
   ]
  },
  {
   "cell_type": "markdown",
   "metadata": {
    "id": "7mBmvpMgHIM3"
   },
   "source": [
    "# Model Building and Predictions"
   ]
  },
  {
   "cell_type": "code",
   "execution_count": 14,
   "metadata": {
    "execution": {
     "iopub.execute_input": "2023-02-23T06:55:18.446564Z",
     "iopub.status.busy": "2023-02-23T06:55:18.446212Z",
     "iopub.status.idle": "2023-02-23T06:55:19.399760Z",
     "shell.execute_reply": "2023-02-23T06:55:19.397911Z",
     "shell.execute_reply.started": "2023-02-23T06:55:18.446531Z"
    }
   },
   "outputs": [],
   "source": [
    "# deviding the data into x and y\n",
    "from sklearn.model_selection import train_test_split\n",
    "X = train_z.drop(['yield'] , axis = 1)\n",
    "y = train_z['yield']"
   ]
  },
  {
   "cell_type": "code",
   "execution_count": 15,
   "metadata": {
    "execution": {
     "iopub.execute_input": "2023-02-23T06:55:19.401592Z",
     "iopub.status.busy": "2023-02-23T06:55:19.401296Z",
     "iopub.status.idle": "2023-02-23T06:55:19.484202Z",
     "shell.execute_reply": "2023-02-23T06:55:19.483234Z",
     "shell.execute_reply.started": "2023-02-23T06:55:19.401568Z"
    }
   },
   "outputs": [],
   "source": [
    "# splitting the data into train and test in the ration of 70% & 30%\n",
    "X_train, X_test, y_train, y_test =   train_test_split(X, y, test_size=0.30,random_state = 123)"
   ]
  },
  {
   "cell_type": "code",
   "execution_count": 16,
   "metadata": {
    "execution": {
     "iopub.execute_input": "2023-02-23T06:55:19.485672Z",
     "iopub.status.busy": "2023-02-23T06:55:19.485424Z",
     "iopub.status.idle": "2023-02-23T06:55:19.492602Z",
     "shell.execute_reply": "2023-02-23T06:55:19.491162Z",
     "shell.execute_reply.started": "2023-02-23T06:55:19.485650Z"
    },
    "id": "PuVWV8_jHD6i"
   },
   "outputs": [
    {
     "name": "stdout",
     "output_type": "stream",
     "text": [
      "(300474, 15) (128775, 15)\n",
      "(300474,) (128775,)\n"
     ]
    }
   ],
   "source": [
    "# checking the shapes\n",
    "print(X_train.shape, X_test.shape)\n",
    "print(y_train.shape, y_test.shape)"
   ]
  },
  {
   "cell_type": "markdown",
   "metadata": {},
   "source": [
    "<div class=\"alert alert-block alert-info\"><b> \n",
    "  Dummifing categorical features into numerical using get dummies\n",
    "</b></div> "
   ]
  },
  {
   "cell_type": "code",
   "execution_count": 17,
   "metadata": {
    "execution": {
     "iopub.execute_input": "2023-02-23T06:55:19.494946Z",
     "iopub.status.busy": "2023-02-23T06:55:19.494625Z",
     "iopub.status.idle": "2023-02-23T06:55:19.682302Z",
     "shell.execute_reply": "2023-02-23T06:55:19.680917Z",
     "shell.execute_reply.started": "2023-02-23T06:55:19.494921Z"
    }
   },
   "outputs": [],
   "source": [
    "from sklearn.preprocessing import LabelEncoder\n",
    "label = LabelEncoder()\n",
    "X_train.deidentified_location = label.fit_transform(X_train.deidentified_location)\n",
    "X_test.deidentified_location = label.transform(X_test.deidentified_location)\n",
    "X_train.farming_company = label.fit_transform(X_train.farming_company)\n",
    "X_test.farming_company = label.transform(X_test.farming_company)"
   ]
  },
  {
   "cell_type": "code",
   "execution_count": 18,
   "metadata": {
    "execution": {
     "iopub.execute_input": "2023-02-23T06:55:19.684984Z",
     "iopub.status.busy": "2023-02-23T06:55:19.684276Z",
     "iopub.status.idle": "2023-02-23T06:55:19.730264Z",
     "shell.execute_reply": "2023-02-23T06:55:19.728507Z",
     "shell.execute_reply.started": "2023-02-23T06:55:19.684946Z"
    }
   },
   "outputs": [],
   "source": [
    "## Convert Categorical Columns to numerical\n",
    "X_train = pd.get_dummies(X_train, columns=['ingredient_type','operations_commencing_year'],drop_first=True)\n",
    "\n",
    "X_test = pd.get_dummies(X_test, columns=['ingredient_type','operations_commencing_year'],drop_first=True)"
   ]
  },
  {
   "cell_type": "code",
   "execution_count": 19,
   "metadata": {
    "execution": {
     "iopub.execute_input": "2023-02-23T06:55:19.732377Z",
     "iopub.status.busy": "2023-02-23T06:55:19.731932Z",
     "iopub.status.idle": "2023-02-23T06:55:19.802706Z",
     "shell.execute_reply": "2023-02-23T06:55:19.801158Z",
     "shell.execute_reply.started": "2023-02-23T06:55:19.732351Z"
    }
   },
   "outputs": [],
   "source": [
    "# scaling the data\n",
    "from sklearn.preprocessing import MinMaxScaler\n",
    "scaler = MinMaxScaler()\n",
    "num_cols = [\"farm_area\", \"wind_speed\", \"precipitation\", \"temp_obs\",\n",
    "            \"pressure_sea_level\",\"wind_direction\",'num_processing_plants']\n",
    "\n",
    "# scale on train\n",
    "X_train[num_cols] =scaler.fit_transform(X_train[num_cols])\n",
    "\n",
    "# scale on test\n",
    "X_test[num_cols] = scaler.transform(X_test[num_cols])"
   ]
  },
  {
   "cell_type": "code",
   "execution_count": 20,
   "metadata": {
    "execution": {
     "iopub.execute_input": "2023-02-23T06:55:19.805148Z",
     "iopub.status.busy": "2023-02-23T06:55:19.804742Z",
     "iopub.status.idle": "2023-02-23T06:55:19.822933Z",
     "shell.execute_reply": "2023-02-23T06:55:19.821772Z",
     "shell.execute_reply.started": "2023-02-23T06:55:19.805109Z"
    }
   },
   "outputs": [
    {
     "data": {
      "text/html": [
       "<div>\n",
       "<style scoped>\n",
       "    .dataframe tbody tr th:only-of-type {\n",
       "        vertical-align: middle;\n",
       "    }\n",
       "\n",
       "    .dataframe tbody tr th {\n",
       "        vertical-align: top;\n",
       "    }\n",
       "\n",
       "    .dataframe thead th {\n",
       "        text-align: right;\n",
       "    }\n",
       "</style>\n",
       "<table border=\"1\" class=\"dataframe\">\n",
       "  <thead>\n",
       "    <tr style=\"text-align: right;\">\n",
       "      <th></th>\n",
       "      <th>num_processing_plants</th>\n",
       "      <th>farm_area</th>\n",
       "      <th>farming_company</th>\n",
       "      <th>deidentified_location</th>\n",
       "      <th>temp_obs</th>\n",
       "      <th>cloudiness</th>\n",
       "      <th>wind_direction</th>\n",
       "      <th>pressure_sea_level</th>\n",
       "      <th>precipitation</th>\n",
       "      <th>wind_speed</th>\n",
       "      <th>month</th>\n",
       "      <th>day</th>\n",
       "      <th>hour</th>\n",
       "      <th>operations_commencing_year_new</th>\n",
       "      <th>operations_commencing_year_old</th>\n",
       "    </tr>\n",
       "  </thead>\n",
       "  <tbody>\n",
       "    <tr>\n",
       "      <th>3353415</th>\n",
       "      <td>0.0</td>\n",
       "      <td>0.410497</td>\n",
       "      <td>4</td>\n",
       "      <td>0</td>\n",
       "      <td>0.455969</td>\n",
       "      <td>2.0</td>\n",
       "      <td>0.805556</td>\n",
       "      <td>0.484765</td>\n",
       "      <td>0.007519</td>\n",
       "      <td>0.529730</td>\n",
       "      <td>5</td>\n",
       "      <td>7</td>\n",
       "      <td>3</td>\n",
       "      <td>0</td>\n",
       "      <td>0</td>\n",
       "    </tr>\n",
       "    <tr>\n",
       "      <th>2204005</th>\n",
       "      <td>0.4</td>\n",
       "      <td>0.156571</td>\n",
       "      <td>2</td>\n",
       "      <td>1</td>\n",
       "      <td>0.471624</td>\n",
       "      <td>2.0</td>\n",
       "      <td>0.750000</td>\n",
       "      <td>0.689751</td>\n",
       "      <td>0.007519</td>\n",
       "      <td>0.221622</td>\n",
       "      <td>7</td>\n",
       "      <td>17</td>\n",
       "      <td>8</td>\n",
       "      <td>1</td>\n",
       "      <td>0</td>\n",
       "    </tr>\n",
       "    <tr>\n",
       "      <th>4012012</th>\n",
       "      <td>0.0</td>\n",
       "      <td>0.385429</td>\n",
       "      <td>1</td>\n",
       "      <td>0</td>\n",
       "      <td>0.706458</td>\n",
       "      <td>4.0</td>\n",
       "      <td>0.416667</td>\n",
       "      <td>0.448753</td>\n",
       "      <td>0.007519</td>\n",
       "      <td>0.081081</td>\n",
       "      <td>8</td>\n",
       "      <td>8</td>\n",
       "      <td>14</td>\n",
       "      <td>0</td>\n",
       "      <td>1</td>\n",
       "    </tr>\n",
       "    <tr>\n",
       "      <th>3561389</th>\n",
       "      <td>0.0</td>\n",
       "      <td>0.193965</td>\n",
       "      <td>2</td>\n",
       "      <td>0</td>\n",
       "      <td>0.837573</td>\n",
       "      <td>0.0</td>\n",
       "      <td>0.638889</td>\n",
       "      <td>0.452909</td>\n",
       "      <td>0.007519</td>\n",
       "      <td>0.140541</td>\n",
       "      <td>6</td>\n",
       "      <td>5</td>\n",
       "      <td>18</td>\n",
       "      <td>0</td>\n",
       "      <td>0</td>\n",
       "    </tr>\n",
       "    <tr>\n",
       "      <th>3167539</th>\n",
       "      <td>0.0</td>\n",
       "      <td>0.317951</td>\n",
       "      <td>2</td>\n",
       "      <td>0</td>\n",
       "      <td>0.336595</td>\n",
       "      <td>2.0</td>\n",
       "      <td>0.638889</td>\n",
       "      <td>0.596953</td>\n",
       "      <td>0.135338</td>\n",
       "      <td>0.529730</td>\n",
       "      <td>4</td>\n",
       "      <td>10</td>\n",
       "      <td>20</td>\n",
       "      <td>1</td>\n",
       "      <td>0</td>\n",
       "    </tr>\n",
       "  </tbody>\n",
       "</table>\n",
       "</div>"
      ],
      "text/plain": [
       "         num_processing_plants  farm_area  farming_company  \\\n",
       "3353415                    0.0   0.410497                4   \n",
       "2204005                    0.4   0.156571                2   \n",
       "4012012                    0.0   0.385429                1   \n",
       "3561389                    0.0   0.193965                2   \n",
       "3167539                    0.0   0.317951                2   \n",
       "\n",
       "         deidentified_location  temp_obs  cloudiness  wind_direction  \\\n",
       "3353415                      0  0.455969         2.0        0.805556   \n",
       "2204005                      1  0.471624         2.0        0.750000   \n",
       "4012012                      0  0.706458         4.0        0.416667   \n",
       "3561389                      0  0.837573         0.0        0.638889   \n",
       "3167539                      0  0.336595         2.0        0.638889   \n",
       "\n",
       "         pressure_sea_level  precipitation  wind_speed  month  day  hour  \\\n",
       "3353415            0.484765       0.007519    0.529730      5    7     3   \n",
       "2204005            0.689751       0.007519    0.221622      7   17     8   \n",
       "4012012            0.448753       0.007519    0.081081      8    8    14   \n",
       "3561389            0.452909       0.007519    0.140541      6    5    18   \n",
       "3167539            0.596953       0.135338    0.529730      4   10    20   \n",
       "\n",
       "         operations_commencing_year_new  operations_commencing_year_old  \n",
       "3353415                               0                               0  \n",
       "2204005                               1                               0  \n",
       "4012012                               0                               1  \n",
       "3561389                               0                               0  \n",
       "3167539                               1                               0  "
      ]
     },
     "execution_count": 20,
     "metadata": {},
     "output_type": "execute_result"
    }
   ],
   "source": [
    "# checking the x train data\n",
    "X_train.head()"
   ]
  },
  {
   "cell_type": "code",
   "execution_count": 21,
   "metadata": {
    "execution": {
     "iopub.execute_input": "2023-02-23T06:55:19.825118Z",
     "iopub.status.busy": "2023-02-23T06:55:19.824725Z",
     "iopub.status.idle": "2023-02-23T06:55:19.850265Z",
     "shell.execute_reply": "2023-02-23T06:55:19.848660Z",
     "shell.execute_reply.started": "2023-02-23T06:55:19.825084Z"
    }
   },
   "outputs": [
    {
     "data": {
      "text/html": [
       "<div>\n",
       "<style scoped>\n",
       "    .dataframe tbody tr th:only-of-type {\n",
       "        vertical-align: middle;\n",
       "    }\n",
       "\n",
       "    .dataframe tbody tr th {\n",
       "        vertical-align: top;\n",
       "    }\n",
       "\n",
       "    .dataframe thead th {\n",
       "        text-align: right;\n",
       "    }\n",
       "</style>\n",
       "<table border=\"1\" class=\"dataframe\">\n",
       "  <thead>\n",
       "    <tr style=\"text-align: right;\">\n",
       "      <th></th>\n",
       "      <th>num_processing_plants</th>\n",
       "      <th>farm_area</th>\n",
       "      <th>farming_company</th>\n",
       "      <th>deidentified_location</th>\n",
       "      <th>temp_obs</th>\n",
       "      <th>cloudiness</th>\n",
       "      <th>wind_direction</th>\n",
       "      <th>pressure_sea_level</th>\n",
       "      <th>precipitation</th>\n",
       "      <th>wind_speed</th>\n",
       "      <th>month</th>\n",
       "      <th>day</th>\n",
       "      <th>hour</th>\n",
       "      <th>operations_commencing_year_new</th>\n",
       "      <th>operations_commencing_year_old</th>\n",
       "    </tr>\n",
       "  </thead>\n",
       "  <tbody>\n",
       "    <tr>\n",
       "      <th>2032491</th>\n",
       "      <td>0.2</td>\n",
       "      <td>0.095465</td>\n",
       "      <td>5</td>\n",
       "      <td>1</td>\n",
       "      <td>0.277886</td>\n",
       "      <td>0.0</td>\n",
       "      <td>0.555556</td>\n",
       "      <td>0.591413</td>\n",
       "      <td>0.007519</td>\n",
       "      <td>0.248649</td>\n",
       "      <td>3</td>\n",
       "      <td>25</td>\n",
       "      <td>20</td>\n",
       "      <td>1</td>\n",
       "      <td>0</td>\n",
       "    </tr>\n",
       "    <tr>\n",
       "      <th>3128896</th>\n",
       "      <td>0.0</td>\n",
       "      <td>0.455231</td>\n",
       "      <td>4</td>\n",
       "      <td>0</td>\n",
       "      <td>0.489237</td>\n",
       "      <td>2.0</td>\n",
       "      <td>0.333333</td>\n",
       "      <td>0.562327</td>\n",
       "      <td>0.007519</td>\n",
       "      <td>0.113514</td>\n",
       "      <td>4</td>\n",
       "      <td>5</td>\n",
       "      <td>8</td>\n",
       "      <td>0</td>\n",
       "      <td>0</td>\n",
       "    </tr>\n",
       "    <tr>\n",
       "      <th>3817005</th>\n",
       "      <td>0.0</td>\n",
       "      <td>0.193361</td>\n",
       "      <td>1</td>\n",
       "      <td>0</td>\n",
       "      <td>0.892368</td>\n",
       "      <td>0.0</td>\n",
       "      <td>0.527778</td>\n",
       "      <td>0.415512</td>\n",
       "      <td>0.007519</td>\n",
       "      <td>0.113514</td>\n",
       "      <td>7</td>\n",
       "      <td>11</td>\n",
       "      <td>23</td>\n",
       "      <td>0</td>\n",
       "      <td>1</td>\n",
       "    </tr>\n",
       "    <tr>\n",
       "      <th>2684123</th>\n",
       "      <td>0.0</td>\n",
       "      <td>0.147761</td>\n",
       "      <td>1</td>\n",
       "      <td>0</td>\n",
       "      <td>0.250489</td>\n",
       "      <td>2.0</td>\n",
       "      <td>0.805556</td>\n",
       "      <td>0.583102</td>\n",
       "      <td>0.007519</td>\n",
       "      <td>0.275676</td>\n",
       "      <td>2</td>\n",
       "      <td>2</td>\n",
       "      <td>6</td>\n",
       "      <td>0</td>\n",
       "      <td>1</td>\n",
       "    </tr>\n",
       "    <tr>\n",
       "      <th>2356625</th>\n",
       "      <td>0.6</td>\n",
       "      <td>0.173605</td>\n",
       "      <td>2</td>\n",
       "      <td>1</td>\n",
       "      <td>0.307241</td>\n",
       "      <td>2.0</td>\n",
       "      <td>0.666667</td>\n",
       "      <td>0.756233</td>\n",
       "      <td>0.007519</td>\n",
       "      <td>0.167568</td>\n",
       "      <td>10</td>\n",
       "      <td>26</td>\n",
       "      <td>8</td>\n",
       "      <td>0</td>\n",
       "      <td>1</td>\n",
       "    </tr>\n",
       "  </tbody>\n",
       "</table>\n",
       "</div>"
      ],
      "text/plain": [
       "         num_processing_plants  farm_area  farming_company  \\\n",
       "2032491                    0.2   0.095465                5   \n",
       "3128896                    0.0   0.455231                4   \n",
       "3817005                    0.0   0.193361                1   \n",
       "2684123                    0.0   0.147761                1   \n",
       "2356625                    0.6   0.173605                2   \n",
       "\n",
       "         deidentified_location  temp_obs  cloudiness  wind_direction  \\\n",
       "2032491                      1  0.277886         0.0        0.555556   \n",
       "3128896                      0  0.489237         2.0        0.333333   \n",
       "3817005                      0  0.892368         0.0        0.527778   \n",
       "2684123                      0  0.250489         2.0        0.805556   \n",
       "2356625                      1  0.307241         2.0        0.666667   \n",
       "\n",
       "         pressure_sea_level  precipitation  wind_speed  month  day  hour  \\\n",
       "2032491            0.591413       0.007519    0.248649      3   25    20   \n",
       "3128896            0.562327       0.007519    0.113514      4    5     8   \n",
       "3817005            0.415512       0.007519    0.113514      7   11    23   \n",
       "2684123            0.583102       0.007519    0.275676      2    2     6   \n",
       "2356625            0.756233       0.007519    0.167568     10   26     8   \n",
       "\n",
       "         operations_commencing_year_new  operations_commencing_year_old  \n",
       "2032491                               1                               0  \n",
       "3128896                               0                               0  \n",
       "3817005                               0                               1  \n",
       "2684123                               0                               1  \n",
       "2356625                               0                               1  "
      ]
     },
     "execution_count": 21,
     "metadata": {},
     "output_type": "execute_result"
    }
   ],
   "source": [
    "# checking the x test data\n",
    "X_test.head()"
   ]
  },
  {
   "cell_type": "code",
   "execution_count": 22,
   "metadata": {
    "execution": {
     "iopub.execute_input": "2023-02-23T06:55:19.852720Z",
     "iopub.status.busy": "2023-02-23T06:55:19.852330Z",
     "iopub.status.idle": "2023-02-23T06:55:19.861509Z",
     "shell.execute_reply": "2023-02-23T06:55:19.860349Z",
     "shell.execute_reply.started": "2023-02-23T06:55:19.852684Z"
    }
   },
   "outputs": [
    {
     "data": {
      "text/plain": [
       "num_processing_plants             float64\n",
       "farm_area                         float64\n",
       "farming_company                     int64\n",
       "deidentified_location               int64\n",
       "temp_obs                          float64\n",
       "cloudiness                        float64\n",
       "wind_direction                    float64\n",
       "pressure_sea_level                float64\n",
       "precipitation                     float64\n",
       "wind_speed                        float64\n",
       "month                               int64\n",
       "day                                 int64\n",
       "hour                                int64\n",
       "operations_commencing_year_new      uint8\n",
       "operations_commencing_year_old      uint8\n",
       "dtype: object"
      ]
     },
     "execution_count": 22,
     "metadata": {},
     "output_type": "execute_result"
    }
   ],
   "source": [
    "# checking the data types x_train data\n",
    "X_train.dtypes"
   ]
  },
  {
   "cell_type": "markdown",
   "metadata": {},
   "source": [
    "# Model Building"
   ]
  },
  {
   "cell_type": "markdown",
   "metadata": {},
   "source": [
    "<div class=\"alert alert-block alert-info\"><b> \n",
    "  Linear Regression\n",
    "</b>"
   ]
  },
  {
   "cell_type": "code",
   "execution_count": 23,
   "metadata": {
    "execution": {
     "iopub.execute_input": "2023-02-23T06:55:19.863212Z",
     "iopub.status.busy": "2023-02-23T06:55:19.862833Z",
     "iopub.status.idle": "2023-02-23T06:55:20.104086Z",
     "shell.execute_reply": "2023-02-23T06:55:20.102126Z",
     "shell.execute_reply.started": "2023-02-23T06:55:19.863178Z"
    },
    "id": "ahIphgrvHD9d"
   },
   "outputs": [
    {
     "name": "stdout",
     "output_type": "stream",
     "text": [
      "RMSE of Linear Regressor on train :  100.67227150153407\n",
      "RMSE of Linear Regressor on test :  93.1919195091372\n"
     ]
    }
   ],
   "source": [
    "# linear regression\n",
    "from sklearn.metrics import mean_squared_error\n",
    "from sklearn.linear_model import LinearRegression\n",
    "reg = LinearRegression()\n",
    "reg.fit(X_train, y_train)\n",
    "train_pred =reg.predict(X_train)\n",
    "test_pred = reg.predict(X_test)\n",
    "lr_train_pred = np.sqrt(mean_squared_error(y_train, train_pred))\n",
    "lr_test_pred = np.sqrt(mean_squared_error(y_test, test_pred))\n",
    "print('RMSE of Linear Regressor on train : ',lr_train_pred)\n",
    "print('RMSE of Linear Regressor on test : ',lr_test_pred)"
   ]
  },
  {
   "cell_type": "markdown",
   "metadata": {},
   "source": [
    "<div class=\"alert alert-block alert-info\"><b> \n",
    "  Random Forest Regressor\n",
    "</b></div> "
   ]
  },
  {
   "cell_type": "code",
   "execution_count": 24,
   "metadata": {
    "execution": {
     "iopub.execute_input": "2023-02-23T06:55:20.105823Z",
     "iopub.status.busy": "2023-02-23T06:55:20.105280Z",
     "iopub.status.idle": "2023-02-23T06:58:17.137475Z",
     "shell.execute_reply": "2023-02-23T06:58:17.135976Z",
     "shell.execute_reply.started": "2023-02-23T06:55:20.105789Z"
    }
   },
   "outputs": [
    {
     "name": "stdout",
     "output_type": "stream",
     "text": [
      "RMSE of RandomForestRegressor on train 24.504755205275178\n",
      "RMSE of RandomForestRegressor on test: 49.81903707381008\n"
     ]
    }
   ],
   "source": [
    "from sklearn.ensemble import RandomForestRegressor\n",
    "\n",
    "rfr = RandomForestRegressor()\n",
    "rfr.fit(X_train, y_train)\n",
    "train_pred= rfr.predict(X_train)\n",
    "test_pred = rfr.predict(X_test)\n",
    "rfr_train_pred = np.sqrt(mean_squared_error(y_train, train_pred))\n",
    "rfr_test_pred = np.sqrt(mean_squared_error(y_test, test_pred))\n",
    "print('RMSE of RandomForestRegressor on train', rfr_train_pred)\n",
    "print('RMSE of RandomForestRegressor on test:', rfr_test_pred)"
   ]
  },
  {
   "cell_type": "markdown",
   "metadata": {},
   "source": [
    "<div class=\"alert alert-block alert-info\"><b> \n",
    "  Gradient Boosting Regressor\n",
    "</b></div> "
   ]
  },
  {
   "cell_type": "code",
   "execution_count": 25,
   "metadata": {
    "execution": {
     "iopub.execute_input": "2023-02-23T06:58:17.139126Z",
     "iopub.status.busy": "2023-02-23T06:58:17.138817Z",
     "iopub.status.idle": "2023-02-23T06:59:52.579706Z",
     "shell.execute_reply": "2023-02-23T06:59:52.578392Z",
     "shell.execute_reply.started": "2023-02-23T06:58:17.139100Z"
    }
   },
   "outputs": [
    {
     "name": "stdout",
     "output_type": "stream",
     "text": [
      "GBR on train :  69.59064531120015\n",
      "GBR on test :  57.852648217868534\n"
     ]
    }
   ],
   "source": [
    "from sklearn.ensemble import GradientBoostingRegressor\n",
    "gbg = GradientBoostingRegressor(learning_rate=0.05,n_estimators=200,random_state=0)\n",
    "gbg.fit(X_train,y_train)\n",
    "train_pred=gbg.predict(X_train)\n",
    "test_pred = gbg.predict(X_test)\n",
    "gbr_train_pred = np.sqrt(mean_squared_error(y_train, train_pred))\n",
    "gbr_test_pred = np.sqrt(mean_squared_error(y_test, test_pred))\n",
    "print('GBR on train : ', gbr_train_pred)\n",
    "print('GBR on test : ',gbr_test_pred)"
   ]
  },
  {
   "cell_type": "markdown",
   "metadata": {},
   "source": [
    "<div class=\"alert alert-block alert-info\"><b> \n",
    "  XGB Regressor\n",
    "</b></div> "
   ]
  },
  {
   "cell_type": "code",
   "execution_count": 26,
   "metadata": {
    "execution": {
     "iopub.execute_input": "2023-02-23T06:59:52.582010Z",
     "iopub.status.busy": "2023-02-23T06:59:52.581610Z",
     "iopub.status.idle": "2023-02-23T07:01:13.112423Z",
     "shell.execute_reply": "2023-02-23T07:01:13.110787Z",
     "shell.execute_reply.started": "2023-02-23T06:59:52.581967Z"
    }
   },
   "outputs": [
    {
     "name": "stdout",
     "output_type": "stream",
     "text": [
      "XGB Regressor on train :  60.04953290485411\n",
      "XGB Regressor on test :  52.457953124841865\n"
     ]
    }
   ],
   "source": [
    "from xgboost import XGBRegressor\n",
    "xgb = XGBRegressor(n_estimators=500,learning_rate=0.01)\n",
    "xgb.fit(X_train,y_train)\n",
    "train_pred=xgb.predict(X_train)\n",
    "test_pred = xgb.predict(X_test)\n",
    "xgb_train_pred = np.sqrt(mean_squared_error(y_train, train_pred))\n",
    "xgb_test_pred = np.sqrt(mean_squared_error(y_test, test_pred))\n",
    "print('XGB Regressor on train : ', xgb_train_pred)\n",
    "print('XGB Regressor on test : ',xgb_test_pred)"
   ]
  },
  {
   "cell_type": "markdown",
   "metadata": {},
   "source": [
    "<div class=\"alert alert-block alert-info\"><b> \n",
    "  Light Gradient Boosting Regressor\n",
    "</b></div> "
   ]
  },
  {
   "cell_type": "code",
   "execution_count": 27,
   "metadata": {
    "execution": {
     "iopub.execute_input": "2023-02-23T07:01:13.114652Z",
     "iopub.status.busy": "2023-02-23T07:01:13.114348Z",
     "iopub.status.idle": "2023-02-23T07:01:17.518667Z",
     "shell.execute_reply": "2023-02-23T07:01:17.517756Z",
     "shell.execute_reply.started": "2023-02-23T07:01:13.114627Z"
    }
   },
   "outputs": [
    {
     "data": {
      "text/html": [
       "<style type='text/css'>\n",
       ".datatable table.frame { margin-bottom: 0; }\n",
       ".datatable table.frame thead { border-bottom: none; }\n",
       ".datatable table.frame tr.coltypes td {  color: #FFFFFF;  line-height: 6px;  padding: 0 0.5em;}\n",
       ".datatable .bool    { background: #DDDD99; }\n",
       ".datatable .object  { background: #565656; }\n",
       ".datatable .int     { background: #5D9E5D; }\n",
       ".datatable .float   { background: #4040CC; }\n",
       ".datatable .str     { background: #CC4040; }\n",
       ".datatable .time    { background: #40CC40; }\n",
       ".datatable .row_index {  background: var(--jp-border-color3);  border-right: 1px solid var(--jp-border-color0);  color: var(--jp-ui-font-color3);  font-size: 9px;}\n",
       ".datatable .frame tbody td { text-align: left; }\n",
       ".datatable .frame tr.coltypes .row_index {  background: var(--jp-border-color0);}\n",
       ".datatable th:nth-child(2) { padding-left: 12px; }\n",
       ".datatable .hellipsis {  color: var(--jp-cell-editor-border-color);}\n",
       ".datatable .vellipsis {  background: var(--jp-layout-color0);  color: var(--jp-cell-editor-border-color);}\n",
       ".datatable .na {  color: var(--jp-cell-editor-border-color);  font-size: 80%;}\n",
       ".datatable .sp {  opacity: 0.25;}\n",
       ".datatable .footer { font-size: 9px; }\n",
       ".datatable .frame_dimensions {  background: var(--jp-border-color3);  border-top: 1px solid var(--jp-border-color0);  color: var(--jp-ui-font-color3);  display: inline-block;  opacity: 0.6;  padding: 1px 10px 1px 5px;}\n",
       "</style>\n"
      ],
      "text/plain": [
       "<IPython.core.display.HTML object>"
      ]
     },
     "metadata": {},
     "output_type": "display_data"
    },
    {
     "name": "stdout",
     "output_type": "stream",
     "text": [
      "LGB Regressor on train: 59.85907657863313\n",
      "LGB Regressor on test : 50.11521758803864\n"
     ]
    }
   ],
   "source": [
    "from lightgbm import LGBMRegressor\n",
    "lgb = LGBMRegressor()\n",
    "lgb.fit(X_train,y_train)\n",
    "train_pred=lgb.predict(X_train)\n",
    "test_pred = lgb.predict(X_test)\n",
    "lgb_train_pred = np.sqrt(mean_squared_error(y_train, train_pred))\n",
    "lgb_test_pred = np.sqrt(mean_squared_error(y_test, test_pred))\n",
    "print('LGB Regressor on train:', lgb_train_pred)\n",
    "print('LGB Regressor on test :',lgb_test_pred)"
   ]
  },
  {
   "cell_type": "markdown",
   "metadata": {},
   "source": [
    "<div class=\"alert alert-block alert-info\"><b> \n",
    "  Results of training and testing set\n",
    "</b></div> "
   ]
  },
  {
   "cell_type": "code",
   "execution_count": 28,
   "metadata": {
    "execution": {
     "iopub.execute_input": "2023-02-23T07:01:17.521318Z",
     "iopub.status.busy": "2023-02-23T07:01:17.520082Z",
     "iopub.status.idle": "2023-02-23T07:01:17.527398Z",
     "shell.execute_reply": "2023-02-23T07:01:17.526342Z",
     "shell.execute_reply.started": "2023-02-23T07:01:17.521282Z"
    }
   },
   "outputs": [],
   "source": [
    "# Creating a dataframe showing the RMSE for both training and testing data\n",
    "results=pd.DataFrame({\n",
    "                    'Models':['Linear Regression','GradientBoost','LGBMRegressor','Random Forest',\n",
    "                              'XGBoost'],\n",
    "    \n",
    "                    'Train_RMSE':[lr_train_pred, gbr_train_pred, lgb_train_pred, rfr_train_pred,\n",
    "                                  xgb_train_pred],\n",
    "    \n",
    "                    'Test_RMSE':[lr_test_pred, gbr_test_pred, lgb_test_pred, rfr_test_pred,\n",
    "                                 xgb_test_pred],\n",
    "                     })"
   ]
  },
  {
   "cell_type": "code",
   "execution_count": 29,
   "metadata": {
    "execution": {
     "iopub.execute_input": "2023-02-23T07:01:17.530234Z",
     "iopub.status.busy": "2023-02-23T07:01:17.528879Z",
     "iopub.status.idle": "2023-02-23T07:01:17.551882Z",
     "shell.execute_reply": "2023-02-23T07:01:17.551241Z",
     "shell.execute_reply.started": "2023-02-23T07:01:17.530193Z"
    }
   },
   "outputs": [
    {
     "data": {
      "text/html": [
       "<div>\n",
       "<style scoped>\n",
       "    .dataframe tbody tr th:only-of-type {\n",
       "        vertical-align: middle;\n",
       "    }\n",
       "\n",
       "    .dataframe tbody tr th {\n",
       "        vertical-align: top;\n",
       "    }\n",
       "\n",
       "    .dataframe thead th {\n",
       "        text-align: right;\n",
       "    }\n",
       "</style>\n",
       "<table border=\"1\" class=\"dataframe\">\n",
       "  <thead>\n",
       "    <tr style=\"text-align: right;\">\n",
       "      <th></th>\n",
       "      <th>Models</th>\n",
       "      <th>Train_RMSE</th>\n",
       "      <th>Test_RMSE</th>\n",
       "    </tr>\n",
       "  </thead>\n",
       "  <tbody>\n",
       "    <tr>\n",
       "      <th>0</th>\n",
       "      <td>Random Forest</td>\n",
       "      <td>24.504755</td>\n",
       "      <td>49.819037</td>\n",
       "    </tr>\n",
       "    <tr>\n",
       "      <th>1</th>\n",
       "      <td>LGBMRegressor</td>\n",
       "      <td>59.859077</td>\n",
       "      <td>50.115218</td>\n",
       "    </tr>\n",
       "    <tr>\n",
       "      <th>2</th>\n",
       "      <td>XGBoost</td>\n",
       "      <td>60.049533</td>\n",
       "      <td>52.457953</td>\n",
       "    </tr>\n",
       "    <tr>\n",
       "      <th>3</th>\n",
       "      <td>GradientBoost</td>\n",
       "      <td>69.590645</td>\n",
       "      <td>57.852648</td>\n",
       "    </tr>\n",
       "    <tr>\n",
       "      <th>4</th>\n",
       "      <td>Linear Regression</td>\n",
       "      <td>100.672272</td>\n",
       "      <td>93.191920</td>\n",
       "    </tr>\n",
       "  </tbody>\n",
       "</table>\n",
       "</div>"
      ],
      "text/plain": [
       "              Models  Train_RMSE  Test_RMSE\n",
       "0      Random Forest   24.504755  49.819037\n",
       "1      LGBMRegressor   59.859077  50.115218\n",
       "2            XGBoost   60.049533  52.457953\n",
       "3      GradientBoost   69.590645  57.852648\n",
       "4  Linear Regression  100.672272  93.191920"
      ]
     },
     "execution_count": 29,
     "metadata": {},
     "output_type": "execute_result"
    }
   ],
   "source": [
    "results.sort_values('Test_RMSE',ascending=True,ignore_index=True)"
   ]
  },
  {
   "cell_type": "markdown",
   "metadata": {},
   "source": [
    "## Conclusion"
   ]
  },
  {
   "cell_type": "markdown",
   "metadata": {},
   "source": [
    "<div class=\"alert alert-block alert-info\"><b> \n",
    "   Light gradient-i regressor gave the best results as compared to all the other algorithms we tried.\n",
    "</b></div> "
   ]
  },
  {
   "cell_type": "code",
   "execution_count": 30,
   "metadata": {
    "execution": {
     "iopub.execute_input": "2023-02-23T07:01:17.553681Z",
     "iopub.status.busy": "2023-02-23T07:01:17.553185Z",
     "iopub.status.idle": "2023-02-23T07:01:17.558597Z",
     "shell.execute_reply": "2023-02-23T07:01:17.557899Z",
     "shell.execute_reply.started": "2023-02-23T07:01:17.553644Z"
    }
   },
   "outputs": [],
   "source": [
    "#RandomSearchCV designed to find the best parameters to improve our model\n",
    "#from sklearn.model_selection import RandomizedSearchCV\n",
    "#rf_grid = RandomForestRegressor()\n",
    "#rf_param_grid = {\"n_estimators\" : [100,500,1000],\n",
    "#                 \"max_features\" : ['sqrt','log2'],\n",
    "#                 \"max_depth\" : [10,20,30],\n",
    "#                \"min_samples_leaf\" : [2,3,5,7,10]}\n",
    "#rf2=RandomizedSearchCV(rf_grid,rf_param_grid,cv=5,n_jobs=-1,n_iter=10)\n",
    "#rf2.fit(X_train,y_train.values.ravel())\n",
    "#best_hyper = rf2.best_params_"
   ]
  },
  {
   "cell_type": "code",
   "execution_count": 31,
   "metadata": {
    "execution": {
     "iopub.execute_input": "2023-02-23T07:01:17.560894Z",
     "iopub.status.busy": "2023-02-23T07:01:17.560316Z",
     "iopub.status.idle": "2023-02-23T07:01:17.571644Z",
     "shell.execute_reply": "2023-02-23T07:01:17.570761Z",
     "shell.execute_reply.started": "2023-02-23T07:01:17.560859Z"
    }
   },
   "outputs": [],
   "source": [
    "#best model\n",
    "#best_model = RandomForestRegressor()\n",
    "#best_model.fit(X_train,y_train)\n",
    "#train_pred=rf2.predict(X_train)\n",
    "#test_pred = rf2.predict(X_test)\n",
    "#print('RMSE RandomizedSearchCV on train : ', np.sqrt(mean_squared_error(y_train, train_pred)))\n",
    "#print('RMSE RandomizedSearchCV on test : ', np.sqrt(mean_squared_error(y_test, test_pred)))"
   ]
  },
  {
   "cell_type": "markdown",
   "metadata": {},
   "source": [
    "## Lets work on test data"
   ]
  },
  {
   "cell_type": "code",
   "execution_count": 32,
   "metadata": {
    "execution": {
     "iopub.execute_input": "2023-02-23T07:01:17.573638Z",
     "iopub.status.busy": "2023-02-23T07:01:17.573294Z",
     "iopub.status.idle": "2023-02-23T07:01:17.774524Z",
     "shell.execute_reply": "2023-02-23T07:01:17.772258Z",
     "shell.execute_reply.started": "2023-02-23T07:01:17.573605Z"
    }
   },
   "outputs": [],
   "source": [
    "test_z.deidentified_location = label.fit_transform(test_z.deidentified_location)\n",
    "test_z.farming_company = label.fit_transform(test_z.farming_company)"
   ]
  },
  {
   "cell_type": "code",
   "execution_count": 33,
   "metadata": {
    "execution": {
     "iopub.execute_input": "2023-02-23T07:01:17.777528Z",
     "iopub.status.busy": "2023-02-23T07:01:17.777076Z",
     "iopub.status.idle": "2023-02-23T07:01:17.820173Z",
     "shell.execute_reply": "2023-02-23T07:01:17.817938Z",
     "shell.execute_reply.started": "2023-02-23T07:01:17.777489Z"
    }
   },
   "outputs": [],
   "source": [
    "# converting categorical to numerical\n",
    "test_z = pd.get_dummies(test_z, columns=['ingredient_type','operations_commencing_year'],drop_first=True)"
   ]
  },
  {
   "cell_type": "code",
   "execution_count": 34,
   "metadata": {
    "execution": {
     "iopub.execute_input": "2023-02-23T07:01:17.822574Z",
     "iopub.status.busy": "2023-02-23T07:01:17.822268Z",
     "iopub.status.idle": "2023-02-23T07:01:17.893062Z",
     "shell.execute_reply": "2023-02-23T07:01:17.891544Z",
     "shell.execute_reply.started": "2023-02-23T07:01:17.822548Z"
    }
   },
   "outputs": [],
   "source": [
    "# scale on test\n",
    "test_z[num_cols] = scaler.fit_transform(test_z[num_cols])"
   ]
  },
  {
   "cell_type": "code",
   "execution_count": 35,
   "metadata": {
    "execution": {
     "iopub.execute_input": "2023-02-23T07:01:17.897514Z",
     "iopub.status.busy": "2023-02-23T07:01:17.897149Z",
     "iopub.status.idle": "2023-02-23T07:01:17.922408Z",
     "shell.execute_reply": "2023-02-23T07:01:17.920724Z",
     "shell.execute_reply.started": "2023-02-23T07:01:17.897479Z"
    }
   },
   "outputs": [],
   "source": [
    "# selecting remaing columns except id column\n",
    "fin = test_z.loc[:, test_z.columns != 'id']"
   ]
  },
  {
   "cell_type": "code",
   "execution_count": 36,
   "metadata": {
    "execution": {
     "iopub.execute_input": "2023-02-23T07:01:17.925194Z",
     "iopub.status.busy": "2023-02-23T07:01:17.924834Z",
     "iopub.status.idle": "2023-02-23T07:01:17.934668Z",
     "shell.execute_reply": "2023-02-23T07:01:17.932241Z",
     "shell.execute_reply.started": "2023-02-23T07:01:17.925168Z"
    }
   },
   "outputs": [
    {
     "data": {
      "text/plain": [
       "(430516, 15)"
      ]
     },
     "execution_count": 36,
     "metadata": {},
     "output_type": "execute_result"
    }
   ],
   "source": [
    "# checking the final test dataset dimensions\n",
    "fin.shape"
   ]
  },
  {
   "cell_type": "code",
   "execution_count": 37,
   "metadata": {
    "execution": {
     "iopub.execute_input": "2023-02-23T07:01:17.937289Z",
     "iopub.status.busy": "2023-02-23T07:01:17.936836Z",
     "iopub.status.idle": "2023-02-23T07:01:17.959879Z",
     "shell.execute_reply": "2023-02-23T07:01:17.958393Z",
     "shell.execute_reply.started": "2023-02-23T07:01:17.937251Z"
    }
   },
   "outputs": [
    {
     "data": {
      "text/html": [
       "<div>\n",
       "<style scoped>\n",
       "    .dataframe tbody tr th:only-of-type {\n",
       "        vertical-align: middle;\n",
       "    }\n",
       "\n",
       "    .dataframe tbody tr th {\n",
       "        vertical-align: top;\n",
       "    }\n",
       "\n",
       "    .dataframe thead th {\n",
       "        text-align: right;\n",
       "    }\n",
       "</style>\n",
       "<table border=\"1\" class=\"dataframe\">\n",
       "  <thead>\n",
       "    <tr style=\"text-align: right;\">\n",
       "      <th></th>\n",
       "      <th>num_processing_plants</th>\n",
       "      <th>farm_area</th>\n",
       "      <th>farming_company</th>\n",
       "      <th>deidentified_location</th>\n",
       "      <th>temp_obs</th>\n",
       "      <th>cloudiness</th>\n",
       "      <th>wind_direction</th>\n",
       "      <th>pressure_sea_level</th>\n",
       "      <th>precipitation</th>\n",
       "      <th>wind_speed</th>\n",
       "      <th>month</th>\n",
       "      <th>day</th>\n",
       "      <th>hour</th>\n",
       "      <th>operations_commencing_year_new</th>\n",
       "      <th>operations_commencing_year_old</th>\n",
       "    </tr>\n",
       "  </thead>\n",
       "  <tbody>\n",
       "    <tr>\n",
       "      <th>1960832</th>\n",
       "      <td>0.1</td>\n",
       "      <td>0.000000</td>\n",
       "      <td>2</td>\n",
       "      <td>1</td>\n",
       "      <td>0.206107</td>\n",
       "      <td>2.0</td>\n",
       "      <td>0.555556</td>\n",
       "      <td>0.77071</td>\n",
       "      <td>0.004255</td>\n",
       "      <td>0.3</td>\n",
       "      <td>1</td>\n",
       "      <td>1</td>\n",
       "      <td>0</td>\n",
       "      <td>1</td>\n",
       "      <td>0</td>\n",
       "    </tr>\n",
       "    <tr>\n",
       "      <th>1960836</th>\n",
       "      <td>0.3</td>\n",
       "      <td>0.094227</td>\n",
       "      <td>2</td>\n",
       "      <td>1</td>\n",
       "      <td>0.206107</td>\n",
       "      <td>2.0</td>\n",
       "      <td>0.555556</td>\n",
       "      <td>0.77071</td>\n",
       "      <td>0.004255</td>\n",
       "      <td>0.3</td>\n",
       "      <td>1</td>\n",
       "      <td>1</td>\n",
       "      <td>0</td>\n",
       "      <td>0</td>\n",
       "      <td>1</td>\n",
       "    </tr>\n",
       "    <tr>\n",
       "      <th>1960840</th>\n",
       "      <td>0.3</td>\n",
       "      <td>0.048978</td>\n",
       "      <td>2</td>\n",
       "      <td>1</td>\n",
       "      <td>0.206107</td>\n",
       "      <td>2.0</td>\n",
       "      <td>0.555556</td>\n",
       "      <td>0.77071</td>\n",
       "      <td>0.004255</td>\n",
       "      <td>0.3</td>\n",
       "      <td>1</td>\n",
       "      <td>1</td>\n",
       "      <td>0</td>\n",
       "      <td>1</td>\n",
       "      <td>0</td>\n",
       "    </tr>\n",
       "    <tr>\n",
       "      <th>1960842</th>\n",
       "      <td>0.6</td>\n",
       "      <td>0.173605</td>\n",
       "      <td>2</td>\n",
       "      <td>1</td>\n",
       "      <td>0.206107</td>\n",
       "      <td>2.0</td>\n",
       "      <td>0.555556</td>\n",
       "      <td>0.77071</td>\n",
       "      <td>0.004255</td>\n",
       "      <td>0.3</td>\n",
       "      <td>1</td>\n",
       "      <td>1</td>\n",
       "      <td>0</td>\n",
       "      <td>0</td>\n",
       "      <td>1</td>\n",
       "    </tr>\n",
       "    <tr>\n",
       "      <th>1960844</th>\n",
       "      <td>1.0</td>\n",
       "      <td>0.245163</td>\n",
       "      <td>2</td>\n",
       "      <td>1</td>\n",
       "      <td>0.206107</td>\n",
       "      <td>2.0</td>\n",
       "      <td>0.555556</td>\n",
       "      <td>0.77071</td>\n",
       "      <td>0.004255</td>\n",
       "      <td>0.3</td>\n",
       "      <td>1</td>\n",
       "      <td>1</td>\n",
       "      <td>0</td>\n",
       "      <td>0</td>\n",
       "      <td>1</td>\n",
       "    </tr>\n",
       "  </tbody>\n",
       "</table>\n",
       "</div>"
      ],
      "text/plain": [
       "         num_processing_plants  farm_area  farming_company  \\\n",
       "1960832                    0.1   0.000000                2   \n",
       "1960836                    0.3   0.094227                2   \n",
       "1960840                    0.3   0.048978                2   \n",
       "1960842                    0.6   0.173605                2   \n",
       "1960844                    1.0   0.245163                2   \n",
       "\n",
       "         deidentified_location  temp_obs  cloudiness  wind_direction  \\\n",
       "1960832                      1  0.206107         2.0        0.555556   \n",
       "1960836                      1  0.206107         2.0        0.555556   \n",
       "1960840                      1  0.206107         2.0        0.555556   \n",
       "1960842                      1  0.206107         2.0        0.555556   \n",
       "1960844                      1  0.206107         2.0        0.555556   \n",
       "\n",
       "         pressure_sea_level  precipitation  wind_speed  month  day  hour  \\\n",
       "1960832             0.77071       0.004255         0.3      1    1     0   \n",
       "1960836             0.77071       0.004255         0.3      1    1     0   \n",
       "1960840             0.77071       0.004255         0.3      1    1     0   \n",
       "1960842             0.77071       0.004255         0.3      1    1     0   \n",
       "1960844             0.77071       0.004255         0.3      1    1     0   \n",
       "\n",
       "         operations_commencing_year_new  operations_commencing_year_old  \n",
       "1960832                               1                               0  \n",
       "1960836                               0                               1  \n",
       "1960840                               1                               0  \n",
       "1960842                               0                               1  \n",
       "1960844                               0                               1  "
      ]
     },
     "execution_count": 37,
     "metadata": {},
     "output_type": "execute_result"
    }
   ],
   "source": [
    "fin.head()"
   ]
  },
  {
   "cell_type": "markdown",
   "metadata": {},
   "source": [
    "# Predictions"
   ]
  },
  {
   "cell_type": "code",
   "execution_count": 38,
   "metadata": {
    "execution": {
     "iopub.execute_input": "2023-02-23T07:01:17.962855Z",
     "iopub.status.busy": "2023-02-23T07:01:17.962436Z",
     "iopub.status.idle": "2023-02-23T07:01:18.679929Z",
     "shell.execute_reply": "2023-02-23T07:01:18.678915Z",
     "shell.execute_reply.started": "2023-02-23T07:01:17.962818Z"
    },
    "id": "n-bjuqXCUQJC"
   },
   "outputs": [],
   "source": [
    "# predicting the test data with best model\n",
    "test_pred = lgb.predict(fin)"
   ]
  },
  {
   "cell_type": "code",
   "execution_count": 39,
   "metadata": {
    "execution": {
     "iopub.execute_input": "2023-02-23T07:01:18.682222Z",
     "iopub.status.busy": "2023-02-23T07:01:18.681626Z",
     "iopub.status.idle": "2023-02-23T07:01:18.688805Z",
     "shell.execute_reply": "2023-02-23T07:01:18.687896Z",
     "shell.execute_reply.started": "2023-02-23T07:01:18.682184Z"
    },
    "id": "vHbo7cNaUfKL"
   },
   "outputs": [],
   "source": [
    "# creating a dataframe with id column and yield column\n",
    "sub  = pd.DataFrame({'id': tes.id, 'yield': test_pred})"
   ]
  },
  {
   "cell_type": "code",
   "execution_count": 40,
   "metadata": {
    "execution": {
     "iopub.execute_input": "2023-02-23T07:01:18.701880Z",
     "iopub.status.busy": "2023-02-23T07:01:18.701042Z",
     "iopub.status.idle": "2023-02-23T07:01:18.708301Z",
     "shell.execute_reply": "2023-02-23T07:01:18.707309Z",
     "shell.execute_reply.started": "2023-02-23T07:01:18.701844Z"
    }
   },
   "outputs": [
    {
     "data": {
      "text/plain": [
       "(430516, 2)"
      ]
     },
     "execution_count": 40,
     "metadata": {},
     "output_type": "execute_result"
    }
   ],
   "source": [
    "# checking the shape of the final dataframe \n",
    "sub.shape"
   ]
  },
  {
   "cell_type": "code",
   "execution_count": 41,
   "metadata": {
    "execution": {
     "iopub.execute_input": "2023-02-23T07:01:18.710051Z",
     "iopub.status.busy": "2023-02-23T07:01:18.709687Z",
     "iopub.status.idle": "2023-02-23T07:01:18.725993Z",
     "shell.execute_reply": "2023-02-23T07:01:18.725072Z",
     "shell.execute_reply.started": "2023-02-23T07:01:18.709994Z"
    }
   },
   "outputs": [
    {
     "data": {
      "text/html": [
       "<div>\n",
       "<style scoped>\n",
       "    .dataframe tbody tr th:only-of-type {\n",
       "        vertical-align: middle;\n",
       "    }\n",
       "\n",
       "    .dataframe tbody tr th {\n",
       "        vertical-align: top;\n",
       "    }\n",
       "\n",
       "    .dataframe thead th {\n",
       "        text-align: right;\n",
       "    }\n",
       "</style>\n",
       "<table border=\"1\" class=\"dataframe\">\n",
       "  <thead>\n",
       "    <tr style=\"text-align: right;\">\n",
       "      <th></th>\n",
       "      <th>id</th>\n",
       "      <th>yield</th>\n",
       "    </tr>\n",
       "  </thead>\n",
       "  <tbody>\n",
       "    <tr>\n",
       "      <th>1960832</th>\n",
       "      <td>2260082</td>\n",
       "      <td>12.389789</td>\n",
       "    </tr>\n",
       "    <tr>\n",
       "      <th>1960836</th>\n",
       "      <td>2260086</td>\n",
       "      <td>41.578100</td>\n",
       "    </tr>\n",
       "    <tr>\n",
       "      <th>1960840</th>\n",
       "      <td>2260090</td>\n",
       "      <td>84.431621</td>\n",
       "    </tr>\n",
       "    <tr>\n",
       "      <th>1960842</th>\n",
       "      <td>2260092</td>\n",
       "      <td>57.275001</td>\n",
       "    </tr>\n",
       "    <tr>\n",
       "      <th>1960844</th>\n",
       "      <td>2260094</td>\n",
       "      <td>301.900992</td>\n",
       "    </tr>\n",
       "  </tbody>\n",
       "</table>\n",
       "</div>"
      ],
      "text/plain": [
       "              id       yield\n",
       "1960832  2260082   12.389789\n",
       "1960836  2260086   41.578100\n",
       "1960840  2260090   84.431621\n",
       "1960842  2260092   57.275001\n",
       "1960844  2260094  301.900992"
      ]
     },
     "execution_count": 41,
     "metadata": {},
     "output_type": "execute_result"
    }
   ],
   "source": [
    "# checking the head of the dataframe\n",
    "sub.head()"
   ]
  },
  {
   "cell_type": "code",
   "execution_count": 42,
   "metadata": {
    "execution": {
     "iopub.execute_input": "2023-02-23T07:01:18.727788Z",
     "iopub.status.busy": "2023-02-23T07:01:18.727418Z",
     "iopub.status.idle": "2023-02-23T07:01:18.740080Z",
     "shell.execute_reply": "2023-02-23T07:01:18.739108Z",
     "shell.execute_reply.started": "2023-02-23T07:01:18.727753Z"
    }
   },
   "outputs": [
    {
     "data": {
      "text/html": [
       "<div>\n",
       "<style scoped>\n",
       "    .dataframe tbody tr th:only-of-type {\n",
       "        vertical-align: middle;\n",
       "    }\n",
       "\n",
       "    .dataframe tbody tr th {\n",
       "        vertical-align: top;\n",
       "    }\n",
       "\n",
       "    .dataframe thead th {\n",
       "        text-align: right;\n",
       "    }\n",
       "</style>\n",
       "<table border=\"1\" class=\"dataframe\">\n",
       "  <thead>\n",
       "    <tr style=\"text-align: right;\">\n",
       "      <th></th>\n",
       "      <th>id</th>\n",
       "      <th>yield</th>\n",
       "    </tr>\n",
       "  </thead>\n",
       "  <tbody>\n",
       "    <tr>\n",
       "      <th>4226831</th>\n",
       "      <td>5028851</td>\n",
       "      <td>74.674518</td>\n",
       "    </tr>\n",
       "    <tr>\n",
       "      <th>4226834</th>\n",
       "      <td>5028854</td>\n",
       "      <td>162.535683</td>\n",
       "    </tr>\n",
       "    <tr>\n",
       "      <th>4226839</th>\n",
       "      <td>5028859</td>\n",
       "      <td>2.201927</td>\n",
       "    </tr>\n",
       "    <tr>\n",
       "      <th>4226848</th>\n",
       "      <td>5028868</td>\n",
       "      <td>3.849064</td>\n",
       "    </tr>\n",
       "    <tr>\n",
       "      <th>4226851</th>\n",
       "      <td>5028871</td>\n",
       "      <td>1.427313</td>\n",
       "    </tr>\n",
       "  </tbody>\n",
       "</table>\n",
       "</div>"
      ],
      "text/plain": [
       "              id       yield\n",
       "4226831  5028851   74.674518\n",
       "4226834  5028854  162.535683\n",
       "4226839  5028859    2.201927\n",
       "4226848  5028868    3.849064\n",
       "4226851  5028871    1.427313"
      ]
     },
     "execution_count": 42,
     "metadata": {},
     "output_type": "execute_result"
    }
   ],
   "source": [
    "# checking the last 5 rows of the dataframe\n",
    "sub.tail()"
   ]
  },
  {
   "cell_type": "code",
   "execution_count": 43,
   "metadata": {
    "execution": {
     "iopub.execute_input": "2023-02-23T07:01:18.741972Z",
     "iopub.status.busy": "2023-02-23T07:01:18.741494Z",
     "iopub.status.idle": "2023-02-23T07:01:19.599108Z",
     "shell.execute_reply": "2023-02-23T07:01:19.598077Z",
     "shell.execute_reply.started": "2023-02-23T07:01:18.741912Z"
    },
    "id": "KiHttGD7UpH5"
   },
   "outputs": [],
   "source": [
    "# creating submission file\n",
    "sub.to_csv('submission_z1.csv', index = None)"
   ]
  },
  {
   "cell_type": "code",
   "execution_count": null,
   "metadata": {
    "id": "yLpSJvzJUxN6"
   },
   "outputs": [],
   "source": []
  },
  {
   "cell_type": "code",
   "execution_count": null,
   "metadata": {},
   "outputs": [],
   "source": []
  }
 ],
 "metadata": {
  "kernelspec": {
   "display_name": "Python 3 (ipykernel)",
   "language": "python",
   "name": "python3"
  },
  "language_info": {
   "codemirror_mode": {
    "name": "ipython",
    "version": 3
   },
   "file_extension": ".py",
   "mimetype": "text/x-python",
   "name": "python",
   "nbconvert_exporter": "python",
   "pygments_lexer": "ipython3",
   "version": "3.9.13"
  }
 },
 "nbformat": 4,
 "nbformat_minor": 4
}
