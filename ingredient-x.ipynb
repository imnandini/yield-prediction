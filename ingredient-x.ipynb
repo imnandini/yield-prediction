{
 "cells": [
  {
   "cell_type": "code",
   "execution_count": 1,
   "metadata": {
    "execution": {
     "iopub.execute_input": "2023-02-23T07:16:25.695075Z",
     "iopub.status.busy": "2023-02-23T07:16:25.694664Z",
     "iopub.status.idle": "2023-02-23T07:16:25.731884Z",
     "shell.execute_reply": "2023-02-23T07:16:25.730614Z",
     "shell.execute_reply.started": "2023-02-23T07:16:25.694967Z"
    },
    "id": "6RHtcsZ02d8t",
    "outputId": "7da4c2f5-2cba-40ac-d1da-fe32fab5684c"
   },
   "outputs": [
    {
     "name": "stdout",
     "output_type": "stream",
     "text": [
      "/kaggle/input/final-data/train_final.csv\n",
      "/kaggle/input/final-data/test_final.csv\n"
     ]
    }
   ],
   "source": [
    "#importing necessary libraries\n",
    "import pandas as pd\n",
    "import numpy as np\n",
    "import warnings                   # To ignore the warnings\n",
    "warnings.filterwarnings(\"ignore\")\n",
    "import os\n",
    "for dirname, _, filenames in os.walk('/kaggle/input'):\n",
    "    for filename in filenames:\n",
    "        print(os.path.join(dirname, filename))"
   ]
  },
  {
   "cell_type": "code",
   "execution_count": 2,
   "metadata": {
    "execution": {
     "iopub.execute_input": "2023-02-23T07:16:25.734372Z",
     "iopub.status.busy": "2023-02-23T07:16:25.733657Z",
     "iopub.status.idle": "2023-02-23T07:18:44.397607Z",
     "shell.execute_reply": "2023-02-23T07:18:44.396475Z",
     "shell.execute_reply.started": "2023-02-23T07:16:25.734327Z"
    }
   },
   "outputs": [],
   "source": [
    "# Reading the test data files\n",
    "train_final_merged = pd.read_csv('/kaggle/input/final-data/train_final.csv')\n",
    "test_final_merged = pd.read_csv('/kaggle/input/final-data/test_final.csv')"
   ]
  },
  {
   "cell_type": "code",
   "execution_count": 3,
   "metadata": {
    "execution": {
     "iopub.execute_input": "2023-02-23T07:18:44.399881Z",
     "iopub.status.busy": "2023-02-23T07:18:44.398786Z",
     "iopub.status.idle": "2023-02-23T07:18:44.431441Z",
     "shell.execute_reply": "2023-02-23T07:18:44.430429Z",
     "shell.execute_reply.started": "2023-02-23T07:18:44.399839Z"
    }
   },
   "outputs": [
    {
     "data": {
      "text/html": [
       "<div>\n",
       "<style scoped>\n",
       "    .dataframe tbody tr th:only-of-type {\n",
       "        vertical-align: middle;\n",
       "    }\n",
       "\n",
       "    .dataframe tbody tr th {\n",
       "        vertical-align: top;\n",
       "    }\n",
       "\n",
       "    .dataframe thead th {\n",
       "        text-align: right;\n",
       "    }\n",
       "</style>\n",
       "<table border=\"1\" class=\"dataframe\">\n",
       "  <thead>\n",
       "    <tr style=\"text-align: right;\">\n",
       "      <th></th>\n",
       "      <th>Unnamed: 0</th>\n",
       "      <th>farm_id</th>\n",
       "      <th>ingredient_type</th>\n",
       "      <th>id</th>\n",
       "      <th>operations_commencing_year</th>\n",
       "      <th>num_processing_plants</th>\n",
       "      <th>farm_area</th>\n",
       "      <th>farming_company</th>\n",
       "      <th>deidentified_location</th>\n",
       "      <th>temp_obs</th>\n",
       "      <th>cloudiness</th>\n",
       "      <th>wind_direction</th>\n",
       "      <th>pressure_sea_level</th>\n",
       "      <th>precipitation</th>\n",
       "      <th>wind_speed</th>\n",
       "      <th>month</th>\n",
       "      <th>day</th>\n",
       "      <th>hour</th>\n",
       "    </tr>\n",
       "  </thead>\n",
       "  <tbody>\n",
       "    <tr>\n",
       "      <th>0</th>\n",
       "      <td>0</td>\n",
       "      <td>fid_110884</td>\n",
       "      <td>ing_w</td>\n",
       "      <td>0</td>\n",
       "      <td>new</td>\n",
       "      <td>7</td>\n",
       "      <td>690.455096</td>\n",
       "      <td>Obery Farms</td>\n",
       "      <td>location 7369</td>\n",
       "      <td>17.8</td>\n",
       "      <td>4.0</td>\n",
       "      <td>100.0</td>\n",
       "      <td>1021.4</td>\n",
       "      <td>0.0</td>\n",
       "      <td>3.6</td>\n",
       "      <td>1</td>\n",
       "      <td>1</td>\n",
       "      <td>0</td>\n",
       "    </tr>\n",
       "    <tr>\n",
       "      <th>1</th>\n",
       "      <td>1</td>\n",
       "      <td>fid_90053</td>\n",
       "      <td>ing_w</td>\n",
       "      <td>1</td>\n",
       "      <td>new</td>\n",
       "      <td>7</td>\n",
       "      <td>252.696160</td>\n",
       "      <td>Obery Farms</td>\n",
       "      <td>location 7369</td>\n",
       "      <td>17.8</td>\n",
       "      <td>4.0</td>\n",
       "      <td>100.0</td>\n",
       "      <td>1021.4</td>\n",
       "      <td>0.0</td>\n",
       "      <td>3.6</td>\n",
       "      <td>1</td>\n",
       "      <td>1</td>\n",
       "      <td>0</td>\n",
       "    </tr>\n",
       "    <tr>\n",
       "      <th>2</th>\n",
       "      <td>2</td>\n",
       "      <td>fid_17537</td>\n",
       "      <td>ing_w</td>\n",
       "      <td>2</td>\n",
       "      <td>moderate</td>\n",
       "      <td>7</td>\n",
       "      <td>499.446528</td>\n",
       "      <td>Obery Farms</td>\n",
       "      <td>location 7369</td>\n",
       "      <td>17.8</td>\n",
       "      <td>4.0</td>\n",
       "      <td>100.0</td>\n",
       "      <td>1021.4</td>\n",
       "      <td>0.0</td>\n",
       "      <td>3.6</td>\n",
       "      <td>1</td>\n",
       "      <td>1</td>\n",
       "      <td>0</td>\n",
       "    </tr>\n",
       "    <tr>\n",
       "      <th>3</th>\n",
       "      <td>3</td>\n",
       "      <td>fid_110392</td>\n",
       "      <td>ing_w</td>\n",
       "      <td>3</td>\n",
       "      <td>moderate</td>\n",
       "      <td>7</td>\n",
       "      <td>2200.407555</td>\n",
       "      <td>Obery Farms</td>\n",
       "      <td>location 7369</td>\n",
       "      <td>17.8</td>\n",
       "      <td>4.0</td>\n",
       "      <td>100.0</td>\n",
       "      <td>1021.4</td>\n",
       "      <td>0.0</td>\n",
       "      <td>3.6</td>\n",
       "      <td>1</td>\n",
       "      <td>1</td>\n",
       "      <td>0</td>\n",
       "    </tr>\n",
       "    <tr>\n",
       "      <th>4</th>\n",
       "      <td>4</td>\n",
       "      <td>fid_62402</td>\n",
       "      <td>ing_w</td>\n",
       "      <td>4</td>\n",
       "      <td>moderate</td>\n",
       "      <td>7</td>\n",
       "      <td>10833.140121</td>\n",
       "      <td>Obery Farms</td>\n",
       "      <td>location 7369</td>\n",
       "      <td>17.8</td>\n",
       "      <td>4.0</td>\n",
       "      <td>100.0</td>\n",
       "      <td>1021.4</td>\n",
       "      <td>0.0</td>\n",
       "      <td>3.6</td>\n",
       "      <td>1</td>\n",
       "      <td>1</td>\n",
       "      <td>0</td>\n",
       "    </tr>\n",
       "  </tbody>\n",
       "</table>\n",
       "</div>"
      ],
      "text/plain": [
       "   Unnamed: 0     farm_id ingredient_type  id operations_commencing_year  \\\n",
       "0           0  fid_110884           ing_w   0                        new   \n",
       "1           1   fid_90053           ing_w   1                        new   \n",
       "2           2   fid_17537           ing_w   2                   moderate   \n",
       "3           3  fid_110392           ing_w   3                   moderate   \n",
       "4           4   fid_62402           ing_w   4                   moderate   \n",
       "\n",
       "   num_processing_plants     farm_area farming_company deidentified_location  \\\n",
       "0                      7    690.455096     Obery Farms         location 7369   \n",
       "1                      7    252.696160     Obery Farms         location 7369   \n",
       "2                      7    499.446528     Obery Farms         location 7369   \n",
       "3                      7   2200.407555     Obery Farms         location 7369   \n",
       "4                      7  10833.140121     Obery Farms         location 7369   \n",
       "\n",
       "   temp_obs  cloudiness  wind_direction  pressure_sea_level  precipitation  \\\n",
       "0      17.8         4.0           100.0              1021.4            0.0   \n",
       "1      17.8         4.0           100.0              1021.4            0.0   \n",
       "2      17.8         4.0           100.0              1021.4            0.0   \n",
       "3      17.8         4.0           100.0              1021.4            0.0   \n",
       "4      17.8         4.0           100.0              1021.4            0.0   \n",
       "\n",
       "   wind_speed  month  day  hour  \n",
       "0         3.6      1    1     0  \n",
       "1         3.6      1    1     0  \n",
       "2         3.6      1    1     0  \n",
       "3         3.6      1    1     0  \n",
       "4         3.6      1    1     0  "
      ]
     },
     "execution_count": 3,
     "metadata": {},
     "output_type": "execute_result"
    }
   ],
   "source": [
    "# checking the final merged test dataset\n",
    "test_final_merged.head()"
   ]
  },
  {
   "cell_type": "code",
   "execution_count": 4,
   "metadata": {
    "execution": {
     "iopub.execute_input": "2023-02-23T07:18:44.436435Z",
     "iopub.status.busy": "2023-02-23T07:18:44.435522Z",
     "iopub.status.idle": "2023-02-23T07:18:44.445243Z",
     "shell.execute_reply": "2023-02-23T07:18:44.443944Z",
     "shell.execute_reply.started": "2023-02-23T07:18:44.436396Z"
    },
    "id": "PJprf6qGBEZa"
   },
   "outputs": [
    {
     "data": {
      "text/plain": [
       "Unnamed: 0                      int64\n",
       "farm_id                        object\n",
       "ingredient_type                object\n",
       "yield                         float64\n",
       "operations_commencing_year     object\n",
       "num_processing_plants           int64\n",
       "farm_area                     float64\n",
       "farming_company                object\n",
       "deidentified_location          object\n",
       "temp_obs                      float64\n",
       "cloudiness                    float64\n",
       "wind_direction                float64\n",
       "pressure_sea_level            float64\n",
       "precipitation                 float64\n",
       "wind_speed                    float64\n",
       "month                           int64\n",
       "day                             int64\n",
       "hour                            int64\n",
       "dtype: object"
      ]
     },
     "execution_count": 4,
     "metadata": {},
     "output_type": "execute_result"
    }
   ],
   "source": [
    "# checking the  data types of final merged tarin dataset\n",
    "train_final_merged.dtypes"
   ]
  },
  {
   "cell_type": "code",
   "execution_count": 5,
   "metadata": {
    "execution": {
     "iopub.execute_input": "2023-02-23T07:18:44.447257Z",
     "iopub.status.busy": "2023-02-23T07:18:44.446912Z",
     "iopub.status.idle": "2023-02-23T07:18:46.430202Z",
     "shell.execute_reply": "2023-02-23T07:18:46.428880Z",
     "shell.execute_reply.started": "2023-02-23T07:18:44.447225Z"
    }
   },
   "outputs": [],
   "source": [
    "train_ing_x = train_final_merged[train_final_merged['ingredient_type'] == 'ing_x']"
   ]
  },
  {
   "cell_type": "code",
   "execution_count": 6,
   "metadata": {
    "execution": {
     "iopub.execute_input": "2023-02-23T07:18:46.432430Z",
     "iopub.status.busy": "2023-02-23T07:18:46.431665Z",
     "iopub.status.idle": "2023-02-23T07:18:47.324667Z",
     "shell.execute_reply": "2023-02-23T07:18:47.323336Z",
     "shell.execute_reply.started": "2023-02-23T07:18:46.432385Z"
    }
   },
   "outputs": [],
   "source": [
    "# Split the dataset into three equal parts\n",
    "train_ing_x_splits = np.array_split(train_ing_x, 3)\n",
    "\n",
    "# Access and use the first split as a separate dataset\n",
    "train_x = train_ing_x_splits[1]"
   ]
  },
  {
   "cell_type": "code",
   "execution_count": 7,
   "metadata": {
    "execution": {
     "iopub.execute_input": "2023-02-23T07:18:47.326764Z",
     "iopub.status.busy": "2023-02-23T07:18:47.326259Z",
     "iopub.status.idle": "2023-02-23T07:18:49.538527Z",
     "shell.execute_reply": "2023-02-23T07:18:49.537475Z",
     "shell.execute_reply.started": "2023-02-23T07:18:47.326716Z"
    }
   },
   "outputs": [],
   "source": [
    "test_ing_x = test_final_merged[test_final_merged['ingredient_type'] == 'ing_x']"
   ]
  },
  {
   "cell_type": "code",
   "execution_count": 8,
   "metadata": {
    "execution": {
     "iopub.execute_input": "2023-02-23T07:18:49.540205Z",
     "iopub.status.busy": "2023-02-23T07:18:49.539855Z",
     "iopub.status.idle": "2023-02-23T07:18:50.577700Z",
     "shell.execute_reply": "2023-02-23T07:18:50.576771Z",
     "shell.execute_reply.started": "2023-02-23T07:18:49.540174Z"
    }
   },
   "outputs": [],
   "source": [
    "# Split the dataset into three equal parts\n",
    "test_ing_x_splits = np.array_split(test_ing_x, 3)\n",
    "\n",
    "# Access and use the first split as a separate dataset\n",
    "test_x = test_ing_x_splits[1]"
   ]
  },
  {
   "cell_type": "code",
   "execution_count": 9,
   "metadata": {
    "execution": {
     "iopub.execute_input": "2023-02-23T07:18:50.580515Z",
     "iopub.status.busy": "2023-02-23T07:18:50.579255Z",
     "iopub.status.idle": "2023-02-23T07:18:50.752434Z",
     "shell.execute_reply": "2023-02-23T07:18:50.751044Z",
     "shell.execute_reply.started": "2023-02-23T07:18:50.580465Z"
    }
   },
   "outputs": [],
   "source": [
    "# keep a copy of test w we need it in creating submission file\n",
    "import copy\n",
    "tes = copy.deepcopy(test_x)"
   ]
  },
  {
   "cell_type": "markdown",
   "metadata": {},
   "source": [
    "* farm_id is unique just like my id. my performance is measured based on my skills on based on my id right! same here the prediction of yield is depend on loaction and weather condtions on id. so let's drop it"
   ]
  },
  {
   "cell_type": "code",
   "execution_count": 10,
   "metadata": {
    "execution": {
     "iopub.execute_input": "2023-02-23T07:18:50.756041Z",
     "iopub.status.busy": "2023-02-23T07:18:50.755339Z",
     "iopub.status.idle": "2023-02-23T07:18:51.038653Z",
     "shell.execute_reply": "2023-02-23T07:18:51.037518Z",
     "shell.execute_reply.started": "2023-02-23T07:18:50.755972Z"
    }
   },
   "outputs": [],
   "source": [
    "# dropping the farm_id and num_processing pants from test and train datasets\n",
    "train_x.drop(['farm_id','Unnamed: 0'], axis=1, inplace=True)\n",
    "test_x.drop(['farm_id','Unnamed: 0'], axis=1, inplace=True)"
   ]
  },
  {
   "cell_type": "code",
   "execution_count": 11,
   "metadata": {
    "execution": {
     "iopub.execute_input": "2023-02-23T07:18:51.040886Z",
     "iopub.status.busy": "2023-02-23T07:18:51.040433Z",
     "iopub.status.idle": "2023-02-23T07:18:51.048655Z",
     "shell.execute_reply": "2023-02-23T07:18:51.047428Z",
     "shell.execute_reply.started": "2023-02-23T07:18:51.040842Z"
    }
   },
   "outputs": [
    {
     "data": {
      "text/plain": [
       "['ingredient_type',\n",
       " 'deidentified_location',\n",
       " 'operations_commencing_year',\n",
       " 'farming_company']"
      ]
     },
     "execution_count": 11,
     "metadata": {},
     "output_type": "execute_result"
    }
   ],
   "source": [
    "# assigning object columns in category columns\n",
    "cat_cols=['ingredient_type','deidentified_location',\n",
    "          'operations_commencing_year','farming_company']\n",
    "cat_cols"
   ]
  },
  {
   "cell_type": "code",
   "execution_count": 12,
   "metadata": {
    "execution": {
     "iopub.execute_input": "2023-02-23T07:18:51.055545Z",
     "iopub.status.busy": "2023-02-23T07:18:51.054890Z",
     "iopub.status.idle": "2023-02-23T07:18:52.298277Z",
     "shell.execute_reply": "2023-02-23T07:18:52.297016Z",
     "shell.execute_reply.started": "2023-02-23T07:18:51.055495Z"
    }
   },
   "outputs": [],
   "source": [
    "# converting object columns to category columns\n",
    "train_x[cat_cols] = train_x[cat_cols].astype(\"category\")\n",
    "test_x[cat_cols] = test_x[cat_cols].astype(\"category\")"
   ]
  },
  {
   "cell_type": "markdown",
   "metadata": {
    "id": "7mBmvpMgHIM3"
   },
   "source": [
    "# Model Building and Predictions"
   ]
  },
  {
   "cell_type": "code",
   "execution_count": 13,
   "metadata": {
    "execution": {
     "iopub.execute_input": "2023-02-23T07:18:52.300173Z",
     "iopub.status.busy": "2023-02-23T07:18:52.299670Z",
     "iopub.status.idle": "2023-02-23T07:18:52.834681Z",
     "shell.execute_reply": "2023-02-23T07:18:52.833575Z",
     "shell.execute_reply.started": "2023-02-23T07:18:52.300123Z"
    }
   },
   "outputs": [],
   "source": [
    "# deviding the data into x and y\n",
    "from sklearn.model_selection import train_test_split\n",
    "X = train_x.drop(['yield'] , axis = 1)\n",
    "y = train_x['yield']"
   ]
  },
  {
   "cell_type": "code",
   "execution_count": 14,
   "metadata": {
    "execution": {
     "iopub.execute_input": "2023-02-23T07:18:52.836427Z",
     "iopub.status.busy": "2023-02-23T07:18:52.836083Z",
     "iopub.status.idle": "2023-02-23T07:18:53.163116Z",
     "shell.execute_reply": "2023-02-23T07:18:53.162092Z",
     "shell.execute_reply.started": "2023-02-23T07:18:52.836395Z"
    }
   },
   "outputs": [],
   "source": [
    "# splitting the data into train and test in the ration of 70% & 30%\n",
    "X_train, X_test, y_train, y_test =   train_test_split(X, y, test_size=0.30,random_state = 123)"
   ]
  },
  {
   "cell_type": "code",
   "execution_count": 15,
   "metadata": {
    "execution": {
     "iopub.execute_input": "2023-02-23T07:18:53.165082Z",
     "iopub.status.busy": "2023-02-23T07:18:53.164487Z",
     "iopub.status.idle": "2023-02-23T07:18:53.170929Z",
     "shell.execute_reply": "2023-02-23T07:18:53.169758Z",
     "shell.execute_reply.started": "2023-02-23T07:18:53.165045Z"
    },
    "id": "PuVWV8_jHD6i"
   },
   "outputs": [
    {
     "name": "stdout",
     "output_type": "stream",
     "text": [
      "(987946, 15) (423406, 15)\n",
      "(987946,) (423406,)\n"
     ]
    }
   ],
   "source": [
    "# checking the shapes\n",
    "print(X_train.shape, X_test.shape)\n",
    "print(y_train.shape, y_test.shape)"
   ]
  },
  {
   "cell_type": "markdown",
   "metadata": {},
   "source": [
    "<div class=\"alert alert-block alert-info\"><b> \n",
    "  Dummifing categorical features into numerical using get dummies\n",
    "</b></div> "
   ]
  },
  {
   "cell_type": "code",
   "execution_count": 16,
   "metadata": {
    "execution": {
     "iopub.execute_input": "2023-02-23T07:18:53.172673Z",
     "iopub.status.busy": "2023-02-23T07:18:53.172305Z",
     "iopub.status.idle": "2023-02-23T07:18:53.900076Z",
     "shell.execute_reply": "2023-02-23T07:18:53.898697Z",
     "shell.execute_reply.started": "2023-02-23T07:18:53.172640Z"
    }
   },
   "outputs": [],
   "source": [
    "from sklearn.preprocessing import LabelEncoder\n",
    "label = LabelEncoder()\n",
    "X_train.deidentified_location = label.fit_transform(X_train.deidentified_location)\n",
    "X_test.deidentified_location = label.transform(X_test.deidentified_location)\n",
    "X_train.farming_company = label.fit_transform(X_train.farming_company)\n",
    "X_test.farming_company = label.transform(X_test.farming_company)"
   ]
  },
  {
   "cell_type": "code",
   "execution_count": 17,
   "metadata": {
    "execution": {
     "iopub.execute_input": "2023-02-23T07:18:53.901946Z",
     "iopub.status.busy": "2023-02-23T07:18:53.901528Z",
     "iopub.status.idle": "2023-02-23T07:18:54.074577Z",
     "shell.execute_reply": "2023-02-23T07:18:54.073398Z",
     "shell.execute_reply.started": "2023-02-23T07:18:53.901907Z"
    }
   },
   "outputs": [],
   "source": [
    "## Convert Categorical Columns to numerical\n",
    "X_train = pd.get_dummies(X_train, columns=['ingredient_type','operations_commencing_year'],drop_first=True)\n",
    "\n",
    "X_test = pd.get_dummies(X_test, columns=['ingredient_type','operations_commencing_year'],drop_first=True)"
   ]
  },
  {
   "cell_type": "code",
   "execution_count": 18,
   "metadata": {
    "execution": {
     "iopub.execute_input": "2023-02-23T07:18:54.076494Z",
     "iopub.status.busy": "2023-02-23T07:18:54.076119Z",
     "iopub.status.idle": "2023-02-23T07:18:54.377473Z",
     "shell.execute_reply": "2023-02-23T07:18:54.376293Z",
     "shell.execute_reply.started": "2023-02-23T07:18:54.076459Z"
    }
   },
   "outputs": [],
   "source": [
    "# scaling the data\n",
    "from sklearn.preprocessing import MinMaxScaler\n",
    "scaler = MinMaxScaler()\n",
    "num_cols = [\"farm_area\", \"wind_speed\", \"precipitation\", \"temp_obs\",\n",
    "            \"pressure_sea_level\",\"wind_direction\",'num_processing_plants']\n",
    "\n",
    "# scale on train\n",
    "X_train[num_cols] =scaler.fit_transform(X_train[num_cols])\n",
    "\n",
    "# scale on test\n",
    "X_test[num_cols] = scaler.transform(X_test[num_cols])"
   ]
  },
  {
   "cell_type": "code",
   "execution_count": 19,
   "metadata": {
    "execution": {
     "iopub.execute_input": "2023-02-23T07:18:54.379321Z",
     "iopub.status.busy": "2023-02-23T07:18:54.378962Z",
     "iopub.status.idle": "2023-02-23T07:18:54.397589Z",
     "shell.execute_reply": "2023-02-23T07:18:54.396557Z",
     "shell.execute_reply.started": "2023-02-23T07:18:54.379286Z"
    }
   },
   "outputs": [
    {
     "data": {
      "text/html": [
       "<div>\n",
       "<style scoped>\n",
       "    .dataframe tbody tr th:only-of-type {\n",
       "        vertical-align: middle;\n",
       "    }\n",
       "\n",
       "    .dataframe tbody tr th {\n",
       "        vertical-align: top;\n",
       "    }\n",
       "\n",
       "    .dataframe thead th {\n",
       "        text-align: right;\n",
       "    }\n",
       "</style>\n",
       "<table border=\"1\" class=\"dataframe\">\n",
       "  <thead>\n",
       "    <tr style=\"text-align: right;\">\n",
       "      <th></th>\n",
       "      <th>num_processing_plants</th>\n",
       "      <th>farm_area</th>\n",
       "      <th>farming_company</th>\n",
       "      <th>deidentified_location</th>\n",
       "      <th>temp_obs</th>\n",
       "      <th>cloudiness</th>\n",
       "      <th>wind_direction</th>\n",
       "      <th>pressure_sea_level</th>\n",
       "      <th>precipitation</th>\n",
       "      <th>wind_speed</th>\n",
       "      <th>month</th>\n",
       "      <th>day</th>\n",
       "      <th>hour</th>\n",
       "      <th>operations_commencing_year_new</th>\n",
       "      <th>operations_commencing_year_old</th>\n",
       "    </tr>\n",
       "  </thead>\n",
       "  <tbody>\n",
       "    <tr>\n",
       "      <th>6743382</th>\n",
       "      <td>0.08</td>\n",
       "      <td>0.307954</td>\n",
       "      <td>6</td>\n",
       "      <td>0</td>\n",
       "      <td>0.833583</td>\n",
       "      <td>2.0</td>\n",
       "      <td>0.861111</td>\n",
       "      <td>0.466238</td>\n",
       "      <td>0.003802</td>\n",
       "      <td>0.152941</td>\n",
       "      <td>8</td>\n",
       "      <td>11</td>\n",
       "      <td>17</td>\n",
       "      <td>1</td>\n",
       "      <td>0</td>\n",
       "    </tr>\n",
       "    <tr>\n",
       "      <th>14842909</th>\n",
       "      <td>0.08</td>\n",
       "      <td>0.049723</td>\n",
       "      <td>5</td>\n",
       "      <td>6</td>\n",
       "      <td>0.583208</td>\n",
       "      <td>0.0</td>\n",
       "      <td>0.000000</td>\n",
       "      <td>0.696141</td>\n",
       "      <td>0.003802</td>\n",
       "      <td>0.000000</td>\n",
       "      <td>1</td>\n",
       "      <td>13</td>\n",
       "      <td>2</td>\n",
       "      <td>1</td>\n",
       "      <td>0</td>\n",
       "    </tr>\n",
       "    <tr>\n",
       "      <th>7826369</th>\n",
       "      <td>0.08</td>\n",
       "      <td>0.138097</td>\n",
       "      <td>8</td>\n",
       "      <td>0</td>\n",
       "      <td>0.374813</td>\n",
       "      <td>0.0</td>\n",
       "      <td>0.888889</td>\n",
       "      <td>0.440514</td>\n",
       "      <td>0.003802</td>\n",
       "      <td>0.335294</td>\n",
       "      <td>12</td>\n",
       "      <td>31</td>\n",
       "      <td>18</td>\n",
       "      <td>1</td>\n",
       "      <td>0</td>\n",
       "    </tr>\n",
       "    <tr>\n",
       "      <th>14225532</th>\n",
       "      <td>0.08</td>\n",
       "      <td>0.062993</td>\n",
       "      <td>6</td>\n",
       "      <td>4</td>\n",
       "      <td>0.649175</td>\n",
       "      <td>0.0</td>\n",
       "      <td>0.000000</td>\n",
       "      <td>0.615756</td>\n",
       "      <td>0.003802</td>\n",
       "      <td>0.000000</td>\n",
       "      <td>10</td>\n",
       "      <td>4</td>\n",
       "      <td>5</td>\n",
       "      <td>1</td>\n",
       "      <td>0</td>\n",
       "    </tr>\n",
       "    <tr>\n",
       "      <th>12572341</th>\n",
       "      <td>0.08</td>\n",
       "      <td>0.018333</td>\n",
       "      <td>1</td>\n",
       "      <td>2</td>\n",
       "      <td>0.724138</td>\n",
       "      <td>4.0</td>\n",
       "      <td>0.361111</td>\n",
       "      <td>0.623794</td>\n",
       "      <td>0.003802</td>\n",
       "      <td>0.211765</td>\n",
       "      <td>8</td>\n",
       "      <td>3</td>\n",
       "      <td>6</td>\n",
       "      <td>0</td>\n",
       "      <td>1</td>\n",
       "    </tr>\n",
       "  </tbody>\n",
       "</table>\n",
       "</div>"
      ],
      "text/plain": [
       "          num_processing_plants  farm_area  farming_company  \\\n",
       "6743382                    0.08   0.307954                6   \n",
       "14842909                   0.08   0.049723                5   \n",
       "7826369                    0.08   0.138097                8   \n",
       "14225532                   0.08   0.062993                6   \n",
       "12572341                   0.08   0.018333                1   \n",
       "\n",
       "          deidentified_location  temp_obs  cloudiness  wind_direction  \\\n",
       "6743382                       0  0.833583         2.0        0.861111   \n",
       "14842909                      6  0.583208         0.0        0.000000   \n",
       "7826369                       0  0.374813         0.0        0.888889   \n",
       "14225532                      4  0.649175         0.0        0.000000   \n",
       "12572341                      2  0.724138         4.0        0.361111   \n",
       "\n",
       "          pressure_sea_level  precipitation  wind_speed  month  day  hour  \\\n",
       "6743382             0.466238       0.003802    0.152941      8   11    17   \n",
       "14842909            0.696141       0.003802    0.000000      1   13     2   \n",
       "7826369             0.440514       0.003802    0.335294     12   31    18   \n",
       "14225532            0.615756       0.003802    0.000000     10    4     5   \n",
       "12572341            0.623794       0.003802    0.211765      8    3     6   \n",
       "\n",
       "          operations_commencing_year_new  operations_commencing_year_old  \n",
       "6743382                                1                               0  \n",
       "14842909                               1                               0  \n",
       "7826369                                1                               0  \n",
       "14225532                               1                               0  \n",
       "12572341                               0                               1  "
      ]
     },
     "execution_count": 19,
     "metadata": {},
     "output_type": "execute_result"
    }
   ],
   "source": [
    "# checking the x train data\n",
    "X_train.head()"
   ]
  },
  {
   "cell_type": "code",
   "execution_count": 20,
   "metadata": {
    "execution": {
     "iopub.execute_input": "2023-02-23T07:18:54.399317Z",
     "iopub.status.busy": "2023-02-23T07:18:54.398937Z",
     "iopub.status.idle": "2023-02-23T07:18:54.423294Z",
     "shell.execute_reply": "2023-02-23T07:18:54.421824Z",
     "shell.execute_reply.started": "2023-02-23T07:18:54.399282Z"
    }
   },
   "outputs": [
    {
     "data": {
      "text/html": [
       "<div>\n",
       "<style scoped>\n",
       "    .dataframe tbody tr th:only-of-type {\n",
       "        vertical-align: middle;\n",
       "    }\n",
       "\n",
       "    .dataframe tbody tr th {\n",
       "        vertical-align: top;\n",
       "    }\n",
       "\n",
       "    .dataframe thead th {\n",
       "        text-align: right;\n",
       "    }\n",
       "</style>\n",
       "<table border=\"1\" class=\"dataframe\">\n",
       "  <thead>\n",
       "    <tr style=\"text-align: right;\">\n",
       "      <th></th>\n",
       "      <th>num_processing_plants</th>\n",
       "      <th>farm_area</th>\n",
       "      <th>farming_company</th>\n",
       "      <th>deidentified_location</th>\n",
       "      <th>temp_obs</th>\n",
       "      <th>cloudiness</th>\n",
       "      <th>wind_direction</th>\n",
       "      <th>pressure_sea_level</th>\n",
       "      <th>precipitation</th>\n",
       "      <th>wind_speed</th>\n",
       "      <th>month</th>\n",
       "      <th>day</th>\n",
       "      <th>hour</th>\n",
       "      <th>operations_commencing_year_new</th>\n",
       "      <th>operations_commencing_year_old</th>\n",
       "    </tr>\n",
       "  </thead>\n",
       "  <tbody>\n",
       "    <tr>\n",
       "      <th>15076472</th>\n",
       "      <td>0.08</td>\n",
       "      <td>0.101142</td>\n",
       "      <td>5</td>\n",
       "      <td>6</td>\n",
       "      <td>0.766117</td>\n",
       "      <td>2.0</td>\n",
       "      <td>0.555556</td>\n",
       "      <td>0.688103</td>\n",
       "      <td>0.003802</td>\n",
       "      <td>0.270588</td>\n",
       "      <td>2</td>\n",
       "      <td>13</td>\n",
       "      <td>20</td>\n",
       "      <td>1</td>\n",
       "      <td>0</td>\n",
       "    </tr>\n",
       "    <tr>\n",
       "      <th>13210377</th>\n",
       "      <td>0.08</td>\n",
       "      <td>0.019356</td>\n",
       "      <td>1</td>\n",
       "      <td>2</td>\n",
       "      <td>0.491754</td>\n",
       "      <td>2.0</td>\n",
       "      <td>0.805556</td>\n",
       "      <td>0.647910</td>\n",
       "      <td>0.003802</td>\n",
       "      <td>0.088235</td>\n",
       "      <td>11</td>\n",
       "      <td>26</td>\n",
       "      <td>5</td>\n",
       "      <td>0</td>\n",
       "      <td>1</td>\n",
       "    </tr>\n",
       "    <tr>\n",
       "      <th>7369807</th>\n",
       "      <td>0.08</td>\n",
       "      <td>0.172393</td>\n",
       "      <td>8</td>\n",
       "      <td>0</td>\n",
       "      <td>0.674663</td>\n",
       "      <td>2.0</td>\n",
       "      <td>0.805556</td>\n",
       "      <td>0.512862</td>\n",
       "      <td>0.003802</td>\n",
       "      <td>0.241176</td>\n",
       "      <td>11</td>\n",
       "      <td>1</td>\n",
       "      <td>21</td>\n",
       "      <td>1</td>\n",
       "      <td>0</td>\n",
       "    </tr>\n",
       "    <tr>\n",
       "      <th>12431338</th>\n",
       "      <td>0.08</td>\n",
       "      <td>0.097318</td>\n",
       "      <td>8</td>\n",
       "      <td>2</td>\n",
       "      <td>0.775112</td>\n",
       "      <td>2.0</td>\n",
       "      <td>0.444444</td>\n",
       "      <td>0.419614</td>\n",
       "      <td>0.000000</td>\n",
       "      <td>0.123529</td>\n",
       "      <td>7</td>\n",
       "      <td>9</td>\n",
       "      <td>12</td>\n",
       "      <td>0</td>\n",
       "      <td>1</td>\n",
       "    </tr>\n",
       "    <tr>\n",
       "      <th>15574204</th>\n",
       "      <td>0.08</td>\n",
       "      <td>0.055076</td>\n",
       "      <td>5</td>\n",
       "      <td>6</td>\n",
       "      <td>0.716642</td>\n",
       "      <td>2.0</td>\n",
       "      <td>0.527778</td>\n",
       "      <td>0.559486</td>\n",
       "      <td>0.003802</td>\n",
       "      <td>0.088235</td>\n",
       "      <td>4</td>\n",
       "      <td>21</td>\n",
       "      <td>9</td>\n",
       "      <td>1</td>\n",
       "      <td>0</td>\n",
       "    </tr>\n",
       "  </tbody>\n",
       "</table>\n",
       "</div>"
      ],
      "text/plain": [
       "          num_processing_plants  farm_area  farming_company  \\\n",
       "15076472                   0.08   0.101142                5   \n",
       "13210377                   0.08   0.019356                1   \n",
       "7369807                    0.08   0.172393                8   \n",
       "12431338                   0.08   0.097318                8   \n",
       "15574204                   0.08   0.055076                5   \n",
       "\n",
       "          deidentified_location  temp_obs  cloudiness  wind_direction  \\\n",
       "15076472                      6  0.766117         2.0        0.555556   \n",
       "13210377                      2  0.491754         2.0        0.805556   \n",
       "7369807                       0  0.674663         2.0        0.805556   \n",
       "12431338                      2  0.775112         2.0        0.444444   \n",
       "15574204                      6  0.716642         2.0        0.527778   \n",
       "\n",
       "          pressure_sea_level  precipitation  wind_speed  month  day  hour  \\\n",
       "15076472            0.688103       0.003802    0.270588      2   13    20   \n",
       "13210377            0.647910       0.003802    0.088235     11   26     5   \n",
       "7369807             0.512862       0.003802    0.241176     11    1    21   \n",
       "12431338            0.419614       0.000000    0.123529      7    9    12   \n",
       "15574204            0.559486       0.003802    0.088235      4   21     9   \n",
       "\n",
       "          operations_commencing_year_new  operations_commencing_year_old  \n",
       "15076472                               1                               0  \n",
       "13210377                               0                               1  \n",
       "7369807                                1                               0  \n",
       "12431338                               0                               1  \n",
       "15574204                               1                               0  "
      ]
     },
     "execution_count": 20,
     "metadata": {},
     "output_type": "execute_result"
    }
   ],
   "source": [
    "# checking the x test data\n",
    "X_test.head()"
   ]
  },
  {
   "cell_type": "code",
   "execution_count": 21,
   "metadata": {
    "execution": {
     "iopub.execute_input": "2023-02-23T07:18:54.425818Z",
     "iopub.status.busy": "2023-02-23T07:18:54.425147Z",
     "iopub.status.idle": "2023-02-23T07:18:54.438043Z",
     "shell.execute_reply": "2023-02-23T07:18:54.436649Z",
     "shell.execute_reply.started": "2023-02-23T07:18:54.425766Z"
    }
   },
   "outputs": [
    {
     "data": {
      "text/plain": [
       "num_processing_plants             float64\n",
       "farm_area                         float64\n",
       "farming_company                     int64\n",
       "deidentified_location               int64\n",
       "temp_obs                          float64\n",
       "cloudiness                        float64\n",
       "wind_direction                    float64\n",
       "pressure_sea_level                float64\n",
       "precipitation                     float64\n",
       "wind_speed                        float64\n",
       "month                               int64\n",
       "day                                 int64\n",
       "hour                                int64\n",
       "operations_commencing_year_new      uint8\n",
       "operations_commencing_year_old      uint8\n",
       "dtype: object"
      ]
     },
     "execution_count": 21,
     "metadata": {},
     "output_type": "execute_result"
    }
   ],
   "source": [
    "# checking the data types x_train data\n",
    "X_train.dtypes"
   ]
  },
  {
   "cell_type": "markdown",
   "metadata": {},
   "source": [
    "# Model Building"
   ]
  },
  {
   "cell_type": "markdown",
   "metadata": {},
   "source": [
    "<div class=\"alert alert-block alert-info\"><b> \n",
    "  Linear Regression\n",
    "</b>"
   ]
  },
  {
   "cell_type": "code",
   "execution_count": 22,
   "metadata": {
    "execution": {
     "iopub.execute_input": "2023-02-23T07:18:54.440331Z",
     "iopub.status.busy": "2023-02-23T07:18:54.439770Z",
     "iopub.status.idle": "2023-02-23T07:18:55.145697Z",
     "shell.execute_reply": "2023-02-23T07:18:55.144388Z",
     "shell.execute_reply.started": "2023-02-23T07:18:54.440283Z"
    },
    "id": "ahIphgrvHD9d"
   },
   "outputs": [
    {
     "name": "stdout",
     "output_type": "stream",
     "text": [
      "RMSE of Linear Regressor on train :  13640.003614021303\n",
      "RMSE of Linear Regressor on test :  13410.51135346532\n"
     ]
    }
   ],
   "source": [
    "# linear regression\n",
    "from sklearn.metrics import mean_squared_error\n",
    "from sklearn.linear_model import LinearRegression\n",
    "reg = LinearRegression()\n",
    "reg.fit(X_train, y_train)\n",
    "train_pred =reg.predict(X_train)\n",
    "test_pred = reg.predict(X_test)\n",
    "lr_train_pred = np.sqrt(mean_squared_error(y_train, train_pred))\n",
    "lr_test_pred = np.sqrt(mean_squared_error(y_test, test_pred))\n",
    "print('RMSE of Linear Regressor on train : ',lr_train_pred)\n",
    "print('RMSE of Linear Regressor on test : ',lr_test_pred)"
   ]
  },
  {
   "cell_type": "markdown",
   "metadata": {},
   "source": [
    "<div class=\"alert alert-block alert-info\"><b> \n",
    "  Random Forest Regressor\n",
    "</b></div> "
   ]
  },
  {
   "cell_type": "code",
   "execution_count": 23,
   "metadata": {
    "execution": {
     "iopub.execute_input": "2023-02-23T07:18:55.148251Z",
     "iopub.status.busy": "2023-02-23T07:18:55.147352Z",
     "iopub.status.idle": "2023-02-23T07:34:08.467359Z",
     "shell.execute_reply": "2023-02-23T07:34:08.465927Z",
     "shell.execute_reply.started": "2023-02-23T07:18:55.148201Z"
    }
   },
   "outputs": [
    {
     "name": "stdout",
     "output_type": "stream",
     "text": [
      "RMSE of RandomForestRegressor on train 927.8233625200996\n",
      "RMSE of RandomForestRegressor on test: 2157.569238863819\n"
     ]
    }
   ],
   "source": [
    "from sklearn.ensemble import RandomForestRegressor\n",
    "\n",
    "rfr = RandomForestRegressor()\n",
    "rfr.fit(X_train, y_train)\n",
    "train_pred= rfr.predict(X_train)\n",
    "test_pred = rfr.predict(X_test)\n",
    "rfr_train_pred = np.sqrt(mean_squared_error(y_train, train_pred))\n",
    "rfr_test_pred = np.sqrt(mean_squared_error(y_test, test_pred))\n",
    "print('RMSE of RandomForestRegressor on train', rfr_train_pred)\n",
    "print('RMSE of RandomForestRegressor on test:', rfr_test_pred)"
   ]
  },
  {
   "cell_type": "markdown",
   "metadata": {},
   "source": [
    "<div class=\"alert alert-block alert-info\"><b> \n",
    "  Gradient Boosting Regressor\n",
    "</b></div> "
   ]
  },
  {
   "cell_type": "code",
   "execution_count": 24,
   "metadata": {
    "execution": {
     "iopub.execute_input": "2023-02-23T07:34:08.469773Z",
     "iopub.status.busy": "2023-02-23T07:34:08.469222Z",
     "iopub.status.idle": "2023-02-23T07:41:21.031151Z",
     "shell.execute_reply": "2023-02-23T07:41:21.030051Z",
     "shell.execute_reply.started": "2023-02-23T07:34:08.469718Z"
    },
    "id": "tODV9ah0WQ8m"
   },
   "outputs": [
    {
     "name": "stdout",
     "output_type": "stream",
     "text": [
      "GBR on train :  10947.466209555558\n",
      "GBR on test :  10857.211261569239\n"
     ]
    }
   ],
   "source": [
    "from sklearn.ensemble import GradientBoostingRegressor\n",
    "gbg = GradientBoostingRegressor(learning_rate=0.05,n_estimators=200,random_state=0)\n",
    "gbg.fit(X_train,y_train)\n",
    "train_pred=gbg.predict(X_train)\n",
    "test_pred = gbg.predict(X_test)\n",
    "gbr_train_pred = np.sqrt(mean_squared_error(y_train, train_pred))\n",
    "gbr_test_pred = np.sqrt(mean_squared_error(y_test, test_pred))\n",
    "print('GBR on train : ', gbr_train_pred)\n",
    "print('GBR on test : ',gbr_test_pred)"
   ]
  },
  {
   "cell_type": "markdown",
   "metadata": {},
   "source": [
    "<div class=\"alert alert-block alert-info\"><b> \n",
    "  XGB Regressor\n",
    "</b></div> "
   ]
  },
  {
   "cell_type": "code",
   "execution_count": 25,
   "metadata": {
    "execution": {
     "iopub.execute_input": "2023-02-23T07:41:21.032842Z",
     "iopub.status.busy": "2023-02-23T07:41:21.032416Z",
     "iopub.status.idle": "2023-02-23T07:46:58.545803Z",
     "shell.execute_reply": "2023-02-23T07:46:58.544414Z",
     "shell.execute_reply.started": "2023-02-23T07:41:21.032807Z"
    }
   },
   "outputs": [
    {
     "name": "stdout",
     "output_type": "stream",
     "text": [
      "XGB Regressor on train :  4845.457281315253\n",
      "XGB Regressor on test :  4977.630500262635\n"
     ]
    }
   ],
   "source": [
    "from xgboost import XGBRegressor\n",
    "xgb = XGBRegressor(n_estimators=500,learning_rate=0.01)\n",
    "xgb.fit(X_train,y_train)\n",
    "train_pred=xgb.predict(X_train)\n",
    "test_pred = xgb.predict(X_test)\n",
    "xgb_train_pred = np.sqrt(mean_squared_error(y_train, train_pred))\n",
    "xgb_test_pred = np.sqrt(mean_squared_error(y_test, test_pred))\n",
    "print('XGB Regressor on train : ', xgb_train_pred)\n",
    "print('XGB Regressor on test : ',xgb_test_pred)"
   ]
  },
  {
   "cell_type": "markdown",
   "metadata": {},
   "source": [
    "<div class=\"alert alert-block alert-info\"><b> \n",
    "  Light Gradient Boosting Regressor\n",
    "</b></div> "
   ]
  },
  {
   "cell_type": "code",
   "execution_count": 26,
   "metadata": {
    "execution": {
     "iopub.execute_input": "2023-02-23T07:46:58.547293Z",
     "iopub.status.busy": "2023-02-23T07:46:58.546973Z",
     "iopub.status.idle": "2023-02-23T07:47:09.824443Z",
     "shell.execute_reply": "2023-02-23T07:47:09.822873Z",
     "shell.execute_reply.started": "2023-02-23T07:46:58.547262Z"
    }
   },
   "outputs": [
    {
     "data": {
      "text/html": [
       "<style type='text/css'>\n",
       ".datatable table.frame { margin-bottom: 0; }\n",
       ".datatable table.frame thead { border-bottom: none; }\n",
       ".datatable table.frame tr.coltypes td {  color: #FFFFFF;  line-height: 6px;  padding: 0 0.5em;}\n",
       ".datatable .bool    { background: #DDDD99; }\n",
       ".datatable .object  { background: #565656; }\n",
       ".datatable .int     { background: #5D9E5D; }\n",
       ".datatable .float   { background: #4040CC; }\n",
       ".datatable .str     { background: #CC4040; }\n",
       ".datatable .time    { background: #40CC40; }\n",
       ".datatable .row_index {  background: var(--jp-border-color3);  border-right: 1px solid var(--jp-border-color0);  color: var(--jp-ui-font-color3);  font-size: 9px;}\n",
       ".datatable .frame tbody td { text-align: left; }\n",
       ".datatable .frame tr.coltypes .row_index {  background: var(--jp-border-color0);}\n",
       ".datatable th:nth-child(2) { padding-left: 12px; }\n",
       ".datatable .hellipsis {  color: var(--jp-cell-editor-border-color);}\n",
       ".datatable .vellipsis {  background: var(--jp-layout-color0);  color: var(--jp-cell-editor-border-color);}\n",
       ".datatable .na {  color: var(--jp-cell-editor-border-color);  font-size: 80%;}\n",
       ".datatable .sp {  opacity: 0.25;}\n",
       ".datatable .footer { font-size: 9px; }\n",
       ".datatable .frame_dimensions {  background: var(--jp-border-color3);  border-top: 1px solid var(--jp-border-color0);  color: var(--jp-ui-font-color3);  display: inline-block;  opacity: 0.6;  padding: 1px 10px 1px 5px;}\n",
       "</style>\n"
      ],
      "text/plain": [
       "<IPython.core.display.HTML object>"
      ]
     },
     "metadata": {},
     "output_type": "display_data"
    },
    {
     "name": "stdout",
     "output_type": "stream",
     "text": [
      "LGB Regressor on train: 2002.4558411888418\n",
      "LGB Regressor on test : 2712.5533027053025\n"
     ]
    }
   ],
   "source": [
    "from lightgbm import LGBMRegressor\n",
    "lgb = LGBMRegressor()\n",
    "lgb.fit(X_train,y_train)\n",
    "train_pred=lgb.predict(X_train)\n",
    "test_pred = lgb.predict(X_test)\n",
    "lgb_train_pred = np.sqrt(mean_squared_error(y_train, train_pred))\n",
    "lgb_test_pred = np.sqrt(mean_squared_error(y_test, test_pred))\n",
    "print('LGB Regressor on train:', lgb_train_pred)\n",
    "print('LGB Regressor on test :',lgb_test_pred)"
   ]
  },
  {
   "cell_type": "markdown",
   "metadata": {},
   "source": [
    "<div class=\"alert alert-block alert-info\"><b> \n",
    "  Results of training and testing set\n",
    "</b></div> "
   ]
  },
  {
   "cell_type": "code",
   "execution_count": 27,
   "metadata": {
    "execution": {
     "iopub.execute_input": "2023-02-23T07:47:09.827710Z",
     "iopub.status.busy": "2023-02-23T07:47:09.827070Z",
     "iopub.status.idle": "2023-02-23T07:47:09.835397Z",
     "shell.execute_reply": "2023-02-23T07:47:09.834505Z",
     "shell.execute_reply.started": "2023-02-23T07:47:09.827670Z"
    }
   },
   "outputs": [],
   "source": [
    "# Creating a dataframe showing the RMSE for both training and testing data\n",
    "results=pd.DataFrame({\n",
    "                    'Models':['Linear Regression','GradientBoost','LGBMRegressor','Random Forest',\n",
    "                              'XGBoost'],\n",
    "    \n",
    "                    'Train_RMSE':[lr_train_pred, gbr_train_pred, lgb_train_pred, rfr_train_pred,\n",
    "                                  xgb_train_pred],\n",
    "    \n",
    "                    'Test_RMSE':[lr_test_pred, gbr_test_pred, lgb_test_pred, rfr_test_pred,\n",
    "                                 xgb_test_pred],\n",
    "                     })"
   ]
  },
  {
   "cell_type": "code",
   "execution_count": 28,
   "metadata": {
    "execution": {
     "iopub.execute_input": "2023-02-23T07:47:09.837239Z",
     "iopub.status.busy": "2023-02-23T07:47:09.836705Z",
     "iopub.status.idle": "2023-02-23T07:47:09.860764Z",
     "shell.execute_reply": "2023-02-23T07:47:09.859381Z",
     "shell.execute_reply.started": "2023-02-23T07:47:09.837205Z"
    }
   },
   "outputs": [
    {
     "data": {
      "text/html": [
       "<div>\n",
       "<style scoped>\n",
       "    .dataframe tbody tr th:only-of-type {\n",
       "        vertical-align: middle;\n",
       "    }\n",
       "\n",
       "    .dataframe tbody tr th {\n",
       "        vertical-align: top;\n",
       "    }\n",
       "\n",
       "    .dataframe thead th {\n",
       "        text-align: right;\n",
       "    }\n",
       "</style>\n",
       "<table border=\"1\" class=\"dataframe\">\n",
       "  <thead>\n",
       "    <tr style=\"text-align: right;\">\n",
       "      <th></th>\n",
       "      <th>Models</th>\n",
       "      <th>Train_RMSE</th>\n",
       "      <th>Test_RMSE</th>\n",
       "    </tr>\n",
       "  </thead>\n",
       "  <tbody>\n",
       "    <tr>\n",
       "      <th>0</th>\n",
       "      <td>Random Forest</td>\n",
       "      <td>927.823363</td>\n",
       "      <td>2157.569239</td>\n",
       "    </tr>\n",
       "    <tr>\n",
       "      <th>1</th>\n",
       "      <td>LGBMRegressor</td>\n",
       "      <td>2002.455841</td>\n",
       "      <td>2712.553303</td>\n",
       "    </tr>\n",
       "    <tr>\n",
       "      <th>2</th>\n",
       "      <td>XGBoost</td>\n",
       "      <td>4845.457281</td>\n",
       "      <td>4977.630500</td>\n",
       "    </tr>\n",
       "    <tr>\n",
       "      <th>3</th>\n",
       "      <td>GradientBoost</td>\n",
       "      <td>10947.466210</td>\n",
       "      <td>10857.211262</td>\n",
       "    </tr>\n",
       "    <tr>\n",
       "      <th>4</th>\n",
       "      <td>Linear Regression</td>\n",
       "      <td>13640.003614</td>\n",
       "      <td>13410.511353</td>\n",
       "    </tr>\n",
       "  </tbody>\n",
       "</table>\n",
       "</div>"
      ],
      "text/plain": [
       "              Models    Train_RMSE     Test_RMSE\n",
       "0      Random Forest    927.823363   2157.569239\n",
       "1      LGBMRegressor   2002.455841   2712.553303\n",
       "2            XGBoost   4845.457281   4977.630500\n",
       "3      GradientBoost  10947.466210  10857.211262\n",
       "4  Linear Regression  13640.003614  13410.511353"
      ]
     },
     "execution_count": 28,
     "metadata": {},
     "output_type": "execute_result"
    }
   ],
   "source": [
    "results.sort_values('Test_RMSE',ascending=True,ignore_index=True)"
   ]
  },
  {
   "cell_type": "markdown",
   "metadata": {},
   "source": [
    "## Conclusion"
   ]
  },
  {
   "cell_type": "markdown",
   "metadata": {},
   "source": [
    "<div class=\"alert alert-block alert-info\"><b> \n",
    "   light gradient boosting regressor gave the best results as compared to all the other algorithms we tried.\n",
    "</b></div> "
   ]
  },
  {
   "cell_type": "code",
   "execution_count": 29,
   "metadata": {
    "execution": {
     "iopub.execute_input": "2023-02-23T07:47:09.862626Z",
     "iopub.status.busy": "2023-02-23T07:47:09.862006Z",
     "iopub.status.idle": "2023-02-23T07:47:09.872931Z",
     "shell.execute_reply": "2023-02-23T07:47:09.871906Z",
     "shell.execute_reply.started": "2023-02-23T07:47:09.862590Z"
    }
   },
   "outputs": [],
   "source": [
    "#RandomSearchCV designed to find the best parameters to improve our model\n",
    "#from sklearn.model_selection import RandomizedSearchCV\n",
    "#rf_grid = RandomForestRegressor()\n",
    "#rf_param_grid = {\"n_estimators\" : [100,500,1000],\n",
    "#                 \"max_features\" : ['sqrt','log2'],\n",
    "#                 \"max_depth\" : [10,20,30],\n",
    "#                \"min_samples_leaf\" : [2,3,5,7,10]}\n",
    "#rf2=RandomizedSearchCV(rf_grid,rf_param_grid,cv=5,n_jobs=-1,n_iter=10)\n",
    "#rf2.fit(X_train,y_train.values.ravel())\n",
    "#best_hyper = rf2.best_params_"
   ]
  },
  {
   "cell_type": "code",
   "execution_count": 30,
   "metadata": {
    "execution": {
     "iopub.execute_input": "2023-02-23T07:47:09.874794Z",
     "iopub.status.busy": "2023-02-23T07:47:09.874265Z",
     "iopub.status.idle": "2023-02-23T07:47:09.883687Z",
     "shell.execute_reply": "2023-02-23T07:47:09.882742Z",
     "shell.execute_reply.started": "2023-02-23T07:47:09.874760Z"
    }
   },
   "outputs": [],
   "source": [
    "#best model\n",
    "#best_model = RandomForestRegressor()\n",
    "#best_model.fit(X_train,y_train)\n",
    "#train_pred=rf2.predict(X_train)\n",
    "#test_pred = rf2.predict(X_test)\n",
    "#print('RMSE RandomizedSearchCV on train : ', np.sqrt(mean_squared_error(y_train, train_pred)))\n",
    "#print('RMSE RandomizedSearchCV on test : ', np.sqrt(mean_squared_error(y_test, test_pred)))"
   ]
  },
  {
   "cell_type": "markdown",
   "metadata": {},
   "source": [
    "## Lets work on test data"
   ]
  },
  {
   "cell_type": "code",
   "execution_count": 31,
   "metadata": {
    "execution": {
     "iopub.execute_input": "2023-02-23T07:47:09.885610Z",
     "iopub.status.busy": "2023-02-23T07:47:09.885059Z",
     "iopub.status.idle": "2023-02-23T07:47:10.632512Z",
     "shell.execute_reply": "2023-02-23T07:47:10.631632Z",
     "shell.execute_reply.started": "2023-02-23T07:47:09.885574Z"
    }
   },
   "outputs": [],
   "source": [
    "test_x.deidentified_location = label.fit_transform(test_x.deidentified_location)\n",
    "test_x.farming_company = label.fit_transform(test_x.farming_company)"
   ]
  },
  {
   "cell_type": "code",
   "execution_count": 32,
   "metadata": {
    "execution": {
     "iopub.execute_input": "2023-02-23T07:47:10.634345Z",
     "iopub.status.busy": "2023-02-23T07:47:10.633838Z",
     "iopub.status.idle": "2023-02-23T07:47:10.868891Z",
     "shell.execute_reply": "2023-02-23T07:47:10.867842Z",
     "shell.execute_reply.started": "2023-02-23T07:47:10.634311Z"
    }
   },
   "outputs": [],
   "source": [
    "# converting categorical to numerical\n",
    "test_x = pd.get_dummies(test_x, columns=['ingredient_type','operations_commencing_year'],drop_first=True)"
   ]
  },
  {
   "cell_type": "code",
   "execution_count": 33,
   "metadata": {
    "execution": {
     "iopub.execute_input": "2023-02-23T07:47:10.870909Z",
     "iopub.status.busy": "2023-02-23T07:47:10.870311Z",
     "iopub.status.idle": "2023-02-23T07:47:11.272135Z",
     "shell.execute_reply": "2023-02-23T07:47:11.271239Z",
     "shell.execute_reply.started": "2023-02-23T07:47:10.870871Z"
    }
   },
   "outputs": [],
   "source": [
    "# scale on test\n",
    "test_x[num_cols] = scaler.fit_transform(test_x[num_cols])"
   ]
  },
  {
   "cell_type": "code",
   "execution_count": 34,
   "metadata": {
    "execution": {
     "iopub.execute_input": "2023-02-23T07:47:11.274003Z",
     "iopub.status.busy": "2023-02-23T07:47:11.273451Z",
     "iopub.status.idle": "2023-02-23T07:47:11.405651Z",
     "shell.execute_reply": "2023-02-23T07:47:11.404736Z",
     "shell.execute_reply.started": "2023-02-23T07:47:11.273968Z"
    }
   },
   "outputs": [],
   "source": [
    "# selecting remaing columns except id column\n",
    "fin = test_x.loc[:, test_x.columns != 'id']"
   ]
  },
  {
   "cell_type": "code",
   "execution_count": 35,
   "metadata": {
    "execution": {
     "iopub.execute_input": "2023-02-23T07:47:11.407642Z",
     "iopub.status.busy": "2023-02-23T07:47:11.407021Z",
     "iopub.status.idle": "2023-02-23T07:47:11.414845Z",
     "shell.execute_reply": "2023-02-23T07:47:11.413439Z",
     "shell.execute_reply.started": "2023-02-23T07:47:11.407593Z"
    }
   },
   "outputs": [
    {
     "data": {
      "text/plain": [
       "(1471503, 15)"
      ]
     },
     "execution_count": 35,
     "metadata": {},
     "output_type": "execute_result"
    }
   ],
   "source": [
    "# checking the final test dataset dimensions\n",
    "fin.shape"
   ]
  },
  {
   "cell_type": "markdown",
   "metadata": {},
   "source": [
    "# Predictions"
   ]
  },
  {
   "cell_type": "code",
   "execution_count": 36,
   "metadata": {
    "execution": {
     "iopub.execute_input": "2023-02-23T07:47:11.422704Z",
     "iopub.status.busy": "2023-02-23T07:47:11.422314Z",
     "iopub.status.idle": "2023-02-23T07:47:28.048835Z",
     "shell.execute_reply": "2023-02-23T07:47:28.047774Z",
     "shell.execute_reply.started": "2023-02-23T07:47:11.422670Z"
    },
    "id": "n-bjuqXCUQJC"
   },
   "outputs": [],
   "source": [
    "# predicting the test data with best model\n",
    "test_pred = xgb.predict(fin)"
   ]
  },
  {
   "cell_type": "code",
   "execution_count": 37,
   "metadata": {
    "execution": {
     "iopub.execute_input": "2023-02-23T07:47:28.051277Z",
     "iopub.status.busy": "2023-02-23T07:47:28.050338Z",
     "iopub.status.idle": "2023-02-23T07:47:28.060513Z",
     "shell.execute_reply": "2023-02-23T07:47:28.059639Z",
     "shell.execute_reply.started": "2023-02-23T07:47:28.051237Z"
    },
    "id": "vHbo7cNaUfKL"
   },
   "outputs": [],
   "source": [
    "# creating a dataframe with id column and yield column\n",
    "sub  = pd.DataFrame({'id': tes.id, 'yield': test_pred})"
   ]
  },
  {
   "cell_type": "code",
   "execution_count": 38,
   "metadata": {
    "execution": {
     "iopub.execute_input": "2023-02-23T07:47:28.062737Z",
     "iopub.status.busy": "2023-02-23T07:47:28.061709Z",
     "iopub.status.idle": "2023-02-23T07:47:28.072229Z",
     "shell.execute_reply": "2023-02-23T07:47:28.071056Z",
     "shell.execute_reply.started": "2023-02-23T07:47:28.062698Z"
    }
   },
   "outputs": [
    {
     "data": {
      "text/plain": [
       "(1471503, 2)"
      ]
     },
     "execution_count": 38,
     "metadata": {},
     "output_type": "execute_result"
    }
   ],
   "source": [
    "# checking the shape of the final dataframe \n",
    "sub.shape"
   ]
  },
  {
   "cell_type": "code",
   "execution_count": 39,
   "metadata": {
    "execution": {
     "iopub.execute_input": "2023-02-23T07:47:28.074770Z",
     "iopub.status.busy": "2023-02-23T07:47:28.073633Z",
     "iopub.status.idle": "2023-02-23T07:47:28.086706Z",
     "shell.execute_reply": "2023-02-23T07:47:28.085621Z",
     "shell.execute_reply.started": "2023-02-23T07:47:28.074730Z"
    }
   },
   "outputs": [
    {
     "data": {
      "text/html": [
       "<div>\n",
       "<style scoped>\n",
       "    .dataframe tbody tr th:only-of-type {\n",
       "        vertical-align: middle;\n",
       "    }\n",
       "\n",
       "    .dataframe tbody tr th {\n",
       "        vertical-align: top;\n",
       "    }\n",
       "\n",
       "    .dataframe thead th {\n",
       "        text-align: right;\n",
       "    }\n",
       "</style>\n",
       "<table border=\"1\" class=\"dataframe\">\n",
       "  <thead>\n",
       "    <tr style=\"text-align: right;\">\n",
       "      <th></th>\n",
       "      <th>id</th>\n",
       "      <th>yield</th>\n",
       "    </tr>\n",
       "  </thead>\n",
       "  <tbody>\n",
       "    <tr>\n",
       "      <th>6556574</th>\n",
       "      <td>28159115</td>\n",
       "      <td>2449.940186</td>\n",
       "    </tr>\n",
       "    <tr>\n",
       "      <th>6556579</th>\n",
       "      <td>28159120</td>\n",
       "      <td>685.155823</td>\n",
       "    </tr>\n",
       "    <tr>\n",
       "      <th>6556582</th>\n",
       "      <td>28159123</td>\n",
       "      <td>747.105530</td>\n",
       "    </tr>\n",
       "    <tr>\n",
       "      <th>6556585</th>\n",
       "      <td>28159126</td>\n",
       "      <td>356.827240</td>\n",
       "    </tr>\n",
       "    <tr>\n",
       "      <th>6556589</th>\n",
       "      <td>28159130</td>\n",
       "      <td>640.544006</td>\n",
       "    </tr>\n",
       "  </tbody>\n",
       "</table>\n",
       "</div>"
      ],
      "text/plain": [
       "               id        yield\n",
       "6556574  28159115  2449.940186\n",
       "6556579  28159120   685.155823\n",
       "6556582  28159123   747.105530\n",
       "6556585  28159126   356.827240\n",
       "6556589  28159130   640.544006"
      ]
     },
     "execution_count": 39,
     "metadata": {},
     "output_type": "execute_result"
    }
   ],
   "source": [
    "# checking the head of the dataframe\n",
    "sub.head()"
   ]
  },
  {
   "cell_type": "code",
   "execution_count": 40,
   "metadata": {
    "execution": {
     "iopub.execute_input": "2023-02-23T07:47:28.089484Z",
     "iopub.status.busy": "2023-02-23T07:47:28.088064Z",
     "iopub.status.idle": "2023-02-23T07:47:28.100254Z",
     "shell.execute_reply": "2023-02-23T07:47:28.099097Z",
     "shell.execute_reply.started": "2023-02-23T07:47:28.089438Z"
    }
   },
   "outputs": [
    {
     "data": {
      "text/html": [
       "<div>\n",
       "<style scoped>\n",
       "    .dataframe tbody tr th:only-of-type {\n",
       "        vertical-align: middle;\n",
       "    }\n",
       "\n",
       "    .dataframe tbody tr th {\n",
       "        vertical-align: top;\n",
       "    }\n",
       "\n",
       "    .dataframe thead th {\n",
       "        text-align: right;\n",
       "    }\n",
       "</style>\n",
       "<table border=\"1\" class=\"dataframe\">\n",
       "  <thead>\n",
       "    <tr style=\"text-align: right;\">\n",
       "      <th></th>\n",
       "      <th>id</th>\n",
       "      <th>yield</th>\n",
       "    </tr>\n",
       "  </thead>\n",
       "  <tbody>\n",
       "    <tr>\n",
       "      <th>16129152</th>\n",
       "      <td>20434983</td>\n",
       "      <td>431.512390</td>\n",
       "    </tr>\n",
       "    <tr>\n",
       "      <th>16129156</th>\n",
       "      <td>20434987</td>\n",
       "      <td>291.867798</td>\n",
       "    </tr>\n",
       "    <tr>\n",
       "      <th>16129162</th>\n",
       "      <td>20434993</td>\n",
       "      <td>431.512390</td>\n",
       "    </tr>\n",
       "    <tr>\n",
       "      <th>16129166</th>\n",
       "      <td>20434997</td>\n",
       "      <td>431.512390</td>\n",
       "    </tr>\n",
       "    <tr>\n",
       "      <th>16129169</th>\n",
       "      <td>20435000</td>\n",
       "      <td>144.864502</td>\n",
       "    </tr>\n",
       "  </tbody>\n",
       "</table>\n",
       "</div>"
      ],
      "text/plain": [
       "                id       yield\n",
       "16129152  20434983  431.512390\n",
       "16129156  20434987  291.867798\n",
       "16129162  20434993  431.512390\n",
       "16129166  20434997  431.512390\n",
       "16129169  20435000  144.864502"
      ]
     },
     "execution_count": 40,
     "metadata": {},
     "output_type": "execute_result"
    }
   ],
   "source": [
    "# checking the last 5 rows of the dataframe\n",
    "sub.tail()"
   ]
  },
  {
   "cell_type": "code",
   "execution_count": 41,
   "metadata": {
    "execution": {
     "iopub.execute_input": "2023-02-23T07:47:28.102070Z",
     "iopub.status.busy": "2023-02-23T07:47:28.101649Z",
     "iopub.status.idle": "2023-02-23T07:47:30.896686Z",
     "shell.execute_reply": "2023-02-23T07:47:30.895379Z",
     "shell.execute_reply.started": "2023-02-23T07:47:28.102035Z"
    },
    "id": "KiHttGD7UpH5"
   },
   "outputs": [],
   "source": [
    "# creating submission file\n",
    "sub.to_csv('submission_x2.csv', index = None)"
   ]
  },
  {
   "cell_type": "code",
   "execution_count": null,
   "metadata": {
    "id": "yLpSJvzJUxN6"
   },
   "outputs": [],
   "source": []
  },
  {
   "cell_type": "code",
   "execution_count": null,
   "metadata": {},
   "outputs": [],
   "source": []
  }
 ],
 "metadata": {
  "kernelspec": {
   "display_name": "Python 3 (ipykernel)",
   "language": "python",
   "name": "python3"
  },
  "language_info": {
   "codemirror_mode": {
    "name": "ipython",
    "version": 3
   },
   "file_extension": ".py",
   "mimetype": "text/x-python",
   "name": "python",
   "nbconvert_exporter": "python",
   "pygments_lexer": "ipython3",
   "version": "3.9.13"
  }
 },
 "nbformat": 4,
 "nbformat_minor": 4
}
